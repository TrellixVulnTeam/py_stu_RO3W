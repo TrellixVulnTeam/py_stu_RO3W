{
 "cells": [
  {
   "cell_type": "code",
   "execution_count": 2,
   "metadata": {
    "collapsed": true,
    "pycharm": {
     "is_executing": false
    }
   },
   "outputs": [],
   "source": [
    "import pandas as pd\n",
    "import matplotlib.pyplot as plt\n",
    "import numpy as np\n",
    "%matplotlib inline"
   ]
  },
  {
   "cell_type": "code",
   "execution_count": 3,
   "outputs": [],
   "source": [
    "data=pd.read_csv('creditcard.csv')"
   ],
   "metadata": {
    "collapsed": false,
    "pycharm": {
     "name": "#%%\n",
     "is_executing": false
    }
   }
  },
  {
   "cell_type": "code",
   "execution_count": 4,
   "outputs": [
    {
     "name": "stdout",
     "text": [
      "(284807, 31)\n"
     ],
     "output_type": "stream"
    },
    {
     "data": {
      "text/plain": "   Time        V1        V2        V3        V4        V5        V6        V7  \\\n0   0.0 -1.359807 -0.072781  2.536347  1.378155 -0.338321  0.462388  0.239599   \n1   0.0  1.191857  0.266151  0.166480  0.448154  0.060018 -0.082361 -0.078803   \n2   1.0 -1.358354 -1.340163  1.773209  0.379780 -0.503198  1.800499  0.791461   \n3   1.0 -0.966272 -0.185226  1.792993 -0.863291 -0.010309  1.247203  0.237609   \n4   2.0 -1.158233  0.877737  1.548718  0.403034 -0.407193  0.095921  0.592941   \n\n         V8        V9  ...       V21       V22       V23       V24       V25  \\\n0  0.098698  0.363787  ... -0.018307  0.277838 -0.110474  0.066928  0.128539   \n1  0.085102 -0.255425  ... -0.225775 -0.638672  0.101288 -0.339846  0.167170   \n2  0.247676 -1.514654  ...  0.247998  0.771679  0.909412 -0.689281 -0.327642   \n3  0.377436 -1.387024  ... -0.108300  0.005274 -0.190321 -1.175575  0.647376   \n4 -0.270533  0.817739  ... -0.009431  0.798278 -0.137458  0.141267 -0.206010   \n\n        V26       V27       V28  Amount  Class  \n0 -0.189115  0.133558 -0.021053  149.62      0  \n1  0.125895 -0.008983  0.014724    2.69      0  \n2 -0.139097 -0.055353 -0.059752  378.66      0  \n3 -0.221929  0.062723  0.061458  123.50      0  \n4  0.502292  0.219422  0.215153   69.99      0  \n\n[5 rows x 31 columns]",
      "text/html": "<div>\n<style scoped>\n    .dataframe tbody tr th:only-of-type {\n        vertical-align: middle;\n    }\n\n    .dataframe tbody tr th {\n        vertical-align: top;\n    }\n\n    .dataframe thead th {\n        text-align: right;\n    }\n</style>\n<table border=\"1\" class=\"dataframe\">\n  <thead>\n    <tr style=\"text-align: right;\">\n      <th></th>\n      <th>Time</th>\n      <th>V1</th>\n      <th>V2</th>\n      <th>V3</th>\n      <th>V4</th>\n      <th>V5</th>\n      <th>V6</th>\n      <th>V7</th>\n      <th>V8</th>\n      <th>V9</th>\n      <th>...</th>\n      <th>V21</th>\n      <th>V22</th>\n      <th>V23</th>\n      <th>V24</th>\n      <th>V25</th>\n      <th>V26</th>\n      <th>V27</th>\n      <th>V28</th>\n      <th>Amount</th>\n      <th>Class</th>\n    </tr>\n  </thead>\n  <tbody>\n    <tr>\n      <th>0</th>\n      <td>0.0</td>\n      <td>-1.359807</td>\n      <td>-0.072781</td>\n      <td>2.536347</td>\n      <td>1.378155</td>\n      <td>-0.338321</td>\n      <td>0.462388</td>\n      <td>0.239599</td>\n      <td>0.098698</td>\n      <td>0.363787</td>\n      <td>...</td>\n      <td>-0.018307</td>\n      <td>0.277838</td>\n      <td>-0.110474</td>\n      <td>0.066928</td>\n      <td>0.128539</td>\n      <td>-0.189115</td>\n      <td>0.133558</td>\n      <td>-0.021053</td>\n      <td>149.62</td>\n      <td>0</td>\n    </tr>\n    <tr>\n      <th>1</th>\n      <td>0.0</td>\n      <td>1.191857</td>\n      <td>0.266151</td>\n      <td>0.166480</td>\n      <td>0.448154</td>\n      <td>0.060018</td>\n      <td>-0.082361</td>\n      <td>-0.078803</td>\n      <td>0.085102</td>\n      <td>-0.255425</td>\n      <td>...</td>\n      <td>-0.225775</td>\n      <td>-0.638672</td>\n      <td>0.101288</td>\n      <td>-0.339846</td>\n      <td>0.167170</td>\n      <td>0.125895</td>\n      <td>-0.008983</td>\n      <td>0.014724</td>\n      <td>2.69</td>\n      <td>0</td>\n    </tr>\n    <tr>\n      <th>2</th>\n      <td>1.0</td>\n      <td>-1.358354</td>\n      <td>-1.340163</td>\n      <td>1.773209</td>\n      <td>0.379780</td>\n      <td>-0.503198</td>\n      <td>1.800499</td>\n      <td>0.791461</td>\n      <td>0.247676</td>\n      <td>-1.514654</td>\n      <td>...</td>\n      <td>0.247998</td>\n      <td>0.771679</td>\n      <td>0.909412</td>\n      <td>-0.689281</td>\n      <td>-0.327642</td>\n      <td>-0.139097</td>\n      <td>-0.055353</td>\n      <td>-0.059752</td>\n      <td>378.66</td>\n      <td>0</td>\n    </tr>\n    <tr>\n      <th>3</th>\n      <td>1.0</td>\n      <td>-0.966272</td>\n      <td>-0.185226</td>\n      <td>1.792993</td>\n      <td>-0.863291</td>\n      <td>-0.010309</td>\n      <td>1.247203</td>\n      <td>0.237609</td>\n      <td>0.377436</td>\n      <td>-1.387024</td>\n      <td>...</td>\n      <td>-0.108300</td>\n      <td>0.005274</td>\n      <td>-0.190321</td>\n      <td>-1.175575</td>\n      <td>0.647376</td>\n      <td>-0.221929</td>\n      <td>0.062723</td>\n      <td>0.061458</td>\n      <td>123.50</td>\n      <td>0</td>\n    </tr>\n    <tr>\n      <th>4</th>\n      <td>2.0</td>\n      <td>-1.158233</td>\n      <td>0.877737</td>\n      <td>1.548718</td>\n      <td>0.403034</td>\n      <td>-0.407193</td>\n      <td>0.095921</td>\n      <td>0.592941</td>\n      <td>-0.270533</td>\n      <td>0.817739</td>\n      <td>...</td>\n      <td>-0.009431</td>\n      <td>0.798278</td>\n      <td>-0.137458</td>\n      <td>0.141267</td>\n      <td>-0.206010</td>\n      <td>0.502292</td>\n      <td>0.219422</td>\n      <td>0.215153</td>\n      <td>69.99</td>\n      <td>0</td>\n    </tr>\n  </tbody>\n</table>\n<p>5 rows × 31 columns</p>\n</div>"
     },
     "metadata": {},
     "output_type": "execute_result",
     "execution_count": 4
    }
   ],
   "source": [
    "print(data.shape)\n",
    "data.head()"
   ],
   "metadata": {
    "collapsed": false,
    "pycharm": {
     "name": "#%%\n",
     "is_executing": false
    }
   }
  },
  {
   "cell_type": "code",
   "execution_count": 5,
   "outputs": [],
   "source": [
    "count_classes=pd.value_counts(data['Class'],sort=True).sort_index()"
   ],
   "metadata": {
    "collapsed": false,
    "pycharm": {
     "name": "#%%\n",
     "is_executing": false
    }
   }
  },
  {
   "cell_type": "code",
   "execution_count": 6,
   "outputs": [
    {
     "data": {
      "text/plain": "Text(0, 0.5, 'Frequency')"
     },
     "metadata": {},
     "output_type": "execute_result",
     "execution_count": 6
    },
    {
     "data": {
      "text/plain": "<Figure size 432x288 with 1 Axes>",
      "image/png": "[encoded data removed]"
     },
     "metadata": {
      "needs_background": "light"
     },
     "output_type": "display_data"
    }
   ],
   "source": [
    "count_classes.plot(kind='bar')\n",
    "plt.title(\"Fraud class histogram\")\n",
    "plt.xlabel(\"Class\")\n",
    "plt.ylabel('Frequency')"
   ],
   "metadata": {
    "collapsed": false,
    "pycharm": {
     "name": "#%%\n",
     "is_executing": false
    }
   }
  },
  {
   "cell_type": "code",
   "execution_count": 7,
   "outputs": [],
   "source": [
    "\n",
    "from sklearn.preprocessing import StandardScaler\n",
    "data['normAmount']=StandardScaler().fit_transform(data['Amount'].values.reshape(-1,1))\n",
    "data=data.drop(['Time','Amount'],axis=1)"
   ],
   "metadata": {
    "collapsed": false,
    "pycharm": {
     "name": "#%%\n",
     "is_executing": false
    }
   }
  },
  {
   "cell_type": "code",
   "execution_count": 8,
   "outputs": [
    {
     "data": {
      "text/plain": "         V1        V2        V3        V4        V5        V6        V7  \\\n0 -1.359807 -0.072781  2.536347  1.378155 -0.338321  0.462388  0.239599   \n1  1.191857  0.266151  0.166480  0.448154  0.060018 -0.082361 -0.078803   \n2 -1.358354 -1.340163  1.773209  0.379780 -0.503198  1.800499  0.791461   \n3 -0.966272 -0.185226  1.792993 -0.863291 -0.010309  1.247203  0.237609   \n4 -1.158233  0.877737  1.548718  0.403034 -0.407193  0.095921  0.592941   \n\n         V8        V9       V10  ...       V21       V22       V23       V24  \\\n0  0.098698  0.363787  0.090794  ... -0.018307  0.277838 -0.110474  0.066928   \n1  0.085102 -0.255425 -0.166974  ... -0.225775 -0.638672  0.101288 -0.339846   \n2  0.247676 -1.514654  0.207643  ...  0.247998  0.771679  0.909412 -0.689281   \n3  0.377436 -1.387024 -0.054952  ... -0.108300  0.005274 -0.190321 -1.175575   \n4 -0.270533  0.817739  0.753074  ... -0.009431  0.798278 -0.137458  0.141267   \n\n        V25       V26       V27       V28  Class  normAmount  \n0  0.128539 -0.189115  0.133558 -0.021053      0    0.244964  \n1  0.167170  0.125895 -0.008983  0.014724      0   -0.342475  \n2 -0.327642 -0.139097 -0.055353 -0.059752      0    1.160686  \n3  0.647376 -0.221929  0.062723  0.061458      0    0.140534  \n4 -0.206010  0.502292  0.219422  0.215153      0   -0.073403  \n\n[5 rows x 30 columns]",
      "text/html": "<div>\n<style scoped>\n    .dataframe tbody tr th:only-of-type {\n        vertical-align: middle;\n    }\n\n    .dataframe tbody tr th {\n        vertical-align: top;\n    }\n\n    .dataframe thead th {\n        text-align: right;\n    }\n</style>\n<table border=\"1\" class=\"dataframe\">\n  <thead>\n    <tr style=\"text-align: right;\">\n      <th></th>\n      <th>V1</th>\n      <th>V2</th>\n      <th>V3</th>\n      <th>V4</th>\n      <th>V5</th>\n      <th>V6</th>\n      <th>V7</th>\n      <th>V8</th>\n      <th>V9</th>\n      <th>V10</th>\n      <th>...</th>\n      <th>V21</th>\n      <th>V22</th>\n      <th>V23</th>\n      <th>V24</th>\n      <th>V25</th>\n      <th>V26</th>\n      <th>V27</th>\n      <th>V28</th>\n      <th>Class</th>\n      <th>normAmount</th>\n    </tr>\n  </thead>\n  <tbody>\n    <tr>\n      <th>0</th>\n      <td>-1.359807</td>\n      <td>-0.072781</td>\n      <td>2.536347</td>\n      <td>1.378155</td>\n      <td>-0.338321</td>\n      <td>0.462388</td>\n      <td>0.239599</td>\n      <td>0.098698</td>\n      <td>0.363787</td>\n      <td>0.090794</td>\n      <td>...</td>\n      <td>-0.018307</td>\n      <td>0.277838</td>\n      <td>-0.110474</td>\n      <td>0.066928</td>\n      <td>0.128539</td>\n      <td>-0.189115</td>\n      <td>0.133558</td>\n      <td>-0.021053</td>\n      <td>0</td>\n      <td>0.244964</td>\n    </tr>\n    <tr>\n      <th>1</th>\n      <td>1.191857</td>\n      <td>0.266151</td>\n      <td>0.166480</td>\n      <td>0.448154</td>\n      <td>0.060018</td>\n      <td>-0.082361</td>\n      <td>-0.078803</td>\n      <td>0.085102</td>\n      <td>-0.255425</td>\n      <td>-0.166974</td>\n      <td>...</td>\n      <td>-0.225775</td>\n      <td>-0.638672</td>\n      <td>0.101288</td>\n      <td>-0.339846</td>\n      <td>0.167170</td>\n      <td>0.125895</td>\n      <td>-0.008983</td>\n      <td>0.014724</td>\n      <td>0</td>\n      <td>-0.342475</td>\n    </tr>\n    <tr>\n      <th>2</th>\n      <td>-1.358354</td>\n      <td>-1.340163</td>\n      <td>1.773209</td>\n      <td>0.379780</td>\n      <td>-0.503198</td>\n      <td>1.800499</td>\n      <td>0.791461</td>\n      <td>0.247676</td>\n      <td>-1.514654</td>\n      <td>0.207643</td>\n      <td>...</td>\n      <td>0.247998</td>\n      <td>0.771679</td>\n      <td>0.909412</td>\n      <td>-0.689281</td>\n      <td>-0.327642</td>\n      <td>-0.139097</td>\n      <td>-0.055353</td>\n      <td>-0.059752</td>\n      <td>0</td>\n      <td>1.160686</td>\n    </tr>\n    <tr>\n      <th>3</th>\n      <td>-0.966272</td>\n      <td>-0.185226</td>\n      <td>1.792993</td>\n      <td>-0.863291</td>\n      <td>-0.010309</td>\n      <td>1.247203</td>\n      <td>0.237609</td>\n      <td>0.377436</td>\n      <td>-1.387024</td>\n      <td>-0.054952</td>\n      <td>...</td>\n      <td>-0.108300</td>\n      <td>0.005274</td>\n      <td>-0.190321</td>\n      <td>-1.175575</td>\n      <td>0.647376</td>\n      <td>-0.221929</td>\n      <td>0.062723</td>\n      <td>0.061458</td>\n      <td>0</td>\n      <td>0.140534</td>\n    </tr>\n    <tr>\n      <th>4</th>\n      <td>-1.158233</td>\n      <td>0.877737</td>\n      <td>1.548718</td>\n      <td>0.403034</td>\n      <td>-0.407193</td>\n      <td>0.095921</td>\n      <td>0.592941</td>\n      <td>-0.270533</td>\n      <td>0.817739</td>\n      <td>0.753074</td>\n      <td>...</td>\n      <td>-0.009431</td>\n      <td>0.798278</td>\n      <td>-0.137458</td>\n      <td>0.141267</td>\n      <td>-0.206010</td>\n      <td>0.502292</td>\n      <td>0.219422</td>\n      <td>0.215153</td>\n      <td>0</td>\n      <td>-0.073403</td>\n    </tr>\n  </tbody>\n</table>\n<p>5 rows × 30 columns</p>\n</div>"
     },
     "metadata": {},
     "output_type": "execute_result",
     "execution_count": 8
    }
   ],
   "source": [
    "data.head()"
   ],
   "metadata": {
    "collapsed": false,
    "pycharm": {
     "name": "#%%\n",
     "is_executing": false
    }
   }
  },
  {
   "cell_type": "code",
   "execution_count": 9,
   "outputs": [
    {
     "name": "stdout",
     "text": [
      "Index(['V1', 'V2', 'V3', 'V4', 'V5', 'V6', 'V7', 'V8', 'V9', 'V10', 'V11',\n       'V12', 'V13', 'V14', 'V15', 'V16', 'V17', 'V18', 'V19', 'V20', 'V21',\n       'V22', 'V23', 'V24', 'V25', 'V26', 'V27', 'V28', 'Class', 'normAmount'],\n      dtype='object')\n"
     ],
     "output_type": "stream"
    }
   ],
   "source": [
    "# print(data.columns != 'Class')\n",
    "print(data.columns)\n",
    "X=data.loc[:,data.columns!='Class']\n",
    "y=data.loc[:,data.columns=='Class']"
   ],
   "metadata": {
    "collapsed": false,
    "pycharm": {
     "name": "#%%\n",
     "is_executing": false
    }
   }
  },
  {
   "cell_type": "code",
   "execution_count": 10,
   "outputs": [],
   "source": [
    "number_records_fraud=len(data[data.Class==1])\n",
    "fraud_indices=np.array(data[data.Class==1].index)\n",
    "normal_indices=data[data.Class==0].index\n",
    "random_normal_indices=np.random.choice(normal_indices,number_records_fraud,replace=False)"
   ],
   "metadata": {
    "collapsed": false,
    "pycharm": {
     "name": "#%%\n",
     "is_executing": false
    }
   }
  },
  {
   "cell_type": "code",
   "execution_count": 11,
   "outputs": [
    {
     "data": {
      "text/plain": "numpy.ndarray"
     },
     "metadata": {},
     "output_type": "execute_result",
     "execution_count": 11
    }
   ],
   "source": [
    "# type(random_normal_indices)\n",
    "random_normal_indices=np.array(random_normal_indices)\n",
    "type(random_normal_indices) "
   ],
   "metadata": {
    "collapsed": false,
    "pycharm": {
     "name": "#%%\n",
     "is_executing": false
    }
   }
  },
  {
   "cell_type": "code",
   "execution_count": 12,
   "outputs": [],
   "source": [
    "under_sample_indices=np.concatenate([fraud_indices,random_normal_indices])"
   ],
   "metadata": {
    "collapsed": false,
    "pycharm": {
     "name": "#%%\n",
     "is_executing": false
    }
   }
  },
  {
   "cell_type": "code",
   "execution_count": 13,
   "outputs": [
    {
     "name": "stdout",
     "text": [
      "[   541    623   4920   6108   6329   6331   6334   6336   6338   6427\n   6446   6472   6529   6609   6641   6717   6719   6734   6774   6820\n   6870   6882   6899   6903   6971   8296   8312   8335   8615   8617\n   8842   8845   8972   9035   9179   9252   9487   9509  10204  10484\n  10497  10498  10568  10630  10690  10801  10891  10897  11343  11710\n  11841  11880  12070  12108  12261  12369  14104  14170  14197  14211\n  14338  15166  15204  15225  15451  15476  15506  15539  15566  15736\n  15751  15781  15810  16415  16780  16863  17317  17366  17407  17453\n  17480  18466  18472  18773  18809  20198  23308  23422  26802  27362\n  27627  27738  27749  29687  30100  30314  30384  30398  30442  30473\n  30496  31002  33276  39183  40085  40525  41395  41569  41943  42007\n  42009  42473  42528  42549  42590  42609  42635  42674  42696  42700\n  42741  42756  42769  42784  42856  42887  42936  42945  42958  43061\n  43160  43204  43428  43624  43681  43773  44001  44091  44223  44270\n  44556  45203  45732  46909  46918  46998  47802  48094  50211  50537\n  52466  52521  52584  53591  53794  55401  56703  57248  57470  57615\n  58422  58761  59539  61787  63421  63634  64329  64411  64460  68067\n  68320  68522  68633  69498  69980  70141  70589  72757  73784  73857\n  74496  74507  74794  75511  76555  76609  76929  77099  77348  77387\n  77682  79525  79536  79835  79874  79883  80760  81186  81609  82400\n  83053  83297  83417  84543  86155  87354  88258  88307  88876  88897\n  89190  91671  92777  93424  93486  93788  94218  95534  95597  96341\n  96789  96994  99506 100623 101509 102441 102442 102443 102444 102445\n 102446 102782 105178 106679 106998 107067 107637 108258 108708 111690\n 112840 114271 116139 116404 118308 119714 119781 120505 120837 122479\n 123141 123201 123238 123270 123301 124036 124087 124115 124176 125342\n 128479 131272 135718 137705 140786 141257 141258 141259 141260 142405\n 142557 143188 143333 143334 143335 143336 143728 143731 144104 144108\n 144754 145800 146790 147548 147605 149145 149357 149522 149577 149587\n 149600 149869 149874 150601 150644 150647 150654 150660 150661 150662\n 150663 150665 150666 150667 150668 150669 150677 150678 150679 150680\n 150684 150687 150692 150697 150715 150925 151006 151007 151008 151009\n 151011 151103 151196 151462 151519 151730 151807 152019 152223 152295\n 153823 153835 153885 154234 154286 154371 154454 154587 154633 154668\n 154670 154676 154684 154693 154694 154697 154718 154719 154720 154960\n 156988 156990 157585 157868 157871 157918 163149 163586 167184 167305\n 172787 176049 177195 178208 181966 182992 183106 184379 189587 189701\n 189878 190368 191074 191267 191359 191544 191690 192382 192529 192584\n 192687 195383 197586 198868 199896 201098 201601 203324 203328 203700\n 204064 204079 204503 208651 212516 212644 213092 213116 214662 214775\n 215132 215953 215984 218442 219025 219892 220725 221018 221041 222133\n 222419 223366 223572 223578 223618 226814 226877 229712 229730 230076\n 230476 231978 233258 234574 234632 234633 234705 235616 235634 235644\n 237107 237426 238222 238366 238466 239499 239501 240222 241254 241445\n 243393 243547 243699 243749 243848 244004 244333 245347 245556 247673\n 247995 248296 248971 249167 249239 249607 249828 249963 250761 251477\n 251866 251881 251891 251904 252124 252774 254344 254395 255403 255556\n 258403 261056 261473 261925 262560 262826 263080 263274 263324 263877\n 268375 272521 274382 274475 275992 276071 276864 279863 280143 280149\n 281144 281674 252643 215278 242094 200110 218882 208871 112994 265563\n 181669 202883    774 163680  89477 181721 215545 102253  94360 188936\n 263929 183493  16352  94783 252682   4359 274396  49939 170430  85138\n 242923  51695 185954 126442 189750 151738 222911   6871 139280 235999\n  33322 248103 227299 186050  81833  42482  36613 168954 173259   4132\n  56950 225884 176722 173933  92207 261906  42352 166117 134318 211874\n 168830 246809 207584 201161 197462 167527   9727 143563 217479 267840\n 226077 254330 275029 131268  72765 239490 186934  88574 100641 264174\n 110101 279168  43411 249561 154729 250425 226283 192092 122208 152839\n  22127  40828 277776 217714 145524  18946  77538 157301 113296  91782\n 171224 105121  68891  55982  81494  92194 218810  40151 185318 250502\n 140985   2978 107351 146030 247150 197025 106398  46404 132821  98146\n 231462 202547 272238  77854 171308  69624  13229 268272  86612 209791\n  66632 211472 279874  56821 200011 104743 227202 170720 269838 139326\n 136648 164190  91676 111812 253459 215563 100448 233321 190336 281541\n 181672  94999 146904 268836  66663 131653  80588 281876 215338  15613\n 107502 107541 119422 282369  31713  13126 244226  45938  15307 262360\n 271018 270520  76119  90558 271012  15886   3869 257156  10680 273686\n 203102  40981 175746  39347 118046  73238 103412   3813 194697 270523\n 227259 194211  77745 256728  59794 153065  87489 210481 112189  47903\n 216322 150605  86238  62277 112998  86910  95338 108096 172274 118698\n 203028 130547 238911  93303  27027  54463 161952 170849  12577   2293\n 173078   9567 279510 190450 163942 223813 231026 275425 230262 262250\n  60453   2512  94765 187847 158304 148657  40517 166293  82372  31531\n 197794 208571 279907  18829  28903 109739 155963  80238 244602 153658\n  82703  65890    535 189313 144727  77065  66305 109150 227903 105870\n 174855 101194 207822  48890  40488 116744 137858 273934  11112  15738\n  40894  48577  59717 101868 111012  37331 188756 142764 202857 276380\n 125386  18922 179367   4017  31340 112812  81569 218754 178969  98971\n  32093  43702  68265  49895 231706  37330  53831 212576 272715  35819\n  46030 256880  14395  72875 266490 171445 252640 196761 140806 171527\n 264226 211875 125365  65967 151860 261757 172733 101287 127646  11575\n 153750  81337  57522  95751 272543 136260 160341  70015  85960 264662\n  16081  43780 209725  40242  68536  97730 262423  83362 228866 140170\n  30327 193332  54870  91435 125074  87882  16582 171779  27832 194996\n 239715  42291  46829 237725 120443  72636 172532 218642 160228 176320\n  80529 250147  17923  46308 196778  96033  54693 111505 256172 172908\n  33174 199675 278673 265838 267456 144861 283836 166239 244085  61575\n 250701 221826 223512 247080  28754 109459 228736  55734 279846 193634\n  51391  67731 276518 244430 217743  67350 251935   3627  50755 218972\n 226403 175264 155514  55515  72734  93766  33011 130236 265712 109786\n 214531 163291 137516 266948 114641 173234 158143 177416 156237  46930\n 194277  20908  99124 192913  83983  41064 178463 100491 239519 186782\n 265738 176523 273818 177446  58540 191062 192337 248090  80286  33676\n 122511  21943 282932  26922 216622 175964 210200 140350  86126 137624\n 247176 268698 124383   3603 264200   2864  57781 204637  88428  87546\n  24143  31980 196364  89898 261911  50675  27030  17977  43812 167661\n 139044 174943  82047  43993  94900  68395 200838  44661  97915 237818\n  11891  97847   4923 207145  51492 241532 252893  24636 166860 207455\n 204221 104851 226729 128439]\n"
     ],
     "output_type": "stream"
    }
   ],
   "source": [
    "print(under_sample_indices)\n"
   ],
   "metadata": {
    "collapsed": false,
    "pycharm": {
     "name": "#%%\n",
     "is_executing": false
    }
   }
  },
  {
   "cell_type": "code",
   "execution_count": 14,
   "outputs": [],
   "source": [
    "under_sample_data=data.iloc[under_sample_indices,:]\n",
    "X_undersample=under_sample_data.loc[:,under_sample_data.columns!='Class'] \n",
    "y_undersample=under_sample_data.loc[:,under_sample_data.columns=='Class']\n"
   ],
   "metadata": {
    "collapsed": false,
    "pycharm": {
     "name": "#%%\n",
     "is_executing": false
    }
   }
  },
  {
   "cell_type": "code",
   "execution_count": 15,
   "outputs": [
    {
     "name": "stdout",
     "text": [
      "            V1        V2        V3        V4        V5        V6        V7  \\\n541  -2.312227  1.951992 -1.609851  3.997906 -0.522188 -1.426545 -2.537387   \n623  -3.043541 -3.157307  1.088463  2.288644  1.359805 -1.064823  0.325574   \n4920 -2.303350  1.759247 -0.359745  2.330243 -0.821628 -0.075788  0.562320   \n6108 -4.397974  1.358367 -2.592844  2.679787 -1.128131 -1.706536 -3.496197   \n6329  1.234235  3.019740 -4.304597  4.732795  3.624201 -1.357746  1.713445   \n\n            V8        V9       V10  ...       V20       V21       V22  \\\n541   1.391657 -2.770089 -2.772272  ...  0.126911  0.517232 -0.035049   \n623  -0.067794 -0.270953 -0.838587  ...  2.102339  0.661696  0.435477   \n4920 -0.399147 -0.238253 -1.525412  ... -0.430022 -0.294166 -0.932391   \n6108 -0.248778 -0.247768 -4.801637  ... -0.171608  0.573574  0.176968   \n6329 -0.496358 -1.282858 -2.447469  ...  0.009061 -0.379068 -0.704181   \n\n           V23       V24       V25       V26       V27       V28  normAmount  \n541  -0.465211  0.320198  0.044519  0.177840  0.261145 -0.143276   -0.353229  \n623   1.375966 -0.293803  0.279798 -0.145362 -0.252773  0.035764    1.761758  \n4920  0.172726 -0.087330 -0.156114 -0.542628  0.039566 -0.153029    0.606031  \n6108 -0.436207 -0.053502  0.252405 -0.657488 -0.827136  0.849573   -0.117342  \n6329 -0.656805 -1.632653  1.488901  0.566797 -0.010016  0.146793   -0.349231  \n\n[5 rows x 29 columns]\n      Class\n541       1\n623       1\n4920      1\n6108      1\n6329      1\n"
     ],
     "output_type": "stream"
    }
   ],
   "source": [
    "\n",
    "print(X_undersample.head())\n",
    "print(y_undersample.head())"
   ],
   "metadata": {
    "collapsed": false,
    "pycharm": {
     "name": "#%%\n",
     "is_executing": false
    }
   }
  },
  {
   "cell_type": "code",
   "execution_count": 16,
   "outputs": [
    {
     "name": "stdout",
     "text": [
      "Percentage of normal transaction: 0.5\nPercentage of fraud transactions: 0.5\nTotal number of transactions in resampled data: 984\n"
     ],
     "output_type": "stream"
    }
   ],
   "source": [
    "#showing ratio\n",
    "print('Percentage of normal transaction:',len(under_sample_data[under_sample_data.Class==0])/len(under_sample_data))\n",
    "print('Percentage of fraud transactions:',len(under_sample_data[under_sample_data.Class==1])/len(under_sample_data))\n",
    "print('Total number of transactions in resampled data:',len(under_sample_data))"
   ],
   "metadata": {
    "collapsed": false,
    "pycharm": {
     "name": "#%%\n",
     "is_executing": false
    }
   }
  },
  {
   "cell_type": "code",
   "execution_count": 17,
   "outputs": [],
   "source": [
    "from sklearn.model_selection import train_test_split\n",
    "X_train,X_test,y_train,y_test=train_test_split(X,y,test_size=0.3,random_state=0)\n",
    "X_train_undersample,X_test_undersample,y_train_undersample,y_test_undersample=train_test_split(\n",
    "    X_undersample,\n",
    "    y_undersample,\n",
    "    test_size=0.3,\n",
    "    random_state=0\n",
    ")\n"
   ],
   "metadata": {
    "collapsed": false,
    "pycharm": {
     "name": "#%%\n",
     "is_executing": false
    }
   }
  },
  {
   "cell_type": "code",
   "execution_count": 18,
   "outputs": [
    {
     "name": "stdout",
     "text": [
      "Number transactions train dataset: 199364\nNumber transactions test dataset: 85443\nTotal number of transactions: 284807\n\nNumber transactions train dataset:  688\nNumber transactions test dataset:  296\nTotal number of transactions 984\n"
     ],
     "output_type": "stream"
    }
   ],
   "source": [
    "print('Number transactions train dataset:',len(X_train))\n",
    "print('Number transactions test dataset:',len(X_test))\n",
    "print('Total number of transactions:',len(X_train)+len(X_test ))\n",
    "print(\"\")\n",
    "\n",
    "print('Number transactions train dataset: ',len(X_train_undersample))\n",
    "print('Number transactions test dataset: ',len(X_test_undersample))\n",
    "print('Total number of transactions',len(X_train_undersample)+len(X_test_undersample))"
   ],
   "metadata": {
    "collapsed": false,
    "pycharm": {
     "name": "#%%\n",
     "is_executing": false
    }
   }
  },
  {
   "cell_type": "code",
   "execution_count": 19,
   "outputs": [],
   "source": [
    "from sklearn.linear_model import LogisticRegression\n",
    "from sklearn.model_selection import KFold,cross_val_score\n",
    "from sklearn.metrics import confusion_matrix,recall_score,classification_report"
   ],
   "metadata": {
    "collapsed": false,
    "pycharm": {
     "name": "#%%\n",
     "is_executing": false
    }
   }
  },
  {
   "cell_type": "code",
   "execution_count": 28,
   "outputs": [],
   "source": [
    "\n",
    "def printing_Kfold_scores(x_train_data,y_train_data):\n",
    "    fold=KFold(len(y_train_data),5,shuffle=False)\n",
    "    # Different C parameters \n",
    "    c_param_range=[0.01,0.1,1,10,100]\n",
    "    results_table=pd.DataFrame(index=range(2,shuffle=False),columns=['C_parameter','Mean recall score'])\n",
    "    results_table['C_parameter']=c_param_range\n",
    "    # the k-fold will give 2 lists train_indices=indices[0],test_indices=indices[1]\n",
    "    j=0\n",
    "    for c_param in c_param_range:\n",
    "        print('-'*50)\n",
    "        print('C parameter:',c_param)\n",
    "        print('-'*50)\n",
    "        print('')\n",
    "        recall_accs=[]\n",
    "        for iteration,indices in enumerate(fold,start=1):\n",
    "            #call the logistic regression model with a certain C parameter \n",
    "            lr=LogisticRegression(C=c_param,penalty='ll')\n",
    "            lr.fit(x_train_data.iloc[indices[0],:],y_train_data.iloc[indices[0],:].values.ravel())\n",
    "            y_pred_undersample=lr.predict(x_train_data.iloc[indices[1],:].values)\n",
    "            recall_acc=recall_score(y_train_data.iloc[indices[1],:].values,y_pred_undersample)\n",
    "            recall_accs.append(recall_acc)\n",
    "            print('Iteration  ',iteration,': recall score =',recall_acc)\n",
    "        results_table.ix[j:'Mean recall score ']=np.mean(recall_accs)\n",
    "        j+=1\n",
    "        print('')\n",
    "        print('Mean recall score' ,np.mean(recall_accs))\n",
    "        print('')\n",
    "    best_c=results_table.loc[results_table['Mean recall score'].idxmax()]['C_parameter']\n",
    "    print('*'*100)\n",
    "    print('Best model to choose from cross validation is with C parameter =',best_c)\n",
    "    print('*'*100)\n",
    "    return best_c"
   ],
   "metadata": {
    "collapsed": false,
    "pycharm": {
     "name": "#%%\n",
     "is_executing": false
    }
   }
  },
  {
   "cell_type": "code",
   "execution_count": 29,
   "outputs": [
    {
     "name": "stderr",
     "text": [
      "d:\\ai\\workspace\\py_stu\\venv\\lib\\site-packages\\sklearn\\utils\\validation.py:71: FutureWarning: Pass shuffle=5 as keyword args. From version 0.25 passing these as positional arguments will result in an error\n  FutureWarning)\n"
     ],
     "output_type": "stream"
    },
    {
     "traceback": [
      "\u001b[1;31m---------------------------------------------------------------------------\u001b[0m",
      "\u001b[1;31mTypeError\u001b[0m                                 Traceback (most recent call last)",
      "\u001b[1;32m<ipython-input-29-4aec497a68a0>\u001b[0m in \u001b[0;36m<module>\u001b[1;34m\u001b[0m\n\u001b[1;32m----> 1\u001b[1;33m \u001b[0mbest_c\u001b[0m\u001b[1;33m=\u001b[0m\u001b[0mprinting_Kfold_scores\u001b[0m\u001b[1;33m(\u001b[0m\u001b[0mX_train_undersample\u001b[0m\u001b[1;33m,\u001b[0m\u001b[0my_train_undersample\u001b[0m\u001b[1;33m)\u001b[0m\u001b[1;33m\u001b[0m\u001b[1;33m\u001b[0m\u001b[0m\n\u001b[0m\u001b[0;32m      2\u001b[0m \u001b[1;33m\u001b[0m\u001b[0m\n\u001b[0;32m      3\u001b[0m \u001b[1;33m\u001b[0m\u001b[0m\n",
      "\u001b[1;32m<ipython-input-28-b4412d7b3d95>\u001b[0m in \u001b[0;36mprinting_Kfold_scores\u001b[1;34m(x_train_data, y_train_data)\u001b[0m\n\u001b[0;32m      1\u001b[0m \u001b[1;32mdef\u001b[0m \u001b[0mprinting_Kfold_scores\u001b[0m\u001b[1;33m(\u001b[0m\u001b[0mx_train_data\u001b[0m\u001b[1;33m,\u001b[0m\u001b[0my_train_data\u001b[0m\u001b[1;33m)\u001b[0m\u001b[1;33m:\u001b[0m\u001b[1;33m\u001b[0m\u001b[1;33m\u001b[0m\u001b[0m\n\u001b[1;32m----> 2\u001b[1;33m     \u001b[0mfold\u001b[0m\u001b[1;33m=\u001b[0m\u001b[0mKFold\u001b[0m\u001b[1;33m(\u001b[0m\u001b[0mlen\u001b[0m\u001b[1;33m(\u001b[0m\u001b[0my_train_data\u001b[0m\u001b[1;33m)\u001b[0m\u001b[1;33m,\u001b[0m\u001b[1;36m5\u001b[0m\u001b[1;33m,\u001b[0m\u001b[0mshuffle\u001b[0m\u001b[1;33m=\u001b[0m\u001b[1;32mFalse\u001b[0m\u001b[1;33m)\u001b[0m\u001b[1;33m\u001b[0m\u001b[1;33m\u001b[0m\u001b[0m\n\u001b[0m\u001b[0;32m      3\u001b[0m     \u001b[1;31m# Different C parameters\u001b[0m\u001b[1;33m\u001b[0m\u001b[1;33m\u001b[0m\u001b[1;33m\u001b[0m\u001b[0m\n\u001b[0;32m      4\u001b[0m     \u001b[0mc_param_range\u001b[0m\u001b[1;33m=\u001b[0m\u001b[1;33m[\u001b[0m\u001b[1;36m0.01\u001b[0m\u001b[1;33m,\u001b[0m\u001b[1;36m0.1\u001b[0m\u001b[1;33m,\u001b[0m\u001b[1;36m1\u001b[0m\u001b[1;33m,\u001b[0m\u001b[1;36m10\u001b[0m\u001b[1;33m,\u001b[0m\u001b[1;36m100\u001b[0m\u001b[1;33m]\u001b[0m\u001b[1;33m\u001b[0m\u001b[1;33m\u001b[0m\u001b[0m\n\u001b[0;32m      5\u001b[0m     \u001b[0mresults_table\u001b[0m\u001b[1;33m=\u001b[0m\u001b[0mpd\u001b[0m\u001b[1;33m.\u001b[0m\u001b[0mDataFrame\u001b[0m\u001b[1;33m(\u001b[0m\u001b[0mindex\u001b[0m\u001b[1;33m=\u001b[0m\u001b[0mrange\u001b[0m\u001b[1;33m(\u001b[0m\u001b[1;36m2\u001b[0m\u001b[1;33m,\u001b[0m\u001b[0mshuffle\u001b[0m\u001b[1;33m=\u001b[0m\u001b[1;32mFalse\u001b[0m\u001b[1;33m)\u001b[0m\u001b[1;33m,\u001b[0m\u001b[0mcolumns\u001b[0m\u001b[1;33m=\u001b[0m\u001b[1;33m[\u001b[0m\u001b[1;34m'C_parameter'\u001b[0m\u001b[1;33m,\u001b[0m\u001b[1;34m'Mean recall score'\u001b[0m\u001b[1;33m]\u001b[0m\u001b[1;33m)\u001b[0m\u001b[1;33m\u001b[0m\u001b[1;33m\u001b[0m\u001b[0m\n",
      "\u001b[1;32md:\\ai\\workspace\\py_stu\\venv\\lib\\site-packages\\sklearn\\utils\\validation.py\u001b[0m in \u001b[0;36minner_f\u001b[1;34m(*args, **kwargs)\u001b[0m\n\u001b[0;32m     71\u001b[0m                           FutureWarning)\n\u001b[0;32m     72\u001b[0m         \u001b[0mkwargs\u001b[0m\u001b[1;33m.\u001b[0m\u001b[0mupdate\u001b[0m\u001b[1;33m(\u001b[0m\u001b[1;33m{\u001b[0m\u001b[0mk\u001b[0m\u001b[1;33m:\u001b[0m \u001b[0marg\u001b[0m \u001b[1;32mfor\u001b[0m \u001b[0mk\u001b[0m\u001b[1;33m,\u001b[0m \u001b[0marg\u001b[0m \u001b[1;32min\u001b[0m \u001b[0mzip\u001b[0m\u001b[1;33m(\u001b[0m\u001b[0msig\u001b[0m\u001b[1;33m.\u001b[0m\u001b[0mparameters\u001b[0m\u001b[1;33m,\u001b[0m \u001b[0margs\u001b[0m\u001b[1;33m)\u001b[0m\u001b[1;33m}\u001b[0m\u001b[1;33m)\u001b[0m\u001b[1;33m\u001b[0m\u001b[1;33m\u001b[0m\u001b[0m\n\u001b[1;32m---> 73\u001b[1;33m         \u001b[1;32mreturn\u001b[0m \u001b[0mf\u001b[0m\u001b[1;33m(\u001b[0m\u001b[1;33m**\u001b[0m\u001b[0mkwargs\u001b[0m\u001b[1;33m)\u001b[0m\u001b[1;33m\u001b[0m\u001b[1;33m\u001b[0m\u001b[0m\n\u001b[0m\u001b[0;32m     74\u001b[0m     \u001b[1;32mreturn\u001b[0m \u001b[0minner_f\u001b[0m\u001b[1;33m\u001b[0m\u001b[1;33m\u001b[0m\u001b[0m\n\u001b[0;32m     75\u001b[0m \u001b[1;33m\u001b[0m\u001b[0m\n",
      "\u001b[1;32md:\\ai\\workspace\\py_stu\\venv\\lib\\site-packages\\sklearn\\model_selection\\_split.py\u001b[0m in \u001b[0;36m__init__\u001b[1;34m(self, n_splits, shuffle, random_state)\u001b[0m\n\u001b[0;32m    432\u001b[0m                  random_state=None):\n\u001b[0;32m    433\u001b[0m         super().__init__(n_splits=n_splits, shuffle=shuffle,\n\u001b[1;32m--> 434\u001b[1;33m                          random_state=random_state)\n\u001b[0m\u001b[0;32m    435\u001b[0m \u001b[1;33m\u001b[0m\u001b[0m\n\u001b[0;32m    436\u001b[0m     \u001b[1;32mdef\u001b[0m \u001b[0m_iter_test_indices\u001b[0m\u001b[1;33m(\u001b[0m\u001b[0mself\u001b[0m\u001b[1;33m,\u001b[0m \u001b[0mX\u001b[0m\u001b[1;33m,\u001b[0m \u001b[0my\u001b[0m\u001b[1;33m=\u001b[0m\u001b[1;32mNone\u001b[0m\u001b[1;33m,\u001b[0m \u001b[0mgroups\u001b[0m\u001b[1;33m=\u001b[0m\u001b[1;32mNone\u001b[0m\u001b[1;33m)\u001b[0m\u001b[1;33m:\u001b[0m\u001b[1;33m\u001b[0m\u001b[1;33m\u001b[0m\u001b[0m\n",
      "\u001b[1;32md:\\ai\\workspace\\py_stu\\venv\\lib\\site-packages\\sklearn\\utils\\validation.py\u001b[0m in \u001b[0;36minner_f\u001b[1;34m(*args, **kwargs)\u001b[0m\n\u001b[0;32m     71\u001b[0m                           FutureWarning)\n\u001b[0;32m     72\u001b[0m         \u001b[0mkwargs\u001b[0m\u001b[1;33m.\u001b[0m\u001b[0mupdate\u001b[0m\u001b[1;33m(\u001b[0m\u001b[1;33m{\u001b[0m\u001b[0mk\u001b[0m\u001b[1;33m:\u001b[0m \u001b[0marg\u001b[0m \u001b[1;32mfor\u001b[0m \u001b[0mk\u001b[0m\u001b[1;33m,\u001b[0m \u001b[0marg\u001b[0m \u001b[1;32min\u001b[0m \u001b[0mzip\u001b[0m\u001b[1;33m(\u001b[0m\u001b[0msig\u001b[0m\u001b[1;33m.\u001b[0m\u001b[0mparameters\u001b[0m\u001b[1;33m,\u001b[0m \u001b[0margs\u001b[0m\u001b[1;33m)\u001b[0m\u001b[1;33m}\u001b[0m\u001b[1;33m)\u001b[0m\u001b[1;33m\u001b[0m\u001b[1;33m\u001b[0m\u001b[0m\n\u001b[1;32m---> 73\u001b[1;33m         \u001b[1;32mreturn\u001b[0m \u001b[0mf\u001b[0m\u001b[1;33m(\u001b[0m\u001b[1;33m**\u001b[0m\u001b[0mkwargs\u001b[0m\u001b[1;33m)\u001b[0m\u001b[1;33m\u001b[0m\u001b[1;33m\u001b[0m\u001b[0m\n\u001b[0m\u001b[0;32m     74\u001b[0m     \u001b[1;32mreturn\u001b[0m \u001b[0minner_f\u001b[0m\u001b[1;33m\u001b[0m\u001b[1;33m\u001b[0m\u001b[0m\n\u001b[0;32m     75\u001b[0m \u001b[1;33m\u001b[0m\u001b[0m\n",
      "\u001b[1;32md:\\ai\\workspace\\py_stu\\venv\\lib\\site-packages\\sklearn\\model_selection\\_split.py\u001b[0m in \u001b[0;36m__init__\u001b[1;34m(self, n_splits, shuffle, random_state)\u001b[0m\n\u001b[0;32m    287\u001b[0m         \u001b[1;32mif\u001b[0m \u001b[1;32mnot\u001b[0m \u001b[0misinstance\u001b[0m\u001b[1;33m(\u001b[0m\u001b[0mshuffle\u001b[0m\u001b[1;33m,\u001b[0m \u001b[0mbool\u001b[0m\u001b[1;33m)\u001b[0m\u001b[1;33m:\u001b[0m\u001b[1;33m\u001b[0m\u001b[1;33m\u001b[0m\u001b[0m\n\u001b[0;32m    288\u001b[0m             raise TypeError(\"shuffle must be True or False;\"\n\u001b[1;32m--> 289\u001b[1;33m                             \" got {0}\".format(shuffle))\n\u001b[0m\u001b[0;32m    290\u001b[0m \u001b[1;33m\u001b[0m\u001b[0m\n\u001b[0;32m    291\u001b[0m         \u001b[1;32mif\u001b[0m \u001b[1;32mnot\u001b[0m \u001b[0mshuffle\u001b[0m \u001b[1;32mand\u001b[0m \u001b[0mrandom_state\u001b[0m \u001b[1;32mis\u001b[0m \u001b[1;32mnot\u001b[0m \u001b[1;32mNone\u001b[0m\u001b[1;33m:\u001b[0m  \u001b[1;31m# None is the default\u001b[0m\u001b[1;33m\u001b[0m\u001b[1;33m\u001b[0m\u001b[0m\n",
      "\u001b[1;31mTypeError\u001b[0m: shuffle must be True or False; got 5"
     ],
     "ename": "TypeError",
     "evalue": "shuffle must be True or False; got 5",
     "output_type": "error"
    }
   ],
   "source": [
    "best_c=printing_Kfold_scores(X_train_undersample,y_train_undersample)\n",
    "\n"
   ],
   "metadata": {
    "collapsed": false,
    "pycharm": {
     "name": "#%%\n",
     "is_executing": false
    }
   }
  },
  {
   "cell_type": "code",
   "execution_count": null,
   "outputs": [],
   "source": [
    "\n"
   ],
   "metadata": {
    "collapsed": false,
    "pycharm": {
     "name": "#%%\n"
    }
   }
  }
 ],
 "metadata": {
  "language_info": {
   "codemirror_mode": {
    "name": "ipython",
    "version": 2
   },
   "file_extension": ".py",
   "mimetype": "text/x-python",
   "name": "python",
   "nbconvert_exporter": "python",
   "pygments_lexer": "ipython2",
   "version": "2.7.6"
  },
  "kernelspec": {
   "name": "python3",
   "language": "python",
   "display_name": "Python 3"
  },
  "pycharm": {
   "stem_cell": {
    "cell_type": "raw",
    "source": [],
    "metadata": {
     "collapsed": false
    }
   }
  }
 },
 "nbformat": 4,
 "nbformat_minor": 0
}