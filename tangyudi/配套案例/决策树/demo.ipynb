{
 "cells": [
  {
   "cell_type": "code",
   "execution_count": null,
   "metadata": {
    "collapsed": true,
    "pycharm": {
     "is_executing": true
    }
   },
   "outputs": [],
   "source": [
    "import matplotlib.pyplot as plt\n",
    "import numpy as np\n",
    "import pandas as pd"
   ]
  },
  {
   "cell_type": "code",
   "execution_count": null,
   "metadata": {
    "pycharm": {
     "is_executing": true,
     "name": "#%%\n"
    }
   },
   "outputs": [],
   "source": [
    "from sklearn.datasets.california_housing import fetch_california_housing\n",
    "housing=fetch_california_housing()\n",
    "# print(housing.head())"
   ]
  },
  {
   "cell_type": "code",
   "execution_count": null,
   "metadata": {
    "pycharm": {
     "is_executing": true,
     "name": "#%%\n"
    }
   },
   "outputs": [],
   "source": [
    "type(housing)"
   ]
  },
  {
   "cell_type": "code",
   "execution_count": null,
   "metadata": {
    "pycharm": {
     "is_executing": true,
     "name": "#%%\n"
    }
   },
   "outputs": [],
   "source": [
    "housing.DESCR\n"
   ]
  },
  {
   "cell_type": "code",
   "execution_count": null,
   "metadata": {
    "pycharm": {
     "is_executing": true,
     "name": "#%%\n"
    }
   },
   "outputs": [],
   "source": [
    "housing.data.shape"
   ]
  },
  {
   "cell_type": "code",
   "execution_count": null,
   "metadata": {
    "pycharm": {
     "is_executing": true,
     "name": "#%%\n"
    }
   },
   "outputs": [],
   "source": [
    "housing.data[0]"
   ]
  },
  {
   "cell_type": "code",
   "execution_count": null,
   "metadata": {
    "pycharm": {
     "is_executing": true,
     "name": "#%%\n"
    }
   },
   "outputs": [],
   "source": [
    "from sklearn import tree\n",
    "dtr=tree.DecisionTreeRegressor(max_depth=2)\n",
    "dtr.fit(housing.data[:,[6,7]],housing.target)"
   ]
  },
  {
   "cell_type": "code",
   "execution_count": null,
   "metadata": {
    "pycharm": {
     "is_executing": true,
     "name": "#%%\n"
    }
   },
   "outputs": [],
   "source": [
    "print('1'*10)\n",
    "print(dtr)\n",
    "print('2'*10)\n"
   ]
  },
  {
   "cell_type": "code",
   "execution_count": null,
   "metadata": {
    "pycharm": {
     "is_executing": true,
     "name": "#%%\n"
    }
   },
   "outputs": [],
   "source": [
    "housing.target"
   ]
  },
  {
   "cell_type": "code",
   "execution_count": null,
   "metadata": {
    "pycharm": {
     "is_executing": true,
     "name": "#%%\n"
    }
   },
   "outputs": [],
   "source": [
    "housing.feature_names"
   ]
  },
  {
   "cell_type": "code",
   "execution_count": null,
   "metadata": {
    "pycharm": {
     "is_executing": true,
     "name": "#%%\n"
    }
   },
   "outputs": [],
   "source": [
    "dot_data=tree.export_graphviz(\n",
    "    dtr,\n",
    "    out_file=None,\n",
    "    feature_names=housing.feature_names[6:8],\n",
    "    filled=True,\n",
    "    impurity=False,\n",
    "    rounded=True\n",
    ")"
   ]
  },
  {
   "cell_type": "code",
   "execution_count": null,
   "metadata": {
    "pycharm": {
     "is_executing": true
    }
   },
   "outputs": [],
   "source": [
    "housing.feature_names[6:8]"
   ]
  },
  {
   "cell_type": "code",
   "execution_count": null,
   "metadata": {
    "pycharm": {
     "is_executing": true,
     "name": "#%%\n"
    }
   },
   "outputs": [],
   "source": [
    "# pip install pydotplus \n",
    "import pydotplus\n",
    "graph=pydotplus.graph_from_dot_data(dot_data)\n",
    "graph.get_nodes()[7].set_fillcolor('#FFF2DD')"
   ]
  },
  {
   "cell_type": "code",
   "execution_count": null,
   "metadata": {
    "pycharm": {
     "is_executing": true,
     "name": "#%%\n"
    }
   },
   "outputs": [],
   "source": [
    "type(dot_data)"
   ]
  },
  {
   "cell_type": "code",
   "execution_count": null,
   "metadata": {
    "pycharm": {
     "name": "#%%\n",
     "is_executing": true
    }
   },
   "outputs": [],
   "source": [
    "from IPython.display import Image\n",
    "Image(graph.create_png())"
   ]
  },
  {
   "cell_type": "code",
   "execution_count": null,
   "outputs": [],
   "source": [
    "graph.write_png('dtr_white_background.png')"
   ],
   "metadata": {
    "collapsed": false,
    "pycharm": {
     "name": "#%%\n",
     "is_executing": true
    }
   }
  },
  {
   "cell_type": "code",
   "execution_count": null,
   "outputs": [],
   "source": [
    "from sklearn.model_selection import train_test_split\n",
    "data_train,data_test,target_train,target_test=train_test_split(\n",
    "    housing.data,housing.target,test_size=0.1,random_state=42 )\n",
    "dtr=tree.DecisionTreeRegressor(random_state=42)\n",
    "dtr.fit(data_train,target_train)\n",
    "dtr.score(data_test,target_test)"
   ],
   "metadata": {
    "collapsed": false,
    "pycharm": {
     "name": "#%%\n",
     "is_executing": true
    }
   }
  },
  {
   "cell_type": "code",
   "execution_count": null,
   "outputs": [],
   "source": [
    "from sklearn.ensemble import RandomForestRegressor\n",
    "rfr=RandomForestRegressor(random_state=42)\n",
    "rfr.fit(data_train,target_train)\n",
    "rfr.score(data_test,target_test )"
   ],
   "metadata": {
    "collapsed": false,
    "pycharm": {
     "name": "#%%\n",
     "is_executing": true
    }
   }
  },
  {
   "cell_type": "markdown",
   "source": [
    "## 树模型参数:\n",
    "1.criterion gini or entropy\n",
    "\n",
    "2.splitter best or random 前者是在所有特征中找最好的切分点 后者是在部分特征中（数据量大的时候）\n",
    "\n",
    "3.max_features None（所有），log2，sqrt，N 特征小于50的时候一般使用所有的\n",
    "\n",
    "4.max_depth 数据少或者特征少的时候可以不管这个值，如果模型样本量多，特征也多的情况下，可以尝试限制\n",
    "\n",
    "5.min_samples_split 如果某节点的样本数少于min_samples_split，则不会继续再尝试选择最优特征来进行划分如果样本量不大，不需要管这个值。如果样本量数量级非常大，则推荐增大这个值。\n",
    " \n",
    "6.min_samples_leaf 这个值限制了叶子节点最少的样本数，如果某叶子节点数目小于样本数，则会和兄弟节点一起被剪枝，如果样本量不大，不需要管这个值，大些如10W可是尝试下5\n",
    " \n",
    "7.min_weight_fraction_leaf 这个值限制了叶子节点所有样本权重和的最小值，如果小于这个值，则会和兄弟节点一起被剪枝默认是0，就是不考虑权重问题。一般来说，如果我们有较多样本有缺失值，或者分类树样本的分布类别偏差很大，就会引入样本权重，这时我们就要注意这个值了。\n",
    "\n",
    "8.max_leaf_nodes 通过限制最大叶子节点数，可以防止过拟合，默认是\"None”，即不限制最大的叶子节点数。如果加了限制，算法会建立在最大叶子节点数内最优的决策树。如果特征不多，可以不考虑这个值，但是如果特征分成多的话，可以加以限制具体的值可以通过交叉验证得到。\n",
    "\n",
    "9.class_weight 指定样本各类别的的权重，主要是为了防止训练集某些类别的样本过多导致训练的决策树过于偏向这些类别。这里可以自己指定各个样本的权重如果使用“balanced”，则算法会自己计算权重，样本量少的类别所对应的样本权重会高。\n",
    "\n",
    "10.min_impurity_split 这个值限制了决策树的增长，如果某节点的不纯度(基尼系数，信息增益，均方差，绝对差)小于这个阈值则该节点不再生成子节点。即为叶子节点 。\n",
    "\n",
    "n_estimators:要建立树的个数"
   ],
   "metadata": {
    "collapsed": false,
    "pycharm": {
     "name": "#%% md\n"
    }
   }
  },
  {
   "cell_type": "code",
   "execution_count": 22,
   "outputs": [
    {
     "data": {
      "text/plain": "({'mean_fit_time': array([ 0.94700475,  4.81647754,  9.91325684,  0.85481114,  4.35702777,\n         10.10270576,  0.98847332,  5.61431499, 10.60003657]),\n  'std_fit_time': array([0.04095955, 0.29745729, 0.29947909, 0.02368189, 0.05596329,\n         0.80794979, 0.07675006, 1.38417099, 0.93935008]),\n  'mean_score_time': array([0.01359549, 0.05400925, 0.11279993, 0.01000447, 0.05100193,\n         0.11004186, 0.01039748, 0.06000276, 0.09912863]),\n  'std_score_time': array([0.00174992, 0.00282588, 0.00688157, 0.00126649, 0.00648215,\n         0.0151492 , 0.00162267, 0.01691047, 0.00956282]),\n  'param_min_samples_split': masked_array(data=[3, 3, 3, 6, 6, 6, 9, 9, 9],\n               mask=[False, False, False, False, False, False, False, False,\n                     False],\n         fill_value='?',\n              dtype=object),\n  'param_n_estimators': masked_array(data=[10, 50, 100, 10, 50, 100, 10, 50, 100],\n               mask=[False, False, False, False, False, False, False, False,\n                     False],\n         fill_value='?',\n              dtype=object),\n  'params': [{'min_samples_split': 3, 'n_estimators': 10},\n   {'min_samples_split': 3, 'n_estimators': 50},\n   {'min_samples_split': 3, 'n_estimators': 100},\n   {'min_samples_split': 6, 'n_estimators': 10},\n   {'min_samples_split': 6, 'n_estimators': 50},\n   {'min_samples_split': 6, 'n_estimators': 100},\n   {'min_samples_split': 9, 'n_estimators': 10},\n   {'min_samples_split': 9, 'n_estimators': 50},\n   {'min_samples_split': 9, 'n_estimators': 100}],\n  'split0_test_score': array([0.78335161, 0.80994643, 0.80908292, 0.78737818, 0.80682189,\n         0.80953689, 0.78901696, 0.80901097, 0.80984343]),\n  'split1_test_score': array([0.78262911, 0.79705104, 0.80188624, 0.7849822 , 0.79631544,\n         0.80194424, 0.78370675, 0.80057611, 0.79940428]),\n  'split2_test_score': array([0.77903381, 0.80087679, 0.80210049, 0.7857356 , 0.80321795,\n         0.80175285, 0.78442157, 0.79934362, 0.80474002]),\n  'split3_test_score': array([0.79137359, 0.80822698, 0.81107827, 0.7909817 , 0.80970399,\n         0.81051142, 0.79119317, 0.81173594, 0.81076686]),\n  'split4_test_score': array([0.79338236, 0.80817442, 0.80761897, 0.78598734, 0.80313937,\n         0.80979627, 0.79001173, 0.80726719, 0.80865254]),\n  'mean_test_score': array([0.7859541 , 0.80485513, 0.80635338, 0.787013  , 0.80383973,\n         0.80670834, 0.78767004, 0.80558677, 0.80668143]),\n  'std_test_score': array([0.00548213, 0.00500079, 0.0037261 , 0.00213034, 0.00448943,\n         0.00398128, 0.00303217, 0.00482587, 0.00417852]),\n  'rank_test_score': array([9, 5, 3, 8, 6, 1, 7, 4, 2])},\n {'min_samples_split': 6, 'n_estimators': 100},\n 0.8067083357798499)"
     },
     "metadata": {},
     "output_type": "execute_result",
     "execution_count": 22
    }
   ],
   "source": [
    "# from sklearn.grid_search import GridSearchCV\n",
    "from sklearn.model_selection import GridSearchCV\n",
    "tree_param_grid={'min_samples_split':list((3,6,9)),'n_estimators':list((10,50,100))}\n",
    "grid=GridSearchCV(RandomForestRegressor(),param_grid=tree_param_grid,cv=5)\n",
    "grid.fit(data_train,target_train)\n",
    "# grid.grid_scores_,grid.best_params_,grid.best_score_\n",
    "grid.cv_results_,grid.best_params_,grid.best_score_"
   ],
   "metadata": {
    "collapsed": false,
    "pycharm": {
     "name": "#%%\n",
     "is_executing": false
    }
   }
  },
  {
   "cell_type": "code",
   "execution_count": 23,
   "outputs": [
    {
     "data": {
      "text/plain": "{'mean_fit_time': array([ 0.94700475,  4.81647754,  9.91325684,  0.85481114,  4.35702777,\n        10.10270576,  0.98847332,  5.61431499, 10.60003657]),\n 'std_fit_time': array([0.04095955, 0.29745729, 0.29947909, 0.02368189, 0.05596329,\n        0.80794979, 0.07675006, 1.38417099, 0.93935008]),\n 'mean_score_time': array([0.01359549, 0.05400925, 0.11279993, 0.01000447, 0.05100193,\n        0.11004186, 0.01039748, 0.06000276, 0.09912863]),\n 'std_score_time': array([0.00174992, 0.00282588, 0.00688157, 0.00126649, 0.00648215,\n        0.0151492 , 0.00162267, 0.01691047, 0.00956282]),\n 'param_min_samples_split': masked_array(data=[3, 3, 3, 6, 6, 6, 9, 9, 9],\n              mask=[False, False, False, False, False, False, False, False,\n                    False],\n        fill_value='?',\n             dtype=object),\n 'param_n_estimators': masked_array(data=[10, 50, 100, 10, 50, 100, 10, 50, 100],\n              mask=[False, False, False, False, False, False, False, False,\n                    False],\n        fill_value='?',\n             dtype=object),\n 'params': [{'min_samples_split': 3, 'n_estimators': 10},\n  {'min_samples_split': 3, 'n_estimators': 50},\n  {'min_samples_split': 3, 'n_estimators': 100},\n  {'min_samples_split': 6, 'n_estimators': 10},\n  {'min_samples_split': 6, 'n_estimators': 50},\n  {'min_samples_split': 6, 'n_estimators': 100},\n  {'min_samples_split': 9, 'n_estimators': 10},\n  {'min_samples_split': 9, 'n_estimators': 50},\n  {'min_samples_split': 9, 'n_estimators': 100}],\n 'split0_test_score': array([0.78335161, 0.80994643, 0.80908292, 0.78737818, 0.80682189,\n        0.80953689, 0.78901696, 0.80901097, 0.80984343]),\n 'split1_test_score': array([0.78262911, 0.79705104, 0.80188624, 0.7849822 , 0.79631544,\n        0.80194424, 0.78370675, 0.80057611, 0.79940428]),\n 'split2_test_score': array([0.77903381, 0.80087679, 0.80210049, 0.7857356 , 0.80321795,\n        0.80175285, 0.78442157, 0.79934362, 0.80474002]),\n 'split3_test_score': array([0.79137359, 0.80822698, 0.81107827, 0.7909817 , 0.80970399,\n        0.81051142, 0.79119317, 0.81173594, 0.81076686]),\n 'split4_test_score': array([0.79338236, 0.80817442, 0.80761897, 0.78598734, 0.80313937,\n        0.80979627, 0.79001173, 0.80726719, 0.80865254]),\n 'mean_test_score': array([0.7859541 , 0.80485513, 0.80635338, 0.787013  , 0.80383973,\n        0.80670834, 0.78767004, 0.80558677, 0.80668143]),\n 'std_test_score': array([0.00548213, 0.00500079, 0.0037261 , 0.00213034, 0.00448943,\n        0.00398128, 0.00303217, 0.00482587, 0.00417852]),\n 'rank_test_score': array([9, 5, 3, 8, 6, 1, 7, 4, 2])}"
     },
     "metadata": {},
     "output_type": "execute_result",
     "execution_count": 23
    }
   ],
   "source": [
    "grid.cv_results_"
   ],
   "metadata": {
    "collapsed": false,
    "pycharm": {
     "name": "#%%\n",
     "is_executing": false
    }
   }
  },
  {
   "cell_type": "code",
   "execution_count": 24,
   "outputs": [
    {
     "data": {
      "text/plain": "{'min_samples_split': 6, 'n_estimators': 100}"
     },
     "metadata": {},
     "output_type": "execute_result",
     "execution_count": 24
    }
   ],
   "source": [
    "grid.best_params_"
   ],
   "metadata": {
    "collapsed": false,
    "pycharm": {
     "name": "#%%\n",
     "is_executing": false
    }
   }
  },
  {
   "cell_type": "code",
   "execution_count": 25,
   "outputs": [
    {
     "data": {
      "text/plain": "0.8067083357798499"
     },
     "metadata": {},
     "output_type": "execute_result",
     "execution_count": 25
    }
   ],
   "source": [
    "grid.best_score_"
   ],
   "metadata": {
    "collapsed": false,
    "pycharm": {
     "name": "#%%\n",
     "is_executing": false
    }
   }
  },
  {
   "cell_type": "markdown",
   "source": [
    "GridSearchCV（网络搜索交叉验证）用于系统地遍历模型的多种参数组合，通过交叉验证从而确定最佳参数，适用于小数据集。\n",
    "\n",
    "常用属性 \n",
    "\n",
    "best_score_ ：最佳模型下的分数\n",
    "\n",
    "best_params_ ：最佳模型参数\n",
    "\n",
    "grid_scores_ ：模型不同参数下交叉验证的平均分\n",
    "\n",
    "cv_results_ ： 具体用法模型不同参数下交叉验证的结果\n",
    "\n",
    "best_estimator_ : 最佳分类器之所以出现以上问题\n",
    "\n"
   ],
   "metadata": {
    "collapsed": false
   }
  }
 ],
 "metadata": {
  "kernelspec": {
   "display_name": "Python 3",
   "language": "python",
   "name": "python3"
  },
  "language_info": {
   "codemirror_mode": {
    "name": "ipython",
    "version": 3
   },
   "file_extension": ".py",
   "mimetype": "text/x-python",
   "name": "python",
   "nbconvert_exporter": "python",
   "pygments_lexer": "ipython3",
   "version": "3.7.7"
  },
  "pycharm": {
   "stem_cell": {
    "cell_type": "raw",
    "source": [],
    "metadata": {
     "collapsed": false
    }
   }
  }
 },
 "nbformat": 4,
 "nbformat_minor": 1
}