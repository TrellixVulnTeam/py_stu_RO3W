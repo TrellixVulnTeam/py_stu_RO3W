{
 "cells": [
  {
   "cell_type": "code",
   "execution_count": 1,
   "metadata": {
    "collapsed": true,
    "pycharm": {
     "name": "#%%\n"
    }
   },
   "outputs": [],
   "source": [
    "import pandas as pd\n",
    "import matplotlib.pyplot as plt\n",
    "import numpy as np\n",
    "%matplotlib inline"
   ]
  },
  {
   "cell_type": "code",
   "execution_count": 2,
   "metadata": {
    "collapsed": true,
    "pycharm": {
     "name": "#%%\n"
    }
   },
   "outputs": [],
   "source": [
    "data=pd.read_csv('creditcard.csv')"
   ]
  },
  {
   "cell_type": "code",
   "execution_count": 3,
   "metadata": {
    "pycharm": {
     "name": "#%%\n"
    }
   },
   "outputs": [
    {
     "name": "stdout",
     "output_type": "stream",
     "text": [
      "(284807, 31)\n"
     ]
    },
    {
     "data": {
      "text/html": [
       "<div>\n",
       "<style>\n",
       "    .dataframe thead tr:only-child th {\n",
       "        text-align: right;\n",
       "    }\n",
       "\n",
       "    .dataframe thead th {\n",
       "        text-align: left;\n",
       "    }\n",
       "\n",
       "    .dataframe tbody tr th {\n",
       "        vertical-align: top;\n",
       "    }\n",
       "</style>\n",
       "<table border=\"1\" class=\"dataframe\">\n",
       "  <thead>\n",
       "    <tr style=\"text-align: right;\">\n",
       "      <th></th>\n",
       "      <th>Time</th>\n",
       "      <th>V1</th>\n",
       "      <th>V2</th>\n",
       "      <th>V3</th>\n",
       "      <th>V4</th>\n",
       "      <th>V5</th>\n",
       "      <th>V6</th>\n",
       "      <th>V7</th>\n",
       "      <th>V8</th>\n",
       "      <th>V9</th>\n",
       "      <th>...</th>\n",
       "      <th>V21</th>\n",
       "      <th>V22</th>\n",
       "      <th>V23</th>\n",
       "      <th>V24</th>\n",
       "      <th>V25</th>\n",
       "      <th>V26</th>\n",
       "      <th>V27</th>\n",
       "      <th>V28</th>\n",
       "      <th>Amount</th>\n",
       "      <th>Class</th>\n",
       "    </tr>\n",
       "  </thead>\n",
       "  <tbody>\n",
       "    <tr>\n",
       "      <th>0</th>\n",
       "      <td>0.0</td>\n",
       "      <td>-1.359807</td>\n",
       "      <td>-0.072781</td>\n",
       "      <td>2.536347</td>\n",
       "      <td>1.378155</td>\n",
       "      <td>-0.338321</td>\n",
       "      <td>0.462388</td>\n",
       "      <td>0.239599</td>\n",
       "      <td>0.098698</td>\n",
       "      <td>0.363787</td>\n",
       "      <td>...</td>\n",
       "      <td>-0.018307</td>\n",
       "      <td>0.277838</td>\n",
       "      <td>-0.110474</td>\n",
       "      <td>0.066928</td>\n",
       "      <td>0.128539</td>\n",
       "      <td>-0.189115</td>\n",
       "      <td>0.133558</td>\n",
       "      <td>-0.021053</td>\n",
       "      <td>149.62</td>\n",
       "      <td>0</td>\n",
       "    </tr>\n",
       "    <tr>\n",
       "      <th>1</th>\n",
       "      <td>0.0</td>\n",
       "      <td>1.191857</td>\n",
       "      <td>0.266151</td>\n",
       "      <td>0.166480</td>\n",
       "      <td>0.448154</td>\n",
       "      <td>0.060018</td>\n",
       "      <td>-0.082361</td>\n",
       "      <td>-0.078803</td>\n",
       "      <td>0.085102</td>\n",
       "      <td>-0.255425</td>\n",
       "      <td>...</td>\n",
       "      <td>-0.225775</td>\n",
       "      <td>-0.638672</td>\n",
       "      <td>0.101288</td>\n",
       "      <td>-0.339846</td>\n",
       "      <td>0.167170</td>\n",
       "      <td>0.125895</td>\n",
       "      <td>-0.008983</td>\n",
       "      <td>0.014724</td>\n",
       "      <td>2.69</td>\n",
       "      <td>0</td>\n",
       "    </tr>\n",
       "    <tr>\n",
       "      <th>2</th>\n",
       "      <td>1.0</td>\n",
       "      <td>-1.358354</td>\n",
       "      <td>-1.340163</td>\n",
       "      <td>1.773209</td>\n",
       "      <td>0.379780</td>\n",
       "      <td>-0.503198</td>\n",
       "      <td>1.800499</td>\n",
       "      <td>0.791461</td>\n",
       "      <td>0.247676</td>\n",
       "      <td>-1.514654</td>\n",
       "      <td>...</td>\n",
       "      <td>0.247998</td>\n",
       "      <td>0.771679</td>\n",
       "      <td>0.909412</td>\n",
       "      <td>-0.689281</td>\n",
       "      <td>-0.327642</td>\n",
       "      <td>-0.139097</td>\n",
       "      <td>-0.055353</td>\n",
       "      <td>-0.059752</td>\n",
       "      <td>378.66</td>\n",
       "      <td>0</td>\n",
       "    </tr>\n",
       "    <tr>\n",
       "      <th>3</th>\n",
       "      <td>1.0</td>\n",
       "      <td>-0.966272</td>\n",
       "      <td>-0.185226</td>\n",
       "      <td>1.792993</td>\n",
       "      <td>-0.863291</td>\n",
       "      <td>-0.010309</td>\n",
       "      <td>1.247203</td>\n",
       "      <td>0.237609</td>\n",
       "      <td>0.377436</td>\n",
       "      <td>-1.387024</td>\n",
       "      <td>...</td>\n",
       "      <td>-0.108300</td>\n",
       "      <td>0.005274</td>\n",
       "      <td>-0.190321</td>\n",
       "      <td>-1.175575</td>\n",
       "      <td>0.647376</td>\n",
       "      <td>-0.221929</td>\n",
       "      <td>0.062723</td>\n",
       "      <td>0.061458</td>\n",
       "      <td>123.50</td>\n",
       "      <td>0</td>\n",
       "    </tr>\n",
       "    <tr>\n",
       "      <th>4</th>\n",
       "      <td>2.0</td>\n",
       "      <td>-1.158233</td>\n",
       "      <td>0.877737</td>\n",
       "      <td>1.548718</td>\n",
       "      <td>0.403034</td>\n",
       "      <td>-0.407193</td>\n",
       "      <td>0.095921</td>\n",
       "      <td>0.592941</td>\n",
       "      <td>-0.270533</td>\n",
       "      <td>0.817739</td>\n",
       "      <td>...</td>\n",
       "      <td>-0.009431</td>\n",
       "      <td>0.798278</td>\n",
       "      <td>-0.137458</td>\n",
       "      <td>0.141267</td>\n",
       "      <td>-0.206010</td>\n",
       "      <td>0.502292</td>\n",
       "      <td>0.219422</td>\n",
       "      <td>0.215153</td>\n",
       "      <td>69.99</td>\n",
       "      <td>0</td>\n",
       "    </tr>\n",
       "  </tbody>\n",
       "</table>\n",
       "<p>5 rows × 31 columns</p>\n",
       "</div>"
      ],
      "text/plain": [
       "   Time        V1        V2        V3        V4        V5        V6        V7  \\\n",
       "0   0.0 -1.359807 -0.072781  2.536347  1.378155 -0.338321  0.462388  0.239599   \n",
       "1   0.0  1.191857  0.266151  0.166480  0.448154  0.060018 -0.082361 -0.078803   \n",
       "2   1.0 -1.358354 -1.340163  1.773209  0.379780 -0.503198  1.800499  0.791461   \n",
       "3   1.0 -0.966272 -0.185226  1.792993 -0.863291 -0.010309  1.247203  0.237609   \n",
       "4   2.0 -1.158233  0.877737  1.548718  0.403034 -0.407193  0.095921  0.592941   \n",
       "\n",
       "         V8        V9  ...         V21       V22       V23       V24  \\\n",
       "0  0.098698  0.363787  ...   -0.018307  0.277838 -0.110474  0.066928   \n",
       "1  0.085102 -0.255425  ...   -0.225775 -0.638672  0.101288 -0.339846   \n",
       "2  0.247676 -1.514654  ...    0.247998  0.771679  0.909412 -0.689281   \n",
       "3  0.377436 -1.387024  ...   -0.108300  0.005274 -0.190321 -1.175575   \n",
       "4 -0.270533  0.817739  ...   -0.009431  0.798278 -0.137458  0.141267   \n",
       "\n",
       "        V25       V26       V27       V28  Amount  Class  \n",
       "0  0.128539 -0.189115  0.133558 -0.021053  149.62      0  \n",
       "1  0.167170  0.125895 -0.008983  0.014724    2.69      0  \n",
       "2 -0.327642 -0.139097 -0.055353 -0.059752  378.66      0  \n",
       "3  0.647376 -0.221929  0.062723  0.061458  123.50      0  \n",
       "4 -0.206010  0.502292  0.219422  0.215153   69.99      0  \n",
       "\n",
       "[5 rows x 31 columns]"
      ]
     },
     "execution_count": 3,
     "metadata": {},
     "output_type": "execute_result"
    }
   ],
   "source": [
    "print(data.shape)\n",
    "data.head()"
   ]
  },
  {
   "cell_type": "code",
   "execution_count": 4,
   "metadata": {
    "pycharm": {
     "name": "#%%\n"
    }
   },
   "outputs": [
    {
     "data": {
      "text/plain": [
       "<function numpy.core.fromnumeric.reshape>"
      ]
     },
     "execution_count": 4,
     "metadata": {},
     "output_type": "execute_result"
    }
   ],
   "source": [
    "data['Amount'].values.reshape(-1,1)\n",
    "np.reshape"
   ]
  },
  {
   "cell_type": "code",
   "execution_count": 5,
   "metadata": {
    "collapsed": true,
    "pycharm": {
     "name": "#%%\n"
    }
   },
   "outputs": [],
   "source": [
    "count_classes=pd.value_counts(data['Class'],sort=True).sort_index()"
   ]
  },
  {
   "cell_type": "code",
   "execution_count": 6,
   "metadata": {
    "pycharm": {
     "name": "#%%\n"
    }
   },
   "outputs": [
    {
     "data": {
      "text/plain": [
       "<matplotlib.text.Text at 0x7fde63b85cf8>"
      ]
     },
     "execution_count": 6,
     "metadata": {},
     "output_type": "execute_result"
    },
    {
     "data": {
      "image/png": "[encoded data removed]",
      "text/plain": [
       "<matplotlib.figure.Figure at 0x7fde7546cfd0>"
      ]
     },
     "metadata": {},
     "output_type": "display_data"
    }
   ],
   "source": [
    "count_classes.plot(kind='bar')\n",
    "plt.title(\"Fraud class histogram\")\n",
    "plt.xlabel(\"Class\")\n",
    "plt.ylabel('Frequency')"
   ]
  },
  {
   "cell_type": "code",
   "execution_count": 7,
   "metadata": {
    "collapsed": true,
    "pycharm": {
     "name": "#%%\n"
    }
   },
   "outputs": [],
   "source": [
    "\n",
    "from sklearn.preprocessing import StandardScaler\n",
    "data['normAmount']=StandardScaler().fit_transform(data['Amount'].values.reshape(-1,1))\n",
    "data=data.drop(['Time','Amount'],axis=1)"
   ]
  },
  {
   "cell_type": "code",
   "execution_count": 8,
   "metadata": {
    "pycharm": {
     "name": "#%%\n"
    }
   },
   "outputs": [
    {
     "data": {
      "text/html": [
       "<div>\n",
       "<style>\n",
       "    .dataframe thead tr:only-child th {\n",
       "        text-align: right;\n",
       "    }\n",
       "\n",
       "    .dataframe thead th {\n",
       "        text-align: left;\n",
       "    }\n",
       "\n",
       "    .dataframe tbody tr th {\n",
       "        vertical-align: top;\n",
       "    }\n",
       "</style>\n",
       "<table border=\"1\" class=\"dataframe\">\n",
       "  <thead>\n",
       "    <tr style=\"text-align: right;\">\n",
       "      <th></th>\n",
       "      <th>V1</th>\n",
       "      <th>V2</th>\n",
       "      <th>V3</th>\n",
       "      <th>V4</th>\n",
       "      <th>V5</th>\n",
       "      <th>V6</th>\n",
       "      <th>V7</th>\n",
       "      <th>V8</th>\n",
       "      <th>V9</th>\n",
       "      <th>V10</th>\n",
       "      <th>...</th>\n",
       "      <th>V21</th>\n",
       "      <th>V22</th>\n",
       "      <th>V23</th>\n",
       "      <th>V24</th>\n",
       "      <th>V25</th>\n",
       "      <th>V26</th>\n",
       "      <th>V27</th>\n",
       "      <th>V28</th>\n",
       "      <th>Class</th>\n",
       "      <th>normAmount</th>\n",
       "    </tr>\n",
       "  </thead>\n",
       "  <tbody>\n",
       "    <tr>\n",
       "      <th>0</th>\n",
       "      <td>-1.359807</td>\n",
       "      <td>-0.072781</td>\n",
       "      <td>2.536347</td>\n",
       "      <td>1.378155</td>\n",
       "      <td>-0.338321</td>\n",
       "      <td>0.462388</td>\n",
       "      <td>0.239599</td>\n",
       "      <td>0.098698</td>\n",
       "      <td>0.363787</td>\n",
       "      <td>0.090794</td>\n",
       "      <td>...</td>\n",
       "      <td>-0.018307</td>\n",
       "      <td>0.277838</td>\n",
       "      <td>-0.110474</td>\n",
       "      <td>0.066928</td>\n",
       "      <td>0.128539</td>\n",
       "      <td>-0.189115</td>\n",
       "      <td>0.133558</td>\n",
       "      <td>-0.021053</td>\n",
       "      <td>0</td>\n",
       "      <td>0.244964</td>\n",
       "    </tr>\n",
       "    <tr>\n",
       "      <th>1</th>\n",
       "      <td>1.191857</td>\n",
       "      <td>0.266151</td>\n",
       "      <td>0.166480</td>\n",
       "      <td>0.448154</td>\n",
       "      <td>0.060018</td>\n",
       "      <td>-0.082361</td>\n",
       "      <td>-0.078803</td>\n",
       "      <td>0.085102</td>\n",
       "      <td>-0.255425</td>\n",
       "      <td>-0.166974</td>\n",
       "      <td>...</td>\n",
       "      <td>-0.225775</td>\n",
       "      <td>-0.638672</td>\n",
       "      <td>0.101288</td>\n",
       "      <td>-0.339846</td>\n",
       "      <td>0.167170</td>\n",
       "      <td>0.125895</td>\n",
       "      <td>-0.008983</td>\n",
       "      <td>0.014724</td>\n",
       "      <td>0</td>\n",
       "      <td>-0.342475</td>\n",
       "    </tr>\n",
       "    <tr>\n",
       "      <th>2</th>\n",
       "      <td>-1.358354</td>\n",
       "      <td>-1.340163</td>\n",
       "      <td>1.773209</td>\n",
       "      <td>0.379780</td>\n",
       "      <td>-0.503198</td>\n",
       "      <td>1.800499</td>\n",
       "      <td>0.791461</td>\n",
       "      <td>0.247676</td>\n",
       "      <td>-1.514654</td>\n",
       "      <td>0.207643</td>\n",
       "      <td>...</td>\n",
       "      <td>0.247998</td>\n",
       "      <td>0.771679</td>\n",
       "      <td>0.909412</td>\n",
       "      <td>-0.689281</td>\n",
       "      <td>-0.327642</td>\n",
       "      <td>-0.139097</td>\n",
       "      <td>-0.055353</td>\n",
       "      <td>-0.059752</td>\n",
       "      <td>0</td>\n",
       "      <td>1.160686</td>\n",
       "    </tr>\n",
       "    <tr>\n",
       "      <th>3</th>\n",
       "      <td>-0.966272</td>\n",
       "      <td>-0.185226</td>\n",
       "      <td>1.792993</td>\n",
       "      <td>-0.863291</td>\n",
       "      <td>-0.010309</td>\n",
       "      <td>1.247203</td>\n",
       "      <td>0.237609</td>\n",
       "      <td>0.377436</td>\n",
       "      <td>-1.387024</td>\n",
       "      <td>-0.054952</td>\n",
       "      <td>...</td>\n",
       "      <td>-0.108300</td>\n",
       "      <td>0.005274</td>\n",
       "      <td>-0.190321</td>\n",
       "      <td>-1.175575</td>\n",
       "      <td>0.647376</td>\n",
       "      <td>-0.221929</td>\n",
       "      <td>0.062723</td>\n",
       "      <td>0.061458</td>\n",
       "      <td>0</td>\n",
       "      <td>0.140534</td>\n",
       "    </tr>\n",
       "    <tr>\n",
       "      <th>4</th>\n",
       "      <td>-1.158233</td>\n",
       "      <td>0.877737</td>\n",
       "      <td>1.548718</td>\n",
       "      <td>0.403034</td>\n",
       "      <td>-0.407193</td>\n",
       "      <td>0.095921</td>\n",
       "      <td>0.592941</td>\n",
       "      <td>-0.270533</td>\n",
       "      <td>0.817739</td>\n",
       "      <td>0.753074</td>\n",
       "      <td>...</td>\n",
       "      <td>-0.009431</td>\n",
       "      <td>0.798278</td>\n",
       "      <td>-0.137458</td>\n",
       "      <td>0.141267</td>\n",
       "      <td>-0.206010</td>\n",
       "      <td>0.502292</td>\n",
       "      <td>0.219422</td>\n",
       "      <td>0.215153</td>\n",
       "      <td>0</td>\n",
       "      <td>-0.073403</td>\n",
       "    </tr>\n",
       "  </tbody>\n",
       "</table>\n",
       "<p>5 rows × 30 columns</p>\n",
       "</div>"
      ],
      "text/plain": [
       "         V1        V2        V3        V4        V5        V6        V7  \\\n",
       "0 -1.359807 -0.072781  2.536347  1.378155 -0.338321  0.462388  0.239599   \n",
       "1  1.191857  0.266151  0.166480  0.448154  0.060018 -0.082361 -0.078803   \n",
       "2 -1.358354 -1.340163  1.773209  0.379780 -0.503198  1.800499  0.791461   \n",
       "3 -0.966272 -0.185226  1.792993 -0.863291 -0.010309  1.247203  0.237609   \n",
       "4 -1.158233  0.877737  1.548718  0.403034 -0.407193  0.095921  0.592941   \n",
       "\n",
       "         V8        V9       V10     ...           V21       V22       V23  \\\n",
       "0  0.098698  0.363787  0.090794     ...     -0.018307  0.277838 -0.110474   \n",
       "1  0.085102 -0.255425 -0.166974     ...     -0.225775 -0.638672  0.101288   \n",
       "2  0.247676 -1.514654  0.207643     ...      0.247998  0.771679  0.909412   \n",
       "3  0.377436 -1.387024 -0.054952     ...     -0.108300  0.005274 -0.190321   \n",
       "4 -0.270533  0.817739  0.753074     ...     -0.009431  0.798278 -0.137458   \n",
       "\n",
       "        V24       V25       V26       V27       V28  Class  normAmount  \n",
       "0  0.066928  0.128539 -0.189115  0.133558 -0.021053      0    0.244964  \n",
       "1 -0.339846  0.167170  0.125895 -0.008983  0.014724      0   -0.342475  \n",
       "2 -0.689281 -0.327642 -0.139097 -0.055353 -0.059752      0    1.160686  \n",
       "3 -1.175575  0.647376 -0.221929  0.062723  0.061458      0    0.140534  \n",
       "4  0.141267 -0.206010  0.502292  0.219422  0.215153      0   -0.073403  \n",
       "\n",
       "[5 rows x 30 columns]"
      ]
     },
     "execution_count": 8,
     "metadata": {},
     "output_type": "execute_result"
    }
   ],
   "source": [
    "data.head()"
   ]
  },
  {
   "cell_type": "code",
   "execution_count": 9,
   "metadata": {
    "collapsed": true,
    "pycharm": {
     "name": "#%%\n"
    }
   },
   "outputs": [],
   "source": [
    "# print(data.columns != 'Class')\n",
    "# print(data.columns)\n",
    "X=data.loc[:,data.columns!='Class']\n",
    "y=data.loc[:,data.columns=='Class']"
   ]
  },
  {
   "cell_type": "code",
   "execution_count": 10,
   "metadata": {
    "pycharm": {
     "name": "#%%\n"
    }
   },
   "outputs": [
    {
     "name": "stdout",
     "output_type": "stream",
     "text": [
      "492\n"
     ]
    }
   ],
   "source": [
    "number_records_fraud=len(data[data.Class==1])\n",
    "print(number_records_fraud)"
   ]
  },
  {
   "cell_type": "code",
   "execution_count": 11,
   "metadata": {
    "pycharm": {
     "name": "#%%\n"
    }
   },
   "outputs": [
    {
     "data": {
      "text/plain": [
       "(492,)"
      ]
     },
     "execution_count": 11,
     "metadata": {},
     "output_type": "execute_result"
    }
   ],
   "source": [
    "fraud_indices=np.array(data[data.Class==1].index)\n",
    "fraud_indices.shape"
   ]
  },
  {
   "cell_type": "code",
   "execution_count": 12,
   "metadata": {
    "pycharm": {
     "name": "#%%\n"
    }
   },
   "outputs": [
    {
     "name": "stdout",
     "output_type": "stream",
     "text": [
      "(284315,)\n",
      "<class 'pandas.core.indexes.numeric.Int64Index'>\n"
     ]
    }
   ],
   "source": [
    "normal_indices=data[data.Class==0].index\n",
    "print(normal_indices.shape)\n",
    "print(type(normal_indices))"
   ]
  },
  {
   "cell_type": "code",
   "execution_count": 13,
   "metadata": {
    "pycharm": {
     "name": "#%%\n"
    }
   },
   "outputs": [
    {
     "name": "stdout",
     "output_type": "stream",
     "text": [
      "<class 'numpy.ndarray'>\n",
      "(492,)\n"
     ]
    }
   ],
   "source": [
    "\n",
    "random_normal_indices=np.random.choice(\n",
    "    normal_indices,number_records_fraud,replace=False)\n",
    "print(type(random_normal_indices) )\n",
    "print(random_normal_indices.shape)\n"
   ]
  },
  {
   "cell_type": "code",
   "execution_count": 14,
   "metadata": {
    "pycharm": {
     "name": "#%%\n"
    }
   },
   "outputs": [
    {
     "name": "stdout",
     "output_type": "stream",
     "text": [
      "<class 'numpy.ndarray'>\n",
      "(492,)\n"
     ]
    }
   ],
   "source": [
    "random_normal_indices=np.array(random_normal_indices)\n",
    "print(type(random_normal_indices))\n",
    "print(random_normal_indices.shape)"
   ]
  },
  {
   "cell_type": "code",
   "execution_count": 15,
   "metadata": {
    "collapsed": true,
    "pycharm": {
     "name": "#%%\n"
    }
   },
   "outputs": [],
   "source": [
    "under_sample_indices=np.concatenate([fraud_indices,random_normal_indices])"
   ]
  },
  {
   "cell_type": "code",
   "execution_count": 16,
   "metadata": {
    "pycharm": {
     "name": "#%%\n"
    }
   },
   "outputs": [
    {
     "name": "stdout",
     "output_type": "stream",
     "text": [
      "1111111111111111111111111111111111111111111111111111111111111111111111111111111111111111111111111111\n",
      "<class 'numpy.ndarray'>\n",
      "(984,)\n",
      "[ 541  623 4920 6108 6329]\n"
     ]
    }
   ],
   "source": [
    "print('1'*100)\n",
    "print(type(under_sample_indices))\n",
    "print(under_sample_indices.shape)\n",
    "print(under_sample_indices[:5])\n"
   ]
  },
  {
   "cell_type": "code",
   "execution_count": 17,
   "metadata": {
    "pycharm": {
     "name": "#%%\n"
    }
   },
   "outputs": [
    {
     "name": "stdout",
     "output_type": "stream",
     "text": [
      "(984, 30)\n",
      "(984, 29)\n",
      "(984, 1)\n"
     ]
    }
   ],
   "source": [
    "under_sample_data=data.iloc[under_sample_indices,:]\n",
    "X_undersample=under_sample_data.loc[:,under_sample_data.columns!='Class'] \n",
    "y_undersample=under_sample_data.loc[:,under_sample_data.columns=='Class']\n",
    "print(under_sample_data.values.shape)\n",
    "print(X_undersample.values.shape)\n",
    "print(y_undersample.values.shape)"
   ]
  },
  {
   "cell_type": "code",
   "execution_count": 18,
   "metadata": {
    "pycharm": {
     "name": "#%%\n"
    }
   },
   "outputs": [
    {
     "name": "stdout",
     "output_type": "stream",
     "text": [
      "Percentage of normal transaction: 0.5\n",
      "Percentage of fraud transactions: 0.5\n",
      "Total number of transactions in resampled data: 984\n"
     ]
    }
   ],
   "source": [
    "print('Percentage of normal transaction:',len(under_sample_data[under_sample_data.Class==0])/len(under_sample_data))\n",
    "print('Percentage of fraud transactions:',len(under_sample_data[under_sample_data.Class==1])/len(under_sample_data))\n",
    "print('Total number of transactions in resampled data:',len(under_sample_data))"
   ]
  },
  {
   "cell_type": "code",
   "execution_count": 19,
   "metadata": {
    "collapsed": true,
    "pycharm": {
     "name": "#%%\n"
    }
   },
   "outputs": [],
   "source": [
    "from sklearn.model_selection import train_test_split\n",
    "X_train,X_test,y_train,y_test=train_test_split(X,y,test_size=0.3,random_state=0)"
   ]
  },
  {
   "cell_type": "code",
   "execution_count": 20,
   "metadata": {
    "pycharm": {
     "name": "#%%\n"
    }
   },
   "outputs": [
    {
     "name": "stdout",
     "output_type": "stream",
     "text": [
      "(199364, 29)\n",
      "(85443, 29)\n",
      "(199364, 1)\n",
      "(85443, 1)\n"
     ]
    }
   ],
   "source": [
    "print(X_train.shape)\n",
    "print(X_test.shape)\n",
    "print(y_train.shape)\n",
    "print(y_test.shape)\n"
   ]
  },
  {
   "cell_type": "code",
   "execution_count": 21,
   "metadata": {
    "collapsed": true,
    "pycharm": {
     "name": "#%%\n"
    }
   },
   "outputs": [],
   "source": [
    "X_train_undersample,X_test_undersample,y_train_undersample,y_test_undersample=train_test_split(\n",
    "    X_undersample,\n",
    "    y_undersample,\n",
    "    test_size=0.3,\n",
    "    random_state=0\n",
    ")"
   ]
  },
  {
   "cell_type": "code",
   "execution_count": 22,
   "metadata": {
    "pycharm": {
     "name": "#%%\n"
    }
   },
   "outputs": [
    {
     "name": "stdout",
     "output_type": "stream",
     "text": [
      "(688, 29)\n",
      "(296, 29)\n",
      "(688, 1)\n",
      "(296, 1)\n"
     ]
    }
   ],
   "source": [
    "print(X_train_undersample.shape)\n",
    "print(X_test_undersample.shape)\n",
    "print(y_train_undersample.shape)\n",
    "print(y_test_undersample.shape)"
   ]
  },
  {
   "cell_type": "code",
   "execution_count": 23,
   "metadata": {
    "pycharm": {
     "name": "#%%\n"
    }
   },
   "outputs": [
    {
     "name": "stdout",
     "output_type": "stream",
     "text": [
      "Number transactions train dataset: 199364\n",
      "Number transactions test dataset: 85443\n",
      "Total number of transactions: 284807\n",
      "\n"
     ]
    }
   ],
   "source": [
    "print('Number transactions train dataset:',len(X_train))\n",
    "print('Number transactions test dataset:',len(X_test))\n",
    "print('Total number of transactions:',len(X_train)+len(X_test ))\n",
    "print(\"\")"
   ]
  },
  {
   "cell_type": "code",
   "execution_count": 24,
   "metadata": {
    "pycharm": {
     "name": "#%%\n"
    }
   },
   "outputs": [
    {
     "name": "stdout",
     "output_type": "stream",
     "text": [
      "Number transactions train dataset:  688\n",
      "Number transactions test dataset:  296\n",
      "Total number of transactions 984\n"
     ]
    }
   ],
   "source": [
    "\n",
    "print('Number transactions train dataset: ',len(X_train_undersample))\n",
    "print('Number transactions test dataset: ',len(X_test_undersample))\n",
    "print('Total number of transactions',len(X_train_undersample)+len(X_test_undersample))"
   ]
  },
  {
   "cell_type": "code",
   "execution_count": 25,
   "metadata": {
    "collapsed": true,
    "pycharm": {
     "name": "#%%\n"
    }
   },
   "outputs": [],
   "source": [
    "from sklearn.linear_model import LogisticRegression\n",
    "from sklearn.model_selection import KFold,cross_val_score\n",
    "from sklearn.metrics import confusion_matrix,recall_score,classification_report"
   ]
  },
  {
   "cell_type": "code",
   "execution_count": 26,
   "metadata": {
    "collapsed": true,
    "pycharm": {
     "name": "#%%\n"
    }
   },
   "outputs": [],
   "source": [
    "\n",
    "def printing_Kfold_scores(x_train_data,y_train_data):\n",
    "    fold=KFold(5,shuffle=False)\n",
    "    print('2'*100)\n",
    "    print(type(fold))\n",
    "    # Different C parameters \n",
    "    c_param_range=[0.01,0.1,1,10,100]\n",
    "    results_table=pd.DataFrame(index=range(len(c_param_range),2),columns=['C_parameter','Mean recall score'])\n",
    "    print(results_table.info())\n",
    "    print(results_table.shape)\n",
    "    results_table['C_parameter']=c_param_range\n",
    "    print(results_table.info())\n",
    "    # the k-fold will give 2 lists train_indices=indices[0],test_indices=indices[1]\n",
    "    j=0\n",
    "    for c_param in c_param_range:\n",
    "        print('-'*50)\n",
    "        print('C parameter:',c_param)\n",
    "        print('-'*50)\n",
    "        print('')\n",
    "        recall_accs=[]\n",
    "        print(x_train_data.shape)\n",
    "        print(fold.split(x_train_data))\n",
    "        for iteration,indices in enumerate(fold.split(x_train_data)):\n",
    "            print(type(iteration))\n",
    "            print(len(indices))\n",
    "        #     call the logistic regression model with a certain C parameter \n",
    "            lr=LogisticRegression(C=c_param,penalty='l1',solver='liblinear')\n",
    "            lr.fit(x_train_data.iloc[indices[0],:],y_train_data.iloc[indices[0],:].values.ravel())\n",
    "            y_pred_undersample=lr.predict(x_train_data.iloc[indices[1],:].values)\n",
    "            recall_acc=recall_score(y_train_data.iloc[indices[1],:].values,y_pred_undersample)\n",
    "            recall_accs.append(recall_acc)\n",
    "            print('Iteration  ',iteration,': recall score =',recall_acc)\n",
    "        print('recall_accs{}'.format(recall_acc))\n",
    "        results_table.loc[j:'Mean recall score ']=np.mean(recall_accs)\n",
    "        j+=1\n",
    "        print('')\n",
    "        print('Mean recall score' ,np.mean(recall_accs))\n",
    "        print('')\n",
    "    print('3'*100)\n",
    "    print(results_table)\n",
    "    best_c=results_table.loc[results_table['Mean recall score'].idxmax()]['C_parameter']\n",
    "    print('*'*100)\n",
    "    print('Best model to choose from cross validation is with C parameter =',best_c)\n",
    "    print('*'*100)\n",
    "    return best_c"
   ]
  },
  {
   "cell_type": "code",
   "execution_count": 27,
   "metadata": {
    "pycharm": {
     "name": "#%%\n"
    }
   },
   "outputs": [
    {
     "name": "stdout",
     "output_type": "stream",
     "text": [
      "2222222222222222222222222222222222222222222222222222222222222222222222222222222222222222222222222222\n",
      "<class 'sklearn.model_selection._split.KFold'>\n",
      "<class 'pandas.core.frame.DataFrame'>\n",
      "RangeIndex: 0 entries\n",
      "Data columns (total 2 columns):\n",
      "C_parameter          0 non-null object\n",
      "Mean recall score    0 non-null object\n",
      "dtypes: object(2)\n",
      "memory usage: 84.0+ bytes\n",
      "None\n",
      "(0, 2)\n",
      "<class 'pandas.core.frame.DataFrame'>\n",
      "RangeIndex: 5 entries, 0 to 4\n",
      "Data columns (total 2 columns):\n",
      "C_parameter          5 non-null float64\n",
      "Mean recall score    0 non-null object\n",
      "dtypes: float64(1), object(1)\n",
      "memory usage: 160.0+ bytes\n",
      "None\n",
      "--------------------------------------------------\n",
      "C parameter: 0.01\n",
      "--------------------------------------------------\n",
      "\n",
      "(688, 29)\n",
      "<generator object _BaseKFold.split at 0x7fde55060a40>\n",
      "<class 'int'>\n",
      "2\n",
      "Iteration   0 : recall score = 0.958904109589041\n",
      "<class 'int'>\n",
      "2\n",
      "Iteration   1 : recall score = 0.9178082191780822\n",
      "<class 'int'>\n",
      "2\n",
      "Iteration   2 : recall score = 1.0\n",
      "<class 'int'>\n",
      "2\n",
      "Iteration   3 : recall score = 0.9459459459459459\n",
      "<class 'int'>\n",
      "2\n",
      "Iteration   4 : recall score = 0.9696969696969697\n",
      "recall_accs0.9696969696969697\n",
      "\n",
      "Mean recall score 0.9584710488820078\n",
      "\n",
      "--------------------------------------------------\n",
      "C parameter: 0.1\n",
      "--------------------------------------------------\n",
      "\n",
      "(688, 29)\n",
      "<generator object _BaseKFold.split at 0x7fde55060830>\n",
      "<class 'int'>\n",
      "2\n",
      "Iteration   0 : recall score = 0.8493150684931506\n",
      "<class 'int'>\n",
      "2\n",
      "Iteration   1 : recall score = 0.863013698630137\n",
      "<class 'int'>\n",
      "2\n",
      "Iteration   2 : recall score = 0.9322033898305084\n",
      "<class 'int'>\n",
      "2\n",
      "Iteration   3 : recall score = 0.9324324324324325\n",
      "<class 'int'>\n",
      "2\n",
      "Iteration   4 : recall score = 0.9090909090909091\n",
      "recall_accs0.9090909090909091\n",
      "\n",
      "Mean recall score 0.8972110996954274\n",
      "\n",
      "--------------------------------------------------\n",
      "C parameter: 1\n",
      "--------------------------------------------------\n",
      "\n",
      "(688, 29)\n",
      "<generator object _BaseKFold.split at 0x7fde55060888>\n",
      "<class 'int'>\n",
      "2\n",
      "Iteration   0 : recall score = 0.863013698630137\n",
      "<class 'int'>\n",
      "2\n",
      "Iteration   1 : recall score = 0.9041095890410958\n",
      "<class 'int'>\n",
      "2\n",
      "Iteration   2 : recall score = 0.9491525423728814\n",
      "<class 'int'>\n",
      "2\n",
      "Iteration   3 : recall score = 0.9324324324324325\n",
      "<class 'int'>\n",
      "2\n",
      "Iteration   4 : recall score = 0.9090909090909091\n",
      "recall_accs0.9090909090909091\n",
      "\n",
      "Mean recall score 0.9115598343134911\n",
      "\n",
      "--------------------------------------------------\n",
      "C parameter: 10\n",
      "--------------------------------------------------\n",
      "\n",
      "(688, 29)\n",
      "<generator object _BaseKFold.split at 0x7fde55060728>\n",
      "<class 'int'>\n",
      "2\n",
      "Iteration   0 : recall score = 0.8493150684931506\n",
      "<class 'int'>\n",
      "2\n",
      "Iteration   1 : recall score = 0.8904109589041096\n",
      "<class 'int'>\n",
      "2\n",
      "Iteration   2 : recall score = 0.9661016949152542\n",
      "<class 'int'>\n",
      "2\n",
      "Iteration   3 : recall score = 0.9324324324324325\n",
      "<class 'int'>\n",
      "2\n",
      "Iteration   4 : recall score = 0.9242424242424242\n",
      "recall_accs0.9242424242424242\n",
      "\n",
      "Mean recall score 0.9125005157974743\n",
      "\n",
      "--------------------------------------------------\n",
      "C parameter: 100\n",
      "--------------------------------------------------\n",
      "\n",
      "(688, 29)\n",
      "<generator object _BaseKFold.split at 0x7fde55060938>\n",
      "<class 'int'>\n",
      "2\n",
      "Iteration   0 : recall score = 0.8493150684931506\n",
      "<class 'int'>\n",
      "2\n",
      "Iteration   1 : recall score = 0.9041095890410958\n",
      "<class 'int'>\n",
      "2\n",
      "Iteration   2 : recall score = 0.9661016949152542\n",
      "<class 'int'>\n",
      "2\n",
      "Iteration   3 : recall score = 0.9324324324324325\n",
      "<class 'int'>\n",
      "2\n",
      "Iteration   4 : recall score = 0.9393939393939394\n",
      "recall_accs0.9393939393939394\n",
      "\n",
      "Mean recall score 0.9182705448551746\n",
      "\n",
      "3333333333333333333333333333333333333333333333333333333333333333333333333333333333333333333333333333\n",
      "   C_parameter  Mean recall score\n",
      "0     0.958471           0.958471\n",
      "1     0.897211           0.897211\n",
      "2     0.911560           0.911560\n",
      "3     0.912501           0.912501\n",
      "4     0.918271           0.918271\n",
      "****************************************************************************************************\n",
      "Best model to choose from cross validation is with C parameter = 0.9584710488820078\n",
      "****************************************************************************************************\n"
     ]
    }
   ],
   "source": [
    "best_c=printing_Kfold_scores(X_train_undersample,y_train_undersample)"
   ]
  },
  {
   "cell_type": "code",
   "execution_count": 28,
   "metadata": {
    "collapsed": true,
    "pycharm": {
     "name": "#%%\n"
    }
   },
   "outputs": [],
   "source": [
    "import itertools\n",
    "def plot_confusion_matrix(cm,classes,title='Confusion matrix',cmap=plt.cm.Blues):\n",
    "    '''\n",
    "    This function prints and plots the confusion matrix\n",
    "    '''\n",
    "    plt.imshow(cm,interpolation='nearest',cmap=cmap) \n",
    "    plt.title(title)\n",
    "    plt.colorbar()\n",
    "    tick_marks=np.arange(len(classes))\n",
    "    plt.xticks(tick_marks,classes,rotation=0)\n",
    "    plt.yticks(tick_marks,classes)\n",
    "    thresh=cm.max()/2\n",
    "    for i,j in itertools.product(range(cm.shape[0]),range(cm.shape[1])):\n",
    "        plt.text(j,i,cm[i,j],horizontalalignment='center'\n",
    "                )\n",
    "    plt.tight_layout()\n",
    "    plt.ylabel('True label')\n",
    "    plt.xlabel('Predicted label')"
   ]
  },
  {
   "cell_type": "code",
   "execution_count": 42,
   "metadata": {
    "pycharm": {
     "name": "#%%\n"
    }
   },
   "outputs": [
    {
     "name": "stdout",
     "output_type": "stream",
     "text": [
      "Recall metrix in the testing dataset:  0.9251700680272109\n"
     ]
    },
    {
     "data": {
      "image/png": "[encoded data removed]",
      "text/plain": [
       "<matplotlib.figure.Figure at 0x7fde3f4b47f0>"
      ]
     },
     "metadata": {},
     "output_type": "display_data"
    }
   ],
   "source": [
    "lr=LogisticRegression(C=best_c,penalty='l1',solver='liblinear')\n",
    "lr.fit(X_train_undersample,y_train_undersample.values.ravel())\n",
    "y_pred_undersample=lr.predict(X_test_undersample.values)\n",
    "# print(y_pred_undersample)\n",
    "# print(y_test_undersample) \n",
    "cnf_matrix=confusion_matrix(y_test_undersample,y_pred_undersample)\n",
    "# print(cnf_matrix)\n",
    "np.set_printoptions(precision=2)\n",
    "print('Recall metrix in the testing dataset: ',cnf_matrix[1,1]/(cnf_matrix[1,0]+cnf_matrix[1,1]))\n",
    "class_names=[0,1]\n",
    "plt.figure()\n",
    "plot_confusion_matrix(cnf_matrix ,\n",
    "                      classes=class_names,\n",
    "                      title='Confusion matrix' )\n",
    "plt.show()\n"
   ]
  },
  {
   "cell_type": "code",
   "execution_count": 43,
   "metadata": {
    "pycharm": {
     "name": "#%%\n"
    }
   },
   "outputs": [
    {
     "name": "stdout",
     "output_type": "stream",
     "text": [
      "Recall metrix in the testing dataset: 0.9251700680272109\n"
     ]
    },
    {
     "data": {
      "image/png": "[encoded data removed]",
      "text/plain": [
       "<matplotlib.figure.Figure at 0x7fde550a9b38>"
      ]
     },
     "metadata": {},
     "output_type": "display_data"
    }
   ],
   "source": [
    "lr=LogisticRegression(C=best_c,penalty='l1',solver='liblinear')\n",
    "lr.fit(X_train_undersample,y_train_undersample.values.ravel())\n",
    "y_pred=lr.predict(X_test.values)\n",
    "cnf_matrix=confusion_matrix(y_test,y_pred)\n",
    "np.set_printoptions(precision=2)\n",
    "print(\"Recall metrix in the testing dataset:\",cnf_matrix[1,1]/(cnf_matrix[1,0]+cnf_matrix[1,1]))\n",
    "class_names=[0,1]\n",
    "plt.figure()\n",
    "plot_confusion_matrix(cnf_matrix,\n",
    "                     classes=class_names,\n",
    "                     title='Confusion matrix')\n",
    "plt.show()\n"
   ]
  },
  {
   "cell_type": "code",
   "execution_count": 44,
   "metadata": {
    "pycharm": {
     "name": "#%%\n"
    }
   },
   "outputs": [
    {
     "name": "stdout",
     "output_type": "stream",
     "text": [
      "2222222222222222222222222222222222222222222222222222222222222222222222222222222222222222222222222222\n",
      "<class 'sklearn.model_selection._split.KFold'>\n",
      "<class 'pandas.core.frame.DataFrame'>\n",
      "RangeIndex: 0 entries\n",
      "Data columns (total 2 columns):\n",
      "C_parameter          0 non-null object\n",
      "Mean recall score    0 non-null object\n",
      "dtypes: object(2)\n",
      "memory usage: 84.0+ bytes\n",
      "None\n",
      "(0, 2)\n",
      "<class 'pandas.core.frame.DataFrame'>\n",
      "RangeIndex: 5 entries, 0 to 4\n",
      "Data columns (total 2 columns):\n",
      "C_parameter          5 non-null float64\n",
      "Mean recall score    0 non-null object\n",
      "dtypes: float64(1), object(1)\n",
      "memory usage: 160.0+ bytes\n",
      "None\n",
      "--------------------------------------------------\n",
      "C parameter: 0.01\n",
      "--------------------------------------------------\n",
      "\n",
      "(199364, 29)\n",
      "<generator object _BaseKFold.split at 0x7fde3fd7ea40>\n",
      "<class 'int'>\n",
      "2\n",
      "Iteration   0 : recall score = 0.4925373134328358\n",
      "<class 'int'>\n",
      "2\n",
      "Iteration   1 : recall score = 0.6027397260273972\n",
      "<class 'int'>\n",
      "2\n",
      "Iteration   2 : recall score = 0.6833333333333333\n",
      "<class 'int'>\n",
      "2\n",
      "Iteration   3 : recall score = 0.5692307692307692\n",
      "<class 'int'>\n",
      "2\n",
      "Iteration   4 : recall score = 0.45\n",
      "recall_accs0.45\n",
      "\n",
      "Mean recall score 0.5595682284048672\n",
      "\n",
      "--------------------------------------------------\n",
      "C parameter: 0.1\n",
      "--------------------------------------------------\n",
      "\n",
      "(199364, 29)\n",
      "<generator object _BaseKFold.split at 0x7fde550b5bf8>\n",
      "<class 'int'>\n",
      "2\n",
      "Iteration   0 : recall score = 0.5671641791044776\n",
      "<class 'int'>\n",
      "2\n",
      "Iteration   1 : recall score = 0.6164383561643836\n",
      "<class 'int'>\n",
      "2\n",
      "Iteration   2 : recall score = 0.6833333333333333\n",
      "<class 'int'>\n",
      "2\n",
      "Iteration   3 : recall score = 0.5846153846153846\n",
      "<class 'int'>\n",
      "2\n",
      "Iteration   4 : recall score = 0.525\n",
      "recall_accs0.525\n",
      "\n",
      "Mean recall score 0.5953102506435158\n",
      "\n",
      "--------------------------------------------------\n",
      "C parameter: 1\n",
      "--------------------------------------------------\n",
      "\n",
      "(199364, 29)\n",
      "<generator object _BaseKFold.split at 0x7fde3fd7e938>\n",
      "<class 'int'>\n",
      "2\n",
      "Iteration   0 : recall score = 0.5522388059701493\n",
      "<class 'int'>\n",
      "2\n",
      "Iteration   1 : recall score = 0.6164383561643836\n",
      "<class 'int'>\n",
      "2\n",
      "Iteration   2 : recall score = 0.7166666666666667\n",
      "<class 'int'>\n",
      "2\n",
      "Iteration   3 : recall score = 0.6153846153846154\n",
      "<class 'int'>\n",
      "2\n",
      "Iteration   4 : recall score = 0.5625\n",
      "recall_accs0.5625\n",
      "\n",
      "Mean recall score 0.612645688837163\n",
      "\n",
      "--------------------------------------------------\n",
      "C parameter: 10\n",
      "--------------------------------------------------\n",
      "\n",
      "(199364, 29)\n",
      "<generator object _BaseKFold.split at 0x7fde550b5bf8>\n",
      "<class 'int'>\n",
      "2\n",
      "Iteration   0 : recall score = 0.5522388059701493\n",
      "<class 'int'>\n",
      "2\n",
      "Iteration   1 : recall score = 0.6164383561643836\n",
      "<class 'int'>\n",
      "2\n",
      "Iteration   2 : recall score = 0.7333333333333333\n",
      "<class 'int'>\n",
      "2\n",
      "Iteration   3 : recall score = 0.6153846153846154\n",
      "<class 'int'>\n",
      "2\n",
      "Iteration   4 : recall score = 0.575\n",
      "recall_accs0.575\n",
      "\n",
      "Mean recall score 0.6184790221704963\n",
      "\n",
      "--------------------------------------------------\n",
      "C parameter: 100\n",
      "--------------------------------------------------\n",
      "\n",
      "(199364, 29)\n",
      "<generator object _BaseKFold.split at 0x7fde3fd7ea40>\n",
      "<class 'int'>\n",
      "2\n",
      "Iteration   0 : recall score = 0.5522388059701493\n",
      "<class 'int'>\n",
      "2\n",
      "Iteration   1 : recall score = 0.6164383561643836\n",
      "<class 'int'>\n",
      "2\n",
      "Iteration   2 : recall score = 0.7333333333333333\n",
      "<class 'int'>\n",
      "2\n",
      "Iteration   3 : recall score = 0.6153846153846154\n",
      "<class 'int'>\n",
      "2\n",
      "Iteration   4 : recall score = 0.575\n",
      "recall_accs0.575\n",
      "\n",
      "Mean recall score 0.6184790221704963\n",
      "\n",
      "3333333333333333333333333333333333333333333333333333333333333333333333333333333333333333333333333333\n",
      "   C_parameter  Mean recall score\n",
      "0     0.559568           0.559568\n",
      "1     0.595310           0.595310\n",
      "2     0.612646           0.612646\n",
      "3     0.618479           0.618479\n",
      "4     0.618479           0.618479\n",
      "****************************************************************************************************\n",
      "Best model to choose from cross validation is with C parameter = 0.6184790221704963\n",
      "****************************************************************************************************\n"
     ]
    }
   ],
   "source": [
    "best_c=printing_Kfold_scores(X_train,y_train)\n"
   ]
  },
  {
   "cell_type": "code",
   "execution_count": 45,
   "metadata": {
    "pycharm": {
     "name": "#%%\n"
    }
   },
   "outputs": [
    {
     "name": "stdout",
     "output_type": "stream",
     "text": [
      "Recall metrix in the testing dataset : 0.6190476190476191\n"
     ]
    },
    {
     "data": {
      "image/png": "[encoded data removed]",
      "text/plain": [
       "<matplotlib.figure.Figure at 0x7fde5529ae48>"
      ]
     },
     "metadata": {},
     "output_type": "display_data"
    }
   ],
   "source": [
    "lr=LogisticRegression(C=best_c,penalty='l1',solver='liblinear')\n",
    "lr.fit(X_train,y_train.values.ravel())\n",
    "y_pred_undersample=lr.predict(X_test.values)\n",
    "# Compute confusion matrix \n",
    "cnf_matrix=confusion_matrix(y_test,y_pred_undersample)\n",
    "np.set_printoptions(precision=2)\n",
    "print('Recall metrix in the testing dataset :',cnf_matrix[1,1]/(cnf_matrix[1,0]+cnf_matrix[1,1]))\n",
    "# Plot non_normalized confusion matrix \n",
    "class_names=[0,1]\n",
    "plt.figure()\n",
    "plot_confusion_matrix(cnf_matrix\n",
    "                      ,classes=class_names\n",
    "                      ,title='Confusion matrix')\n",
    "plt.show()"
   ]
  },
  {
   "cell_type": "code",
   "execution_count": 46,
   "metadata": {
    "pycharm": {
     "name": "#%%\n"
    }
   },
   "outputs": [
    {
     "name": "stderr",
     "output_type": "stream",
     "text": [
      "/Users/nanji/miniconda3/envs/py35/lib/python3.5/site-packages/ipykernel_launcher.py:14: RuntimeWarning: divide by zero encountered in long_scalars\n",
      "  \n"
     ]
    },
    {
     "name": "stdout",
     "output_type": "stream",
     "text": [
      "Recall metric in the testing dataset : inf\n",
      "Recall metric in the testing dataset : inf\n",
      "Recall metric in the testing dataset : inf\n",
      "Recall metric in the testing dataset : 217.5\n",
      "Recall metric in the testing dataset : 150.7\n",
      "Recall metric in the testing dataset : 137.64705882352942\n",
      "Recall metric in the testing dataset : 126.88\n",
      "Recall metric in the testing dataset : 112.97297297297297\n",
      "Recall metric in the testing dataset : 88.45\n"
     ]
    },
    {
     "data": {
      "image/png": "[encoded data removed]",
      "text/plain": [
       "<matplotlib.figure.Figure at 0x7fde3fc325c0>"
      ]
     },
     "metadata": {},
     "output_type": "display_data"
    }
   ],
   "source": [
    "lr=LogisticRegression(C=0.01,penalty='l1',solver='liblinear')\n",
    "lr.fit(X_train_undersample,y_train_undersample.values.ravel())\n",
    "y_pred_undersample_proba=lr.predict_proba(X_test_undersample.values)\n",
    "thresholds=[0.1,0.2,0.3,0.4,0.5,0.6,0.7,0.8,0.9]\n",
    "plt.figure(figsize=(10,10))\n",
    "j=1\n",
    "for i in thresholds:\n",
    "    y_test_predictions_high_recall=y_pred_undersample_proba[:,1]>i\n",
    "    plt.subplot(3,3,j)\n",
    "    j+=1\n",
    "    #compute confusion matrix \n",
    "    cnf_matrix=confusion_matrix(y_test_undersample,y_test_predictions_high_recall)\n",
    "    np.set_printoptions(precision=2)\n",
    "    print(\"Recall metric in the testing dataset :\",cnf_matrix[1,1]/cnf_matrix[1,0]+cnf_matrix[1,1])\n",
    "    # Plot non-normalized confusion matrix \n",
    "    class_names=[0,1]\n",
    "    plot_confusion_matrix(cnf_matrix\n",
    "                          ,classes=class_names\n",
    "                          ,title='Threshold > = %s'%i)\n",
    "    \n",
    "    \n",
    "\n",
    "\n"
   ]
  },
  {
   "cell_type": "code",
   "execution_count": 47,
   "metadata": {},
   "outputs": [
    {
     "data": {
      "text/plain": [
       "array([0.46, 0.43, 1.  , 0.41, 0.45, 0.99, 0.82, 0.41, 0.39, 0.39, 0.6 ,\n",
       "       0.41, 1.  , 0.99, 0.49, 0.98, 0.37, 0.41, 0.96, 1.  , 0.6 , 0.43,\n",
       "       1.  , 0.35, 0.98, 0.51, 0.95, 0.78, 0.38, 0.54, 0.7 , 0.37, 0.39,\n",
       "       0.44, 0.97, 0.95, 1.  , 0.45, 0.89, 0.96, 1.  , 0.39, 0.42, 1.  ,\n",
       "       0.37, 0.41, 0.92, 0.9 , 0.97, 0.47, 0.59, 0.7 , 0.35, 0.45, 0.88,\n",
       "       0.97, 0.37, 0.47, 0.77, 0.97, 0.96, 0.42, 0.92, 0.36, 0.34, 0.41,\n",
       "       0.97, 0.54, 0.45, 0.39, 0.4 , 0.39, 0.46, 0.47, 0.43, 1.  , 0.43,\n",
       "       0.86, 0.96, 0.39, 0.87, 0.44, 0.74, 0.91, 0.35, 0.36, 0.98, 0.45,\n",
       "       0.99, 0.43, 0.45, 0.33, 0.35, 0.36, 0.98, 0.38, 0.96, 0.37, 0.88,\n",
       "       0.41, 0.96, 0.64, 0.5 , 0.42, 0.86, 0.36, 0.81, 1.  , 0.48, 0.88,\n",
       "       0.41, 0.99, 0.99, 0.78, 0.49, 0.46, 0.92, 0.38, 0.41, 0.99, 0.98,\n",
       "       0.38, 0.39, 0.97, 0.85, 0.38, 0.63, 0.38, 0.44, 0.5 , 0.8 , 0.4 ,\n",
       "       0.99, 1.  , 1.  , 0.98, 0.98, 0.34, 0.37, 0.87, 0.4 , 0.4 , 0.43,\n",
       "       0.43, 0.64, 0.96, 0.42, 0.46, 0.59, 0.89, 0.99, 0.5 , 0.61, 0.4 ,\n",
       "       0.4 , 0.78, 0.41, 0.41, 0.54, 0.39, 0.54, 0.83, 0.99, 0.48, 0.91,\n",
       "       0.99, 1.  , 0.98, 0.44, 0.45, 0.96, 0.36, 0.36, 0.86, 0.43, 0.99,\n",
       "       0.42, 0.37, 0.42, 0.45, 0.43, 0.86, 0.51, 0.93, 0.4 , 0.83, 0.41,\n",
       "       1.  , 0.61, 0.42, 0.47, 0.55, 1.  , 0.45, 1.  , 0.45, 0.41, 0.35,\n",
       "       0.85, 0.82, 0.58, 0.4 , 0.45, 0.85, 0.8 , 0.85, 0.38, 0.4 , 0.96,\n",
       "       0.55, 0.42, 0.33, 0.99, 0.96, 0.98, 0.94, 0.38, 0.9 , 0.98, 1.  ,\n",
       "       0.47, 0.85, 0.82, 0.39, 0.41, 1.  , 0.75, 0.98, 0.94, 0.53, 0.32,\n",
       "       0.55, 0.46, 0.79, 0.44, 0.47, 0.45, 0.57, 0.79, 0.98, 0.59, 0.46,\n",
       "       0.49, 0.46, 0.36, 0.36, 0.51, 0.97, 0.95, 0.41, 0.44, 0.98, 1.  ,\n",
       "       0.39, 0.38, 0.42, 0.94, 0.4 , 0.97, 1.  , 0.78, 0.96, 0.99, 0.97,\n",
       "       0.44, 0.37, 0.41, 0.48, 0.4 , 0.64, 0.45, 0.41, 0.57, 0.97, 0.49,\n",
       "       0.85, 0.93, 0.38, 0.43, 0.95, 0.41, 0.44, 0.47, 0.96, 0.93, 0.98,\n",
       "       0.99, 0.45, 0.8 , 0.81, 0.46, 0.98, 0.41, 0.44, 0.4 , 0.45])"
      ]
     },
     "execution_count": 47,
     "metadata": {},
     "output_type": "execute_result"
    }
   ],
   "source": [
    "y_pred_undersample_proba[:,1]"
   ]
  },
  {
   "cell_type": "code",
   "execution_count": 48,
   "metadata": {
    "pycharm": {
     "name": "#%%\n"
    }
   },
   "outputs": [
    {
     "name": "stdout",
     "output_type": "stream",
     "text": [
      "2222222222222222222222222222222222222222222222222222222222222222222222222222222222222222222222222222\n",
      "<class 'sklearn.model_selection._split.KFold'>\n",
      "<class 'pandas.core.frame.DataFrame'>\n",
      "RangeIndex: 0 entries\n",
      "Data columns (total 2 columns):\n",
      "C_parameter          0 non-null object\n",
      "Mean recall score    0 non-null object\n",
      "dtypes: object(2)\n",
      "memory usage: 84.0+ bytes\n",
      "None\n",
      "(0, 2)\n",
      "<class 'pandas.core.frame.DataFrame'>\n",
      "RangeIndex: 5 entries, 0 to 4\n",
      "Data columns (total 2 columns):\n",
      "C_parameter          5 non-null float64\n",
      "Mean recall score    0 non-null object\n",
      "dtypes: float64(1), object(1)\n",
      "memory usage: 160.0+ bytes\n",
      "None\n",
      "--------------------------------------------------\n",
      "C parameter: 0.01\n",
      "--------------------------------------------------\n",
      "\n",
      "(688, 29)\n",
      "<generator object _BaseKFold.split at 0x7fde3f479728>\n",
      "<class 'int'>\n",
      "2\n",
      "Iteration   0 : recall score = 0.958904109589041\n",
      "<class 'int'>\n",
      "2\n",
      "Iteration   1 : recall score = 0.9178082191780822\n",
      "<class 'int'>\n",
      "2\n",
      "Iteration   2 : recall score = 1.0\n",
      "<class 'int'>\n",
      "2\n",
      "Iteration   3 : recall score = 0.9459459459459459\n",
      "<class 'int'>\n",
      "2\n",
      "Iteration   4 : recall score = 0.9696969696969697\n",
      "recall_accs0.9696969696969697\n",
      "\n",
      "Mean recall score 0.9584710488820078\n",
      "\n",
      "--------------------------------------------------\n",
      "C parameter: 0.1\n",
      "--------------------------------------------------\n",
      "\n",
      "(688, 29)\n",
      "<generator object _BaseKFold.split at 0x7fde3f479728>\n",
      "<class 'int'>\n",
      "2\n",
      "Iteration   0 : recall score = 0.8493150684931506\n",
      "<class 'int'>\n",
      "2\n",
      "Iteration   1 : recall score = 0.863013698630137\n",
      "<class 'int'>\n",
      "2\n",
      "Iteration   2 : recall score = 0.9322033898305084\n",
      "<class 'int'>\n",
      "2\n",
      "Iteration   3 : recall score = 0.9324324324324325\n",
      "<class 'int'>\n",
      "2\n",
      "Iteration   4 : recall score = 0.9090909090909091\n",
      "recall_accs0.9090909090909091\n",
      "\n",
      "Mean recall score 0.8972110996954274\n",
      "\n",
      "--------------------------------------------------\n",
      "C parameter: 1\n",
      "--------------------------------------------------\n",
      "\n",
      "(688, 29)\n",
      "<generator object _BaseKFold.split at 0x7fde3f513258>\n",
      "<class 'int'>\n",
      "2\n",
      "Iteration   0 : recall score = 0.863013698630137\n",
      "<class 'int'>\n",
      "2\n",
      "Iteration   1 : recall score = 0.9041095890410958\n",
      "<class 'int'>\n",
      "2\n",
      "Iteration   2 : recall score = 0.9491525423728814\n",
      "<class 'int'>\n",
      "2\n",
      "Iteration   3 : recall score = 0.9324324324324325\n",
      "<class 'int'>\n",
      "2\n",
      "Iteration   4 : recall score = 0.9090909090909091\n",
      "recall_accs0.9090909090909091\n",
      "\n",
      "Mean recall score 0.9115598343134911\n",
      "\n",
      "--------------------------------------------------\n",
      "C parameter: 10\n",
      "--------------------------------------------------\n",
      "\n",
      "(688, 29)\n",
      "<generator object _BaseKFold.split at 0x7fde3f479728>\n",
      "<class 'int'>\n",
      "2\n",
      "Iteration   0 : recall score = 0.8493150684931506\n",
      "<class 'int'>\n",
      "2\n",
      "Iteration   1 : recall score = 0.8904109589041096\n",
      "<class 'int'>\n",
      "2\n",
      "Iteration   2 : recall score = 0.9661016949152542\n",
      "<class 'int'>\n",
      "2\n",
      "Iteration   3 : recall score = 0.9324324324324325\n",
      "<class 'int'>\n",
      "2\n",
      "Iteration   4 : recall score = 0.9242424242424242\n",
      "recall_accs0.9242424242424242\n",
      "\n",
      "Mean recall score 0.9125005157974743\n",
      "\n",
      "--------------------------------------------------\n",
      "C parameter: 100\n",
      "--------------------------------------------------\n",
      "\n",
      "(688, 29)\n",
      "<generator object _BaseKFold.split at 0x7fde3f513258>\n",
      "<class 'int'>\n",
      "2\n",
      "Iteration   0 : recall score = 0.8493150684931506\n",
      "<class 'int'>\n",
      "2\n",
      "Iteration   1 : recall score = 0.9041095890410958\n",
      "<class 'int'>\n",
      "2\n",
      "Iteration   2 : recall score = 0.9661016949152542\n",
      "<class 'int'>\n",
      "2\n",
      "Iteration   3 : recall score = 0.9324324324324325\n",
      "<class 'int'>\n",
      "2\n",
      "Iteration   4 : recall score = 0.9393939393939394\n",
      "recall_accs0.9393939393939394\n",
      "\n",
      "Mean recall score 0.9182705448551746\n",
      "\n",
      "3333333333333333333333333333333333333333333333333333333333333333333333333333333333333333333333333333\n",
      "   C_parameter  Mean recall score\n",
      "0     0.958471           0.958471\n",
      "1     0.897211           0.897211\n",
      "2     0.911560           0.911560\n",
      "3     0.912501           0.912501\n",
      "4     0.918271           0.918271\n",
      "****************************************************************************************************\n",
      "Best model to choose from cross validation is with C parameter = 0.9584710488820078\n",
      "****************************************************************************************************\n"
     ]
    }
   ],
   "source": [
    "\n",
    "# %%\n",
    "best_c = printing_Kfold_scores(X_train_undersample, y_train_undersample)\n",
    "\n",
    "# %%"
   ]
  },
  {
   "cell_type": "code",
   "execution_count": 49,
   "metadata": {
    "pycharm": {
     "name": "#%%\n"
    },
    "scrolled": true
   },
   "outputs": [
    {
     "ename": "ImportError",
     "evalue": "No module named 'imblearn'",
     "output_type": "error",
     "traceback": [
      "\u001b[0;31m---------------------------------------------------------------------------\u001b[0m",
      "\u001b[0;31mImportError\u001b[0m                               Traceback (most recent call last)",
      "\u001b[0;32m<ipython-input-49-ece3fb8b0f2f>\u001b[0m in \u001b[0;36m<module>\u001b[0;34m()\u001b[0m\n\u001b[1;32m      2\u001b[0m \u001b[0;32mimport\u001b[0m \u001b[0mpandas\u001b[0m \u001b[0;32mas\u001b[0m \u001b[0mpd\u001b[0m\u001b[0;34m\u001b[0m\u001b[0m\n\u001b[1;32m      3\u001b[0m \u001b[0;32mimport\u001b[0m \u001b[0mmatplotlib\u001b[0m\u001b[0;34m\u001b[0m\u001b[0m\n\u001b[0;32m----> 4\u001b[0;31m \u001b[0;32mfrom\u001b[0m \u001b[0mimblearn\u001b[0m\u001b[0;34m.\u001b[0m\u001b[0mover_sampling\u001b[0m \u001b[0;32mimport\u001b[0m \u001b[0mSMOTE\u001b[0m\u001b[0;34m\u001b[0m\u001b[0m\n\u001b[0m\u001b[1;32m      5\u001b[0m \u001b[0;32mfrom\u001b[0m \u001b[0msklearn\u001b[0m\u001b[0;34m.\u001b[0m\u001b[0mensemble\u001b[0m \u001b[0;32mimport\u001b[0m \u001b[0mRandomForestClassifier\u001b[0m\u001b[0;34m\u001b[0m\u001b[0m\n\u001b[1;32m      6\u001b[0m \u001b[0;32mfrom\u001b[0m \u001b[0msklearn\u001b[0m\u001b[0;34m.\u001b[0m\u001b[0mmetrics\u001b[0m \u001b[0;32mimport\u001b[0m \u001b[0mconfusion_matrix\u001b[0m\u001b[0;34m\u001b[0m\u001b[0m\n",
      "\u001b[0;31mImportError\u001b[0m: No module named 'imblearn'"
     ]
    }
   ],
   "source": [
    "import numpy as np\n",
    "import pandas as pd\n",
    "import matplotlib\n",
    "from imblearn.over_sampling import SMOTE\n",
    "from sklearn.ensemble import RandomForestClassifier\n",
    "from sklearn.metrics import confusion_matrix\n",
    "from sklearn.model_selection import train_test_split\n",
    "from sklearn.utils.validation import check_array as check_arrays"
   ]
  },
  {
   "cell_type": "code",
   "execution_count": null,
   "metadata": {
    "collapsed": true,
    "pycharm": {
     "name": "#%%\n"
    }
   },
   "outputs": [],
   "source": [
    "credit_cards=pd.read_csv('creditcard.csv')"
   ]
  },
  {
   "cell_type": "code",
   "execution_count": null,
   "metadata": {
    "collapsed": true,
    "pycharm": {
     "name": "#%%\n"
    }
   },
   "outputs": [],
   "source": [
    "\n",
    "columns=credit_cards.columns\n",
    "print(columns)"
   ]
  },
  {
   "cell_type": "code",
   "execution_count": null,
   "metadata": {
    "pycharm": {
     "name": "#%%\n"
    }
   },
   "outputs": [],
   "source": [
    "features_columns=columns.delete(len(columns)-1)\n",
    "features_columns"
   ]
  },
  {
   "cell_type": "code",
   "execution_count": null,
   "metadata": {
    "collapsed": true,
    "pycharm": {
     "name": "#%%\n"
    }
   },
   "outputs": [],
   "source": [
    "features=credit_cards[features_columns]\n",
    "labels=credit_cards['Class']\n",
    "\n",
    "print(labels)"
   ]
  },
  {
   "cell_type": "code",
   "execution_count": null,
   "metadata": {
    "collapsed": true,
    "pycharm": {
     "name": "#%%\n"
    }
   },
   "outputs": [],
   "source": [
    "features_train,features_test,labels_train,labels_test= train_test_split(features,\n",
    "                 labels,\n",
    "                 test_size=0.2,\n",
    "                 random_state=0)"
   ]
  },
  {
   "cell_type": "code",
   "execution_count": null,
   "metadata": {
    "collapsed": true,
    "pycharm": {
     "name": "#%%\n"
    }
   },
   "outputs": [],
   "source": [
    "oversample=SMOTE(random_state=0)\n",
    "os_features,os_labels=oversample.fit_sample(features_train,labels_train)"
   ]
  },
  {
   "cell_type": "code",
   "execution_count": null,
   "metadata": {
    "collapsed": true,
    "pycharm": {
     "name": "#%%\n"
    }
   },
   "outputs": [],
   "source": [
    "len(os_labels[os_labels==1])"
   ]
  },
  {
   "cell_type": "code",
   "execution_count": null,
   "metadata": {
    "collapsed": true,
    "pycharm": {
     "name": "#%%\n"
    }
   },
   "outputs": [],
   "source": [
    "len(os_labels==1)"
   ]
  },
  {
   "cell_type": "code",
   "execution_count": null,
   "metadata": {
    "collapsed": true,
    "pycharm": {
     "name": "#%%\n"
    }
   },
   "outputs": [],
   "source": [
    "print(features_train.shape)"
   ]
  },
  {
   "cell_type": "code",
   "execution_count": null,
   "metadata": {
    "collapsed": true,
    "pycharm": {
     "name": "#%%\n"
    }
   },
   "outputs": [],
   "source": [
    "features_train[:5]"
   ]
  },
  {
   "cell_type": "code",
   "execution_count": null,
   "metadata": {
    "collapsed": true,
    "pycharm": {
     "name": "#%%\n"
    }
   },
   "outputs": [],
   "source": [
    "features_test.shape"
   ]
  },
  {
   "cell_type": "code",
   "execution_count": null,
   "metadata": {
    "collapsed": true,
    "pycharm": {
     "name": "#%%\n"
    }
   },
   "outputs": [],
   "source": [
    "features_test[:5]"
   ]
  },
  {
   "cell_type": "code",
   "execution_count": null,
   "metadata": {
    "collapsed": true,
    "pycharm": {
     "name": "#%%\n"
    }
   },
   "outputs": [],
   "source": [
    "labels_train.shape"
   ]
  },
  {
   "cell_type": "code",
   "execution_count": null,
   "metadata": {
    "collapsed": true,
    "pycharm": {
     "name": "#%%\n"
    }
   },
   "outputs": [],
   "source": [
    "labels_train[:5]"
   ]
  },
  {
   "cell_type": "code",
   "execution_count": null,
   "metadata": {
    "collapsed": true,
    "pycharm": {
     "name": "#%%\n"
    }
   },
   "outputs": [],
   "source": [
    "labels_test.shape"
   ]
  },
  {
   "cell_type": "code",
   "execution_count": null,
   "metadata": {
    "collapsed": true,
    "pycharm": {
     "name": "#%%\n"
    }
   },
   "outputs": [],
   "source": [
    "labels_test[:5]\n"
   ]
  },
  {
   "cell_type": "code",
   "execution_count": null,
   "metadata": {
    "collapsed": true,
    "pycharm": {
     "name": "#%%\n"
    }
   },
   "outputs": [],
   "source": [
    "oversample"
   ]
  },
  {
   "cell_type": "code",
   "execution_count": null,
   "metadata": {
    "collapsed": true,
    "pycharm": {
     "name": "#%%\n"
    }
   },
   "outputs": [],
   "source": [
    "os_features[:5]\n"
   ]
  },
  {
   "cell_type": "code",
   "execution_count": null,
   "metadata": {
    "collapsed": true,
    "pycharm": {
     "name": "#%%\n"
    }
   },
   "outputs": [],
   "source": [
    "os_labels.shape\n"
   ]
  },
  {
   "cell_type": "code",
   "execution_count": null,
   "metadata": {
    "collapsed": true,
    "pycharm": {
     "name": "#%%\n"
    }
   },
   "outputs": [],
   "source": [
    "os_labels[:5]"
   ]
  },
  {
   "cell_type": "code",
   "execution_count": null,
   "metadata": {
    "collapsed": true,
    "pycharm": {
     "name": "#%%\n"
    }
   },
   "outputs": [],
   "source": [
    "os_features=pd.DataFrame(os_features)"
   ]
  },
  {
   "cell_type": "code",
   "execution_count": null,
   "metadata": {
    "collapsed": true,
    "pycharm": {
     "name": "#%%\n"
    }
   },
   "outputs": [],
   "source": [
    "os_features.head()"
   ]
  },
  {
   "cell_type": "code",
   "execution_count": null,
   "metadata": {
    "collapsed": true,
    "pycharm": {
     "name": "#%%\n"
    }
   },
   "outputs": [],
   "source": [
    "os_labels=pd.DataFrame(os_labels)"
   ]
  },
  {
   "cell_type": "code",
   "execution_count": null,
   "metadata": {
    "collapsed": true,
    "pycharm": {
     "name": "#%%\n"
    }
   },
   "outputs": [],
   "source": [
    "os_labels.head()"
   ]
  },
  {
   "cell_type": "code",
   "execution_count": null,
   "metadata": {
    "collapsed": true,
    "pycharm": {
     "name": "#%%\n"
    }
   },
   "outputs": [],
   "source": [
    "best_c=printing_Kfold_scores(os_features,os_labels)"
   ]
  },
  {
   "cell_type": "code",
   "execution_count": null,
   "metadata": {
    "collapsed": true,
    "pycharm": {
     "name": "#%%\n"
    }
   },
   "outputs": [],
   "source": []
  },
  {
   "cell_type": "code",
   "execution_count": null,
   "metadata": {
    "collapsed": true,
    "pycharm": {
     "name": "#%%\n"
    }
   },
   "outputs": [],
   "source": []
  },
  {
   "cell_type": "code",
   "execution_count": null,
   "metadata": {
    "collapsed": true
   },
   "outputs": [],
   "source": []
  },
  {
   "cell_type": "code",
   "execution_count": null,
   "metadata": {
    "collapsed": true
   },
   "outputs": [],
   "source": []
  },
  {
   "cell_type": "code",
   "execution_count": null,
   "metadata": {
    "collapsed": true
   },
   "outputs": [],
   "source": []
  }
 ],
 "metadata": {
  "kernelspec": {
   "display_name": "Python 3",
   "language": "python",
   "name": "python3"
  },
  "language_info": {
   "codemirror_mode": {
    "name": "ipython",
    "version": 3
   },
   "file_extension": ".py",
   "mimetype": "text/x-python",
   "name": "python",
   "nbconvert_exporter": "python",
   "pygments_lexer": "ipython3",
   "version": "3.5.3"
  },
  "pycharm": {
   "stem_cell": {
    "cell_type": "raw",
    "metadata": {
     "collapsed": false
    },
    "source": []
   }
  }
 },
 "nbformat": 4,
 "nbformat_minor": 1
}
