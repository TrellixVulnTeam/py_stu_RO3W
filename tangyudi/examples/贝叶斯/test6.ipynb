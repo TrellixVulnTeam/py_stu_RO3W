{
 "cells": [
  {
   "cell_type": "code",
   "execution_count": null,
   "metadata": {
    "pycharm": {
     "is_executing": false
    }
   },
   "outputs": [],
   "source": [
    "import jieba.analyse\n",
    "import pandas as pd\n",
    "\n",
    "content = pd.read_csv('./tmp.data', index_col=False, sep='\\t',  #\n",
    "                      quoting=3, names=['data'], encoding='utf-8')\n",
    "\n",
    "df_news=pd.read_csv('./data/val.txt',index_col=False,sep='\\t', # \n",
    "                       quoting=3,names=['category','theme','URL','content'],encoding='utf-8')\n",
    "\n",
    "content.dropna()\n",
    "df_news.dropna()\n",
    "content \n",
    "\n"
   ]
  },
  {
   "cell_type": "code",
   "execution_count": null,
   "metadata": {},
   "outputs": [],
   "source": [
    "# print(content.data[0])\n",
    "contont_base = content.data[0] \n",
    "content_s = jieba.lcut(contont_base) \n",
    "print(type(content_s))\n",
    "print(\"\\n\")\n",
    "\n",
    "all_content = df_news.content.values.tolist() \n",
    "\n",
    "content_arr = []\n",
    "for line in all_content:\n",
    "    current_segment = jieba.lcut(line)\n",
    "    if len(current_segment) > 1 and current_segment != '\\r\\n': #换行符\n",
    "        content_arr.append(current_segment)\n",
    "print(type(content_arr))\n",
    "\n",
    "\n"
   ]
  },
  {
   "cell_type": "code",
   "execution_count": null,
   "metadata": {},
   "outputs": [],
   "source": [
    "content_arr.shape"
   ]
  },
  {
   "cell_type": "code",
   "execution_count": null,
   "metadata": {},
   "outputs": [],
   "source": [
    "def drop_stopwords(contents,stopwords):\n",
    "    contents_clean = []\n",
    "    all_words = []\n",
    "    for word in contents:\n",
    "        if word in stopwords:\n",
    "            continue\n",
    "        contents_clean.append(word)\n",
    "        all_words.append(str(word)) \n",
    "    return contents_clean,all_words"
   ]
  },
  {
   "cell_type": "code",
   "execution_count": null,
   "metadata": {},
   "outputs": [],
   "source": [
    "stopwords=pd.read_csv(\"stopwords.txt\",index_col=False,sep=\"\\t\",quoting=3,names=['stopword'], encoding='utf-8')\n",
    "stopwords.head(20)"
   ]
  },
  {
   "cell_type": "code",
   "execution_count": null,
   "metadata": {},
   "outputs": [],
   "source": [
    "print(len(content_s))\n",
    "stopwords=stopwords.stopword.values.tolist()\n",
    "content_1,all_word=drop_stopwords(content_s,stopwords)\n",
    "print(len(content_1))"
   ]
  },
  {
   "cell_type": "code",
   "execution_count": null,
   "metadata": {},
   "outputs": [],
   "source": [
    "\n",
    "df=pd.DataFrame({'key1':content_1,'count':[1]*len(content_1)}) \n",
    "grouped=df.groupby('key1').agg({\"count\":\"sum\" }).reset_index()\n",
    "print(grouped.head(10))\n",
    "print( type(grouped))\n",
    "\n",
    "# sort_values(by=[\"C\",\"B\"],ascending=[False,True],inplace=True)"
   ]
  },
  {
   "cell_type": "code",
   "execution_count": null,
   "metadata": {},
   "outputs": [],
   "source": [
    "\n",
    "contents_clean = []\n",
    "all_words = []\n",
    "for line in content_arr:\n",
    "    line_clean = []\n",
    "    for word in line:\n",
    "        if word in stopwords:\n",
    "            continue\n",
    "        line_clean.append(word)\n",
    "        all_words.append(str(word))\n",
    "    contents_clean.append(line_clean)\n",
    "contents_clean.shape"
   ]
  },
  {
   "cell_type": "code",
   "execution_count": null,
   "metadata": {},
   "outputs": [],
   "source": [
    "print(grouped)"
   ]
  },
  {
   "cell_type": "code",
   "execution_count": null,
   "metadata": {},
   "outputs": [],
   "source": [
    "\n",
    "print(grouped.count())"
   ]
  },
  {
   "cell_type": "code",
   "execution_count": null,
   "metadata": {},
   "outputs": [],
   "source": [
    "grouped.head()"
   ]
  },
  {
   "cell_type": "code",
   "execution_count": null,
   "metadata": {},
   "outputs": [],
   "source": [
    "grouped['key1'].count()"
   ]
  },
  {
   "cell_type": "code",
   "execution_count": 12,
   "metadata": {},
   "outputs": [
    {
     "data": {
      "text/plain": [
       "key1\n",
       "“     3\n",
       "”     3\n",
       "、     1\n",
       "。    11\n",
       "《     1\n",
       "Name: key1, dtype: int64"
      ]
     },
     "execution_count": 12,
     "metadata": {},
     "output_type": "execute_result"
    }
   ],
   "source": [
    "grouped['key1'].count().head()"
   ]
  },
  {
   "cell_type": "code",
   "execution_count": null,
   "metadata": {},
   "outputs": [],
   "source": []
  }
 ],
 "metadata": {
  "kernelspec": {
   "display_name": "Python 3",
   "language": "python",
   "name": "python3"
  },
  "language_info": {
   "codemirror_mode": {
    "name": "ipython",
    "version": 3
   },
   "file_extension": ".py",
   "mimetype": "text/x-python",
   "name": "python",
   "nbconvert_exporter": "python",
   "pygments_lexer": "ipython3",
   "version": "3.5.4"
  }
 },
 "nbformat": 4,
 "nbformat_minor": 1
}
