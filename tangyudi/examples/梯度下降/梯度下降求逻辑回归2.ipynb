{
 "cells": [
  {
   "cell_type": "code",
   "execution_count": 38,
   "metadata": {
    "collapsed": true,
    "pycharm": {
     "is_executing": false
    }
   },
   "outputs": [],
   "source": [
    "import numpy as np\n",
    "import pandas as pd\n",
    "import matplotlib.pyplot as plt\n",
    "import os\n",
    "%matplotlib inline\n",
    "\n",
    "path='LogiReg_data.txt'\n",
    "pdData=pd.read_csv(path,header=None,names=['Exam 1','Exam 2','Admitted'])"
   ]
  },
  {
   "cell_type": "code",
   "execution_count": 39,
   "outputs": [
    {
     "data": {
      "text/plain": "      Exam 1     Exam 2  Admitted\n0  34.623660  78.024693         0\n1  30.286711  43.894998         0\n2  35.847409  72.902198         0\n3  60.182599  86.308552         1\n4  79.032736  75.344376         1",
      "text/html": "<div>\n<style scoped>\n    .dataframe tbody tr th:only-of-type {\n        vertical-align: middle;\n    }\n\n    .dataframe tbody tr th {\n        vertical-align: top;\n    }\n\n    .dataframe thead th {\n        text-align: right;\n    }\n</style>\n<table border=\"1\" class=\"dataframe\">\n  <thead>\n    <tr style=\"text-align: right;\">\n      <th></th>\n      <th>Exam 1</th>\n      <th>Exam 2</th>\n      <th>Admitted</th>\n    </tr>\n  </thead>\n  <tbody>\n    <tr>\n      <th>0</th>\n      <td>34.623660</td>\n      <td>78.024693</td>\n      <td>0</td>\n    </tr>\n    <tr>\n      <th>1</th>\n      <td>30.286711</td>\n      <td>43.894998</td>\n      <td>0</td>\n    </tr>\n    <tr>\n      <th>2</th>\n      <td>35.847409</td>\n      <td>72.902198</td>\n      <td>0</td>\n    </tr>\n    <tr>\n      <th>3</th>\n      <td>60.182599</td>\n      <td>86.308552</td>\n      <td>1</td>\n    </tr>\n    <tr>\n      <th>4</th>\n      <td>79.032736</td>\n      <td>75.344376</td>\n      <td>1</td>\n    </tr>\n  </tbody>\n</table>\n</div>"
     },
     "metadata": {},
     "output_type": "execute_result",
     "execution_count": 39
    }
   ],
   "source": [
    "pdData.head()"
   ],
   "metadata": {
    "collapsed": false,
    "pycharm": {
     "name": "#%%\n",
     "is_executing": false
    }
   }
  },
  {
   "cell_type": "code",
   "execution_count": 4,
   "outputs": [
    {
     "data": {
      "text/plain": "(100, 3)"
     },
     "metadata": {},
     "output_type": "execute_result",
     "execution_count": 4
    }
   ],
   "source": [
    "pdData.shape\n"
   ],
   "metadata": {
    "collapsed": false,
    "pycharm": {
     "name": "#%%\n",
     "is_executing": false
    }
   }
  },
  {
   "cell_type": "code",
   "execution_count": 5,
   "outputs": [
    {
     "data": {
      "text/plain": "      Exam 1     Exam 2  Admitted\n3  60.182599  86.308552         1\n4  79.032736  75.344376         1\n6  61.106665  96.511426         1\n7  75.024746  46.554014         1\n8  76.098787  87.420570         1",
      "text/html": "<div>\n<style scoped>\n    .dataframe tbody tr th:only-of-type {\n        vertical-align: middle;\n    }\n\n    .dataframe tbody tr th {\n        vertical-align: top;\n    }\n\n    .dataframe thead th {\n        text-align: right;\n    }\n</style>\n<table border=\"1\" class=\"dataframe\">\n  <thead>\n    <tr style=\"text-align: right;\">\n      <th></th>\n      <th>Exam 1</th>\n      <th>Exam 2</th>\n      <th>Admitted</th>\n    </tr>\n  </thead>\n  <tbody>\n    <tr>\n      <th>3</th>\n      <td>60.182599</td>\n      <td>86.308552</td>\n      <td>1</td>\n    </tr>\n    <tr>\n      <th>4</th>\n      <td>79.032736</td>\n      <td>75.344376</td>\n      <td>1</td>\n    </tr>\n    <tr>\n      <th>6</th>\n      <td>61.106665</td>\n      <td>96.511426</td>\n      <td>1</td>\n    </tr>\n    <tr>\n      <th>7</th>\n      <td>75.024746</td>\n      <td>46.554014</td>\n      <td>1</td>\n    </tr>\n    <tr>\n      <th>8</th>\n      <td>76.098787</td>\n      <td>87.420570</td>\n      <td>1</td>\n    </tr>\n  </tbody>\n</table>\n</div>"
     },
     "metadata": {},
     "output_type": "execute_result",
     "execution_count": 5
    }
   ],
   "source": [
    "positive=pdData[pdData['Admitted']==1]\n",
    "negative=pdData[pdData['Admitted']==0]\n",
    "positive.head()"
   ],
   "metadata": {
    "collapsed": false,
    "pycharm": {
     "name": "#%%\n",
     "is_executing": false
    }
   }
  },
  {
   "cell_type": "code",
   "execution_count": 6,
   "outputs": [
    {
     "data": {
      "text/plain": "       Exam 1     Exam 2  Admitted\n0   34.623660  78.024693         0\n1   30.286711  43.894998         0\n2   35.847409  72.902198         0\n5   45.083277  56.316372         0\n10  95.861555  38.225278         0",
      "text/html": "<div>\n<style scoped>\n    .dataframe tbody tr th:only-of-type {\n        vertical-align: middle;\n    }\n\n    .dataframe tbody tr th {\n        vertical-align: top;\n    }\n\n    .dataframe thead th {\n        text-align: right;\n    }\n</style>\n<table border=\"1\" class=\"dataframe\">\n  <thead>\n    <tr style=\"text-align: right;\">\n      <th></th>\n      <th>Exam 1</th>\n      <th>Exam 2</th>\n      <th>Admitted</th>\n    </tr>\n  </thead>\n  <tbody>\n    <tr>\n      <th>0</th>\n      <td>34.623660</td>\n      <td>78.024693</td>\n      <td>0</td>\n    </tr>\n    <tr>\n      <th>1</th>\n      <td>30.286711</td>\n      <td>43.894998</td>\n      <td>0</td>\n    </tr>\n    <tr>\n      <th>2</th>\n      <td>35.847409</td>\n      <td>72.902198</td>\n      <td>0</td>\n    </tr>\n    <tr>\n      <th>5</th>\n      <td>45.083277</td>\n      <td>56.316372</td>\n      <td>0</td>\n    </tr>\n    <tr>\n      <th>10</th>\n      <td>95.861555</td>\n      <td>38.225278</td>\n      <td>0</td>\n    </tr>\n  </tbody>\n</table>\n</div>"
     },
     "metadata": {},
     "output_type": "execute_result",
     "execution_count": 6
    }
   ],
   "source": [
    "negative.head()\n"
   ],
   "metadata": {
    "collapsed": false,
    "pycharm": {
     "name": "#%%\n",
     "is_executing": false
    }
   }
  },
  {
   "cell_type": "code",
   "execution_count": 10,
   "outputs": [
    {
     "data": {
      "text/plain": "<matplotlib.collections.PathCollection at 0x1e5aa1e8a88>"
     },
     "metadata": {},
     "output_type": "execute_result",
     "execution_count": 10
    },
    {
     "data": {
      "text/plain": "<Figure size 720x360 with 1 Axes>",
      "image/png": "[encoded data removed]"
     },
     "metadata": {
      "needs_background": "light"
     },
     "output_type": "display_data"
    }
   ],
   "source": [
    "fig,ax=plt.subplots(figsize=(10,5))\n",
    "ax.scatter(positive['Exam 1'],positive['Exam 2'],s=30,c='b',marker='o',label='Admitted')\n",
    "ax.scatter(negative['Exam 1'],negative['Exam 2'],s=30,c='r',marker='x',label='Not Admitted')"
   ],
   "metadata": {
    "collapsed": false,
    "pycharm": {
     "name": "#%%\n",
     "is_executing": false
    }
   }
  },
  {
   "cell_type": "code",
   "execution_count": 11,
   "outputs": [
    {
     "data": {
      "text/plain": "Text(3.200000000000003, 0.5, 'Exam 2 Score')"
     },
     "metadata": {},
     "output_type": "execute_result",
     "execution_count": 11
    }
   ],
   "source": [
    "ax.legend()\n",
    "ax.set_xlabel('Exam 1 Score')\n",
    "ax.set_ylabel('Exam 2 Score')"
   ],
   "metadata": {
    "collapsed": false,
    "pycharm": {
     "name": "#%%\n",
     "is_executing": false
    }
   }
  },
  {
   "cell_type": "code",
   "execution_count": 12,
   "outputs": [],
   "source": [
    "def sigmoid(z):\n",
    "    return 1/(1+np.exp(-z))"
   ],
   "metadata": {
    "collapsed": false,
    "pycharm": {
     "name": "#%%\n",
     "is_executing": false
    }
   }
  },
  {
   "cell_type": "code",
   "execution_count": 14,
   "outputs": [
    {
     "name": "stdout",
     "text": [
      "[-10  -9  -8  -7  -6  -5  -4  -3  -2  -1   0   1   2   3   4   5   6   7\n   8   9]\n"
     ],
     "output_type": "stream"
    }
   ],
   "source": [
    "nums =np.arange(-10,10,step=1)\n",
    "print(nums)"
   ],
   "metadata": {
    "collapsed": false,
    "pycharm": {
     "name": "#%%\n",
     "is_executing": false
    }
   }
  },
  {
   "cell_type": "code",
   "execution_count": 15,
   "outputs": [
    {
     "data": {
      "text/plain": "[<matplotlib.lines.Line2D at 0x1e5aa252688>]"
     },
     "metadata": {},
     "output_type": "execute_result",
     "execution_count": 15
    },
    {
     "data": {
      "text/plain": "<Figure size 864x288 with 1 Axes>",
      "image/png": "[encoded data removed]"
     },
     "metadata": {
      "needs_background": "light"
     },
     "output_type": "display_data"
    }
   ],
   "source": [
    "fig,ax=plt.subplots(figsize=(12,4))\n",
    "ax.plot(nums,sigmoid(nums),'r')"
   ],
   "metadata": {
    "collapsed": false,
    "pycharm": {
     "name": "#%%\n",
     "is_executing": false
    }
   }
  },
  {
   "cell_type": "code",
   "execution_count": 18,
   "outputs": [],
   "source": [
    "def model(X,theta):\n",
    "    return sigmoid(np.dot(X,theta.T))"
   ],
   "metadata": {
    "collapsed": false,
    "pycharm": {
     "name": "#%%\n",
     "is_executing": false
    }
   }
  },
  {
   "cell_type": "code",
   "execution_count": 40,
   "outputs": [],
   "source": [
    "\n",
    "pdData.insert(0,'Ones',1)\n",
    "orig_data=pdData.values"
   ],
   "metadata": {
    "collapsed": false,
    "pycharm": {
     "name": "#%%\n",
     "is_executing": false
    }
   }
  },
  {
   "cell_type": "code",
   "execution_count": 41,
   "outputs": [
    {
     "name": "stdout",
     "text": [
      "<class 'pandas.core.frame.DataFrame'>\n<class 'numpy.ndarray'>\n(100, 4)\n"
     ],
     "output_type": "stream"
    }
   ],
   "source": [
    "print(type(pdData))\n",
    "print(type(orig_data))\n",
    "print(orig_data.shape)"
   ],
   "metadata": {
    "collapsed": false,
    "pycharm": {
     "name": "#%%\n",
     "is_executing": false
    }
   }
  },
  {
   "cell_type": "code",
   "execution_count": 42,
   "outputs": [],
   "source": [
    "cols=orig_data.shape[1]\n",
    "X=orig_data[:,:cols-1]\n",
    "y=orig_data[:,cols-1:]"
   ],
   "metadata": {
    "collapsed": false,
    "pycharm": {
     "name": "#%%\n",
     "is_executing": false
    }
   }
  },
  {
   "cell_type": "code",
   "execution_count": 43,
   "outputs": [
    {
     "name": "stdout",
     "text": [
      "(100, 3)\n(100, 1)\n"
     ],
     "output_type": "stream"
    }
   ],
   "source": [
    "print(X.shape)\n",
    "print(y.shape)"
   ],
   "metadata": {
    "collapsed": false,
    "pycharm": {
     "name": "#%%\n",
     "is_executing": false
    }
   }
  },
  {
   "cell_type": "code",
   "execution_count": 44,
   "outputs": [],
   "source": [
    "theta=np.zeros([1,3])"
   ],
   "metadata": {
    "collapsed": false,
    "pycharm": {
     "name": "#%%\n",
     "is_executing": false
    }
   }
  },
  {
   "cell_type": "code",
   "execution_count": 27,
   "outputs": [
    {
     "data": {
      "text/plain": "array([[ 1.        ,  1.        , 34.62365962, 78.02469282],\n       [ 1.        ,  1.        , 30.28671077, 43.89499752],\n       [ 1.        ,  1.        , 35.84740877, 72.90219803],\n       [ 1.        ,  1.        , 60.18259939, 86.3085521 ],\n       [ 1.        ,  1.        , 79.03273605, 75.34437644]])"
     },
     "metadata": {},
     "output_type": "execute_result",
     "execution_count": 27
    }
   ],
   "source": [
    "X[:5]\n"
   ],
   "metadata": {
    "collapsed": false,
    "pycharm": {
     "name": "#%%\n",
     "is_executing": false
    }
   }
  },
  {
   "cell_type": "code",
   "execution_count": 28,
   "outputs": [
    {
     "data": {
      "text/plain": "array([[0.],\n       [0.],\n       [0.],\n       [1.],\n       [1.]])"
     },
     "metadata": {},
     "output_type": "execute_result",
     "execution_count": 28
    }
   ],
   "source": [
    "y[:5]"
   ],
   "metadata": {
    "collapsed": false,
    "pycharm": {
     "name": "#%%\n",
     "is_executing": false
    }
   }
  },
  {
   "cell_type": "code",
   "execution_count": 29,
   "outputs": [
    {
     "data": {
      "text/plain": "array([[0., 0., 0.]])"
     },
     "metadata": {},
     "output_type": "execute_result",
     "execution_count": 29
    }
   ],
   "source": [
    "theta"
   ],
   "metadata": {
    "collapsed": false,
    "pycharm": {
     "name": "#%%\n",
     "is_executing": false
    }
   }
  },
  {
   "cell_type": "code",
   "execution_count": 30,
   "outputs": [],
   "source": [
    "def cost(X,y,theta):\n",
    "    left=np.multiply(-y,np.log(model(X,theta)))\n",
    "    right=np.multiply(1-y,np.log(1-model(X,theta)))\n",
    "    return np.sum(left-right)/len(X)\n"
   ],
   "metadata": {
    "collapsed": false,
    "pycharm": {
     "name": "#%%\n",
     "is_executing": false
    }
   }
  },
  {
   "cell_type": "code",
   "execution_count": 45,
   "outputs": [
    {
     "data": {
      "text/plain": "0.6931471805599453"
     },
     "metadata": {},
     "output_type": "execute_result",
     "execution_count": 45
    }
   ],
   "source": [
    "cost(X,y,theta)"
   ],
   "metadata": {
    "collapsed": false,
    "pycharm": {
     "name": "#%%\n",
     "is_executing": false
    }
   }
  },
  {
   "cell_type": "code",
   "execution_count": 60,
   "outputs": [],
   "source": [
    "def gradient(X,y,theta):\n",
    "    grad=np.zeros(theta.shape)\n",
    "    error=(model(X,theta)-y).ravel()\n",
    "    for j in range(len(theta.ravel())):\n",
    "        term=np.multiply(error,X[:,j])\n",
    "        grad[0,j]=np.sum(term)/len(X)\n",
    "    return grad"
   ],
   "metadata": {
    "collapsed": false,
    "pycharm": {
     "name": "#%%\n",
     "is_executing": false
    }
   }
  },
  {
   "cell_type": "code",
   "execution_count": 61,
   "outputs": [],
   "source": [
    "STOP_ITER=0\n",
    "STOP_COST=1\n",
    "STOP_GRAD=2\n",
    "\n",
    "    "
   ],
   "metadata": {
    "collapsed": false,
    "pycharm": {
     "name": "#%%\n",
     "is_executing": false
    }
   }
  },
  {
   "cell_type": "code",
   "execution_count": 62,
   "outputs": [],
   "source": [
    "def stopGriterion(type,value,threshold):\n",
    "    # 设定三种不同的停止策略\n",
    "    if type==STOP_ITER: return value>threshold\n",
    "    elif type==STOP_COST:return abs(value[-1]-value[-2])<threshold\n",
    "    elif type==STOP_GRAD:return np.linalg.norm(value)<threshold\n"
   ],
   "metadata": {
    "collapsed": false,
    "pycharm": {
     "name": "#%%\n",
     "is_executing": false
    }
   }
  },
  {
   "cell_type": "code",
   "execution_count": 63,
   "outputs": [],
   "source": [
    "def shuffleData(data):\n",
    "    np.random.shuffle(data )\n",
    "    cols=data.shape[1]\n",
    "    X=data[:,0:cols-1]\n",
    "    y=data[:,cols-1:]\n",
    "    return X,y"
   ],
   "metadata": {
    "collapsed": false,
    "pycharm": {
     "name": "#%%\n",
     "is_executing": false
    }
   }
  },
  {
   "cell_type": "code",
   "execution_count": 64,
   "outputs": [],
   "source": [
    "n=100\n",
    "import time\n",
    "def descent(data,theta,batchSize,stopType,thresh,alpha):\n",
    "    # 梯度下降求解\n",
    "    init_time=time.time()\n",
    "    i=0#迭代次数 \n",
    "    k=0 # batch\n",
    "    X,y=shuffleData(data)\n",
    "    grad=np.zeros(theta.shape)\n",
    "    costs=[cost(X,y,theta)]\n",
    "    while True:\n",
    "        grad=gradient(X[k:k+batchSize],y[k:k+batchSize],theta)\n",
    "        k+=batchSize\n",
    "        if k>=n:\n",
    "            k=0\n",
    "            X,y=shuffleData(data)\n",
    "        theta=theta-alpha*grad\n",
    "        costs.append(cost(X,y,theta))\n",
    "        i+=1\n",
    "        if stopType==STOP_ITER:value=i\n",
    "        elif stopType==STOP_COST:value=costs\n",
    "        elif stopType==STOP_GRAD:value=grad\n",
    "        if stopGriterion(stopType,value,thresh):break\n",
    "    return theta,i-1,costs,grad,time.time()-init_time"
   ],
   "metadata": {
    "collapsed": false,
    "pycharm": {
     "name": "#%%\n",
     "is_executing": false
    }
   }
  },
  {
   "cell_type": "code",
   "execution_count": 67,
   "outputs": [],
   "source": [
    "def runExpe(data,theta,batchsize,stopType,thresh,alpha):\n",
    "    theta,iter,costs,grad,dur=descent(data,theta,batchsize,stopType,thresh,alpha)\n",
    "    name='Original ' if (data[:,1]>2).sum()>1 else \"Scaled\"\n",
    "    name+=' data  - learning rate :{} - '.format(alpha )\n",
    "    if batchsize==n:strDescType='Gradient'\n",
    "    elif batchsize==1:strDescType='Stochastic'\n",
    "    else:strDescType='Mini - batch ({})'.format(batchsize)\n",
    "    name+=strDescType+\"descent - Stop :\"\n",
    "    if stopType==STOP_ITER:strStop=\"{} iterations\".format(thresh)\n",
    "    elif stopType==STOP_COST:strStop=\"costs change<{}\".format(thresh)\n",
    "    else:strStop='gradient norm <{}'.format(thresh)\n",
    "    name+=strStop\n",
    "    print('****{}\\n Theta: {}-Iter: {} - last cost: {:03.2f} - Duration:{:03.2f}s'.format(name,theta,iter,costs[-1],dur))\n",
    "    fig,ax=plt.subplots(figsize=(12,4))\n",
    "    ax.plot(np.arange(len(costs)),costs,'r')\n",
    "    ax.set_xlabel('Iterations ')\n",
    "    ax.set_ylabel('Cost')\n",
    "    ax.set_title(name.upper()+' - Error vs. Iteration ')\n",
    "    return theta"
   ],
   "metadata": {
    "collapsed": false,
    "pycharm": {
     "name": "#%%\n",
     "is_executing": false
    }
   }
  },
  {
   "cell_type": "code",
   "execution_count": 68,
   "outputs": [
    {
     "name": "stdout",
     "text": [
      "****Original  data  - learning rate :1e-06 - Gradientdescent - Stop :5000 iterations\n Theta: [[-0.00027127  0.00705232  0.00376711]]-Iter: 5000 - last cost: 0.63 - Duration:1.66s\n"
     ],
     "output_type": "stream"
    },
    {
     "data": {
      "text/plain": "array([[-0.00027127,  0.00705232,  0.00376711]])"
     },
     "metadata": {},
     "output_type": "execute_result",
     "execution_count": 68
    },
    {
     "data": {
      "text/plain": "<Figure size 864x288 with 1 Axes>",
      "image/png": "[encoded data removed]"
     },
     "metadata": {
      "needs_background": "light"
     },
     "output_type": "display_data"
    }
   ],
   "source": [
    "# 选择的梯度下降方法是基于所有样本的 \n",
    "runExpe(orig_data,theta,n,STOP_ITER,thresh=5000,alpha=0.000001)"
   ],
   "metadata": {
    "collapsed": false,
    "pycharm": {
     "name": "#%%\n",
     "is_executing": false
    }
   }
  },
  {
   "cell_type": "code",
   "execution_count": null,
   "outputs": [],
   "source": [
    "\n"
   ],
   "metadata": {
    "collapsed": false,
    "pycharm": {
     "name": "#%%\n"
    }
   }
  }
 ],
 "metadata": {
  "language_info": {
   "codemirror_mode": {
    "name": "ipython",
    "version": 2
   },
   "file_extension": ".py",
   "mimetype": "text/x-python",
   "name": "python",
   "nbconvert_exporter": "python",
   "pygments_lexer": "ipython2",
   "version": "2.7.6"
  },
  "kernelspec": {
   "name": "python3",
   "language": "python",
   "display_name": "Python 3"
  },
  "pycharm": {
   "stem_cell": {
    "cell_type": "raw",
    "source": [],
    "metadata": {
     "collapsed": false
    }
   }
  }
 },
 "nbformat": 4,
 "nbformat_minor": 0
}