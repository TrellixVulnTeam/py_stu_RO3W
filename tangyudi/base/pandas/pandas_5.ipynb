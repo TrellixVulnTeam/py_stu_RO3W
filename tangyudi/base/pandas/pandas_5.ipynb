{
 "cells": [
  {
   "cell_type": "code",
   "execution_count": 6,
   "metadata": {
    "collapsed": false,
    "pycharm": {
     "name": "#%%\n",
     "is_executing": false
    }
   },
   "outputs": [
    {
     "name": "stdout",
     "output_type": "stream",
     "text": [
      "Index(['Avengers: Age of Ultron (2015)', 'Cinderella (2015)', 'Ant-Man (2015)',\n       'Do You Believe? (2015)', 'Hot Tub Time Machine 2 (2015)',\n       'The Water Diviner (2015)', 'Irrational Man (2015)', 'Top Five (2014)',\n       'Shaun the Sheep Movie (2015)', 'Love & Mercy (2015)',\n       ...\n       'The Woman In Black 2 Angel of Death (2015)', 'Danny Collins (2015)',\n       'Spare Parts (2015)', 'Serena (2015)', 'Inside Out (2015)',\n       'Mr. Holmes (2015)', ''71 (2015)', 'Two Days, One Night (2014)',\n       'Gett: The Trial of Viviane Amsalem (2015)',\n       'Kumiko, The Treasure Hunter (2015)'],\n      dtype='object', name='FILM', length=146)\n"
     ]
    }
   ],
   "source": [
    "import pandas as pd\n",
    "import numpy as np\n",
    "fandango=pd.read_csv('/Users/lixiang/PycharmProjects/py3/py_stu/tangyudi/base/pandas/fandango_score_comparison.csv')\n",
    "# print(type(fandango))\n",
    "# print(fandango.head())\n",
    "fandango_films=fandango.set_index('FILM',drop=False)\n",
    "# print(fandango_films.head())\n",
    "print(fandango_films.index)\n",
    "\n",
    "\n",
    "#%%\n",
    "\n"
   ]
  },
  {
   "cell_type": "code",
   "execution_count": 7,
   "metadata": {
    "collapsed": false,
    "pycharm": {
     "name": "#%%\n",
     "is_executing": false
    }
   },
   "outputs": [
    {
     "name": "stdout",
     "output_type": "stream",
     "text": [
      "                                                          FILM  \\\nFILM                                                             \nAvengers: Age of Ultron (2015)  Avengers: Age of Ultron (2015)   \nCinderella (2015)                            Cinderella (2015)   \nAnt-Man (2015)                                  Ant-Man (2015)   \nDo You Believe? (2015)                  Do You Believe? (2015)   \nHot Tub Time Machine 2 (2015)    Hot Tub Time Machine 2 (2015)   \n\n                                RottenTomatoes  RottenTomatoes_User  \\\nFILM                                                                  \nAvengers: Age of Ultron (2015)              74                   86   \nCinderella (2015)                           85                   80   \nAnt-Man (2015)                              80                   90   \nDo You Believe? (2015)                      18                   84   \nHot Tub Time Machine 2 (2015)               14                   28   \n\n                                Metacritic  Metacritic_User  IMDB  \\\nFILM                                                                \nAvengers: Age of Ultron (2015)          66              7.1   7.8   \nCinderella (2015)                       67              7.5   7.1   \nAnt-Man (2015)                          64              8.1   7.8   \nDo You Believe? (2015)                  22              4.7   5.4   \nHot Tub Time Machine 2 (2015)           29              3.4   5.1   \n\n                                Fandango_Stars  Fandango_Ratingvalue  RT_norm  \\\nFILM                                                                            \nAvengers: Age of Ultron (2015)             5.0                   4.5     3.70   \nCinderella (2015)                          5.0                   4.5     4.25   \nAnt-Man (2015)                             5.0                   4.5     4.00   \nDo You Believe? (2015)                     5.0                   4.5     0.90   \nHot Tub Time Machine 2 (2015)              3.5                   3.0     0.70   \n\n                                RT_user_norm  ...  IMDB_norm  RT_norm_round  \\\nFILM                                          ...                             \nAvengers: Age of Ultron (2015)           4.3  ...       3.90            3.5   \nCinderella (2015)                        4.0  ...       3.55            4.5   \nAnt-Man (2015)                           4.5  ...       3.90            4.0   \nDo You Believe? (2015)                   4.2  ...       2.70            1.0   \nHot Tub Time Machine 2 (2015)            1.4  ...       2.55            0.5   \n\n                                RT_user_norm_round  Metacritic_norm_round  \\\nFILM                                                                        \nAvengers: Age of Ultron (2015)                 4.5                    3.5   \nCinderella (2015)                              4.0                    3.5   \nAnt-Man (2015)                                 4.5                    3.0   \nDo You Believe? (2015)                         4.0                    1.0   \nHot Tub Time Machine 2 (2015)                  1.5                    1.5   \n\n                                Metacritic_user_norm_round  IMDB_norm_round  \\\nFILM                                                                          \nAvengers: Age of Ultron (2015)                         3.5              4.0   \nCinderella (2015)                                      4.0              3.5   \nAnt-Man (2015)                                         4.0              4.0   \nDo You Believe? (2015)                                 2.5              2.5   \nHot Tub Time Machine 2 (2015)                          1.5              2.5   \n\n                                Metacritic_user_vote_count  \\\nFILM                                                         \nAvengers: Age of Ultron (2015)                        1330   \nCinderella (2015)                                      249   \nAnt-Man (2015)                                         627   \nDo You Believe? (2015)                                  31   \nHot Tub Time Machine 2 (2015)                           88   \n\n                                IMDB_user_vote_count  Fandango_votes  \\\nFILM                                                                   \nAvengers: Age of Ultron (2015)                271107           14846   \nCinderella (2015)                              65709           12640   \nAnt-Man (2015)                                103660           12055   \nDo You Believe? (2015)                          3136            1793   \nHot Tub Time Machine 2 (2015)                  19560            1021   \n\n                                Fandango_Difference  \nFILM                                                 \nAvengers: Age of Ultron (2015)                  0.5  \nCinderella (2015)                               0.5  \nAnt-Man (2015)                                  0.5  \nDo You Believe? (2015)                          0.5  \nHot Tub Time Machine 2 (2015)                   0.5  \n\n[5 rows x 22 columns]\n1111111111111111111111111111111111111111111111111111111111111111111111111111111111111111111111111111\n                                                          FILM  \\\nFILM                                                             \nAvengers: Age of Ultron (2015)  Avengers: Age of Ultron (2015)   \nCinderella (2015)                            Cinderella (2015)   \nAnt-Man (2015)                                  Ant-Man (2015)   \nDo You Believe? (2015)                  Do You Believe? (2015)   \nHot Tub Time Machine 2 (2015)    Hot Tub Time Machine 2 (2015)   \n\n                                RottenTomatoes  RottenTomatoes_User  \\\nFILM                                                                  \nAvengers: Age of Ultron (2015)              74                   86   \nCinderella (2015)                           85                   80   \nAnt-Man (2015)                              80                   90   \nDo You Believe? (2015)                      18                   84   \nHot Tub Time Machine 2 (2015)               14                   28   \n\n                                Metacritic  Metacritic_User  IMDB  \\\nFILM                                                                \nAvengers: Age of Ultron (2015)          66              7.1   7.8   \nCinderella (2015)                       67              7.5   7.1   \nAnt-Man (2015)                          64              8.1   7.8   \nDo You Believe? (2015)                  22              4.7   5.4   \nHot Tub Time Machine 2 (2015)           29              3.4   5.1   \n\n                                Fandango_Stars  Fandango_Ratingvalue  RT_norm  \\\nFILM                                                                            \nAvengers: Age of Ultron (2015)             5.0                   4.5     3.70   \nCinderella (2015)                          5.0                   4.5     4.25   \nAnt-Man (2015)                             5.0                   4.5     4.00   \nDo You Believe? (2015)                     5.0                   4.5     0.90   \nHot Tub Time Machine 2 (2015)              3.5                   3.0     0.70   \n\n                                RT_user_norm  ...  IMDB_norm  RT_norm_round  \\\nFILM                                          ...                             \nAvengers: Age of Ultron (2015)           4.3  ...       3.90            3.5   \nCinderella (2015)                        4.0  ...       3.55            4.5   \nAnt-Man (2015)                           4.5  ...       3.90            4.0   \nDo You Believe? (2015)                   4.2  ...       2.70            1.0   \nHot Tub Time Machine 2 (2015)            1.4  ...       2.55            0.5   \n\n                                RT_user_norm_round  Metacritic_norm_round  \\\nFILM                                                                        \nAvengers: Age of Ultron (2015)                 4.5                    3.5   \nCinderella (2015)                              4.0                    3.5   \nAnt-Man (2015)                                 4.5                    3.0   \nDo You Believe? (2015)                         4.0                    1.0   \nHot Tub Time Machine 2 (2015)                  1.5                    1.5   \n\n                                Metacritic_user_norm_round  IMDB_norm_round  \\\nFILM                                                                          \nAvengers: Age of Ultron (2015)                         3.5              4.0   \nCinderella (2015)                                      4.0              3.5   \nAnt-Man (2015)                                         4.0              4.0   \nDo You Believe? (2015)                                 2.5              2.5   \nHot Tub Time Machine 2 (2015)                          1.5              2.5   \n\n                                Metacritic_user_vote_count  \\\nFILM                                                         \nAvengers: Age of Ultron (2015)                        1330   \nCinderella (2015)                                      249   \nAnt-Man (2015)                                         627   \nDo You Believe? (2015)                                  31   \nHot Tub Time Machine 2 (2015)                           88   \n\n                                IMDB_user_vote_count  Fandango_votes  \\\nFILM                                                                   \nAvengers: Age of Ultron (2015)                271107           14846   \nCinderella (2015)                              65709           12640   \nAnt-Man (2015)                                103660           12055   \nDo You Believe? (2015)                          3136            1793   \nHot Tub Time Machine 2 (2015)                  19560            1021   \n\n                                Fandango_Difference  \nFILM                                                 \nAvengers: Age of Ultron (2015)                  0.5  \nCinderella (2015)                               0.5  \nAnt-Man (2015)                                  0.5  \nDo You Believe? (2015)                          0.5  \nHot Tub Time Machine 2 (2015)                   0.5  \n\n[5 rows x 22 columns]\n2222222222222222222222222222222222222222222222222222222222222222222222222222222222222222222222222222\nFILM                          Hot Tub Time Machine 2 (2015)\nRottenTomatoes                                           14\nRottenTomatoes_User                                      28\nMetacritic                                               29\nMetacritic_User                                         3.4\nIMDB                                                    5.1\nFandango_Stars                                          3.5\nFandango_Ratingvalue                                      3\nRT_norm                                                 0.7\nRT_user_norm                                            1.4\nMetacritic_norm                                        1.45\nMetacritic_user_nom                                     1.7\nIMDB_norm                                              2.55\nRT_norm_round                                           0.5\nRT_user_norm_round                                      1.5\nMetacritic_norm_round                                   1.5\nMetacritic_user_norm_round                              1.5\nIMDB_norm_round                                         2.5\nMetacritic_user_vote_count                               88\nIMDB_user_vote_count                                  19560\nFandango_votes                                         1021\nFandango_Difference                                     0.5\nName: Hot Tub Time Machine 2 (2015), dtype: object\n3333333333333333333333333333333333333333333333333333333333333333333333333333333333333333333333333333\n                                                                  FILM  \\\nFILM                                                                     \nShaun the Sheep Movie (2015)              Shaun the Sheep Movie (2015)   \nMr. Holmes (2015)                                    Mr. Holmes (2015)   \nKumiko, The Treasure Hunter (2015)  Kumiko, The Treasure Hunter (2015)   \n\n                                    RottenTomatoes  RottenTomatoes_User  \\\nFILM                                                                      \nShaun the Sheep Movie (2015)                    99                   82   \nMr. Holmes (2015)                               87                   78   \nKumiko, The Treasure Hunter (2015)              87                   63   \n\n                                    Metacritic  Metacritic_User  IMDB  \\\nFILM                                                                    \nShaun the Sheep Movie (2015)                81              8.8   7.4   \nMr. Holmes (2015)                           67              7.9   7.4   \nKumiko, The Treasure Hunter (2015)          68              6.4   6.7   \n\n                                    Fandango_Stars  Fandango_Ratingvalue  \\\nFILM                                                                       \nShaun the Sheep Movie (2015)                   4.5                   4.0   \nMr. Holmes (2015)                              4.0                   4.0   \nKumiko, The Treasure Hunter (2015)             3.5                   3.5   \n\n                                    RT_norm  RT_user_norm  ...  IMDB_norm  \\\nFILM                                                       ...              \nShaun the Sheep Movie (2015)           4.95          4.10  ...       3.70   \nMr. Holmes (2015)                      4.35          3.90  ...       3.70   \nKumiko, The Treasure Hunter (2015)     4.35          3.15  ...       3.35   \n\n                                    RT_norm_round  RT_user_norm_round  \\\nFILM                                                                    \nShaun the Sheep Movie (2015)                  5.0                 4.0   \nMr. Holmes (2015)                             4.5                 4.0   \nKumiko, The Treasure Hunter (2015)            4.5                 3.0   \n\n                                    Metacritic_norm_round  \\\nFILM                                                        \nShaun the Sheep Movie (2015)                          4.0   \nMr. Holmes (2015)                                     3.5   \nKumiko, The Treasure Hunter (2015)                    3.5   \n\n                                    Metacritic_user_norm_round  \\\nFILM                                                             \nShaun the Sheep Movie (2015)                               4.5   \nMr. Holmes (2015)                                          4.0   \nKumiko, The Treasure Hunter (2015)                         3.0   \n\n                                    IMDB_norm_round  \\\nFILM                                                  \nShaun the Sheep Movie (2015)                    3.5   \nMr. Holmes (2015)                               3.5   \nKumiko, The Treasure Hunter (2015)              3.5   \n\n                                    Metacritic_user_vote_count  \\\nFILM                                                             \nShaun the Sheep Movie (2015)                                62   \nMr. Holmes (2015)                                           33   \nKumiko, The Treasure Hunter (2015)                          19   \n\n                                    IMDB_user_vote_count  Fandango_votes  \\\nFILM                                                                       \nShaun the Sheep Movie (2015)                       12227             896   \nMr. Holmes (2015)                                   7367            1348   \nKumiko, The Treasure Hunter (2015)                  5289              41   \n\n                                    Fandango_Difference  \nFILM                                                     \nShaun the Sheep Movie (2015)                        0.5  \nMr. Holmes (2015)                                   0.0  \nKumiko, The Treasure Hunter (2015)                  0.0  \n\n[3 rows x 22 columns]\n"
     ]
    }
   ],
   "source": [
    "print(fandango_films['Avengers: Age of Ultron (2015)':'Hot Tub Time Machine 2 (2015)'])\n",
    "print('1'*100)\n",
    "print(fandango_films.loc['Avengers: Age of Ultron (2015)':'Hot Tub Time Machine 2 (2015)'])\n",
    "print('2'*100)\n",
    "print(fandango_films.loc['Hot Tub Time Machine 2 (2015)'])\n",
    "movie=['Shaun the Sheep Movie (2015)','Mr. Holmes (2015)','Kumiko, The Treasure Hunter (2015)']\n",
    "print('3'*100)\n",
    "print(fandango_films.loc[movie])"
   ]
  },
  {
   "cell_type": "code",
   "execution_count": null,
   "metadata": {
    "collapsed": false,
    "pycharm": {
     "name": "#%%\n",
     "is_executing": false
    }
   },
   "outputs": [
    {
     "name": "stdout",
     "output_type": "stream",
     "text": [
      "5555555555\n                                           Metacritic_User  IMDB  \\\nFILM                                                               \nAvengers: Age of Ultron (2015)                         7.1   7.8   \nCinderella (2015)                                      7.5   7.1   \nAnt-Man (2015)                                         8.1   7.8   \nDo You Believe? (2015)                                 4.7   5.4   \nHot Tub Time Machine 2 (2015)                          3.4   5.1   \n...                                                    ...   ...   \nMr. Holmes (2015)                                      7.9   7.4   \n'71 (2015)                                             7.5   7.2   \nTwo Days, One Night (2014)                             8.8   7.4   \nGett: The Trial of Viviane Amsalem (2015)              7.3   7.8   \nKumiko, The Treasure Hunter (2015)                     6.4   6.7   \n\n                                           Fandango_Stars  \\\nFILM                                                        \nAvengers: Age of Ultron (2015)                        5.0   \nCinderella (2015)                                     5.0   \nAnt-Man (2015)                                        5.0   \nDo You Believe? (2015)                                5.0   \nHot Tub Time Machine 2 (2015)                         3.5   \n...                                                   ...   \nMr. Holmes (2015)                                     4.0   \n'71 (2015)                                            3.5   \nTwo Days, One Night (2014)                            3.5   \nGett: The Trial of Viviane Amsalem (2015)             3.5   \nKumiko, The Treasure Hunter (2015)                    3.5   \n\n                                           Fandango_Ratingvalue  RT_norm  \\\nFILM                                                                       \nAvengers: Age of Ultron (2015)                              4.5     3.70   \nCinderella (2015)                                           4.5     4.25   \nAnt-Man (2015)                                              4.5     4.00   \nDo You Believe? (2015)                                      4.5     0.90   \nHot Tub Time Machine 2 (2015)                               3.0     0.70   \n...                                                         ...      ...   \nMr. Holmes (2015)                                           4.0     4.35   \n'71 (2015)                                                  3.5     4.85   \nTwo Days, One Night (2014)                                  3.5     4.85   \nGett: The Trial of Viviane Amsalem (2015)                   3.5     5.00   \nKumiko, The Treasure Hunter (2015)                          3.5     4.35   \n\n                                           RT_user_norm  Metacritic_norm  \\\nFILM                                                                       \nAvengers: Age of Ultron (2015)                     4.30             3.30   \nCinderella (2015)                                  4.00             3.35   \nAnt-Man (2015)                                     4.50             3.20   \nDo You Believe? (2015)                             4.20             1.10   \nHot Tub Time Machine 2 (2015)                      1.40             1.45   \n...                                                 ...              ...   \nMr. Holmes (2015)                                  3.90             3.35   \n'71 (2015)                                         4.10             4.15   \nTwo Days, One Night (2014)                         3.90             4.45   \nGett: The Trial of Viviane Amsalem (2015)          4.05             4.50   \nKumiko, The Treasure Hunter (2015)                 3.15             3.40   \n\n                                           Metacritic_user_nom  IMDB_norm  \\\nFILM                                                                        \nAvengers: Age of Ultron (2015)                            3.55       3.90   \nCinderella (2015)                                         3.75       3.55   \nAnt-Man (2015)                                            4.05       3.90   \nDo You Believe? (2015)                                    2.35       2.70   \nHot Tub Time Machine 2 (2015)                             1.70       2.55   \n...                                                        ...        ...   \nMr. Holmes (2015)                                         3.95       3.70   \n'71 (2015)                                                3.75       3.60   \nTwo Days, One Night (2014)                                4.40       3.70   \nGett: The Trial of Viviane Amsalem (2015)                 3.65       3.90   \nKumiko, The Treasure Hunter (2015)                        3.20       3.35   \n\n                                           RT_norm_round  RT_user_norm_round  \\\nFILM                                                                           \nAvengers: Age of Ultron (2015)                       3.5                 4.5   \nCinderella (2015)                                    4.5                 4.0   \nAnt-Man (2015)                                       4.0                 4.5   \nDo You Believe? (2015)                               1.0                 4.0   \nHot Tub Time Machine 2 (2015)                        0.5                 1.5   \n...                                                  ...                 ...   \nMr. Holmes (2015)                                    4.5                 4.0   \n'71 (2015)                                           5.0                 4.0   \nTwo Days, One Night (2014)                           5.0                 4.0   \nGett: The Trial of Viviane Amsalem (2015)            5.0                 4.0   \nKumiko, The Treasure Hunter (2015)                   4.5                 3.0   \n\n                                           Metacritic_norm_round  \\\nFILM                                                               \nAvengers: Age of Ultron (2015)                               3.5   \nCinderella (2015)                                            3.5   \nAnt-Man (2015)                                               3.0   \nDo You Believe? (2015)                                       1.0   \nHot Tub Time Machine 2 (2015)                                1.5   \n...                                                          ...   \nMr. Holmes (2015)                                            3.5   \n'71 (2015)                                                   4.0   \nTwo Days, One Night (2014)                                   4.5   \nGett: The Trial of Viviane Amsalem (2015)                    4.5   \nKumiko, The Treasure Hunter (2015)                           3.5   \n\n                                           Metacritic_user_norm_round  \\\nFILM                                                                    \nAvengers: Age of Ultron (2015)                                    3.5   \nCinderella (2015)                                                 4.0   \nAnt-Man (2015)                                                    4.0   \nDo You Believe? (2015)                                            2.5   \nHot Tub Time Machine 2 (2015)                                     1.5   \n...                                                               ...   \nMr. Holmes (2015)                                                 4.0   \n'71 (2015)                                                        4.0   \nTwo Days, One Night (2014)                                        4.5   \nGett: The Trial of Viviane Amsalem (2015)                         3.5   \nKumiko, The Treasure Hunter (2015)                                3.0   \n\n                                           IMDB_norm_round  \\\nFILM                                                         \nAvengers: Age of Ultron (2015)                         4.0   \nCinderella (2015)                                      3.5   \nAnt-Man (2015)                                         4.0   \nDo You Believe? (2015)                                 2.5   \nHot Tub Time Machine 2 (2015)                          2.5   \n...                                                    ...   \nMr. Holmes (2015)                                      3.5   \n'71 (2015)                                             3.5   \nTwo Days, One Night (2014)                             3.5   \nGett: The Trial of Viviane Amsalem (2015)              4.0   \nKumiko, The Treasure Hunter (2015)                     3.5   \n\n                                           Fandango_Difference  \nFILM                                                            \nAvengers: Age of Ultron (2015)                             0.5  \nCinderella (2015)                                          0.5  \nAnt-Man (2015)                                             0.5  \nDo You Believe? (2015)                                     0.5  \nHot Tub Time Machine 2 (2015)                              0.5  \n...                                                        ...  \nMr. Holmes (2015)                                          0.0  \n'71 (2015)                                                 0.0  \nTwo Days, One Night (2014)                                 0.0  \nGett: The Trial of Viviane Amsalem (2015)                  0.0  \nKumiko, The Treasure Hunter (2015)                         0.0  \n\n[146 rows x 15 columns]\n6666666666\nFILM\nAvengers: Age of Ultron (2015)               7.1\nCinderella (2015)                            7.5\nAnt-Man (2015)                               8.1\nDo You Believe? (2015)                       4.7\nHot Tub Time Machine 2 (2015)                3.4\n                                            ... \nMr. Holmes (2015)                            7.9\n'71 (2015)                                   7.5\nTwo Days, One Night (2014)                   8.8\nGett: The Trial of Viviane Amsalem (2015)    7.3\nKumiko, The Treasure Hunter (2015)           6.4\nName: Metacritic_User, Length: 146, dtype: float64\nFILM\nAvengers: Age of Ultron (2015)               7.8\nCinderella (2015)                            7.1\nAnt-Man (2015)                               7.8\nDo You Believe? (2015)                       5.4\nHot Tub Time Machine 2 (2015)                5.1\n                                            ... \nMr. Holmes (2015)                            7.4\n'71 (2015)                                   7.2\nTwo Days, One Night (2014)                   7.4\nGett: The Trial of Viviane Amsalem (2015)    7.8\nKumiko, The Treasure Hunter (2015)           6.7\nName: IMDB, Length: 146, dtype: float64\nFILM\nAvengers: Age of Ultron (2015)               5.0\nCinderella (2015)                            5.0\nAnt-Man (2015)                               5.0\nDo You Believe? (2015)                       5.0\nHot Tub Time Machine 2 (2015)                3.5\n                                            ... \nMr. Holmes (2015)                            4.0\n'71 (2015)                                   3.5\nTwo Days, One Night (2014)                   3.5\nGett: The Trial of Viviane Amsalem (2015)    3.5\nKumiko, The Treasure Hunter (2015)           3.5\nName: Fandango_Stars, Length: 146, dtype: float64\nFILM\nAvengers: Age of Ultron (2015)               4.5\nCinderella (2015)                            4.5\nAnt-Man (2015)                               4.5\nDo You Believe? (2015)                       4.5\nHot Tub Time Machine 2 (2015)                3.0\n                                            ... \nMr. Holmes (2015)                            4.0\n'71 (2015)                                   3.5\nTwo Days, One Night (2014)                   3.5\nGett: The Trial of Viviane Amsalem (2015)    3.5\nKumiko, The Treasure Hunter (2015)           3.5\nName: Fandango_Ratingvalue, Length: 146, dtype: float64\nFILM\nAvengers: Age of Ultron (2015)               3.70\nCinderella (2015)                            4.25\nAnt-Man (2015)                               4.00\nDo You Believe? (2015)                       0.90\nHot Tub Time Machine 2 (2015)                0.70\n                                             ... \nMr. Holmes (2015)                            4.35\n'71 (2015)                                   4.85\nTwo Days, One Night (2014)                   4.85\nGett: The Trial of Viviane Amsalem (2015)    5.00\nKumiko, The Treasure Hunter (2015)           4.35\nName: RT_norm, Length: 146, dtype: float64\nFILM\nAvengers: Age of Ultron (2015)               4.30\nCinderella (2015)                            4.00\nAnt-Man (2015)                               4.50\nDo You Believe? (2015)                       4.20\nHot Tub Time Machine 2 (2015)                1.40\n                                             ... \nMr. Holmes (2015)                            3.90\n'71 (2015)                                   4.10\nTwo Days, One Night (2014)                   3.90\nGett: The Trial of Viviane Amsalem (2015)    4.05\nKumiko, The Treasure Hunter (2015)           3.15\nName: RT_user_norm, Length: 146, dtype: float64\nFILM\nAvengers: Age of Ultron (2015)               3.30\nCinderella (2015)                            3.35\nAnt-Man (2015)                               3.20\nDo You Believe? (2015)                       1.10\nHot Tub Time Machine 2 (2015)                1.45\n                                             ... \nMr. Holmes (2015)                            3.35\n'71 (2015)                                   4.15\nTwo Days, One Night (2014)                   4.45\nGett: The Trial of Viviane Amsalem (2015)    4.50\nKumiko, The Treasure Hunter (2015)           3.40\nName: Metacritic_norm, Length: 146, dtype: float64\nFILM\nAvengers: Age of Ultron (2015)               3.55\nCinderella (2015)                            3.75\nAnt-Man (2015)                               4.05\nDo You Believe? (2015)                       2.35\nHot Tub Time Machine 2 (2015)                1.70\n                                             ... \nMr. Holmes (2015)                            3.95\n'71 (2015)                                   3.75\nTwo Days, One Night (2014)                   4.40\nGett: The Trial of Viviane Amsalem (2015)    3.65\nKumiko, The Treasure Hunter (2015)           3.20\nName: Metacritic_user_nom, Length: 146, dtype: float64\nFILM\nAvengers: Age of Ultron (2015)               3.90\nCinderella (2015)                            3.55\nAnt-Man (2015)                               3.90\nDo You Believe? (2015)                       2.70\nHot Tub Time Machine 2 (2015)                2.55\n                                             ... \nMr. Holmes (2015)                            3.70\n'71 (2015)                                   3.60\nTwo Days, One Night (2014)                   3.70\nGett: The Trial of Viviane Amsalem (2015)    3.90\nKumiko, The Treasure Hunter (2015)           3.35\nName: IMDB_norm, Length: 146, dtype: float64\nFILM\nAvengers: Age of Ultron (2015)               3.5\nCinderella (2015)                            4.5\nAnt-Man (2015)                               4.0\nDo You Believe? (2015)                       1.0\nHot Tub Time Machine 2 (2015)                0.5\n                                            ... \nMr. Holmes (2015)                            4.5\n'71 (2015)                                   5.0\nTwo Days, One Night (2014)                   5.0\nGett: The Trial of Viviane Amsalem (2015)    5.0\nKumiko, The Treasure Hunter (2015)           4.5\nName: RT_norm_round, Length: 146, dtype: float64\nFILM\nAvengers: Age of Ultron (2015)               4.5\nCinderella (2015)                            4.0\nAnt-Man (2015)                               4.5\nDo You Believe? (2015)                       4.0\nHot Tub Time Machine 2 (2015)                1.5\n                                            ... \nMr. Holmes (2015)                            4.0\n'71 (2015)                                   4.0\nTwo Days, One Night (2014)                   4.0\nGett: The Trial of Viviane Amsalem (2015)    4.0\nKumiko, The Treasure Hunter (2015)           3.0\nName: RT_user_norm_round, Length: 146, dtype: float64\nFILM\nAvengers: Age of Ultron (2015)               3.5\nCinderella (2015)                            3.5\nAnt-Man (2015)                               3.0\nDo You Believe? (2015)                       1.0\nHot Tub Time Machine 2 (2015)                1.5\n                                            ... \nMr. Holmes (2015)                            3.5\n'71 (2015)                                   4.0\nTwo Days, One Night (2014)                   4.5\nGett: The Trial of Viviane Amsalem (2015)    4.5\nKumiko, The Treasure Hunter (2015)           3.5\nName: Metacritic_norm_round, Length: 146, dtype: float64\nFILM\nAvengers: Age of Ultron (2015)               3.5\nCinderella (2015)                            4.0\nAnt-Man (2015)                               4.0\nDo You Believe? (2015)                       2.5\nHot Tub Time Machine 2 (2015)                1.5\n                                            ... \nMr. Holmes (2015)                            4.0\n'71 (2015)                                   4.0\nTwo Days, One Night (2014)                   4.5\nGett: The Trial of Viviane Amsalem (2015)    3.5\nKumiko, The Treasure Hunter (2015)           3.0\nName: Metacritic_user_norm_round, Length: 146, dtype: float64\nFILM\nAvengers: Age of Ultron (2015)               4.0\nCinderella (2015)                            3.5\nAnt-Man (2015)                               4.0\nDo You Believe? (2015)                       2.5\nHot Tub Time Machine 2 (2015)                2.5\n                                            ... \nMr. Holmes (2015)                            3.5\n'71 (2015)                                   3.5\nTwo Days, One Night (2014)                   3.5\nGett: The Trial of Viviane Amsalem (2015)    4.0\nKumiko, The Treasure Hunter (2015)           3.5\nName: IMDB_norm_round, Length: 146, dtype: float64\nFILM\nAvengers: Age of Ultron (2015)               0.5\nCinderella (2015)                            0.5\nAnt-Man (2015)                               0.5\nDo You Believe? (2015)                       0.5\nHot Tub Time Machine 2 (2015)                0.5\n                                            ... \nMr. Holmes (2015)                            0.0\n'71 (2015)                                   0.0\nTwo Days, One Night (2014)                   0.0\nGett: The Trial of Viviane Amsalem (2015)    0.0\nKumiko, The Treasure Hunter (2015)           0.0\nName: Fandango_Difference, Length: 146, dtype: float64\nMetacritic_User               None\nIMDB                          None\nFandango_Stars                None\nFandango_Ratingvalue          None\nRT_norm                       None\nRT_user_norm                  None\nMetacritic_norm               None\nMetacritic_user_nom           None\nIMDB_norm                     None\nRT_norm_round                 None\nRT_user_norm_round            None\nMetacritic_norm_round         None\nMetacritic_user_norm_round    None\nIMDB_norm_round               None\nFandango_Difference           None\ndtype: object\n"
     ]
    }
   ],
   "source": [
    "types=fandango_films.dtypes\n",
    "# print(types)\n",
    "# print('4'*100)\n",
    "# print(types[types.values == 'float64'])\n",
    "\n",
    "# print(types[types.values=='float64'].index )\n",
    "float_columns=types[types.values=='float64'].index\n",
    "float_df=fandango_films[float_columns]\n",
    "print('5'*10)\n",
    "print(float_df)\n",
    "print('6'*10)\n",
    "# deviations=float_df.apply(lambda x: np.std(x))\n",
    "deviations=float_df.apply(lambda x: print(x))\n",
    "print(deviations)\n",
    "\n",
    "#%%\n",
    "print('1'*100)\n",
    "\n",
    "\n"
   ]
  },
  {
   "cell_type": "code",
   "execution_count": 13,
   "metadata": {
    "collapsed": true
   },
   "outputs": [
    {
     "name": "stdout",
     "output_type": "stream",
     "text": [
      "6666666666666666666666666666666666666666666666666666666666666666666666666666666666666666666666666666\n5555555555555555555555555555555555555555555555555555555555555555555555555555555555555555555555555555\nFILM                           object\nRottenTomatoes                  int64\nRottenTomatoes_User             int64\nMetacritic                      int64\nMetacritic_User               float64\nIMDB                          float64\nFandango_Stars                float64\nFandango_Ratingvalue          float64\nRT_norm                       float64\nRT_user_norm                  float64\nMetacritic_norm               float64\nMetacritic_user_nom           float64\nIMDB_norm                     float64\nRT_norm_round                 float64\nRT_user_norm_round            float64\nMetacritic_norm_round         float64\nMetacritic_user_norm_round    float64\nIMDB_norm_round               float64\nMetacritic_user_vote_count      int64\nIMDB_user_vote_count            int64\nFandango_votes                  int64\nFandango_Difference           float64\ndtype: object\n"
     ]
    }
   ],
   "source": [
    "print('6'*100)\n",
    "print('5'*100)\n",
    "import numpy as np\n",
    "types=fandango_films.dtypes\n",
    "print(types)\n",
    "\n",
    "\n"
   ]
  },
  {
   "cell_type": "markdown",
   "metadata": {},
   "source": [
    ""
   ]
  },
  {
   "cell_type": "code",
   "execution_count": 17,
   "metadata": {
    "collapsed": true
   },
   "outputs": [
    {
     "name": "stdout",
     "output_type": "stream",
     "text": [
      "Index(['Metacritic_User', 'IMDB', 'Fandango_Stars', 'Fandango_Ratingvalue',\n       'RT_norm', 'RT_user_norm', 'Metacritic_norm', 'Metacritic_user_nom',\n       'IMDB_norm', 'RT_norm_round', 'RT_user_norm_round',\n       'Metacritic_norm_round', 'Metacritic_user_norm_round',\n       'IMDB_norm_round', 'Fandango_Difference'],\n      dtype='object')\n"
     ]
    },
    {
     "data": {
      "text/plain": [
       "Metacritic_User               1.505529\nIMDB                          0.955447\nFandango_Stars                0.538532\nFandango_Ratingvalue          0.501106\nRT_norm                       1.503265\nRT_user_norm                  0.997787\nMetacritic_norm               0.972522\nMetacritic_user_nom           0.752765\nIMDB_norm                     0.477723\nRT_norm_round                 1.509404\nRT_user_norm_round            1.003559\nMetacritic_norm_round         0.987561\nMetacritic_user_norm_round    0.785412\nIMDB_norm_round               0.501043\nFandango_Difference           0.152141\ndtype: float64"
      ]
     },
     "execution_count": 17,
     "metadata": {},
     "output_type": "execute_result"
    }
   ],
   "source": [
    "float_columns=types[types.values=='float64'].index\n",
    "print(float_columns)\n",
    "float_df=fandango_films[float_columns]\n",
    "# print(float_df)\n",
    "float_df.apply(lambda x:np.std(x))"
   ]
  },
  {
   "cell_type": "code",
   "execution_count": 22,
   "metadata": {},
   "outputs": [
    {
     "name": "stdout",
     "output_type": "stream",
     "text": [
      "                                           RT_user_norm  Metacritic_user_nom\nFILM                                                                        \nAvengers: Age of Ultron (2015)                     4.30                 3.55\nCinderella (2015)                                  4.00                 3.75\nAnt-Man (2015)                                     4.50                 4.05\nDo You Believe? (2015)                             4.20                 2.35\nHot Tub Time Machine 2 (2015)                      1.40                 1.70\n...                                                 ...                  ...\nMr. Holmes (2015)                                  3.90                 3.95\n'71 (2015)                                         4.10                 3.75\nTwo Days, One Night (2014)                         3.90                 4.40\nGett: The Trial of Viviane Amsalem (2015)          4.05                 3.65\nKumiko, The Treasure Hunter (2015)                 3.15                 3.20\n\n[146 rows x 2 columns]\n"
     ]
    },
    {
     "data": {
      "text/plain": [
       "FILM\nAvengers: Age of Ultron (2015)               0.375\nCinderella (2015)                            0.125\nAnt-Man (2015)                               0.225\nDo You Believe? (2015)                       0.925\nHot Tub Time Machine 2 (2015)                0.150\n                                             ...  \nMr. Holmes (2015)                            0.025\n'71 (2015)                                   0.175\nTwo Days, One Night (2014)                   0.250\nGett: The Trial of Viviane Amsalem (2015)    0.200\nKumiko, The Treasure Hunter (2015)           0.025\nLength: 146, dtype: float64"
      ]
     },
     "execution_count": 22,
     "metadata": {},
     "output_type": "execute_result"
    }
   ],
   "source": [
    "rt_mt_user=float_df[['RT_user_norm','Metacritic_user_nom']]\n",
    "print(rt_mt_user)\n",
    "rt_mt_user.apply(lambda x:np.std(x),axis=1)"
   ]
  },
  {
   "cell_type": "code",
   "execution_count": null,
   "metadata": {},
   "outputs": [],
   "source": []
  }
 ],
 "metadata": {
  "language_info": {
   "codemirror_mode": {
    "name": "ipython",
    "version": 2
   },
   "file_extension": ".py",
   "mimetype": "text/x-python",
   "name": "python",
   "nbconvert_exporter": "python",
   "pygments_lexer": "ipython2",
   "version": "2.7.6"
  },
  "kernelspec": {
   "name": "python3",
   "language": "python",
   "display_name": "Python 3"
  },
  "pycharm": {
   "stem_cell": {
    "cell_type": "raw",
    "source": [],
    "metadata": {
     "collapsed": false
    }
   }
  }
 },
 "nbformat": 4,
 "nbformat_minor": 0
}
