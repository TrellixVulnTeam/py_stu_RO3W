{
 "cells": [
  {
   "cell_type": "code",
   "execution_count": 7,
   "metadata": {
    "pycharm": {
     "is_executing": false
    }
   },
   "outputs": [
    {
     "name": "stdout",
     "output_type": "stream",
     "text": [
      "<class 'pandas.core.frame.DataFrame'>\n",
      "NDB_No               int64\n",
      "Shrt_Desc           object\n",
      "Water_(g)          float64\n",
      "Energ_Kcal           int64\n",
      "Protein_(g)        float64\n",
      "Lipid_Tot_(g)      float64\n",
      "Ash_(g)            float64\n",
      "Carbohydrt_(g)     float64\n",
      "Fiber_TD_(g)       float64\n",
      "Sugar_Tot_(g)      float64\n",
      "Calcium_(mg)       float64\n",
      "Iron_(mg)          float64\n",
      "Magnesium_(mg)     float64\n",
      "Phosphorus_(mg)    float64\n",
      "Potassium_(mg)     float64\n",
      "Sodium_(mg)        float64\n",
      "Zinc_(mg)          float64\n",
      "Copper_(mg)        float64\n",
      "Manganese_(mg)     float64\n",
      "Selenium_(mcg)     float64\n",
      "Vit_C_(mg)         float64\n",
      "Thiamin_(mg)       float64\n",
      "Riboflavin_(mg)    float64\n",
      "Niacin_(mg)        float64\n",
      "Vit_B6_(mg)        float64\n",
      "Vit_B12_(mcg)      float64\n",
      "Vit_A_IU           float64\n",
      "Vit_A_RAE          float64\n",
      "Vit_E_(mg)         float64\n",
      "Vit_D_mcg          float64\n",
      "Vit_D_IU           float64\n",
      "Vit_K_(mcg)        float64\n",
      "FA_Sat_(g)         float64\n",
      "FA_Mono_(g)        float64\n",
      "FA_Poly_(g)        float64\n",
      "Cholestrl_(mg)     float64\n",
      "dtype: object\n",
      "   NDB_No                 Shrt_Desc  Water_(g)  Energ_Kcal  Protein_(g)  \\\n",
      "0    1001          BUTTER WITH SALT      15.87         717         0.85   \n",
      "1    1002  BUTTER WHIPPED WITH SALT      15.87         717         0.85   \n",
      "2    1003      BUTTER OIL ANHYDROUS       0.24         876         0.28   \n",
      "3    1004               CHEESE BLUE      42.41         353        21.40   \n",
      "4    1005              CHEESE BRICK      41.11         371        23.24   \n",
      "\n",
      "   Lipid_Tot_(g)  Ash_(g)  Carbohydrt_(g)  Fiber_TD_(g)  Sugar_Tot_(g)  ...  \\\n",
      "0          81.11     2.11            0.06           0.0           0.06  ...   \n",
      "1          81.11     2.11            0.06           0.0           0.06  ...   \n",
      "2          99.48     0.00            0.00           0.0           0.00  ...   \n",
      "3          28.74     5.11            2.34           0.0           0.50  ...   \n",
      "4          29.68     3.18            2.79           0.0           0.51  ...   \n",
      "\n",
      "   Vit_A_IU  Vit_A_RAE  Vit_E_(mg)  Vit_D_mcg  Vit_D_IU  Vit_K_(mcg)  \\\n",
      "0    2499.0      684.0        2.32        1.5      60.0          7.0   \n",
      "1    2499.0      684.0        2.32        1.5      60.0          7.0   \n",
      "2    3069.0      840.0        2.80        1.8      73.0          8.6   \n",
      "3     721.0      198.0        0.25        0.5      21.0          2.4   \n",
      "4    1080.0      292.0        0.26        0.5      22.0          2.5   \n",
      "\n",
      "   FA_Sat_(g)  FA_Mono_(g)  FA_Poly_(g)  Cholestrl_(mg)  \n",
      "0      51.368       21.021        3.043           215.0  \n",
      "1      50.489       23.426        3.012           219.0  \n",
      "2      61.924       28.732        3.694           256.0  \n",
      "3      18.669        7.778        0.800            75.0  \n",
      "4      18.764        8.598        0.784            94.0  \n",
      "\n",
      "[5 rows x 36 columns]\n",
      "   NDB_No                 Shrt_Desc  Water_(g)  Energ_Kcal  Protein_(g)  \\\n",
      "0    1001          BUTTER WITH SALT      15.87         717         0.85   \n",
      "1    1002  BUTTER WHIPPED WITH SALT      15.87         717         0.85   \n",
      "2    1003      BUTTER OIL ANHYDROUS       0.24         876         0.28   \n",
      "\n",
      "   Lipid_Tot_(g)  Ash_(g)  Carbohydrt_(g)  Fiber_TD_(g)  Sugar_Tot_(g)  ...  \\\n",
      "0          81.11     2.11            0.06           0.0           0.06  ...   \n",
      "1          81.11     2.11            0.06           0.0           0.06  ...   \n",
      "2          99.48     0.00            0.00           0.0           0.00  ...   \n",
      "\n",
      "   Vit_A_IU  Vit_A_RAE  Vit_E_(mg)  Vit_D_mcg  Vit_D_IU  Vit_K_(mcg)  \\\n",
      "0    2499.0      684.0        2.32        1.5      60.0          7.0   \n",
      "1    2499.0      684.0        2.32        1.5      60.0          7.0   \n",
      "2    3069.0      840.0        2.80        1.8      73.0          8.6   \n",
      "\n",
      "   FA_Sat_(g)  FA_Mono_(g)  FA_Poly_(g)  Cholestrl_(mg)  \n",
      "0      51.368       21.021        3.043           215.0  \n",
      "1      50.489       23.426        3.012           219.0  \n",
      "2      61.924       28.732        3.694           256.0  \n",
      "\n",
      "[3 rows x 36 columns]\n",
      "      NDB_No         Shrt_Desc  Water_(g)  Energ_Kcal  Protein_(g)  \\\n",
      "8615   90480        SYRUP CANE       26.0         269          0.0   \n",
      "8616   90560         SNAIL RAW       79.2          90         16.1   \n",
      "8617   93600  TURTLE GREEN RAW       78.5          89         19.8   \n",
      "\n",
      "      Lipid_Tot_(g)  Ash_(g)  Carbohydrt_(g)  Fiber_TD_(g)  Sugar_Tot_(g)  \\\n",
      "8615            0.0     0.86           73.14           0.0           73.2   \n",
      "8616            1.4     1.30            2.00           0.0            0.0   \n",
      "8617            0.5     1.20            0.00           0.0            0.0   \n",
      "\n",
      "      ...  Vit_A_IU  Vit_A_RAE  Vit_E_(mg)  Vit_D_mcg  Vit_D_IU  Vit_K_(mcg)  \\\n",
      "8615  ...       0.0        0.0         0.0        0.0       0.0          0.0   \n",
      "8616  ...     100.0       30.0         5.0        0.0       0.0          0.1   \n",
      "8617  ...     100.0       30.0         0.5        0.0       0.0          0.1   \n",
      "\n",
      "      FA_Sat_(g)  FA_Mono_(g)  FA_Poly_(g)  Cholestrl_(mg)  \n",
      "8615       0.000        0.000        0.000             0.0  \n",
      "8616       0.361        0.259        0.252            50.0  \n",
      "8617       0.127        0.088        0.170            50.0  \n",
      "\n",
      "[3 rows x 36 columns]\n",
      "Index(['NDB_No', 'Shrt_Desc', 'Water_(g)', 'Energ_Kcal', 'Protein_(g)',\n",
      "       'Lipid_Tot_(g)', 'Ash_(g)', 'Carbohydrt_(g)', 'Fiber_TD_(g)',\n",
      "       'Sugar_Tot_(g)', 'Calcium_(mg)', 'Iron_(mg)', 'Magnesium_(mg)',\n",
      "       'Phosphorus_(mg)', 'Potassium_(mg)', 'Sodium_(mg)', 'Zinc_(mg)',\n",
      "       'Copper_(mg)', 'Manganese_(mg)', 'Selenium_(mcg)', 'Vit_C_(mg)',\n",
      "       'Thiamin_(mg)', 'Riboflavin_(mg)', 'Niacin_(mg)', 'Vit_B6_(mg)',\n",
      "       'Vit_B12_(mcg)', 'Vit_A_IU', 'Vit_A_RAE', 'Vit_E_(mg)', 'Vit_D_mcg',\n",
      "       'Vit_D_IU', 'Vit_K_(mcg)', 'FA_Sat_(g)', 'FA_Mono_(g)', 'FA_Poly_(g)',\n",
      "       'Cholestrl_(mg)'],\n",
      "      dtype='object')\n",
      "(8618, 36)\n",
      "****************************************************************************************************\n",
      "NDB_No                         1001\n",
      "Shrt_Desc          BUTTER WITH SALT\n",
      "Water_(g)                     15.87\n",
      "Energ_Kcal                      717\n",
      "Protein_(g)                    0.85\n",
      "Lipid_Tot_(g)                 81.11\n",
      "Ash_(g)                        2.11\n",
      "Carbohydrt_(g)                 0.06\n",
      "Fiber_TD_(g)                      0\n",
      "Sugar_Tot_(g)                  0.06\n",
      "Calcium_(mg)                     24\n",
      "Iron_(mg)                      0.02\n",
      "Magnesium_(mg)                    2\n",
      "Phosphorus_(mg)                  24\n",
      "Potassium_(mg)                   24\n",
      "Sodium_(mg)                     643\n",
      "Zinc_(mg)                      0.09\n",
      "Copper_(mg)                       0\n",
      "Manganese_(mg)                    0\n",
      "Selenium_(mcg)                    1\n",
      "Vit_C_(mg)                        0\n",
      "Thiamin_(mg)                  0.005\n",
      "Riboflavin_(mg)               0.034\n",
      "Niacin_(mg)                   0.042\n",
      "Vit_B6_(mg)                   0.003\n",
      "Vit_B12_(mcg)                  0.17\n",
      "Vit_A_IU                       2499\n",
      "Vit_A_RAE                       684\n",
      "Vit_E_(mg)                     2.32\n",
      "Vit_D_mcg                       1.5\n",
      "Vit_D_IU                         60\n",
      "Vit_K_(mcg)                       7\n",
      "FA_Sat_(g)                   51.368\n",
      "FA_Mono_(g)                  21.021\n",
      "FA_Poly_(g)                   3.043\n",
      "Cholestrl_(mg)                  215\n",
      "Name: 0, dtype: object\n"
     ]
    }
   ],
   "source": [
    "import pandas\n",
    "food_info=pandas.read_csv(\"food_info.csv\")\n",
    "print(type(food_info))\n",
    "print(food_info.dtypes)\n",
    "print(food_info.head())\n",
    "first_rows=food_info.head(3)\n",
    "print(first_rows)\n",
    "print(food_info.tail(3))\n",
    "\n",
    "print(food_info.columns)\n",
    "\n",
    "print(food_info.shape)\n",
    "print('*'*100)\n",
    "print(food_info.loc[0])\n",
    "ndb_col=food_info['NDB_No']\n"
   ]
  },
  {
   "cell_type": "code",
   "execution_count": 11,
   "metadata": {
    "pycharm": {
     "is_executing": false,
     "name": "#%%\n"
    }
   },
   "outputs": [
    {
     "name": "stdout",
     "output_type": "stream",
     "text": [
      "      Zinc_(mg)  Copper_(mg)\n",
      "0          0.09        0.000\n",
      "1          0.05        0.016\n",
      "2          0.01        0.001\n",
      "3          2.66        0.040\n",
      "4          2.60        0.024\n",
      "...         ...          ...\n",
      "8613       1.10        0.100\n",
      "8614       1.55        0.033\n",
      "8615       0.19        0.020\n",
      "8616       1.00        0.400\n",
      "8617       1.00        0.250\n",
      "\n",
      "[8618 rows x 2 columns]\n"
     ]
    }
   ],
   "source": [
    "col_name='NDB_No'\n",
    "ndb_col=food_info[col_name]\n",
    "columns=['Zinc_(mg)','Copper_(mg)']\n",
    "zinc_copper=food_info[columns]\n",
    "print(zinc_copper)"
   ]
  },
  {
   "cell_type": "code",
   "execution_count": 15,
   "metadata": {
    "pycharm": {
     "is_executing": false,
     "name": "#%%\n"
    }
   },
   "outputs": [
    {
     "name": "stdout",
     "output_type": "stream",
     "text": [
      "['NDB_No', 'Shrt_Desc', 'Water_(g)', 'Energ_Kcal', 'Protein_(g)', 'Lipid_Tot_(g)', 'Ash_(g)', 'Carbohydrt_(g)', 'Fiber_TD_(g)', 'Sugar_Tot_(g)', 'Calcium_(mg)', 'Iron_(mg)', 'Magnesium_(mg)', 'Phosphorus_(mg)', 'Potassium_(mg)', 'Sodium_(mg)', 'Zinc_(mg)', 'Copper_(mg)', 'Manganese_(mg)', 'Selenium_(mcg)', 'Vit_C_(mg)', 'Thiamin_(mg)', 'Riboflavin_(mg)', 'Niacin_(mg)', 'Vit_B6_(mg)', 'Vit_B12_(mcg)', 'Vit_A_IU', 'Vit_A_RAE', 'Vit_E_(mg)', 'Vit_D_mcg', 'Vit_D_IU', 'Vit_K_(mcg)', 'FA_Sat_(g)', 'FA_Mono_(g)', 'FA_Poly_(g)', 'Cholestrl_(mg)']\n",
      "   Water_(g)  Protein_(g)  Lipid_Tot_(g)  Ash_(g)  Carbohydrt_(g)  \\\n",
      "0      15.87         0.85          81.11     2.11            0.06   \n",
      "1      15.87         0.85          81.11     2.11            0.06   \n",
      "2       0.24         0.28          99.48     0.00            0.00   \n",
      "\n",
      "   Fiber_TD_(g)  Sugar_Tot_(g)  FA_Sat_(g)  FA_Mono_(g)  FA_Poly_(g)  \n",
      "0           0.0           0.06      51.368       21.021        3.043  \n",
      "1           0.0           0.06      50.489       23.426        3.012  \n",
      "2           0.0           0.00      61.924       28.732        3.694  \n"
     ]
    }
   ],
   "source": [
    "col_names=food_info.columns.tolist()\n",
    "print(col_names)\n",
    "gram_columns=[]\n",
    "for c in col_names:\n",
    "    if c.endswith('(g)'):\n",
    "        gram_columns.append(c)\n",
    "gram_df=food_info[gram_columns]\n",
    "print(gram_df.head(3))\n",
    "print(food_info['Iron_(mg)'])\n",
    "iron_grams=food_info['Iron_(mg)']/1000\n",
    "print(food_info.shape)\n",
    "food_info['Iron_(g)']=iron_grams\n",
    "print(food_info.shape)\n",
    "\n",
    "print(food_info['Energ_Kcal'])\n",
    "water_energy=food_info['Water_(g)']*food_info['Energ_Kcal']\n",
    "\n",
    "print('1'*100)\n",
    "print(water_energy)\n",
    "# water_energy=food_info['Water_(g)']*food_info['Energ_Kcal']\n",
    "# iron_grams=food_info['Iron_(mg)']/1000\n",
    "# print(food_info.shape)\n"
   ]
  },
  {
   "cell_type": "code",
   "execution_count": 16,
   "metadata": {
    "pycharm": {
     "is_executing": false,
     "name": "#%%\n"
    }
   },
   "outputs": [
    {
     "name": "stdout",
     "output_type": "stream",
     "text": [
      "0      -60.8325\n",
      "1      -60.8325\n",
      "2      -74.6100\n",
      "3      -21.5550\n",
      "4      -22.2600\n",
      "         ...   \n",
      "8613   -18.8250\n",
      "8614    -0.6300\n",
      "8615    -0.0000\n",
      "8616    -1.0500\n",
      "8617    -0.3750\n",
      "Name: Lipid_Tot_(g), Length: 8618, dtype: float64\n",
      "0      -59.1325\n",
      "1      -59.1325\n",
      "2      -74.0500\n",
      "3       21.2450\n",
      "4       24.2200\n",
      "         ...   \n",
      "8613    18.1750\n",
      "8614    40.4500\n",
      "8615     0.0000\n",
      "8616    31.1500\n",
      "8617    39.2250\n",
      "Length: 8618, dtype: float64\n",
      "11111111\n"
     ]
    }
   ],
   "source": [
    "# print(food_info.head())\n",
    "# print(food_info.shape)\n",
    "\n",
    "weighted_protein=food_info['Protein_(g)']*2\n",
    "weighted_fat=-0.75*food_info['Lipid_Tot_(g)']\n",
    "initial_rating=weighted_protein+weighted_fat\n",
    "print(weighted_fat)\n",
    "print(initial_rating)\n",
    "print('11111111')"
   ]
  },
  {
   "cell_type": "code",
   "execution_count": 33,
   "metadata": {
    "pycharm": {
     "is_executing": false,
     "name": "#%%\n"
    }
   },
   "outputs": [
    {
     "name": "stdout",
     "text": [
      "902\n760     1.0000\n758     1.0000\n405     0.0010\n761     1.0000\n2269    0.0010\n         ...  \n8184    0.6100\n8185    0.0160\n8195    0.0015\n8251    0.0031\n8267    0.9400\nName: Protein_(g), Length: 8618, dtype: float64\n      NDB_No                                          Shrt_Desc  Water_(g)  \\\n760     4666  SHORTENING INDUSTRIAL SOY (PARTIALLY HYDR )&CO...       0.00   \n758     4664  OIL INDUSTRIAL SOY (PARTHYDR ) PALM  ICINGS & ...       0.00   \n405     3168                            BABYFOOD JUC APPL&PEACH      89.00   \n761     4667  SHORTENING INDUS SOY (PART HYDR ) FOR BAKING &...       0.00   \n2269    9111            GRAPEFRUIT RAW PINK&RED&WHITE ALL AREAS      90.89   \n\n      Energ_Kcal  Protein_(g)  Lipid_Tot_(g)  Ash_(g)  Carbohydrt_(g)  \\\n760          884        1.000          1.000     0.00            0.00   \n758          884        1.000          1.000     0.00            0.00   \n405           43        0.001          0.001     0.30           10.50   \n761          884        1.000          1.000     0.00            0.00   \n2269          32        0.001          0.001     0.31            8.08   \n\n      Fiber_TD_(g)  Sugar_Tot_(g)  ...  Vit_A_RAE  Vit_E_(mg)  Vit_D_mcg  \\\n760            0.0           0.00  ...        0.0        6.13        0.0   \n758            0.0           0.00  ...        0.0        8.10        NaN   \n405            0.1           9.59  ...        3.0        0.15        0.0   \n761            0.0           0.00  ...        0.0        6.13        NaN   \n2269           1.1           6.98  ...       46.0        0.13        0.0   \n\n      Vit_D_IU  Vit_K_(mcg)  FA_Sat_(g)  FA_Mono_(g)  FA_Poly_(g)  \\\n760        0.0         43.0      17.416       40.824       36.038   \n758        NaN         24.7      28.421       59.715        7.095   \n405        0.0          0.5       0.018        0.002        0.031   \n761        NaN         43.0      18.788       71.023        5.400   \n2269       0.0          0.0       0.014        0.013        0.024   \n\n      Cholestrl_(mg)  Iron_(g)  \n760              0.0   0.00000  \n758              0.0   0.00000  \n405              0.0   0.00056  \n761              0.0   0.00000  \n2269             0.0   0.00009  \n\n[5 rows x 37 columns]\n2222222222222222222222222222222222222222222222222222222222222222222222222222222222222222222222222222\n760     1.000\n758     1.000\n405     0.001\n761     1.000\n2269    0.001\nName: Lipid_Tot_(g), dtype: float64\n      NDB_No                                          Shrt_Desc  Water_(g)  \\\n760     4666  SHORTENING INDUSTRIAL SOY (PARTIALLY HYDR )&CO...       0.00   \n758     4664  OIL INDUSTRIAL SOY (PARTHYDR ) PALM  ICINGS & ...       0.00   \n405     3168                            BABYFOOD JUC APPL&PEACH      89.00   \n761     4667  SHORTENING INDUS SOY (PART HYDR ) FOR BAKING &...       0.00   \n2269    9111            GRAPEFRUIT RAW PINK&RED&WHITE ALL AREAS      90.89   \n\n      Energ_Kcal  Protein_(g)  Lipid_Tot_(g)  Ash_(g)  Carbohydrt_(g)  \\\n760          884        1.000          1.000     0.00            0.00   \n758          884        1.000          1.000     0.00            0.00   \n405           43        0.001          0.001     0.30           10.50   \n761          884        1.000          1.000     0.00            0.00   \n2269          32        0.001          0.001     0.31            8.08   \n\n      Fiber_TD_(g)  Sugar_Tot_(g)  ...  Vit_A_RAE  Vit_E_(mg)  Vit_D_mcg  \\\n760            0.0           0.00  ...        0.0        6.13        0.0   \n758            0.0           0.00  ...        0.0        8.10        NaN   \n405            0.1           9.59  ...        3.0        0.15        0.0   \n761            0.0           0.00  ...        0.0        6.13        NaN   \n2269           1.1           6.98  ...       46.0        0.13        0.0   \n\n      Vit_D_IU  Vit_K_(mcg)  FA_Sat_(g)  FA_Mono_(g)  FA_Poly_(g)  \\\n760        0.0         43.0      17.416       40.824       36.038   \n758        NaN         24.7      28.421       59.715        7.095   \n405        0.0          0.5       0.018        0.002        0.031   \n761        NaN         43.0      18.788       71.023        5.400   \n2269       0.0          0.0       0.014        0.013        0.024   \n\n      Cholestrl_(mg)  Iron_(g)  \n760              0.0   0.00000  \n758              0.0   0.00000  \n405              0.0   0.00056  \n761              0.0   0.00000  \n2269             0.0   0.00009  \n\n[5 rows x 37 columns]\n"
     ],
     "output_type": "stream"
    }
   ],
   "source": [
    "max_calories=food_info['Energ_Kcal'].max()\n",
    "print(food_info['Energ_Kcal'].max())\n",
    "normalized_calories=food_info['Energ_Kcal']/max_calories\n",
    "normalized_protein=food_info['Protein_(g)']/food_info['Protein_(g)'].max()\n",
    "normalized_fat=food_info['Lipid_Tot_(g)']/food_info['Lipid_Tot_(g)'].max()\n",
    "print(normalized_protein)\n",
    "food_info['Protein_(g)']=normalized_protein\n",
    "food_info['Lipid_Tot_(g)']=normalized_fat\n",
    "print(food_info.head())\n",
    "print('2'*100)\n",
    "print(normalized_fat.head())\n",
    "print(food_info.head())"
   ]
  },
  {
   "cell_type": "code",
   "execution_count": 40,
   "outputs": [
    {
     "name": "stdout",
     "text": [
      "276     38758.0\n5814    27360.0\n6192    26050.0\n1242    26000.0\n1245    24000.0\nName: Sodium_(mg), dtype: float64\n276     38758.0\n5814    27360.0\n6192    26050.0\n1242    26000.0\n1245    24000.0\nName: Sodium_(mg), dtype: float64\n"
     ],
     "output_type": "stream"
    }
   ],
   "source": [
    "food_info.sort_values('Sodium_(mg)',inplace=True,ascending=False)\n",
    "print(food_info['Sodium_(mg)'].head())\n",
    "food_info.sort_values('Sodium_(mg)',inplace=True,ascending=False)\n",
    "print(food_info['Sodium_(mg)'].head())\n"
   ],
   "metadata": {
    "collapsed": false,
    "pycharm": {
     "name": "#%%\n",
     "is_executing": false
    }
   }
  }
 ],
 "metadata": {
  "kernelspec": {
   "display_name": "Python 3",
   "language": "python",
   "name": "python3"
  },
  "language_info": {
   "codemirror_mode": {
    "name": "ipython",
    "version": 3
   },
   "file_extension": ".py",
   "mimetype": "text/x-python",
   "name": "python",
   "nbconvert_exporter": "python",
   "pygments_lexer": "ipython3",
   "version": "3.7.7"
  },
  "pycharm": {
   "stem_cell": {
    "cell_type": "raw",
    "source": [],
    "metadata": {
     "collapsed": false
    }
   }
  }
 },
 "nbformat": 4,
 "nbformat_minor": 1
}