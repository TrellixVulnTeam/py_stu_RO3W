{
 "cells": [
  {
   "cell_type": "code",
   "execution_count": 5,
   "metadata": {
    "collapsed": true,
    "pycharm": {
     "is_executing": false,
     "name": "#%%\n"
    }
   },
   "outputs": [
    {
     "name": "stdout",
     "text": [
      "   PassengerId  Survived  Pclass  \\\n0            1         0       3   \n1            2         1       1   \n2            3         1       3   \n3            4         1       1   \n4            5         0       3   \n\n                                                Name     Sex   Age  SibSp  \\\n0                            Braund, Mr. Owen Harris    male  22.0      1   \n1  Cumings, Mrs. John Bradley (Florence Briggs Th...  female  38.0      1   \n2                             Heikkinen, Miss. Laina  female  26.0      0   \n3       Futrelle, Mrs. Jacques Heath (Lily May Peel)  female  35.0      1   \n4                           Allen, Mr. William Henry    male  35.0      0   \n\n   Parch            Ticket     Fare Cabin Embarked  \n0      0         A/5 21171   7.2500   NaN        S  \n1      0          PC 17599  71.2833   C85        C  \n2      0  STON/O2. 3101282   7.9250   NaN        S  \n3      0            113803  53.1000  C123        S  \n4      0            373450   8.0500   NaN        S  \n0      22.0\n1      38.0\n2      26.0\n3      35.0\n4      35.0\n       ... \n886    27.0\n887    19.0\n888     NaN\n889    26.0\n890    32.0\nName: Age, Length: 891, dtype: float64\n0     22.0\n1     38.0\n2     26.0\n3     35.0\n4     35.0\n5      NaN\n6     54.0\n7      2.0\n8     27.0\n9     14.0\n10     4.0\nName: Age, dtype: float64\n0    False\n1    False\n2    False\n3    False\n4    False\n5     True\n6    False\n7    False\n8    False\n9    False\nName: Age, dtype: bool\n177\n881    False\n882    False\n883    False\n884    False\n885    False\n886    False\n887    False\n888     True\n889    False\n890    False\nName: Age, dtype: bool\n5    NaN\n17   NaN\n19   NaN\n26   NaN\n28   NaN\nName: Age, dtype: float64\n"
     ],
     "output_type": "stream"
    }
   ],
   "source": [
    "import pandas as pd\n",
    "import numpy as np\n",
    "titanic_survival=pd.read_csv('titanic_train.csv')\n",
    "print(titanic_survival.head())\n",
    "\n",
    "age=titanic_survival['Age']\n",
    "print(age)\n",
    "print(age.loc[0:10])\n",
    "age_is_null=pd.isnull(age)\n",
    "print(age_is_null.head(10))\n",
    "age_null_true=age[age_is_null]\n",
    "\n",
    "age_null_count=len(age_null_true)\n",
    "print(age_null_count)\n",
    "print(age_is_null.tail(10))\n",
    "print(age_null_true.head())"
   ]
  },
  {
   "cell_type": "code",
   "execution_count": 6,
   "outputs": [
    {
     "name": "stdout",
     "text": [
      "891\n891\n177\n29.69911764705882\n29.69911764705882\n"
     ],
     "output_type": "stream"
    }
   ],
   "source": [
    "mean_age=sum(age)/len(age)\n",
    "print(len(age))\n",
    "print(len(pd.isnull(age)))\n",
    "print(len(age[pd.isnull(age)]))\n",
    "mean_age=age.sum()/(len(age)-len(age[pd.isnull(age)]))\n",
    "print(mean_age)\n",
    "correct_mean_age=age[age_is_null==False].mean()\n",
    "print(correct_mean_age)"
   ],
   "metadata": {
    "collapsed": false,
    "pycharm": {
     "name": "#%%\n",
     "is_executing": false
    }
   }
  },
  {
   "cell_type": "code",
   "execution_count": 7,
   "outputs": [
    {
     "name": "stdout",
     "text": [
      "29.69911764705882\n4444444444444444444444444444444444444444444444444444444444444444444444444444444444444444444444444444\n{1: 84.1546875, 2: 20.662183152173913, 3: 13.675550101832993}\n"
     ],
     "output_type": "stream"
    }
   ],
   "source": [
    "corrent_mean_age=titanic_survival['Age'].mean()\n",
    "print(correct_mean_age)\n",
    "\n",
    "print('4'*100)\n",
    "passenger_classes=[1,2,3]\n",
    "fares_by_class={}\n",
    "for this_class in passenger_classes:\n",
    "    pclass_rows=titanic_survival[this_class==titanic_survival['Pclass']]\n",
    "    pclass_fares=pclass_rows['Fare']\n",
    "    fares_for_class=pclass_fares.mean()\n",
    "    fares_by_class[this_class]=fares_for_class\n",
    "print(fares_by_class)\n"
   ],
   "metadata": {
    "collapsed": false,
    "pycharm": {
     "name": "#%%\n",
     "is_executing": false
    }
   }
  },
  {
   "cell_type": "code",
   "execution_count": 8,
   "outputs": [
    {
     "name": "stdout",
     "text": [
      "        Survived\nPclass          \n1       0.629630\n2       0.472826\n3       0.242363\n              Age\nPclass           \n1       38.233441\n2       29.877630\n3       25.140620\n                Fare  Survived\nEmbarked                      \nC         10072.2962        93\nQ          1022.2543        30\nS         17439.3988       217\n4444444444444444444444444444444444444444444444444444444444444444444444444444444444444444444444444444\n    PassengerId  Survived  Pclass  \\\n0             1         0       3   \n1             2         1       1   \n2             3         1       3   \n3             4         1       1   \n4             5         0       3   \n6             7         0       1   \n7             8         0       3   \n8             9         1       3   \n9            10         1       2   \n10           11         1       3   \n\n                                                 Name     Sex   Age  SibSp  \\\n0                             Braund, Mr. Owen Harris    male  22.0      1   \n1   Cumings, Mrs. John Bradley (Florence Briggs Th...  female  38.0      1   \n2                              Heikkinen, Miss. Laina  female  26.0      0   \n3        Futrelle, Mrs. Jacques Heath (Lily May Peel)  female  35.0      1   \n4                            Allen, Mr. William Henry    male  35.0      0   \n6                             McCarthy, Mr. Timothy J    male  54.0      0   \n7                      Palsson, Master. Gosta Leonard    male   2.0      3   \n8   Johnson, Mrs. Oscar W (Elisabeth Vilhelmina Berg)  female  27.0      0   \n9                 Nasser, Mrs. Nicholas (Adele Achem)  female  14.0      1   \n10                    Sandstrom, Miss. Marguerite Rut  female   4.0      1   \n\n    Parch            Ticket     Fare Cabin Embarked  \n0       0         A/5 21171   7.2500   NaN        S  \n1       0          PC 17599  71.2833   C85        C  \n2       0  STON/O2. 3101282   7.9250   NaN        S  \n3       0            113803  53.1000  C123        S  \n4       0            373450   8.0500   NaN        S  \n6       0             17463  51.8625   E46        S  \n7       1            349909  21.0750   NaN        S  \n8       2            347742  11.1333   NaN        S  \n9       0            237736  30.0708   NaN        C  \n10      1           PP 9549  16.7000    G6        S  \n"
     ],
     "output_type": "stream"
    }
   ],
   "source": [
    "passenger_survival=titanic_survival.pivot_table(index='Pclass',values='Survived',aggfunc=np.mean)\n",
    "print(passenger_survival)\n",
    "passenger_age=titanic_survival.pivot_table(index='Pclass',values='Age')\n",
    "print(passenger_age)\n",
    "\n",
    "port_stats=titanic_survival.pivot_table(index='Embarked',values=['Fare','Survived'],aggfunc=np.sum)\n",
    "print(port_stats)\n",
    "\n",
    "drop_na_columns=titanic_survival.dropna(axis=1)\n",
    "new_titanic_survival=titanic_survival.dropna(axis=0,subset=['Age','Sex'])\n",
    "print('4'*100)\n",
    "print(new_titanic_survival.head(10))\n",
    "\n"
   ],
   "metadata": {
    "collapsed": false,
    "pycharm": {
     "name": "#%%\n",
     "is_executing": false
    }
   }
  },
  {
   "cell_type": "code",
   "execution_count": 9,
   "outputs": [
    {
     "name": "stdout",
     "text": [
      "28.0\n1\n"
     ],
     "output_type": "stream"
    }
   ],
   "source": [
    "row_index_83_age=titanic_survival.loc[83,'Age']\n",
    "row_index_1000_pclass=titanic_survival.loc[766,'Pclass']\n",
    "print(row_index_83_age)\n",
    "print(row_index_1000_pclass)\n"
   ],
   "metadata": {
    "collapsed": false,
    "pycharm": {
     "name": "#%%\n",
     "is_executing": false
    }
   }
  },
  {
   "cell_type": "code",
   "execution_count": 10,
   "outputs": [
    {
     "name": "stdout",
     "text": [
      "PassengerId                  100\nSurvived                       0\nPclass                         2\nName           Kantor, Mr. Sinai\nSex                         male\nAge                           34\nSibSp                          1\nParch                          0\nTicket                    244367\nFare                          26\nCabin                        NaN\nEmbarked                       S\ndtype: object\nPassengerId      0\nSurvived         0\nPclass           0\nName             0\nSex              0\nAge            177\nSibSp            0\nParch            0\nTicket           0\nFare             0\nCabin          687\nEmbarked         2\ndtype: int64\n"
     ],
     "output_type": "stream"
    }
   ],
   "source": [
    "def hundredth_row(column):\n",
    "    hundredth_item=column.loc[99]\n",
    "    return hundredth_item\n",
    "\n",
    "hundredth_row=titanic_survival.apply(hundredth_row)\n",
    "print(hundredth_row)\n",
    "\n",
    "def not_null_count(column):\n",
    "    # print(column)\n",
    "    column_null=pd.isnull(column)\n",
    "    null=column[column_null]\n",
    "    return len(null)\n",
    "\n",
    "\n",
    "column_null_count=titanic_survival.apply(not_null_count)\n",
    "print(column_null_count)"
   ],
   "metadata": {
    "collapsed": false,
    "pycharm": {
     "name": "#%%\n",
     "is_executing": false
    }
   }
  },
  {
   "cell_type": "code",
   "execution_count": 13,
   "outputs": [
    {
     "name": "stdout",
     "text": [
      "0      False\n1      False\n2      False\n3      False\n4      False\n       ...  \n886    False\n887    False\n888    False\n889    False\n890    False\nLength: 891, dtype: bool\n"
     ],
     "output_type": "stream"
    }
   ],
   "source": [
    "def is_minor(row):\n",
    "    if row['Age']<18:\n",
    "        return True\n",
    "    else:\n",
    "        return False\n",
    "\n",
    "minors=titanic_survival.apply(is_minor,axis=1)\n",
    "print(minors)\n"
   ],
   "metadata": {
    "collapsed": false,
    "pycharm": {
     "name": "#%%\n",
     "is_executing": false
    }
   }
  },
  {
   "cell_type": "code",
   "execution_count": 18,
   "outputs": [
    {
     "name": "stdout",
     "text": [
      "0        adult\n1        adult\n2        adult\n3        adult\n4        adult\n        ...   \n886      adult\n887      adult\n888    unknown\n889      adult\n890      adult\nLength: 891, dtype: object\n"
     ],
     "output_type": "stream"
    }
   ],
   "source": [
    "def age_adult(row):\n",
    "    age=row['Age']\n",
    "    if pd.isnull(age):\n",
    "        return 'unknown'\n",
    "    elif age<18:\n",
    "        return 'minor'\n",
    "    else:\n",
    "        return 'adult'\n",
    "age_label=titanic_survival.apply(age_adult,axis=1)\n",
    "print(age_label)"
   ],
   "metadata": {
    "collapsed": false,
    "pycharm": {
     "name": "#%%\n",
     "is_executing": false
    }
   }
  },
  {
   "cell_type": "code",
   "execution_count": 21,
   "outputs": [
    {
     "name": "stdout",
     "text": [
      "            Survived\nage_labels          \nadult       0.381032\nminor       0.539823\nunknown     0.293785\n            Survived\nage_labels          \nadult            229\nminor             61\nunknown           52\n"
     ],
     "output_type": "stream"
    }
   ],
   "source": [
    "# 存活率 \n",
    "titanic_survival['age_labels']=age_label\n",
    "age_group_survival=titanic_survival.pivot_table(index='age_labels',values='Survived')\n",
    "print(age_group_survival)\n",
    "age_sum_group_survival=titanic_survival.pivot_table(index='age_labels',values='Survived',aggfunc=sum)\n",
    "print(age_sum_group_survival)\n",
    "\n"
   ],
   "metadata": {
    "collapsed": false,
    "pycharm": {
     "name": "#%%\n",
     "is_executing": false
    }
   }
  }
 ],
 "metadata": {
  "language_info": {
   "codemirror_mode": {
    "name": "ipython",
    "version": 2
   },
   "file_extension": ".py",
   "mimetype": "text/x-python",
   "name": "python",
   "nbconvert_exporter": "python",
   "pygments_lexer": "ipython2",
   "version": "2.7.6"
  },
  "kernelspec": {
   "name": "python3",
   "language": "python",
   "display_name": "Python 3"
  },
  "pycharm": {
   "stem_cell": {
    "cell_type": "raw",
    "source": [],
    "metadata": {
     "collapsed": false
    }
   }
  }
 },
 "nbformat": 4,
 "nbformat_minor": 0
}