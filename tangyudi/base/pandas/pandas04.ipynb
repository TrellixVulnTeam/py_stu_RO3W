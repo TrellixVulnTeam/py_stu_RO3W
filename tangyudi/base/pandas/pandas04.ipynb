{
 "cells": [
  {
   "cell_type": "code",
   "execution_count": 26,
   "metadata": {
    "collapsed": true,
    "pycharm": {
     "is_executing": false
    }
   },
   "outputs": [
    {
     "name": "stdout",
     "text": [
      "                             FILM  RottenTomatoes  RottenTomatoes_User  \\\n0  Avengers: Age of Ultron (2015)              74                   86   \n1               Cinderella (2015)              85                   80   \n2                  Ant-Man (2015)              80                   90   \n3          Do You Believe? (2015)              18                   84   \n4   Hot Tub Time Machine 2 (2015)              14                   28   \n\n   Metacritic  Metacritic_User  IMDB  Fandango_Stars  Fandango_Ratingvalue  \\\n0          66              7.1   7.8             5.0                   4.5   \n1          67              7.5   7.1             5.0                   4.5   \n2          64              8.1   7.8             5.0                   4.5   \n3          22              4.7   5.4             5.0                   4.5   \n4          29              3.4   5.1             3.5                   3.0   \n\n   RT_norm  RT_user_norm  ...  IMDB_norm  RT_norm_round  RT_user_norm_round  \\\n0     3.70           4.3  ...       3.90            3.5                 4.5   \n1     4.25           4.0  ...       3.55            4.5                 4.0   \n2     4.00           4.5  ...       3.90            4.0                 4.5   \n3     0.90           4.2  ...       2.70            1.0                 4.0   \n4     0.70           1.4  ...       2.55            0.5                 1.5   \n\n   Metacritic_norm_round  Metacritic_user_norm_round  IMDB_norm_round  \\\n0                    3.5                         3.5              4.0   \n1                    3.5                         4.0              3.5   \n2                    3.0                         4.0              4.0   \n3                    1.0                         2.5              2.5   \n4                    1.5                         1.5              2.5   \n\n   Metacritic_user_vote_count  IMDB_user_vote_count  Fandango_votes  \\\n0                        1330                271107           14846   \n1                         249                 65709           12640   \n2                         627                103660           12055   \n3                          31                  3136            1793   \n4                          88                 19560            1021   \n\n   Fandango_Difference  \n0                  0.5  \n1                  0.5  \n2                  0.5  \n3                  0.5  \n4                  0.5  \n\n[5 rows x 22 columns]\n<class 'pandas.core.series.Series'>\n"
     ],
     "output_type": "stream"
    }
   ],
   "source": [
    "import pandas as pd\n",
    "fandango=pd.read_csv('fandango_score_comparison.csv')\n",
    "print(fandango.head())\n",
    "series_film=fandango['FILM']\n",
    "print(type(series_film))\n",
    "# print(series_film[0:5])"
   ]
  },
  {
   "cell_type": "code",
   "execution_count": 27,
   "outputs": [
    {
     "name": "stdout",
     "text": [
      "0    74\n1    85\n2    80\n3    18\n4    14\nName: RottenTomatoes, dtype: int64\n"
     ],
     "output_type": "stream"
    }
   ],
   "source": [
    "series_rt=fandango['RottenTomatoes']\n",
    "print(series_rt[0:5])"
   ],
   "metadata": {
    "collapsed": false,
    "pycharm": {
     "name": "#%%\n",
     "is_executing": false
    }
   }
  },
  {
   "cell_type": "code",
   "execution_count": 28,
   "outputs": [
    {
     "name": "stdout",
     "text": [
      "<class 'numpy.ndarray'>\n[ 74  85  80  18  14  63  42  86  99  89  84  82  99  51  90   9  46  59\n  50  17  79  59  68  60  85  99  92  88  96  92  96  89  92  10  19  11\n  52  71  51  60  94  99  97  95  75  50  30  27   9  26  67  32  54   8\n  71  39  34  64  12  12  11  46  45  26  26  92  93  60  94  98 100  93\n  72  81  61  50  90  27  30  31  55  72  34  20  13  20  81  54  97  93\n  78  98  87  96  82  96  99  25  29  57  26  16  62  17  17   7  49  13\n  40  67  52  71  96  73  90  83  89  81  80  99  84  84  95  62  45  27\n  52  60  92  97  71  54  35   5  31  14  22  77  52  18  98  87  97  97\n 100  87]\n"
     ],
     "output_type": "stream"
    }
   ],
   "source": [
    "from pandas import Series \n",
    "film_names=series_film.values\n",
    "print(type(film_names))\n",
    "rt_scores=series_rt.values\n",
    "print(rt_scores)"
   ],
   "metadata": {
    "collapsed": false,
    "pycharm": {
     "name": "#%%\n",
     "is_executing": false
    }
   }
  },
  {
   "cell_type": "code",
   "execution_count": 32,
   "outputs": [
    {
     "name": "stdout",
     "text": [
      "Avengers: Age of Ultron (2015)                74\nCinderella (2015)                             85\nAnt-Man (2015)                                80\nDo You Believe? (2015)                        18\nHot Tub Time Machine 2 (2015)                 14\n                                            ... \nMr. Holmes (2015)                             87\n'71 (2015)                                    97\nTwo Days, One Night (2014)                    97\nGett: The Trial of Viviane Amsalem (2015)    100\nKumiko, The Treasure Hunter (2015)            87\nLength: 146, dtype: int64\nMinions (2015)      54\nLeviathan (2014)    99\ndtype: int64\n"
     ],
     "output_type": "stream"
    }
   ],
   "source": [
    "series_custom=Series(rt_scores,index=film_names)\n",
    "print(series_custom)\n",
    "print(series_custom[['Minions (2015)', 'Leviathan (2014)']])\n",
    "fiven=series_custom[5:10]\n",
    "print(fiven )"
   ],
   "metadata": {
    "collapsed": false,
    "pycharm": {
     "name": "#%%\n",
     "is_executing": false
    }
   }
  },
  {
   "cell_type": "code",
   "execution_count": 39,
   "outputs": [
    {
     "name": "stdout",
     "text": [
      "['Avengers: Age of Ultron (2015)', 'Cinderella (2015)', 'Ant-Man (2015)', 'Do You Believe? (2015)', 'Hot Tub Time Machine 2 (2015)', 'The Water Diviner (2015)', 'Irrational Man (2015)', 'Top Five (2014)', 'Shaun the Sheep Movie (2015)', 'Love & Mercy (2015)', 'Far From The Madding Crowd (2015)', 'Black Sea (2015)', 'Leviathan (2014)', 'Unbroken (2014)', 'The Imitation Game (2014)', 'Taken 3 (2015)', 'Ted 2 (2015)', 'Southpaw (2015)', 'Night at the Museum: Secret of the Tomb (2014)', 'Pixels (2015)', 'McFarland, USA (2015)', 'Insidious: Chapter 3 (2015)', 'The Man From U.N.C.L.E. (2015)', 'Run All Night (2015)', 'Trainwreck (2015)', 'Selma (2014)', 'Ex Machina (2015)', 'Still Alice (2015)', 'Wild Tales (2014)', 'The End of the Tour (2015)', 'Red Army (2015)', 'When Marnie Was There (2015)', 'The Hunting Ground (2015)', 'The Boy Next Door (2015)', 'Aloha (2015)', 'The Loft (2015)', '5 Flights Up (2015)', 'Welcome to Me (2015)', 'Saint Laurent (2015)', 'Maps to the Stars (2015)', \"I'll See You In My Dreams (2015)\", 'Timbuktu (2015)', 'About Elly (2015)', 'The Diary of a Teenage Girl (2015)', 'Kingsman: The Secret Service (2015)', 'Tomorrowland (2015)', 'The Divergent Series: Insurgent (2015)', 'Annie (2014)', 'Fantastic Four (2015)', 'Terminator Genisys (2015)', 'Pitch Perfect 2 (2015)', 'Entourage (2015)', 'The Age of Adaline (2015)', 'Hot Pursuit (2015)', 'The DUFF (2015)', 'Black or White (2015)', 'Project Almanac (2015)', 'Ricki and the Flash (2015)', 'Seventh Son (2015)', 'Mortdecai (2015)', 'Unfinished Business (2015)', 'American Ultra (2015)', 'True Story (2015)', 'Child 44 (2015)', 'Dark Places (2015)', 'Birdman (2014)', 'The Gift (2015)', 'Unfriended (2015)', 'Monkey Kingdom (2015)', 'Mr. Turner (2014)', 'Seymour: An Introduction (2015)', 'The Wrecking Crew (2015)', 'American Sniper (2015)', 'Furious 7 (2015)', 'The Hobbit: The Battle of the Five Armies (2014)', 'San Andreas (2015)', 'Straight Outta Compton (2015)', 'Vacation (2015)', 'Chappie (2015)', 'Poltergeist (2015)', 'Paper Towns (2015)', 'Big Eyes (2014)', 'Blackhat (2015)', 'Self/less (2015)', 'Sinister 2 (2015)', 'Little Boy (2015)', 'Me and Earl and The Dying Girl (2015)', 'Maggie (2015)', 'Mad Max: Fury Road (2015)', 'Spy (2015)', 'The SpongeBob Movie: Sponge Out of Water (2015)', 'Paddington (2015)', 'Dope (2015)', 'What We Do in the Shadows (2015)', 'The Overnight (2015)', 'The Salt of the Earth (2015)', 'Song of the Sea (2014)', 'Fifty Shades of Grey (2015)', 'Get Hard (2015)', 'Focus (2015)', 'Jupiter Ascending (2015)', 'The Gallows (2015)', 'The Second Best Exotic Marigold Hotel (2015)', 'Strange Magic (2015)', 'The Gunman (2015)', 'Hitman: Agent 47 (2015)', 'Cake (2015)', 'The Vatican Tapes (2015)', 'A Little Chaos (2015)', 'The 100-Year-Old Man Who Climbed Out the Window and Disappeared (2015)', 'Escobar: Paradise Lost (2015)', 'Into the Woods (2014)', 'It Follows (2015)', 'Inherent Vice (2014)', 'A Most Violent Year (2014)', \"While We're Young (2015)\", 'Clouds of Sils Maria (2015)', 'Testament of Youth (2015)', 'Infinitely Polar Bear (2015)', 'Phoenix (2015)', 'The Wolfpack (2015)', 'The Stanford Prison Experiment (2015)', 'Tangerine (2015)', 'Magic Mike XXL (2015)', 'Home (2015)', 'The Wedding Ringer (2015)', 'Woman in Gold (2015)', 'The Last Five Years (2015)', 'Mission: Impossible â€“ Rogue Nation (2015)', 'Amy (2015)', 'Jurassic World (2015)', 'Minions (2015)', 'Max (2015)', 'Paul Blart: Mall Cop 2 (2015)', 'The Longest Ride (2015)', 'The Lazarus Effect (2015)', 'The Woman In Black 2 Angel of Death (2015)', 'Danny Collins (2015)', 'Spare Parts (2015)', 'Serena (2015)', 'Inside Out (2015)', 'Mr. Holmes (2015)', \"'71 (2015)\", 'Two Days, One Night (2014)', 'Gett: The Trial of Viviane Amsalem (2015)', 'Kumiko, The Treasure Hunter (2015)']\n'71 (2015)                          97\n5 Flights Up (2015)                 52\nA Little Chaos (2015)               40\nA Most Violent Year (2014)          90\nAbout Elly (2015)                   97\n                                    ..\nWhat We Do in the Shadows (2015)    96\nWhen Marnie Was There (2015)        89\nWhile We're Young (2015)            83\nWild Tales (2014)                   96\nWoman in Gold (2015)                52\nLength: 146, dtype: int64\n"
     ],
     "output_type": "stream"
    }
   ],
   "source": [
    "original_index=series_custom.index.tolist()\n",
    "print(original_index)\n",
    "sorted_index=sorted(original_index)\n",
    "sorted_by_index=series_custom.reindex(sorted_index)\n",
    "print(sorted_by_index)"
   ],
   "metadata": {
    "collapsed": false,
    "pycharm": {
     "name": "#%%\n",
     "is_executing": false
    }
   }
  },
  {
   "cell_type": "code",
   "execution_count": 42,
   "outputs": [
    {
     "name": "stdout",
     "text": [
      "1111111111111111111111111111111111111111111111111111111111111111111111111111111111111111111111111111\nAvengers: Age of Ultron (2015)               148\nCinderella (2015)                            170\nAnt-Man (2015)                               160\nDo You Believe? (2015)                        36\nHot Tub Time Machine 2 (2015)                 28\n                                            ... \nMr. Holmes (2015)                            174\n'71 (2015)                                   194\nTwo Days, One Night (2014)                   194\nGett: The Trial of Viviane Amsalem (2015)    200\nKumiko, The Treasure Hunter (2015)           174\nLength: 146, dtype: int64\n2222222222222222222222222222222222222222222222222222222222222222222222222222222222222222222222222222\nAvengers: Age of Ultron (2015)              -0.985146\nCinderella (2015)                           -0.176076\nAnt-Man (2015)                              -0.993889\nDo You Believe? (2015)                      -0.750987\nHot Tub Time Machine 2 (2015)                0.990607\n                                               ...   \nMr. Holmes (2015)                           -0.821818\n'71 (2015)                                   0.379608\nTwo Days, One Night (2014)                   0.379608\nGett: The Trial of Viviane Amsalem (2015)   -0.506366\nKumiko, The Treasure Hunter (2015)          -0.821818\nLength: 146, dtype: float64\n"
     ],
     "output_type": "stream"
    }
   ],
   "source": [
    "import numpy as np\n",
    "print('1'*100)\n",
    "print(np.add(series_custom, series_custom))\n",
    "print('2'*100)\n",
    "print(np.sin(series_custom))"
   ],
   "metadata": {
    "collapsed": false,
    "pycharm": {
     "name": "#%%\n",
     "is_executing": false
    }
   }
  },
  {
   "cell_type": "code",
   "execution_count": 53,
   "outputs": [
    {
     "name": "stdout",
     "text": [
      "The Water Diviner (2015)                                                  63\nUnbroken (2014)                                                           51\nSouthpaw (2015)                                                           59\nInsidious: Chapter 3 (2015)                                               59\nThe Man From U.N.C.L.E. (2015)                                            68\nRun All Night (2015)                                                      60\n5 Flights Up (2015)                                                       52\nSaint Laurent (2015)                                                      51\nMaps to the Stars (2015)                                                  60\nPitch Perfect 2 (2015)                                                    67\nThe Age of Adaline (2015)                                                 54\nRicki and the Flash (2015)                                                64\nUnfriended (2015)                                                         60\nThe Hobbit: The Battle of the Five Armies (2014)                          61\nPaper Towns (2015)                                                        55\nMaggie (2015)                                                             54\nFocus (2015)                                                              57\nThe Second Best Exotic Marigold Hotel (2015)                              62\nThe 100-Year-Old Man Who Climbed Out the Window and Disappeared (2015)    67\nEscobar: Paradise Lost (2015)                                             52\nMagic Mike XXL (2015)                                                     62\nWoman in Gold (2015)                                                      52\nThe Last Five Years (2015)                                                60\nMinions (2015)                                                            54\nSpare Parts (2015)                                                        52\ndtype: int64\n"
     ],
     "output_type": "stream"
    }
   ],
   "source": [
    "# print(series_custom>50)\n",
    "# print(series_custom < 75)\n",
    "series_greater_than_50=series_custom[series_custom>50]\n",
    "series_one=series_custom>50\n",
    "series_two=series_custom<70\n",
    "both_series=series_custom[series_one&series_two]\n",
    "print(both_series)\n",
    "\n"
   ],
   "metadata": {
    "collapsed": false,
    "pycharm": {
     "name": "#%%\n",
     "is_executing": false
    }
   }
  }
 ],
 "metadata": {
  "language_info": {
   "codemirror_mode": {
    "name": "ipython",
    "version": 2
   },
   "file_extension": ".py",
   "mimetype": "text/x-python",
   "name": "python",
   "nbconvert_exporter": "python",
   "pygments_lexer": "ipython2",
   "version": "2.7.6"
  },
  "kernelspec": {
   "name": "python3",
   "language": "python",
   "display_name": "Python 3"
  },
  "pycharm": {
   "stem_cell": {
    "cell_type": "raw",
    "source": [],
    "metadata": {
     "collapsed": false
    }
   }
  }
 },
 "nbformat": 4,
 "nbformat_minor": 0
}