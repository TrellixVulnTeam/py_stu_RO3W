{
 "cells": [
  {
   "cell_type": "code",
   "execution_count": 16,
   "metadata": {
    "pycharm": {
     "is_executing": false
    }
   },
   "outputs": [],
   "source": [
    "from gensim.models import word2vec\n",
    "import logging "
   ]
  },
  {
   "cell_type": "code",
   "execution_count": 17,
   "metadata": {
    "collapsed": true
   },
   "outputs": [],
   "source": [
    "logging.basicConfig(format='%(asctime)s : %(levelname)s : %(message)s',level=logging.INFO)"
   ]
  },
  {
   "cell_type": "code",
   "execution_count": 18,
   "metadata": {
    "collapsed": true
   },
   "outputs": [],
   "source": [
    "raw_sentences=[\"the quick brown fox jumps over the lazy dogs\",\"yoyoyo you go home now to sleep\"]"
   ]
  },
  {
   "cell_type": "code",
   "execution_count": 19,
   "metadata": {},
   "outputs": [],
   "source": [
    "sentences=[s.split() for s in raw_sentences]"
   ]
  },
  {
   "cell_type": "code",
   "execution_count": 20,
   "metadata": {},
   "outputs": [
    {
     "data": {
      "text/plain": [
       "[['the', 'quick', 'brown', 'fox', 'jumps', 'over', 'the', 'lazy', 'dogs'],\n",
       " ['yoyoyo', 'you', 'go', 'home', 'now', 'to', 'sleep']]"
      ]
     },
     "execution_count": 20,
     "metadata": {},
     "output_type": "execute_result"
    }
   ],
   "source": [
    "sentences"
   ]
  },
  {
   "cell_type": "code",
   "execution_count": 21,
   "metadata": {},
   "outputs": [
    {
     "name": "stderr",
     "output_type": "stream",
     "text": [
      "2020-11-09 20:09:40,841 : INFO : collecting all words and their counts\n",
      "2020-11-09 20:09:40,846 : INFO : PROGRESS: at sentence #0, processed 0 words, keeping 0 word types\n",
      "2020-11-09 20:09:40,848 : INFO : collected 15 word types from a corpus of 16 raw words and 2 sentences\n",
      "2020-11-09 20:09:40,850 : INFO : Loading a fresh vocabulary\n",
      "2020-11-09 20:09:40,855 : INFO : effective_min_count=1 retains 15 unique words (100% of original 15, drops 0)\n",
      "2020-11-09 20:09:40,861 : INFO : effective_min_count=1 leaves 16 word corpus (100% of original 16, drops 0)\n",
      "2020-11-09 20:09:40,864 : INFO : deleting the raw counts dictionary of 15 items\n",
      "2020-11-09 20:09:40,865 : INFO : sample=0.001 downsamples 15 most-common words\n",
      "2020-11-09 20:09:40,871 : INFO : downsampling leaves estimated 2 word corpus (13.7% of prior 16)\n",
      "2020-11-09 20:09:40,878 : INFO : estimated required memory for 15 words and 100 dimensions: 19500 bytes\n",
      "2020-11-09 20:09:40,880 : INFO : resetting layer weights\n",
      "2020-11-09 20:09:40,885 : INFO : training model with 3 workers on 15 vocabulary and 100 features, using sg=0 hs=0 sample=0.001 negative=5 window=5\n",
      "2020-11-09 20:09:40,894 : INFO : worker thread finished; awaiting finish of 2 more threads\n",
      "2020-11-09 20:09:40,896 : INFO : worker thread finished; awaiting finish of 1 more threads\n",
      "2020-11-09 20:09:40,899 : INFO : worker thread finished; awaiting finish of 0 more threads\n",
      "2020-11-09 20:09:40,902 : INFO : EPOCH - 1 : training on 16 raw words (2 effective words) took 0.0s, 240 effective words/s\n",
      "2020-11-09 20:09:40,910 : INFO : worker thread finished; awaiting finish of 2 more threads\n",
      "2020-11-09 20:09:40,912 : INFO : worker thread finished; awaiting finish of 1 more threads\n",
      "2020-11-09 20:09:40,917 : INFO : worker thread finished; awaiting finish of 0 more threads\n",
      "2020-11-09 20:09:40,919 : INFO : EPOCH - 2 : training on 16 raw words (3 effective words) took 0.0s, 337 effective words/s\n",
      "2020-11-09 20:09:40,923 : INFO : worker thread finished; awaiting finish of 2 more threads\n",
      "2020-11-09 20:09:40,929 : INFO : worker thread finished; awaiting finish of 1 more threads\n",
      "2020-11-09 20:09:40,930 : INFO : worker thread finished; awaiting finish of 0 more threads\n",
      "2020-11-09 20:09:40,934 : INFO : EPOCH - 3 : training on 16 raw words (1 effective words) took 0.0s, 90 effective words/s\n",
      "2020-11-09 20:09:40,940 : INFO : worker thread finished; awaiting finish of 2 more threads\n",
      "2020-11-09 20:09:40,942 : INFO : worker thread finished; awaiting finish of 1 more threads\n",
      "2020-11-09 20:09:40,946 : INFO : worker thread finished; awaiting finish of 0 more threads\n",
      "2020-11-09 20:09:40,951 : INFO : EPOCH - 4 : training on 16 raw words (2 effective words) took 0.0s, 179 effective words/s\n",
      "2020-11-09 20:09:40,954 : INFO : worker thread finished; awaiting finish of 2 more threads\n",
      "2020-11-09 20:09:40,959 : INFO : worker thread finished; awaiting finish of 1 more threads\n",
      "2020-11-09 20:09:40,961 : INFO : worker thread finished; awaiting finish of 0 more threads\n",
      "2020-11-09 20:09:40,965 : INFO : EPOCH - 5 : training on 16 raw words (2 effective words) took 0.0s, 171 effective words/s\n",
      "2020-11-09 20:09:40,967 : INFO : training on a 80 raw words (10 effective words) took 0.1s, 132 effective words/s\n",
      "2020-11-09 20:09:40,969 : WARNING : under 10 jobs per worker: consider setting a smaller `batch_words' for smoother alpha decay\n"
     ]
    }
   ],
   "source": [
    "model=word2vec.Word2Vec(sentences,min_count=1)"
   ]
  },
  {
   "cell_type": "code",
   "execution_count": 23,
   "metadata": {},
   "outputs": [
    {
     "name": "stderr",
     "output_type": "stream",
     "text": [
      "/Users/nanji/miniconda3/envs/py35/lib/python3.5/site-packages/ipykernel_launcher.py:1: DeprecationWarning: Call to deprecated `similarity` (Method will be removed in 4.0.0, use self.wv.similarity() instead).\n",
      "  \"\"\"Entry point for launching an IPython kernel.\n"
     ]
    },
    {
     "data": {
      "text/plain": [
       "0.0"
      ]
     },
     "execution_count": 23,
     "metadata": {},
     "output_type": "execute_result"
    }
   ],
   "source": [
    "model.similarity('dogs','you')"
   ]
  },
  {
   "cell_type": "code",
   "execution_count": 24,
   "metadata": {},
   "outputs": [
    {
     "data": {
      "text/plain": [
       "0.0"
      ]
     },
     "execution_count": 24,
     "metadata": {},
     "output_type": "execute_result"
    }
   ],
   "source": [
    "model.wv.similarity(\"dogs\",\"you\")"
   ]
  },
  {
   "cell_type": "code",
   "execution_count": null,
   "metadata": {
    "collapsed": true
   },
   "outputs": [],
   "source": []
  }
 ],
 "metadata": {
  "kernelspec": {
   "display_name": "Python 3",
   "language": "python",
   "name": "python3"
  },
  "language_info": {
   "codemirror_mode": {
    "name": "ipython",
    "version": 3
   },
   "file_extension": ".py",
   "mimetype": "text/x-python",
   "name": "python",
   "nbconvert_exporter": "python",
   "pygments_lexer": "ipython3",
   "version": "3.5.3"
  }
 },
 "nbformat": 4,
 "nbformat_minor": 1
}
