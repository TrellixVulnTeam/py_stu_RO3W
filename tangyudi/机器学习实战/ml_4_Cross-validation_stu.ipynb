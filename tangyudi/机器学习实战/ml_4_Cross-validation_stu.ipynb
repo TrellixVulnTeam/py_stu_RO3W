{
 "cells": [
  {
   "cell_type": "code",
   "execution_count": 5,
   "metadata": {},
   "outputs": [
    {
     "data": {
      "text/html": [
       "<div>\n",
       "<style>\n",
       "    .dataframe thead tr:only-child th {\n",
       "        text-align: right;\n",
       "    }\n",
       "\n",
       "    .dataframe thead th {\n",
       "        text-align: left;\n",
       "    }\n",
       "\n",
       "    .dataframe tbody tr th {\n",
       "        vertical-align: top;\n",
       "    }\n",
       "</style>\n",
       "<table border=\"1\" class=\"dataframe\">\n",
       "  <thead>\n",
       "    <tr style=\"text-align: right;\">\n",
       "      <th></th>\n",
       "      <th>gpa</th>\n",
       "      <th>gre</th>\n",
       "      <th>actual_label</th>\n",
       "    </tr>\n",
       "  </thead>\n",
       "  <tbody>\n",
       "    <tr>\n",
       "      <th>0</th>\n",
       "      <td>3.177277</td>\n",
       "      <td>594.102992</td>\n",
       "      <td>0</td>\n",
       "    </tr>\n",
       "    <tr>\n",
       "      <th>1</th>\n",
       "      <td>3.412655</td>\n",
       "      <td>631.528607</td>\n",
       "      <td>0</td>\n",
       "    </tr>\n",
       "    <tr>\n",
       "      <th>2</th>\n",
       "      <td>2.728097</td>\n",
       "      <td>553.714399</td>\n",
       "      <td>0</td>\n",
       "    </tr>\n",
       "    <tr>\n",
       "      <th>3</th>\n",
       "      <td>3.093559</td>\n",
       "      <td>551.089985</td>\n",
       "      <td>0</td>\n",
       "    </tr>\n",
       "    <tr>\n",
       "      <th>4</th>\n",
       "      <td>3.141923</td>\n",
       "      <td>537.184894</td>\n",
       "      <td>0</td>\n",
       "    </tr>\n",
       "  </tbody>\n",
       "</table>\n",
       "</div>"
      ],
      "text/plain": [
       "        gpa         gre  actual_label\n",
       "0  3.177277  594.102992             0\n",
       "1  3.412655  631.528607             0\n",
       "2  2.728097  553.714399             0\n",
       "3  3.093559  551.089985             0\n",
       "4  3.141923  537.184894             0"
      ]
     },
     "execution_count": 5,
     "metadata": {},
     "output_type": "execute_result"
    }
   ],
   "source": [
    "import pandas as pd \n",
    "from sklearn.linear_model import LogisticRegression \n",
    "\n",
    "admissions=pd.read_csv('admissions.csv')\n",
    "admissions['actual_label']=admissions['admit']\n",
    "admissions=admissions.drop(\"admit\",axis=1)\n",
    "admissions.head()"
   ]
  },
  {
   "cell_type": "code",
   "execution_count": 8,
   "metadata": {},
   "outputs": [
    {
     "name": "stdout",
     "output_type": "stream",
     "text": [
      "[408 442 299  27 591 277 524 525 142 173 305 518 508 271 566 629 477 381\n",
      " 211 457 278  45  52 176  35  43 576 249 244 448 378 152 223 317 399  57\n",
      " 172 191  64 556 327 230 419 175 157 444  33 584 514 558   7 235 516  92\n",
      " 417 481 424 473 334 551 394 161  12 102 563 253  31 445  22 581 396 326\n",
      " 192 573 485 197 370 343 169 254 540  24 519 484  65 426 375  76 131 266\n",
      " 497  16   6 504 295 183 261 236 482  69 520  97 229 280 284 367  68 642\n",
      " 194 322 333 425 309 599  34 565 181  47 428 608 507 282 312  78 500 463\n",
      " 110 218 433 374 257 466 499 402  84 105 509  72 276 616 238 222 233 100\n",
      " 379 217 403 351 383 193 237 242 562 163 391 190 171 467 387 632 529 140\n",
      "   1 491 492 279 109 116 307 353 167 626 151 586 474 536 487 405 220 260\n",
      " 153  56 252 441 512 107 302 121  70 264 452 272 625 349 479 389 285 603\n",
      " 489 179 293 304  91 262  94 296 323 118  80 154  88 617 203 447 136 245\n",
      "  96 114 521 539 228 628  98 231 332 329 166 195 240 585 579 215 126 241\n",
      " 188 620 610  61 146 458 339 392 639  59 559  50 418  60 532 569 578 164\n",
      " 439 478 139 119 522 210  11 612 345  28 129  10  81 541 414 108 273 361\n",
      " 538 533 274 588 111  14 214 160 635  26 437 184  99 582 292  25 354 358\n",
      " 384 303 429 336 597 341 600 456 431 159  37  66 553 550 226 130 289 462\n",
      " 471 174 227 311 149 212 101 637 287 495 604  75 225 636 147  23 113 476\n",
      " 308 606 510 177 640 155 596  38 377 590 572 170 469 567 410 435 219 248\n",
      " 325 560 138  58 575   2 208 250 568  87 386 544 546 348 199 106  29 475\n",
      " 407 365  17  30 493 315  63 281 352 633 124 609  20 359 187 207 503 224\n",
      " 611 577 269 104 288 438 318 501 440 451  36 602 297  19 310 552 267 112\n",
      " 398 120 291 443  85 275 132 202 400 570 189 198 571 247   5 148 561 178\n",
      " 413 145 204 415   3 580 397 483 316  21 335 362 517 592 127  49  39 547\n",
      " 314 423 331 618 631 598 404 294 251 368 450 542  42 488 388 117 270 324\n",
      " 589   0 306 505 300 390  55 143 511 455 165  83 411 641 205 531 319 385\n",
      " 587 434  18 301 549 614 186  86 513 555  46 168 162 298 537 432 564 221\n",
      " 133 436 627 141 115 486 449 258 137 548 330 372 376 494 454 158 196 460\n",
      " 180   9 259  32 150 263 643 103 347 350 613 213 465 206 638 255 412 328\n",
      " 346 427 607 634 421 470 459 373  48 621 506 619  82 355  95 446  67 534\n",
      " 422 380 201 357 128 144 401 209 286 498 268  90  41 595 337 416 234 366\n",
      "  53 243  79  51 526 338 340 515 535 557 313 554 232 583 185 630  62 480\n",
      " 523 246 134 461 360 290 182 364 593 594   4  44 472 468 135 430 601 622\n",
      "  71 464 605  15 393 216  74 624 406 615  93 530 283 543 321  89 342 382\n",
      " 409  13 453  77 623 200 545 574 122 363 344  54 395 239 356 528 371 420\n",
      " 502  40 490 256  73   8 496 156 123 369 320 527 125 265]\n",
      "          gpa         gre  actual_label\n",
      "408  3.179445  730.248802             1\n",
      "442  3.181360  777.796915             1\n",
      "299  2.692225  795.114106             0\n",
      "27   3.122304  714.245338             0\n",
      "591  2.862711  654.140893             1\n"
     ]
    }
   ],
   "source": [
    "import numpy as np\n",
    "np.random.seed(10)\n",
    "admissions=pd.read_csv(\"admissions.csv\")\n",
    "admissions['actual_label']=admissions['admit']\n",
    "admissions=admissions.drop('admit',axis=1)\n",
    "shuffled_index=np.random.permutation(admissions.index)#洗牌操作 \n",
    "shuffled_admissions=admissions.loc[shuffled_index]\n",
    "print(shuffled_index)\n",
    "train=shuffled_admissions.iloc[0:515]\n",
    "test=shuffled_admissions.iloc[515:len(shuffled_admissions)]\n",
    "print(shuffled_admissions.head())"
   ]
  },
  {
   "cell_type": "code",
   "execution_count": 9,
   "metadata": {
    "collapsed": true
   },
   "outputs": [],
   "source": [
    "shuffled_index=np.random.permutation(admissions.index)\n",
    "shuffled_admissions=admissions.loc[shuffled_index]\n",
    "train=shuffled_admissions.iloc[0:515]\n",
    "test=shuffled_admissions.iloc[515:len(shuffled_admissions)]"
   ]
  },
  {
   "cell_type": "code",
   "execution_count": 10,
   "metadata": {},
   "outputs": [
    {
     "data": {
      "text/plain": [
       "LogisticRegression(C=1.0, class_weight=None, dual=False, fit_intercept=True,\n",
       "          intercept_scaling=1, max_iter=100, multi_class='ovr', n_jobs=1,\n",
       "          penalty='l2', random_state=None, solver='liblinear', tol=0.0001,\n",
       "          verbose=0, warm_start=False)"
      ]
     },
     "execution_count": 10,
     "metadata": {},
     "output_type": "execute_result"
    }
   ],
   "source": [
    "model=LogisticRegression()\n",
    "model.fit(train[['gpa']],train['actual_label'])\n"
   ]
  },
  {
   "cell_type": "code",
   "execution_count": 14,
   "metadata": {},
   "outputs": [
    {
     "name": "stderr",
     "output_type": "stream",
     "text": [
      "/Users/nanji/miniconda3/envs/py35/lib/python3.5/site-packages/ipykernel_launcher.py:2: SettingWithCopyWarning: \n",
      "A value is trying to be set on a copy of a slice from a DataFrame.\n",
      "Try using .loc[row_indexer,col_indexer] = value instead\n",
      "\n",
      "See the caveats in the documentation: http://pandas.pydata.org/pandas-docs/stable/indexing.html#indexing-view-versus-copy\n",
      "  \n"
     ]
    }
   ],
   "source": [
    "labels=model.predict(test[['gpa']])\n",
    "test['predicted_label']=labels"
   ]
  },
  {
   "cell_type": "markdown",
   "metadata": {},
   "source": [
    "test.head()"
   ]
  },
  {
   "cell_type": "code",
   "execution_count": 15,
   "metadata": {},
   "outputs": [
    {
     "data": {
      "text/html": [
       "<div>\n",
       "<style>\n",
       "    .dataframe thead tr:only-child th {\n",
       "        text-align: right;\n",
       "    }\n",
       "\n",
       "    .dataframe thead th {\n",
       "        text-align: left;\n",
       "    }\n",
       "\n",
       "    .dataframe tbody tr th {\n",
       "        vertical-align: top;\n",
       "    }\n",
       "</style>\n",
       "<table border=\"1\" class=\"dataframe\">\n",
       "  <thead>\n",
       "    <tr style=\"text-align: right;\">\n",
       "      <th></th>\n",
       "      <th>gpa</th>\n",
       "      <th>gre</th>\n",
       "      <th>actual_label</th>\n",
       "      <th>predicted_label</th>\n",
       "    </tr>\n",
       "  </thead>\n",
       "  <tbody>\n",
       "    <tr>\n",
       "      <th>465</th>\n",
       "      <td>3.631865</td>\n",
       "      <td>561.211942</td>\n",
       "      <td>1</td>\n",
       "      <td>0</td>\n",
       "    </tr>\n",
       "    <tr>\n",
       "      <th>360</th>\n",
       "      <td>3.184187</td>\n",
       "      <td>683.380600</td>\n",
       "      <td>0</td>\n",
       "      <td>0</td>\n",
       "    </tr>\n",
       "    <tr>\n",
       "      <th>604</th>\n",
       "      <td>3.032122</td>\n",
       "      <td>764.790105</td>\n",
       "      <td>1</td>\n",
       "      <td>0</td>\n",
       "    </tr>\n",
       "    <tr>\n",
       "      <th>216</th>\n",
       "      <td>2.625307</td>\n",
       "      <td>582.835228</td>\n",
       "      <td>0</td>\n",
       "      <td>0</td>\n",
       "    </tr>\n",
       "    <tr>\n",
       "      <th>302</th>\n",
       "      <td>3.155785</td>\n",
       "      <td>624.002925</td>\n",
       "      <td>0</td>\n",
       "      <td>0</td>\n",
       "    </tr>\n",
       "  </tbody>\n",
       "</table>\n",
       "</div>"
      ],
      "text/plain": [
       "          gpa         gre  actual_label  predicted_label\n",
       "465  3.631865  561.211942             1                0\n",
       "360  3.184187  683.380600             0                0\n",
       "604  3.032122  764.790105             1                0\n",
       "216  2.625307  582.835228             0                0\n",
       "302  3.155785  624.002925             0                0"
      ]
     },
     "execution_count": 15,
     "metadata": {},
     "output_type": "execute_result"
    }
   ],
   "source": [
    "test.head()"
   ]
  },
  {
   "cell_type": "code",
   "execution_count": 19,
   "metadata": {
    "collapsed": true
   },
   "outputs": [],
   "source": [
    "matches=test['predicted_label']==test['actual_label']\n",
    "correct_predictions=test[matches]"
   ]
  },
  {
   "cell_type": "code",
   "execution_count": 20,
   "metadata": {},
   "outputs": [
    {
     "data": {
      "text/plain": [
       "465    False\n",
       "360     True\n",
       "604    False\n",
       "216     True\n",
       "302     True\n",
       "dtype: bool"
      ]
     },
     "execution_count": 20,
     "metadata": {},
     "output_type": "execute_result"
    }
   ],
   "source": [
    "matches.head()"
   ]
  },
  {
   "cell_type": "code",
   "execution_count": 21,
   "metadata": {},
   "outputs": [
    {
     "data": {
      "text/html": [
       "<div>\n",
       "<style>\n",
       "    .dataframe thead tr:only-child th {\n",
       "        text-align: right;\n",
       "    }\n",
       "\n",
       "    .dataframe thead th {\n",
       "        text-align: left;\n",
       "    }\n",
       "\n",
       "    .dataframe tbody tr th {\n",
       "        vertical-align: top;\n",
       "    }\n",
       "</style>\n",
       "<table border=\"1\" class=\"dataframe\">\n",
       "  <thead>\n",
       "    <tr style=\"text-align: right;\">\n",
       "      <th></th>\n",
       "      <th>gpa</th>\n",
       "      <th>gre</th>\n",
       "      <th>actual_label</th>\n",
       "      <th>predicted_label</th>\n",
       "    </tr>\n",
       "  </thead>\n",
       "  <tbody>\n",
       "    <tr>\n",
       "      <th>360</th>\n",
       "      <td>3.184187</td>\n",
       "      <td>683.380600</td>\n",
       "      <td>0</td>\n",
       "      <td>0</td>\n",
       "    </tr>\n",
       "    <tr>\n",
       "      <th>216</th>\n",
       "      <td>2.625307</td>\n",
       "      <td>582.835228</td>\n",
       "      <td>0</td>\n",
       "      <td>0</td>\n",
       "    </tr>\n",
       "    <tr>\n",
       "      <th>302</th>\n",
       "      <td>3.155785</td>\n",
       "      <td>624.002925</td>\n",
       "      <td>0</td>\n",
       "      <td>0</td>\n",
       "    </tr>\n",
       "    <tr>\n",
       "      <th>176</th>\n",
       "      <td>3.337680</td>\n",
       "      <td>540.445177</td>\n",
       "      <td>0</td>\n",
       "      <td>0</td>\n",
       "    </tr>\n",
       "    <tr>\n",
       "      <th>114</th>\n",
       "      <td>2.988720</td>\n",
       "      <td>603.901588</td>\n",
       "      <td>0</td>\n",
       "      <td>0</td>\n",
       "    </tr>\n",
       "  </tbody>\n",
       "</table>\n",
       "</div>"
      ],
      "text/plain": [
       "          gpa         gre  actual_label  predicted_label\n",
       "360  3.184187  683.380600             0                0\n",
       "216  2.625307  582.835228             0                0\n",
       "302  3.155785  624.002925             0                0\n",
       "176  3.337680  540.445177             0                0\n",
       "114  2.988720  603.901588             0                0"
      ]
     },
     "execution_count": 21,
     "metadata": {},
     "output_type": "execute_result"
    }
   ],
   "source": [
    "correct_predictions.head()"
   ]
  },
  {
   "cell_type": "code",
   "execution_count": 22,
   "metadata": {
    "collapsed": true
   },
   "outputs": [],
   "source": [
    "accuracy=len(correct_predictions)/float(len(test))"
   ]
  },
  {
   "cell_type": "code",
   "execution_count": 23,
   "metadata": {},
   "outputs": [
    {
     "data": {
      "text/plain": [
       "0.627906976744186"
      ]
     },
     "execution_count": 23,
     "metadata": {},
     "output_type": "execute_result"
    }
   ],
   "source": [
    "accuracy"
   ]
  },
  {
   "cell_type": "code",
   "execution_count": 24,
   "metadata": {
    "collapsed": true
   },
   "outputs": [],
   "source": [
    "import matplotlib.pyplot as plt \n",
    "from sklearn import metrics\n"
   ]
  },
  {
   "cell_type": "code",
   "execution_count": 25,
   "metadata": {
    "collapsed": true
   },
   "outputs": [],
   "source": [
    "probabilities=model.predict_proba(test[['gpa']])"
   ]
  },
  {
   "cell_type": "code",
   "execution_count": 26,
   "metadata": {
    "collapsed": true
   },
   "outputs": [],
   "source": [
    "fpr,tpr,thresholds=metrics.roc_curve(test['actual_label'],probabilities[:,1])"
   ]
  },
  {
   "cell_type": "code",
   "execution_count": 27,
   "metadata": {},
   "outputs": [
    {
     "data": {
      "image/png": "[encoded data removed]",
      "text/plain": [
       "<matplotlib.figure.Figure at 0x7f8db375e710>"
      ]
     },
     "metadata": {},
     "output_type": "display_data"
    }
   ],
   "source": [
    "plt.plot(fpr,tpr)\n",
    "plt.show()"
   ]
  },
  {
   "cell_type": "code",
   "execution_count": 34,
   "metadata": {},
   "outputs": [
    {
     "name": "stdout",
     "output_type": "stream",
     "text": [
      "[ 0.57625727  0.56009385  0.54965047  0.51844199  0.49917161  0.48157619\n",
      "  0.4813456   0.47378881  0.46367273  0.4602062   0.4505521   0.45049816\n",
      "  0.4442995   0.44380978  0.4429659   0.43797767  0.43634667  0.43628506\n",
      "  0.43462183  0.43140563  0.41728251  0.41219695  0.41066104  0.41020795\n",
      "  0.40684505  0.40662133  0.40545858  0.4048126   0.40149629  0.40087937\n",
      "  0.39854178  0.39778838  0.39669249  0.3966403   0.3930474   0.39170217\n",
      "  0.38847138  0.38641649  0.3770652   0.37391734  0.37295712  0.36982841\n",
      "  0.36882953  0.36619609  0.35398361  0.35217829  0.34525337  0.34318699\n",
      "  0.34200806  0.34064482  0.33417054  0.33299148  0.32308674  0.31383432\n",
      "  0.30851601  0.30744701  0.2954251   0.28802001  0.28588136  0.26432614\n",
      "  0.26048923  0.25699503  0.24677434]\n"
     ]
    }
   ],
   "source": [
    "print(thresholds)"
   ]
  },
  {
   "cell_type": "code",
   "execution_count": 35,
   "metadata": {
    "collapsed": true
   },
   "outputs": [],
   "source": [
    "from sklearn.metrics import roc_auc_score\n",
    "probabilities=model.predict_proba(test[['gpa']])\n"
   ]
  },
  {
   "cell_type": "code",
   "execution_count": 36,
   "metadata": {
    "collapsed": true
   },
   "outputs": [],
   "source": [
    "auc_score=roc_auc_score(test['actual_label'],probabilities[:,1])"
   ]
  },
  {
   "cell_type": "code",
   "execution_count": 37,
   "metadata": {},
   "outputs": [
    {
     "name": "stdout",
     "output_type": "stream",
     "text": [
      "0.646582278481\n"
     ]
    }
   ],
   "source": [
    "print(auc_score)"
   ]
  },
  {
   "cell_type": "code",
   "execution_count": null,
   "metadata": {
    "collapsed": true
   },
   "outputs": [],
   "source": []
  }
 ],
 "metadata": {
  "kernelspec": {
   "display_name": "Python 3",
   "language": "python",
   "name": "python3"
  },
  "language_info": {
   "codemirror_mode": {
    "name": "ipython",
    "version": 3
   },
   "file_extension": ".py",
   "mimetype": "text/x-python",
   "name": "python",
   "nbconvert_exporter": "python",
   "pygments_lexer": "ipython3",
   "version": "3.5.3"
  }
 },
 "nbformat": 4,
 "nbformat_minor": 1
}
