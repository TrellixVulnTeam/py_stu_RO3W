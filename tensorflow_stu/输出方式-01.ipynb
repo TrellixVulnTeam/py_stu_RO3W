{
 "cells": [
  {
   "cell_type": "code",
   "execution_count": 1,
   "id": "criminal-consultancy",
   "metadata": {},
   "outputs": [],
   "source": [
    "import tensorflow as tf \n",
    "from tensorflow import keras \n",
    "from tensorflow.keras import datasets \n",
    "import os \n",
    "\n",
    "\n",
    "gpu_options = tf.compat.v1.GPUOptions(per_process_gpu_memory_fraction=0.2)\n",
    "config=tf.compat.v1.ConfigProto(gpu_options=gpu_options)\n",
    "session = tf.compat.v1.Session(config=config)"
   ]
  },
  {
   "cell_type": "markdown",
   "id": "pressing-consultancy",
   "metadata": {},
   "source": [
    "# tf.sigmoid"
   ]
  },
  {
   "cell_type": "code",
   "execution_count": 3,
   "id": "prescribed-statement",
   "metadata": {},
   "outputs": [],
   "source": [
    "a=tf.linspace(-6.,6,10) "
   ]
  },
  {
   "cell_type": "code",
   "execution_count": 4,
   "id": "continent-vacuum",
   "metadata": {},
   "outputs": [
    {
     "data": {
      "text/plain": [
       "<tf.Tensor: id=8, shape=(10,), dtype=float32, numpy=\n",
       "array([0.00247264, 0.00931597, 0.03444517, 0.11920291, 0.33924365,\n",
       "       0.6607564 , 0.8807971 , 0.96555483, 0.99068403, 0.9975274 ],\n",
       "      dtype=float32)>"
      ]
     },
     "execution_count": 4,
     "metadata": {},
     "output_type": "execute_result"
    }
   ],
   "source": [
    "tf.sigmoid(a)"
   ]
  },
  {
   "cell_type": "code",
   "execution_count": 5,
   "id": "dedicated-celebration",
   "metadata": {},
   "outputs": [],
   "source": [
    "x=tf.random.normal([1,28,28])*5 "
   ]
  },
  {
   "cell_type": "code",
   "execution_count": 6,
   "id": "waiting-fiction",
   "metadata": {},
   "outputs": [
    {
     "data": {
      "text/plain": [
       "TensorShape([1, 28, 28])"
      ]
     },
     "execution_count": 6,
     "metadata": {},
     "output_type": "execute_result"
    }
   ],
   "source": [
    "x.shape"
   ]
  },
  {
   "cell_type": "code",
   "execution_count": 7,
   "id": "level-stability",
   "metadata": {},
   "outputs": [
    {
     "data": {
      "text/plain": [
       "<tf.Tensor: id=19, shape=(), dtype=float32, numpy=14.8078575>"
      ]
     },
     "execution_count": 7,
     "metadata": {},
     "output_type": "execute_result"
    }
   ],
   "source": [
    "tf.reduce_max(x) "
   ]
  },
  {
   "cell_type": "code",
   "execution_count": 8,
   "id": "piano-combat",
   "metadata": {},
   "outputs": [],
   "source": [
    "x=tf.sigmoid(x) "
   ]
  },
  {
   "cell_type": "code",
   "execution_count": 10,
   "id": "numerous-stranger",
   "metadata": {},
   "outputs": [
    {
     "data": {
      "text/plain": [
       "TensorShape([1, 28, 28])"
      ]
     },
     "execution_count": 10,
     "metadata": {},
     "output_type": "execute_result"
    }
   ],
   "source": [
    "x.shape"
   ]
  },
  {
   "cell_type": "code",
   "execution_count": 11,
   "id": "flush-dryer",
   "metadata": {},
   "outputs": [
    {
     "data": {
      "text/plain": [
       "(<tf.Tensor: id=24, shape=(), dtype=float32, numpy=1.4901161e-07>,\n",
       " <tf.Tensor: id=26, shape=(), dtype=float32, numpy=0.99999964>)"
      ]
     },
     "execution_count": 11,
     "metadata": {},
     "output_type": "execute_result"
    }
   ],
   "source": [
    "tf.reduce_min(x) ,tf.reduce_max(x)"
   ]
  },
  {
   "cell_type": "code",
   "execution_count": 22,
   "id": "enclosed-fundamentals",
   "metadata": {},
   "outputs": [],
   "source": [
    "x=tf.random.normal([1,3,2])*5 "
   ]
  },
  {
   "cell_type": "markdown",
   "id": "elementary-prototype",
   "metadata": {},
   "source": [
    "# tf.softmax "
   ]
  },
  {
   "cell_type": "code",
   "execution_count": 25,
   "id": "better-attachment",
   "metadata": {},
   "outputs": [
    {
     "data": {
      "text/plain": [
       "<tf.Tensor: id=154, shape=(1, 3, 2), dtype=float32, numpy=\n",
       "array([[[ 2.473423  ,  4.983865  ],\n",
       "        [-1.3600769 ,  3.5490522 ],\n",
       "        [-0.76453817,  1.1512269 ]]], dtype=float32)>"
      ]
     },
     "execution_count": 25,
     "metadata": {},
     "output_type": "execute_result"
    }
   ],
   "source": [
    "x"
   ]
  },
  {
   "cell_type": "code",
   "execution_count": 26,
   "id": "dangerous-bernard",
   "metadata": {},
   "outputs": [
    {
     "data": {
      "text/plain": [
       "<tf.Tensor: id=192, shape=(), dtype=float32, numpy=4.983865>"
      ]
     },
     "execution_count": 26,
     "metadata": {},
     "output_type": "execute_result"
    }
   ],
   "source": [
    "tf.reduce_max(x) "
   ]
  },
  {
   "cell_type": "code",
   "execution_count": 28,
   "id": "through-tuning",
   "metadata": {},
   "outputs": [
    {
     "data": {
      "text/plain": [
       "<tf.Tensor: id=256, shape=(1, 3, 2), dtype=float32, numpy=\n",
       "array([[[0.94261587, 0.79376894],\n",
       "        [0.02039233, 0.18904401],\n",
       "        [0.03699185, 0.01718702]]], dtype=float32)>"
      ]
     },
     "execution_count": 28,
     "metadata": {},
     "output_type": "execute_result"
    }
   ],
   "source": [
    "tf.nn.softmax(x,axis=1) "
   ]
  },
  {
   "cell_type": "code",
   "execution_count": 29,
   "id": "modified-morrison",
   "metadata": {},
   "outputs": [],
   "source": [
    "logits=tf.random.uniform([1,10],minval=-2,maxval=2) "
   ]
  },
  {
   "cell_type": "code",
   "execution_count": 33,
   "id": "conscious-xerox",
   "metadata": {},
   "outputs": [
    {
     "data": {
      "text/plain": [
       "TensorShape([1, 10])"
      ]
     },
     "execution_count": 33,
     "metadata": {},
     "output_type": "execute_result"
    }
   ],
   "source": [
    "logits.shape"
   ]
  },
  {
   "cell_type": "code",
   "execution_count": 34,
   "id": "settled-nepal",
   "metadata": {},
   "outputs": [
    {
     "data": {
      "text/plain": [
       "<tf.Tensor: id=264, shape=(1, 10), dtype=float32, numpy=\n",
       "array([[-0.8905301 , -0.822484  , -0.55732155, -1.5729489 , -1.1284928 ,\n",
       "         1.0312581 , -0.53053904,  1.1276827 , -1.2033267 , -1.3885365 ]],\n",
       "      dtype=float32)>"
      ]
     },
     "execution_count": 34,
     "metadata": {},
     "output_type": "execute_result"
    }
   ],
   "source": [
    "logits"
   ]
  },
  {
   "cell_type": "code",
   "execution_count": 31,
   "id": "institutional-sound",
   "metadata": {},
   "outputs": [],
   "source": [
    "prob=tf.nn.softmax(logits,axis=1) "
   ]
  },
  {
   "cell_type": "code",
   "execution_count": 32,
   "id": "passive-publisher",
   "metadata": {},
   "outputs": [
    {
     "data": {
      "text/plain": [
       "<tf.Tensor: id=265, shape=(1, 10), dtype=float32, numpy=\n",
       "array([[0.04568303, 0.04889978, 0.06374785, 0.02308789, 0.03600883,\n",
       "        0.31215978, 0.06547825, 0.3437586 , 0.0334125 , 0.02776345]],\n",
       "      dtype=float32)>"
      ]
     },
     "execution_count": 32,
     "metadata": {},
     "output_type": "execute_result"
    }
   ],
   "source": [
    "prob"
   ]
  },
  {
   "cell_type": "code",
   "execution_count": 35,
   "id": "secondary-shepherd",
   "metadata": {},
   "outputs": [
    {
     "data": {
      "text/plain": [
       "<tf.Tensor: id=269, shape=(1,), dtype=float32, numpy=array([0.99999994], dtype=float32)>"
      ]
     },
     "execution_count": 35,
     "metadata": {},
     "output_type": "execute_result"
    }
   ],
   "source": [
    "tf.reduce_sum(prob,axis=1)"
   ]
  },
  {
   "cell_type": "markdown",
   "id": "endless-quality",
   "metadata": {},
   "source": [
    "#  tf.tanh"
   ]
  },
  {
   "cell_type": "code",
   "execution_count": 36,
   "id": "express-pixel",
   "metadata": {},
   "outputs": [
    {
     "data": {
      "text/plain": [
       "<tf.Tensor: id=7, shape=(10,), dtype=float32, numpy=\n",
       "array([-6.       , -4.6666665, -3.3333333, -2.       , -0.6666665,\n",
       "        0.666667 ,  2.       ,  3.333334 ,  4.666667 ,  6.       ],\n",
       "      dtype=float32)>"
      ]
     },
     "execution_count": 36,
     "metadata": {},
     "output_type": "execute_result"
    }
   ],
   "source": [
    "a"
   ]
  },
  {
   "cell_type": "code",
   "execution_count": 37,
   "id": "standard-cheese",
   "metadata": {},
   "outputs": [
    {
     "data": {
      "text/plain": [
       "<tf.Tensor: id=272, shape=(10,), dtype=float32, numpy=\n",
       "array([-0.9999877 , -0.99982315, -0.997458  , -0.9640276 , -0.58278286,\n",
       "        0.5827831 ,  0.9640276 ,  0.997458  ,  0.99982315,  0.9999877 ],\n",
       "      dtype=float32)>"
      ]
     },
     "execution_count": 37,
     "metadata": {},
     "output_type": "execute_result"
    }
   ],
   "source": [
    "tf.tanh(a)"
   ]
  },
  {
   "cell_type": "code",
   "execution_count": null,
   "id": "patent-nursing",
   "metadata": {},
   "outputs": [],
   "source": []
  }
 ],
 "metadata": {
  "kernelspec": {
   "display_name": "Python 3",
   "language": "python",
   "name": "python3"
  },
  "language_info": {
   "codemirror_mode": {
    "name": "ipython",
    "version": 3
   },
   "file_extension": ".py",
   "mimetype": "text/x-python",
   "name": "python",
   "nbconvert_exporter": "python",
   "pygments_lexer": "ipython3",
   "version": "3.6.13"
  }
 },
 "nbformat": 4,
 "nbformat_minor": 5
}
