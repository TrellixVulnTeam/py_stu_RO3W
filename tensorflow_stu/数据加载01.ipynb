{
  "nbformat": 4,
  "nbformat_minor": 0,
  "metadata": {
    "colab": {
      "name": "数据加载01.ipynb",
      "provenance": [],
      "collapsed_sections": [],
      "authorship_tag": "ABX9TyPrTTvSHpUZHn9inKqqhha3",
      "include_colab_link": true
    },
    "kernelspec": {
      "name": "python3",
      "display_name": "Python 3"
    },
    "language_info": {
      "name": "python"
    }
  },
  "cells": [
    {
      "cell_type": "markdown",
      "metadata": {
        "id": "view-in-github",
        "colab_type": "text"
      },
      "source": [
        "<a href=\"https://colab.research.google.com/github/lixixi89055465/py_stu/blob/master/tensorflow_stu/%E6%95%B0%E6%8D%AE%E5%8A%A0%E8%BD%BD01.ipynb\" target=\"_parent\"><img src=\"https://colab.research.google.com/assets/colab-badge.svg\" alt=\"Open In Colab\"/></a>"
      ]
    },
    {
      "cell_type": "code",
      "metadata": {
        "id": "zcTwls9SDPKo"
      },
      "source": [
        "import tensorflow as tf \n",
        "# from tensorflow.keras import datasets,layers,optimizers \n",
        "import  tensorflow.keras as keras \n"
      ],
      "execution_count": null,
      "outputs": []
    },
    {
      "cell_type": "code",
      "metadata": {
        "id": "CJgAfchPDooo",
        "colab": {
          "base_uri": "https://localhost:8080/"
        },
        "outputId": "86c5f7ee-a030-4917-8ea3-d65377a57896"
      },
      "source": [
        "(x,y),(x_test,y_test)=keras.datasets.mnist.load_data() "
      ],
      "execution_count": null,
      "outputs": [
        {
          "output_type": "stream",
          "text": [
            "Downloading data from https://storage.googleapis.com/tensorflow/tf-keras-datasets/mnist.npz\n",
            "11493376/11490434 [==============================] - 0s 0us/step\n"
          ],
          "name": "stdout"
        }
      ]
    },
    {
      "cell_type": "markdown",
      "metadata": {
        "id": "fge4FNBvEKCD"
      },
      "source": [
        ""
      ]
    },
    {
      "cell_type": "code",
      "metadata": {
        "id": "mxh5oUXZD8C3",
        "colab": {
          "base_uri": "https://localhost:8080/"
        },
        "outputId": "bae8ffdb-6cef-47fd-e35c-a1b6361038a1"
      },
      "source": [
        "x.shape"
      ],
      "execution_count": null,
      "outputs": [
        {
          "output_type": "execute_result",
          "data": {
            "text/plain": [
              "(60000, 28, 28)"
            ]
          },
          "metadata": {
            "tags": []
          },
          "execution_count": 9
        }
      ]
    },
    {
      "cell_type": "code",
      "metadata": {
        "id": "u0wl4HfmD_5l",
        "colab": {
          "base_uri": "https://localhost:8080/"
        },
        "outputId": "61decc45-fc4b-4877-9cfc-4ef382964e4d"
      },
      "source": [
        "y.shape"
      ],
      "execution_count": null,
      "outputs": [
        {
          "output_type": "execute_result",
          "data": {
            "text/plain": [
              "(60000,)"
            ]
          },
          "metadata": {
            "tags": []
          },
          "execution_count": 10
        }
      ]
    },
    {
      "cell_type": "code",
      "metadata": {
        "id": "LfLNDmpREAUL",
        "colab": {
          "base_uri": "https://localhost:8080/"
        },
        "outputId": "ae2d3317-d920-410a-8195-18a0f3d8b606"
      },
      "source": [
        "x.min(),x.max(),x.mean()"
      ],
      "execution_count": null,
      "outputs": [
        {
          "output_type": "execute_result",
          "data": {
            "text/plain": [
              "(0, 255, 33.318421449829934)"
            ]
          },
          "metadata": {
            "tags": []
          },
          "execution_count": 11
        }
      ]
    },
    {
      "cell_type": "code",
      "metadata": {
        "id": "aIkSXCEMESJH",
        "colab": {
          "base_uri": "https://localhost:8080/"
        },
        "outputId": "d8ad17a2-8751-4dd1-aa9b-d9f051492732"
      },
      "source": [
        "x_test.shape,y_test.shape"
      ],
      "execution_count": null,
      "outputs": [
        {
          "output_type": "execute_result",
          "data": {
            "text/plain": [
              "((10000, 28, 28), (10000,))"
            ]
          },
          "metadata": {
            "tags": []
          },
          "execution_count": 12
        }
      ]
    },
    {
      "cell_type": "markdown",
      "metadata": {
        "id": "j466QvFoGzbN"
      },
      "source": [
        ""
      ]
    },
    {
      "cell_type": "code",
      "metadata": {
        "colab": {
          "base_uri": "https://localhost:8080/"
        },
        "id": "U5OvlBAbGGr0",
        "outputId": "5a9943d0-5c15-4760-84a2-5b512ac42e1d"
      },
      "source": [
        "y[:4]"
      ],
      "execution_count": null,
      "outputs": [
        {
          "output_type": "execute_result",
          "data": {
            "text/plain": [
              "array([5, 0, 4, 1], dtype=uint8)"
            ]
          },
          "metadata": {
            "tags": []
          },
          "execution_count": 13
        }
      ]
    },
    {
      "cell_type": "code",
      "metadata": {
        "id": "nEWzRWpdGINs"
      },
      "source": [
        "y_onehot=tf.one_hot(y,depth=10)"
      ],
      "execution_count": null,
      "outputs": []
    },
    {
      "cell_type": "markdown",
      "metadata": {
        "id": "x8DqBLx2HNtT"
      },
      "source": [
        ""
      ]
    },
    {
      "cell_type": "code",
      "metadata": {
        "colab": {
          "base_uri": "https://localhost:8080/"
        },
        "id": "RQsunPhoGL8J",
        "outputId": "93d26f6b-e1ef-4361-903a-37840c5a881c"
      },
      "source": [
        "y_onehot[:2]"
      ],
      "execution_count": null,
      "outputs": [
        {
          "output_type": "execute_result",
          "data": {
            "text/plain": [
              "<tf.Tensor: shape=(2, 10), dtype=float32, numpy=\n",
              "array([[0., 0., 0., 0., 0., 1., 0., 0., 0., 0.],\n",
              "       [1., 0., 0., 0., 0., 0., 0., 0., 0., 0.]], dtype=float32)>"
            ]
          },
          "metadata": {
            "tags": []
          },
          "execution_count": 18
        }
      ]
    },
    {
      "cell_type": "code",
      "metadata": {
        "colab": {
          "base_uri": "https://localhost:8080/"
        },
        "id": "ZOQYzidfGPJQ",
        "outputId": "94c382b4-c8f9-4a3f-ecd0-a6104c13ba50"
      },
      "source": [
        "(x,y),(x_test,y_test)=keras.datasets.cifar10.load_data() "
      ],
      "execution_count": null,
      "outputs": [
        {
          "output_type": "stream",
          "text": [
            "Downloading data from https://www.cs.toronto.edu/~kriz/cifar-10-python.tar.gz\n",
            "170500096/170498071 [==============================] - 6s 0us/step\n"
          ],
          "name": "stdout"
        }
      ]
    },
    {
      "cell_type": "code",
      "metadata": {
        "colab": {
          "base_uri": "https://localhost:8080/"
        },
        "id": "ZvE1gz1ILYY8",
        "outputId": "1ec98c28-9f65-42ec-e224-1c1cb8a2a1ae"
      },
      "source": [
        "x.shape,y.shape,x_test.shape,y_test.shape"
      ],
      "execution_count": null,
      "outputs": [
        {
          "output_type": "execute_result",
          "data": {
            "text/plain": [
              "((50000, 32, 32, 3), (50000, 1), (10000, 32, 32, 3), (10000, 1))"
            ]
          },
          "metadata": {
            "tags": []
          },
          "execution_count": 22
        }
      ]
    },
    {
      "cell_type": "code",
      "metadata": {
        "colab": {
          "base_uri": "https://localhost:8080/"
        },
        "id": "Lpa3ZZmHLF76",
        "outputId": "42fe845f-466e-48bf-e151-fc11206c197c"
      },
      "source": [
        "x.min(),y.min(),x.max(),y.max()"
      ],
      "execution_count": null,
      "outputs": [
        {
          "output_type": "execute_result",
          "data": {
            "text/plain": [
              "(0, 0, 255, 9)"
            ]
          },
          "metadata": {
            "tags": []
          },
          "execution_count": 24
        }
      ]
    },
    {
      "cell_type": "code",
      "metadata": {
        "colab": {
          "base_uri": "https://localhost:8080/"
        },
        "id": "wCvaEWC1NA5a",
        "outputId": "1f5b4e7d-9349-4758-875f-68bb63061388"
      },
      "source": [
        "y[:4]"
      ],
      "execution_count": null,
      "outputs": [
        {
          "output_type": "execute_result",
          "data": {
            "text/plain": [
              "array([[6],\n",
              "       [9],\n",
              "       [9],\n",
              "       [4]], dtype=uint8)"
            ]
          },
          "metadata": {
            "tags": []
          },
          "execution_count": 25
        }
      ]
    },
    {
      "cell_type": "code",
      "metadata": {
        "id": "jrFZzKsrNKJi",
        "colab": {
          "base_uri": "https://localhost:8080/"
        },
        "outputId": "da980e78-6d81-4228-d7f8-e2d00ac9b12a"
      },
      "source": [
        "db=tf.data.Dataset.from_tensor_slices(x_test) \n",
        "next(iter(db)).shape"
      ],
      "execution_count": 27,
      "outputs": [
        {
          "output_type": "execute_result",
          "data": {
            "text/plain": [
              "TensorShape([32, 32, 3])"
            ]
          },
          "metadata": {
            "tags": []
          },
          "execution_count": 27
        }
      ]
    },
    {
      "cell_type": "code",
      "metadata": {
        "id": "0qgwONpzO45I"
      },
      "source": [
        "db=tf.data.Dataset.from_tensor_slices((x_test,y_test)) "
      ],
      "execution_count": 28,
      "outputs": []
    },
    {
      "cell_type": "code",
      "metadata": {
        "colab": {
          "base_uri": "https://localhost:8080/"
        },
        "id": "RtLMSj-4PGF0",
        "outputId": "70cc3494-1143-4249-f986-89456269fe62"
      },
      "source": [
        "next(iter(db))[0].shape"
      ],
      "execution_count": 29,
      "outputs": [
        {
          "output_type": "execute_result",
          "data": {
            "text/plain": [
              "TensorShape([32, 32, 3])"
            ]
          },
          "metadata": {
            "tags": []
          },
          "execution_count": 29
        }
      ]
    },
    {
      "cell_type": "code",
      "metadata": {
        "id": "JHc_94JxPHpT"
      },
      "source": [
        "a=next(iter(db))"
      ],
      "execution_count": 31,
      "outputs": []
    },
    {
      "cell_type": "code",
      "metadata": {
        "colab": {
          "base_uri": "https://localhost:8080/"
        },
        "id": "KPPFZlmCPSQN",
        "outputId": "bcbedb07-944e-4300-a5b1-486abe63532b"
      },
      "source": [
        "type(a)"
      ],
      "execution_count": 32,
      "outputs": [
        {
          "output_type": "execute_result",
          "data": {
            "text/plain": [
              "tuple"
            ]
          },
          "metadata": {
            "tags": []
          },
          "execution_count": 32
        }
      ]
    },
    {
      "cell_type": "code",
      "metadata": {
        "colab": {
          "base_uri": "https://localhost:8080/"
        },
        "id": "1USUtiO9QYe3",
        "outputId": "f5913c3a-a0db-471e-baa0-acc5491d215d"
      },
      "source": [
        "a[0].shape,a[1].shape"
      ],
      "execution_count": 33,
      "outputs": [
        {
          "output_type": "execute_result",
          "data": {
            "text/plain": [
              "(TensorShape([32, 32, 3]), TensorShape([1]))"
            ]
          },
          "metadata": {
            "tags": []
          },
          "execution_count": 33
        }
      ]
    },
    {
      "cell_type": "code",
      "metadata": {
        "id": "kNQTXDvmQa-A"
      },
      "source": [
        "db=db.shuffle(10000) "
      ],
      "execution_count": 34,
      "outputs": []
    },
    {
      "cell_type": "code",
      "metadata": {
        "colab": {
          "base_uri": "https://localhost:8080/"
        },
        "id": "IMqde_f3RKWY",
        "outputId": "02b836df-48ca-47c8-a26a-8202d2518ce8"
      },
      "source": [
        "len(db)"
      ],
      "execution_count": 35,
      "outputs": [
        {
          "output_type": "execute_result",
          "data": {
            "text/plain": [
              "10000"
            ]
          },
          "metadata": {
            "tags": []
          },
          "execution_count": 35
        }
      ]
    },
    {
      "cell_type": "markdown",
      "metadata": {
        "id": "aZhZLManRvXD"
      },
      "source": [
        "# .map"
      ]
    },
    {
      "cell_type": "code",
      "metadata": {
        "id": "GVT6XSDVRyrW"
      },
      "source": [
        "def preprocess(x,y):\n",
        "  x=tf.cast(x,dtype=tf.float32)/255.0 \n",
        "  y=tf.cast(y,dtype=tf.int32)\n",
        "  y=tf.one_hot(y,depth=10) \n",
        "  return x,y "
      ],
      "execution_count": 36,
      "outputs": []
    },
    {
      "cell_type": "code",
      "metadata": {
        "id": "gdiGpDbaRMoh"
      },
      "source": [
        "db2=db.map(preprocess )"
      ],
      "execution_count": 37,
      "outputs": []
    },
    {
      "cell_type": "code",
      "metadata": {
        "colab": {
          "base_uri": "https://localhost:8080/"
        },
        "id": "oXIFdp-jSJU5",
        "outputId": "cca8f00f-d08c-4268-c045-7b40b0618ea0"
      },
      "source": [
        "type(db)"
      ],
      "execution_count": 39,
      "outputs": [
        {
          "output_type": "execute_result",
          "data": {
            "text/plain": [
              "tensorflow.python.data.ops.dataset_ops.ShuffleDataset"
            ]
          },
          "metadata": {
            "tags": []
          },
          "execution_count": 39
        }
      ]
    },
    {
      "cell_type": "code",
      "metadata": {
        "colab": {
          "base_uri": "https://localhost:8080/"
        },
        "id": "yWkGNwuwSOEj",
        "outputId": "bac6dca7-5647-4c8f-aa1b-a6a8ec46308b"
      },
      "source": [
        "type(db2) "
      ],
      "execution_count": 40,
      "outputs": [
        {
          "output_type": "execute_result",
          "data": {
            "text/plain": [
              "tensorflow.python.data.ops.dataset_ops.MapDataset"
            ]
          },
          "metadata": {
            "tags": []
          },
          "execution_count": 40
        }
      ]
    },
    {
      "cell_type": "code",
      "metadata": {
        "id": "rFTopZcXSXGH"
      },
      "source": [
        "res=next(iter(db2))"
      ],
      "execution_count": 41,
      "outputs": []
    },
    {
      "cell_type": "code",
      "metadata": {
        "colab": {
          "base_uri": "https://localhost:8080/"
        },
        "id": "bGtNj0l0SaYl",
        "outputId": "bb46f037-16ad-4e06-be3c-d8412947f91e"
      },
      "source": [
        "res[0].shape,res[1].shape"
      ],
      "execution_count": 42,
      "outputs": [
        {
          "output_type": "execute_result",
          "data": {
            "text/plain": [
              "(TensorShape([32, 32, 3]), TensorShape([1, 10]))"
            ]
          },
          "metadata": {
            "tags": []
          },
          "execution_count": 42
        }
      ]
    },
    {
      "cell_type": "code",
      "metadata": {
        "colab": {
          "base_uri": "https://localhost:8080/"
        },
        "id": "xl3-HACKScfi",
        "outputId": "040bae98-0ec2-4bb4-b9bf-c5a48f9675b6"
      },
      "source": [
        "res[1][:2]"
      ],
      "execution_count": 43,
      "outputs": [
        {
          "output_type": "execute_result",
          "data": {
            "text/plain": [
              "<tf.Tensor: shape=(1, 10), dtype=float32, numpy=array([[0., 0., 0., 1., 0., 0., 0., 0., 0., 0.]], dtype=float32)>"
            ]
          },
          "metadata": {
            "tags": []
          },
          "execution_count": 43
        }
      ]
    },
    {
      "cell_type": "code",
      "metadata": {
        "colab": {
          "base_uri": "https://localhost:8080/"
        },
        "id": "g_SjP1XLSgvv",
        "outputId": "660d4275-461d-46a5-dd52-7b2a5d5a7ecd"
      },
      "source": [
        "next(iter(db2))[0].shape"
      ],
      "execution_count": 48,
      "outputs": [
        {
          "output_type": "execute_result",
          "data": {
            "text/plain": [
              "TensorShape([32, 32, 3])"
            ]
          },
          "metadata": {
            "tags": []
          },
          "execution_count": 48
        }
      ]
    },
    {
      "cell_type": "code",
      "metadata": {
        "colab": {
          "base_uri": "https://localhost:8080/"
        },
        "id": "X0UYQK8VS0K-",
        "outputId": "c628ede9-35de-498b-e546-05f626a884d0"
      },
      "source": [
        "next(iter(db2))[1].shape"
      ],
      "execution_count": 49,
      "outputs": [
        {
          "output_type": "execute_result",
          "data": {
            "text/plain": [
              "TensorShape([1, 10])"
            ]
          },
          "metadata": {
            "tags": []
          },
          "execution_count": 49
        }
      ]
    },
    {
      "cell_type": "markdown",
      "metadata": {
        "id": "GYOx-BztTza3"
      },
      "source": [
        "# .batch"
      ]
    },
    {
      "cell_type": "code",
      "metadata": {
        "id": "Em9btmotTH-0"
      },
      "source": [
        "db3=db2.batch(32)"
      ],
      "execution_count": 50,
      "outputs": []
    },
    {
      "cell_type": "code",
      "metadata": {
        "colab": {
          "base_uri": "https://localhost:8080/"
        },
        "id": "YGnntI7IT6kg",
        "outputId": "deb97d6d-ffc5-46fb-9fcc-90653ebd50fe"
      },
      "source": [
        "type(db3)"
      ],
      "execution_count": 52,
      "outputs": [
        {
          "output_type": "execute_result",
          "data": {
            "text/plain": [
              "tensorflow.python.data.ops.dataset_ops.BatchDataset"
            ]
          },
          "metadata": {
            "tags": []
          },
          "execution_count": 52
        }
      ]
    },
    {
      "cell_type": "code",
      "metadata": {
        "id": "-V990pkmT7PA"
      },
      "source": [
        "res=next(iter(db3))"
      ],
      "execution_count": 54,
      "outputs": []
    },
    {
      "cell_type": "code",
      "metadata": {
        "colab": {
          "base_uri": "https://localhost:8080/"
        },
        "id": "5iWnxSyST_dS",
        "outputId": "592d86e4-ac05-4b06-fb43-8d45036cbc59"
      },
      "source": [
        "type(res) "
      ],
      "execution_count": 56,
      "outputs": [
        {
          "output_type": "execute_result",
          "data": {
            "text/plain": [
              "tuple"
            ]
          },
          "metadata": {
            "tags": []
          },
          "execution_count": 56
        }
      ]
    },
    {
      "cell_type": "code",
      "metadata": {
        "colab": {
          "base_uri": "https://localhost:8080/"
        },
        "id": "-zgqhvDKUFk7",
        "outputId": "5f454dc5-6cd5-46b3-a5bb-d95322b62c90"
      },
      "source": [
        "res[0].shape"
      ],
      "execution_count": 57,
      "outputs": [
        {
          "output_type": "execute_result",
          "data": {
            "text/plain": [
              "TensorShape([32, 32, 32, 3])"
            ]
          },
          "metadata": {
            "tags": []
          },
          "execution_count": 57
        }
      ]
    },
    {
      "cell_type": "code",
      "metadata": {
        "colab": {
          "base_uri": "https://localhost:8080/"
        },
        "id": "XgmvNd2SUK4Q",
        "outputId": "4b48cf5a-7370-4f16-a44d-8b99f94fcd50"
      },
      "source": [
        "res[1].shape"
      ],
      "execution_count": 58,
      "outputs": [
        {
          "output_type": "execute_result",
          "data": {
            "text/plain": [
              "TensorShape([32, 1, 10])"
            ]
          },
          "metadata": {
            "tags": []
          },
          "execution_count": 58
        }
      ]
    },
    {
      "cell_type": "code",
      "metadata": {
        "id": "FaHQ89i2ULwv"
      },
      "source": [
        "db_iter=iter(db3) "
      ],
      "execution_count": 60,
      "outputs": []
    },
    {
      "cell_type": "code",
      "metadata": {
        "id": "VlYELl9UUNoM"
      },
      "source": [
        "def prepare_mnist_features_and_labels(x,y):\n",
        "  x=tf.cast(x,tf.float32)/255.0 \n",
        "  y=tf.cast(y,tf.int64) \n",
        "  return x,y "
      ],
      "execution_count": 71,
      "outputs": []
    },
    {
      "cell_type": "code",
      "metadata": {
        "id": "DwKr_DE1U11x"
      },
      "source": [
        "def mnist_dataset():\n",
        "  (x,y),(x_val,y_val)=datasets.fashion_mnist.load_data()\n",
        "  y=tf.one_hot(y,depth=10) \n",
        "  y_val=tf.one_hot(y_val,depth=10) \n",
        "  \n",
        "  ds=tf.data.Dataset.from_tensor_slices((x,y))\n",
        "  ds=ds.map(prepare_mnist_features_and_labels) \n",
        "  ds=ds.shuffle(60000).batch(100) \n",
        "  ds_val=tf.data.Dataset.from_tensor_slices((x_val,y_val)) \n",
        "  ds_val=ds_val.map(prepare_mnist_features_and_labels) \n",
        "  ds_val=ds_val.shuffle(10000).batch(100) \n",
        "  return ds,ds_val "
      ],
      "execution_count": 72,
      "outputs": []
    },
    {
      "cell_type": "code",
      "metadata": {
        "colab": {
          "base_uri": "https://localhost:8080/"
        },
        "id": "ZycMp4uwVFFH",
        "outputId": "1b133c9c-0dfa-4af6-e810-eca241985dae"
      },
      "source": [
        "type(db4) "
      ],
      "execution_count": 73,
      "outputs": [
        {
          "output_type": "execute_result",
          "data": {
            "text/plain": [
              "tensorflow.python.data.ops.dataset_ops.RepeatDataset"
            ]
          },
          "metadata": {
            "tags": []
          },
          "execution_count": 73
        }
      ]
    },
    {
      "cell_type": "code",
      "metadata": {
        "id": "Q5evl6P9VHsl"
      },
      "source": [
        ""
      ],
      "execution_count": 74,
      "outputs": []
    },
    {
      "cell_type": "code",
      "metadata": {
        "id": "jVzV9-zUVKVo"
      },
      "source": [
        ""
      ],
      "execution_count": 69,
      "outputs": []
    },
    {
      "cell_type": "code",
      "metadata": {
        "id": "Ky2VOxlMVNPJ"
      },
      "source": [
        ""
      ],
      "execution_count": 70,
      "outputs": []
    },
    {
      "cell_type": "code",
      "metadata": {
        "id": "mI5ZAqZcVQgd"
      },
      "source": [
        ""
      ],
      "execution_count": null,
      "outputs": []
    }
  ]
}