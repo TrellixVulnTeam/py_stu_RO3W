{
 "cells": [
  {
   "cell_type": "code",
   "execution_count": 1,
   "id": "imposed-intelligence",
   "metadata": {},
   "outputs": [],
   "source": [
    "import tensorflow as tf \n",
    "from tensorflow.keras import datasets,layers,optimizers \n",
    "\n",
    "\n",
    "gpu_options = tf.compat.v1.GPUOptions(per_process_gpu_memory_fraction=0.2)\n",
    "config=tf.compat.v1.ConfigProto(gpu_options=gpu_options)\n",
    "session = tf.compat.v1.Session(config=config)\n",
    "\n",
    "\n"
   ]
  },
  {
   "cell_type": "code",
   "execution_count": 2,
   "id": "varying-custom",
   "metadata": {},
   "outputs": [],
   "source": [
    "a=tf.random.normal([4,35,8])"
   ]
  },
  {
   "cell_type": "code",
   "execution_count": 3,
   "id": "expressed-qatar",
   "metadata": {},
   "outputs": [
    {
     "data": {
      "text/plain": [
       "TensorShape([4, 35, 8])"
      ]
     },
     "execution_count": 3,
     "metadata": {},
     "output_type": "execute_result"
    }
   ],
   "source": [
    "a.shape"
   ]
  },
  {
   "cell_type": "code",
   "execution_count": 4,
   "id": "mighty-curve",
   "metadata": {},
   "outputs": [
    {
     "data": {
      "text/plain": [
       "TensorShape([2, 35, 8])"
      ]
     },
     "execution_count": 4,
     "metadata": {},
     "output_type": "execute_result"
    }
   ],
   "source": [
    "tf.gather(a,axis=0,indices=[2,3]).shape"
   ]
  },
  {
   "cell_type": "code",
   "execution_count": 5,
   "id": "published-sight",
   "metadata": {},
   "outputs": [
    {
     "data": {
      "text/plain": [
       "TensorShape([4, 3, 8])"
      ]
     },
     "execution_count": 5,
     "metadata": {},
     "output_type": "execute_result"
    }
   ],
   "source": [
    "tf.gather(a,axis=1,indices=[2,27,30]).shape"
   ]
  },
  {
   "cell_type": "code",
   "execution_count": 6,
   "id": "focused-porter",
   "metadata": {},
   "outputs": [
    {
     "data": {
      "text/plain": [
       "TensorShape([2, 35, 8])"
      ]
     },
     "execution_count": 6,
     "metadata": {},
     "output_type": "execute_result"
    }
   ],
   "source": [
    "a[2:4].shape"
   ]
  },
  {
   "cell_type": "code",
   "execution_count": 7,
   "id": "allied-calibration",
   "metadata": {},
   "outputs": [
    {
     "data": {
      "text/plain": [
       "TensorShape([4, 35, 8])"
      ]
     },
     "execution_count": 7,
     "metadata": {},
     "output_type": "execute_result"
    }
   ],
   "source": [
    "tf.gather(a,axis=0,indices=[2,1,4,0]).shape"
   ]
  },
  {
   "cell_type": "code",
   "execution_count": 8,
   "id": "ranging-mixture",
   "metadata": {},
   "outputs": [
    {
     "data": {
      "text/plain": [
       "TensorShape([4, 5, 8])"
      ]
     },
     "execution_count": 8,
     "metadata": {},
     "output_type": "execute_result"
    }
   ],
   "source": [
    "tf.gather(a,axis=1,indices=[2,3,7,9,16]).shape"
   ]
  },
  {
   "cell_type": "code",
   "execution_count": 9,
   "id": "fixed-perry",
   "metadata": {},
   "outputs": [
    {
     "data": {
      "text/plain": [
       "TensorShape([4, 35, 3])"
      ]
     },
     "execution_count": 9,
     "metadata": {},
     "output_type": "execute_result"
    }
   ],
   "source": [
    "tf.gather(a,axis=2,indices=[2,3,7]).shape"
   ]
  },
  {
   "cell_type": "code",
   "execution_count": 11,
   "id": "quality-dealing",
   "metadata": {},
   "outputs": [
    {
     "data": {
      "text/plain": [
       "<tf.Tensor: id=28, shape=(4, 3, 8), dtype=float32, numpy=\n",
       "array([[[-0.13751474,  0.4195446 ,  1.7588551 ,  0.41545233,\n",
       "          0.71686566, -0.9463357 , -1.1467308 , -0.77845806],\n",
       "        [ 0.14745961, -1.1134638 , -0.6169934 , -1.1246914 ,\n",
       "         -1.3542005 , -1.3962301 ,  1.0730634 ,  0.94109297],\n",
       "        [ 1.2362534 , -0.18771929, -0.75270045, -0.6595147 ,\n",
       "          0.71726507, -0.6195788 , -0.00975394,  0.02936563]],\n",
       "\n",
       "       [[-1.306734  ,  0.58364284,  1.4171871 , -0.26416716,\n",
       "         -1.2656078 ,  0.6365368 ,  1.9798033 , -0.8758253 ],\n",
       "        [-1.2751111 , -1.0071883 , -0.10117763, -0.1778836 ,\n",
       "         -0.04402716,  0.9563711 , -0.05100478, -0.16720827],\n",
       "        [ 1.1924058 ,  0.47826657, -0.5350914 ,  1.0738914 ,\n",
       "          2.3275063 ,  2.156463  , -0.42684987,  0.28626612]],\n",
       "\n",
       "       [[ 1.2532611 , -1.1233202 , -0.49196362,  0.13517678,\n",
       "          0.5728487 ,  0.41737428, -0.01130477, -0.3197124 ],\n",
       "        [ 0.31830058,  0.2748225 ,  0.6694454 , -0.26389605,\n",
       "          1.1911863 ,  0.5820909 , -1.2020177 , -1.8464875 ],\n",
       "        [-3.3150284 ,  1.9794395 ,  1.3509661 , -0.3051952 ,\n",
       "         -0.25171047, -1.898063  ,  0.9041098 ,  0.89194286]],\n",
       "\n",
       "       [[ 0.17947702, -0.92008924,  2.027668  , -1.5481038 ,\n",
       "          1.7286123 ,  0.17531943,  0.8381794 ,  0.29199937],\n",
       "        [-0.5395145 ,  0.81076455,  0.19606961,  0.48370525,\n",
       "          0.06072299, -1.5166545 ,  0.649638  ,  0.45967016],\n",
       "        [-0.79352343, -0.5204633 , -0.27645084,  0.81118375,\n",
       "          1.7055111 ,  0.85982114,  2.053428  ,  0.503137  ]]],\n",
       "      dtype=float32)>"
      ]
     },
     "execution_count": 11,
     "metadata": {},
     "output_type": "execute_result"
    }
   ],
   "source": [
    "aa=tf.gather(a,axis=1,indices=[4,7,8])\n",
    "aaa=tf.gather(aa,axis=2,indices=[4,7,3])\n",
    "aa"
   ]
  },
  {
   "cell_type": "code",
   "execution_count": 12,
   "id": "handled-brave",
   "metadata": {},
   "outputs": [
    {
     "data": {
      "text/plain": [
       "<tf.Tensor: id=31, shape=(4, 3, 3), dtype=float32, numpy=\n",
       "array([[[ 0.71686566, -0.77845806,  0.41545233],\n",
       "        [-1.3542005 ,  0.94109297, -1.1246914 ],\n",
       "        [ 0.71726507,  0.02936563, -0.6595147 ]],\n",
       "\n",
       "       [[-1.2656078 , -0.8758253 , -0.26416716],\n",
       "        [-0.04402716, -0.16720827, -0.1778836 ],\n",
       "        [ 2.3275063 ,  0.28626612,  1.0738914 ]],\n",
       "\n",
       "       [[ 0.5728487 , -0.3197124 ,  0.13517678],\n",
       "        [ 1.1911863 , -1.8464875 , -0.26389605],\n",
       "        [-0.25171047,  0.89194286, -0.3051952 ]],\n",
       "\n",
       "       [[ 1.7286123 ,  0.29199937, -1.5481038 ],\n",
       "        [ 0.06072299,  0.45967016,  0.48370525],\n",
       "        [ 1.7055111 ,  0.503137  ,  0.81118375]]], dtype=float32)>"
      ]
     },
     "execution_count": 12,
     "metadata": {},
     "output_type": "execute_result"
    }
   ],
   "source": [
    "aaa"
   ]
  },
  {
   "cell_type": "code",
   "execution_count": 13,
   "id": "smaller-sunglasses",
   "metadata": {},
   "outputs": [
    {
     "data": {
      "text/plain": [
       "TensorShape([4, 35, 8])"
      ]
     },
     "execution_count": 13,
     "metadata": {},
     "output_type": "execute_result"
    }
   ],
   "source": [
    "a.shape"
   ]
  },
  {
   "cell_type": "code",
   "execution_count": 14,
   "id": "liquid-directive",
   "metadata": {},
   "outputs": [
    {
     "data": {
      "text/plain": [
       "TensorShape([35, 8])"
      ]
     },
     "execution_count": 14,
     "metadata": {},
     "output_type": "execute_result"
    }
   ],
   "source": [
    "tf.gather_nd(a,[0]).shape"
   ]
  },
  {
   "cell_type": "code",
   "execution_count": 15,
   "id": "bound-motivation",
   "metadata": {},
   "outputs": [
    {
     "data": {
      "text/plain": [
       "TensorShape([8])"
      ]
     },
     "execution_count": 15,
     "metadata": {},
     "output_type": "execute_result"
    }
   ],
   "source": [
    "tf.gather_nd(a,[0,1]).shape"
   ]
  },
  {
   "cell_type": "code",
   "execution_count": 16,
   "id": "regulation-bread",
   "metadata": {},
   "outputs": [
    {
     "data": {
      "text/plain": [
       "TensorShape([])"
      ]
     },
     "execution_count": 16,
     "metadata": {},
     "output_type": "execute_result"
    }
   ],
   "source": [
    "tf.gather_nd(a,[0,1,2]).shape"
   ]
  },
  {
   "cell_type": "code",
   "execution_count": 17,
   "id": "facial-central",
   "metadata": {},
   "outputs": [
    {
     "data": {
      "text/plain": [
       "TensorShape([1])"
      ]
     },
     "execution_count": 17,
     "metadata": {},
     "output_type": "execute_result"
    }
   ],
   "source": [
    "tf.gather_nd(a,[[0,1,2]]).shape"
   ]
  },
  {
   "cell_type": "code",
   "execution_count": 18,
   "id": "completed-bahamas",
   "metadata": {},
   "outputs": [
    {
     "data": {
      "text/plain": [
       "TensorShape([4, 35, 8])"
      ]
     },
     "execution_count": 18,
     "metadata": {},
     "output_type": "execute_result"
    }
   ],
   "source": [
    "a.shape"
   ]
  },
  {
   "cell_type": "code",
   "execution_count": 19,
   "id": "capable-repair",
   "metadata": {},
   "outputs": [
    {
     "data": {
      "text/plain": [
       "TensorShape([2, 8])"
      ]
     },
     "execution_count": 19,
     "metadata": {},
     "output_type": "execute_result"
    }
   ],
   "source": [
    "tf.gather_nd(a,[[0,0],[1,1]]).shape"
   ]
  },
  {
   "cell_type": "code",
   "execution_count": 20,
   "id": "parliamentary-logic",
   "metadata": {},
   "outputs": [
    {
     "data": {
      "text/plain": [
       "TensorShape([3, 8])"
      ]
     },
     "execution_count": 20,
     "metadata": {},
     "output_type": "execute_result"
    }
   ],
   "source": [
    "tf.gather_nd(a,[[0,0],[1,1],[2,2]]).shape"
   ]
  },
  {
   "cell_type": "code",
   "execution_count": 22,
   "id": "normal-arctic",
   "metadata": {},
   "outputs": [
    {
     "data": {
      "text/plain": [
       "TensorShape([3])"
      ]
     },
     "execution_count": 22,
     "metadata": {},
     "output_type": "execute_result"
    }
   ],
   "source": [
    "tf.gather_nd(a,[[0,0,0],[1,1,1],[2,2,2]]).shape"
   ]
  },
  {
   "cell_type": "code",
   "execution_count": 23,
   "id": "italian-competition",
   "metadata": {},
   "outputs": [
    {
     "data": {
      "text/plain": [
       "TensorShape([1, 3])"
      ]
     },
     "execution_count": 23,
     "metadata": {},
     "output_type": "execute_result"
    }
   ],
   "source": [
    "tf.gather_nd(a,[[[0,0,0],[1,1,1],[2,2,2]]]).shape"
   ]
  },
  {
   "cell_type": "code",
   "execution_count": null,
   "id": "august-password",
   "metadata": {},
   "outputs": [],
   "source": []
  }
 ],
 "metadata": {
  "kernelspec": {
   "display_name": "Python 3",
   "language": "python",
   "name": "python3"
  },
  "language_info": {
   "codemirror_mode": {
    "name": "ipython",
    "version": 3
   },
   "file_extension": ".py",
   "mimetype": "text/x-python",
   "name": "python",
   "nbconvert_exporter": "python",
   "pygments_lexer": "ipython3",
   "version": "3.6.13"
  }
 },
 "nbformat": 4,
 "nbformat_minor": 5
}
