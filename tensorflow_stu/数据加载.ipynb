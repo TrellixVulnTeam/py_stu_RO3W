{
  "nbformat": 4,
  "nbformat_minor": 0,
  "metadata": {
    "colab": {
      "name": "Untitled2.ipynb",
      "provenance": [],
      "collapsed_sections": [],
      "authorship_tag": "ABX9TyMySbh3Oi3dO41sUTeIIspP",
      "include_colab_link": true
    },
    "kernelspec": {
      "name": "python3",
      "display_name": "Python 3"
    },
    "language_info": {
      "name": "python"
    }
  },
  "cells": [
    {
      "cell_type": "markdown",
      "metadata": {
        "id": "view-in-github",
        "colab_type": "text"
      },
      "source": [
        "<a href=\"https://colab.research.google.com/github/lixixi89055465/py_stu/blob/master/tensorflow_stu/%E6%95%B0%E6%8D%AE%E5%8A%A0%E8%BD%BD.ipynb\" target=\"_parent\"><img src=\"https://colab.research.google.com/assets/colab-badge.svg\" alt=\"Open In Colab\"/></a>"
      ]
    },
    {
      "cell_type": "code",
      "metadata": {
        "id": "zcTwls9SDPKo"
      },
      "source": [
        "import tensorflow as tf \n",
        "# from tensorflow.keras import datasets,layers,optimizers \n",
        "import  tensorflow.keras as keras \n"
      ],
      "execution_count": 7,
      "outputs": []
    },
    {
      "cell_type": "code",
      "metadata": {
        "id": "CJgAfchPDooo",
        "colab": {
          "base_uri": "https://localhost:8080/"
        },
        "outputId": "86c5f7ee-a030-4917-8ea3-d65377a57896"
      },
      "source": [
        "(x,y),(x_test,y_test)=keras.datasets.mnist.load_data() "
      ],
      "execution_count": 8,
      "outputs": [
        {
          "output_type": "stream",
          "text": [
            "Downloading data from https://storage.googleapis.com/tensorflow/tf-keras-datasets/mnist.npz\n",
            "11493376/11490434 [==============================] - 0s 0us/step\n"
          ],
          "name": "stdout"
        }
      ]
    },
    {
      "cell_type": "markdown",
      "metadata": {
        "id": "fge4FNBvEKCD"
      },
      "source": [
        ""
      ]
    },
    {
      "cell_type": "code",
      "metadata": {
        "id": "mxh5oUXZD8C3",
        "colab": {
          "base_uri": "https://localhost:8080/"
        },
        "outputId": "bae8ffdb-6cef-47fd-e35c-a1b6361038a1"
      },
      "source": [
        "x.shape"
      ],
      "execution_count": 9,
      "outputs": [
        {
          "output_type": "execute_result",
          "data": {
            "text/plain": [
              "(60000, 28, 28)"
            ]
          },
          "metadata": {
            "tags": []
          },
          "execution_count": 9
        }
      ]
    },
    {
      "cell_type": "code",
      "metadata": {
        "id": "u0wl4HfmD_5l",
        "colab": {
          "base_uri": "https://localhost:8080/"
        },
        "outputId": "61decc45-fc4b-4877-9cfc-4ef382964e4d"
      },
      "source": [
        "y.shape"
      ],
      "execution_count": 10,
      "outputs": [
        {
          "output_type": "execute_result",
          "data": {
            "text/plain": [
              "(60000,)"
            ]
          },
          "metadata": {
            "tags": []
          },
          "execution_count": 10
        }
      ]
    },
    {
      "cell_type": "code",
      "metadata": {
        "id": "LfLNDmpREAUL",
        "colab": {
          "base_uri": "https://localhost:8080/"
        },
        "outputId": "ae2d3317-d920-410a-8195-18a0f3d8b606"
      },
      "source": [
        "x.min(),x.max(),x.mean()"
      ],
      "execution_count": 11,
      "outputs": [
        {
          "output_type": "execute_result",
          "data": {
            "text/plain": [
              "(0, 255, 33.318421449829934)"
            ]
          },
          "metadata": {
            "tags": []
          },
          "execution_count": 11
        }
      ]
    },
    {
      "cell_type": "code",
      "metadata": {
        "id": "aIkSXCEMESJH",
        "colab": {
          "base_uri": "https://localhost:8080/"
        },
        "outputId": "d8ad17a2-8751-4dd1-aa9b-d9f051492732"
      },
      "source": [
        "x_test.shape,y_test.shape"
      ],
      "execution_count": 12,
      "outputs": [
        {
          "output_type": "execute_result",
          "data": {
            "text/plain": [
              "((10000, 28, 28), (10000,))"
            ]
          },
          "metadata": {
            "tags": []
          },
          "execution_count": 12
        }
      ]
    },
    {
      "cell_type": "markdown",
      "metadata": {
        "id": "j466QvFoGzbN"
      },
      "source": [
        ""
      ]
    },
    {
      "cell_type": "code",
      "metadata": {
        "colab": {
          "base_uri": "https://localhost:8080/"
        },
        "id": "U5OvlBAbGGr0",
        "outputId": "5a9943d0-5c15-4760-84a2-5b512ac42e1d"
      },
      "source": [
        "y[:4]"
      ],
      "execution_count": 13,
      "outputs": [
        {
          "output_type": "execute_result",
          "data": {
            "text/plain": [
              "array([5, 0, 4, 1], dtype=uint8)"
            ]
          },
          "metadata": {
            "tags": []
          },
          "execution_count": 13
        }
      ]
    },
    {
      "cell_type": "code",
      "metadata": {
        "id": "nEWzRWpdGINs"
      },
      "source": [
        "y_onehot=tf.one_hot(y,depth=10)"
      ],
      "execution_count": 16,
      "outputs": []
    },
    {
      "cell_type": "markdown",
      "metadata": {
        "id": "x8DqBLx2HNtT"
      },
      "source": [
        ""
      ]
    },
    {
      "cell_type": "code",
      "metadata": {
        "colab": {
          "base_uri": "https://localhost:8080/"
        },
        "id": "RQsunPhoGL8J",
        "outputId": "93d26f6b-e1ef-4361-903a-37840c5a881c"
      },
      "source": [
        "y_onehot[:2]"
      ],
      "execution_count": 18,
      "outputs": [
        {
          "output_type": "execute_result",
          "data": {
            "text/plain": [
              "<tf.Tensor: shape=(2, 10), dtype=float32, numpy=\n",
              "array([[0., 0., 0., 0., 0., 1., 0., 0., 0., 0.],\n",
              "       [1., 0., 0., 0., 0., 0., 0., 0., 0., 0.]], dtype=float32)>"
            ]
          },
          "metadata": {
            "tags": []
          },
          "execution_count": 18
        }
      ]
    },
    {
      "cell_type": "code",
      "metadata": {
        "id": "ZOQYzidfGPJQ"
      },
      "source": [
        ""
      ],
      "execution_count": null,
      "outputs": []
    }
  ]
}