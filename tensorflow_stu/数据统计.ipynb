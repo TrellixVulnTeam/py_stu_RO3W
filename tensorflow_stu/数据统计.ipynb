{
 "cells": [
  {
   "cell_type": "markdown",
   "id": "breathing-telling",
   "metadata": {},
   "source": [
    "# Vector Norm "
   ]
  },
  {
   "cell_type": "code",
   "execution_count": 2,
   "id": "grave-exemption",
   "metadata": {},
   "outputs": [],
   "source": [
    "import tensorflow as tf \n",
    "from tensorflow.keras import datasets,layers,optimizers \n",
    "\n",
    "\n",
    "gpu_options = tf.compat.v1.GPUOptions(per_process_gpu_memory_fraction=0.2)\n",
    "config=tf.compat.v1.ConfigProto(gpu_options=gpu_options)\n",
    "session = tf.compat.v1.Session(config=config)"
   ]
  },
  {
   "cell_type": "code",
   "execution_count": 4,
   "id": "dutch-education",
   "metadata": {},
   "outputs": [],
   "source": [
    "a=tf.ones([2,2])"
   ]
  },
  {
   "cell_type": "code",
   "execution_count": 6,
   "id": "forward-presentation",
   "metadata": {},
   "outputs": [
    {
     "data": {
      "text/plain": [
       "<tf.Tensor: id=17, shape=(), dtype=float32, numpy=2.0>"
      ]
     },
     "execution_count": 6,
     "metadata": {},
     "output_type": "execute_result"
    }
   ],
   "source": [
    "tf.norm(a) # 二范数"
   ]
  },
  {
   "cell_type": "code",
   "execution_count": 7,
   "id": "marine-zambia",
   "metadata": {},
   "outputs": [
    {
     "data": {
      "text/plain": [
       "<tf.Tensor: id=22, shape=(), dtype=float32, numpy=2.0>"
      ]
     },
     "execution_count": 7,
     "metadata": {},
     "output_type": "execute_result"
    }
   ],
   "source": [
    "tf.sqrt(tf.reduce_sum(tf.square(a))) "
   ]
  },
  {
   "cell_type": "code",
   "execution_count": 8,
   "id": "corporate-briefing",
   "metadata": {},
   "outputs": [
    {
     "data": {
      "text/plain": [
       "<tf.Tensor: id=31, shape=(), dtype=float32, numpy=96.99484>"
      ]
     },
     "execution_count": 8,
     "metadata": {},
     "output_type": "execute_result"
    }
   ],
   "source": [
    "a=tf.ones([4,28,28,3]) \n",
    "tf.norm(a)"
   ]
  },
  {
   "cell_type": "code",
   "execution_count": 9,
   "id": "chief-listening",
   "metadata": {},
   "outputs": [
    {
     "data": {
      "text/plain": [
       "<tf.Tensor: id=36, shape=(), dtype=float32, numpy=96.99484>"
      ]
     },
     "execution_count": 9,
     "metadata": {},
     "output_type": "execute_result"
    }
   ],
   "source": [
    "tf.sqrt(tf.reduce_sum(tf.square(a)))"
   ]
  },
  {
   "cell_type": "markdown",
   "id": "intelligent-bumper",
   "metadata": {},
   "source": [
    "# L1 Norm "
   ]
  },
  {
   "cell_type": "code",
   "execution_count": 11,
   "id": "acquired-theology",
   "metadata": {},
   "outputs": [],
   "source": [
    "b=tf.ones([2,2])"
   ]
  },
  {
   "cell_type": "code",
   "execution_count": 12,
   "id": "important-caribbean",
   "metadata": {},
   "outputs": [
    {
     "data": {
      "text/plain": [
       "<tf.Tensor: id=45, shape=(), dtype=float32, numpy=2.0>"
      ]
     },
     "execution_count": 12,
     "metadata": {},
     "output_type": "execute_result"
    }
   ],
   "source": [
    "tf.norm(b) "
   ]
  },
  {
   "cell_type": "code",
   "execution_count": 18,
   "id": "checked-burning",
   "metadata": {},
   "outputs": [
    {
     "data": {
      "text/plain": [
       "<tf.Tensor: id=78, shape=(2,), dtype=float32, numpy=array([1.4142135, 1.4142135], dtype=float32)>"
      ]
     },
     "execution_count": 18,
     "metadata": {},
     "output_type": "execute_result"
    }
   ],
   "source": [
    "tf.norm(b,ord=2,axis=1)"
   ]
  },
  {
   "cell_type": "code",
   "execution_count": 20,
   "id": "available-resource",
   "metadata": {},
   "outputs": [
    {
     "data": {
      "text/plain": [
       "<tf.Tensor: id=89, shape=(), dtype=float32, numpy=4.0>"
      ]
     },
     "execution_count": 20,
     "metadata": {},
     "output_type": "execute_result"
    }
   ],
   "source": [
    "tf.norm(b,ord=1)"
   ]
  },
  {
   "cell_type": "code",
   "execution_count": 21,
   "id": "fluid-petersburg",
   "metadata": {},
   "outputs": [
    {
     "data": {
      "text/plain": [
       "<tf.Tensor: id=94, shape=(2,), dtype=float32, numpy=array([2., 2.], dtype=float32)>"
      ]
     },
     "execution_count": 21,
     "metadata": {},
     "output_type": "execute_result"
    }
   ],
   "source": [
    "tf.norm(b,ord=1,axis=0)"
   ]
  },
  {
   "cell_type": "code",
   "execution_count": 22,
   "id": "gothic-planner",
   "metadata": {},
   "outputs": [
    {
     "data": {
      "text/plain": [
       "<tf.Tensor: id=99, shape=(2,), dtype=float32, numpy=array([2., 2.], dtype=float32)>"
      ]
     },
     "execution_count": 22,
     "metadata": {},
     "output_type": "execute_result"
    }
   ],
   "source": [
    "tf.norm(b,ord=1,axis=1)"
   ]
  },
  {
   "cell_type": "code",
   "execution_count": 23,
   "id": "willing-aquarium",
   "metadata": {},
   "outputs": [],
   "source": [
    "a=tf.random.normal([4,10]) "
   ]
  },
  {
   "cell_type": "code",
   "execution_count": 24,
   "id": "fewer-serial",
   "metadata": {},
   "outputs": [
    {
     "data": {
      "text/plain": [
       "(<tf.Tensor: id=108, shape=(), dtype=float32, numpy=-1.7973595>,\n",
       " <tf.Tensor: id=110, shape=(), dtype=float32, numpy=1.9406475>,\n",
       " <tf.Tensor: id=112, shape=(), dtype=float32, numpy=0.018856281>)"
      ]
     },
     "execution_count": 24,
     "metadata": {},
     "output_type": "execute_result"
    }
   ],
   "source": [
    "tf.reduce_min(a), tf.reduce_max(a),tf.reduce_mean(a)"
   ]
  },
  {
   "cell_type": "code",
   "execution_count": 25,
   "id": "funded-annotation",
   "metadata": {},
   "outputs": [
    {
     "data": {
      "text/plain": [
       "(<tf.Tensor: id=117, shape=(4,), dtype=float32, numpy=array([-1.7973595, -1.0720425, -1.1448308, -1.4965154], dtype=float32)>,\n",
       " <tf.Tensor: id=119, shape=(4,), dtype=float32, numpy=array([1.9406475, 1.7775799, 1.3977958, 1.4094949], dtype=float32)>,\n",
       " <tf.Tensor: id=121, shape=(4,), dtype=float32, numpy=array([ 0.02185478,  0.06357749, -0.19725224,  0.18724515], dtype=float32)>)"
      ]
     },
     "execution_count": 25,
     "metadata": {},
     "output_type": "execute_result"
    }
   ],
   "source": [
    "tf.reduce_min(a,axis=1),tf.reduce_max(a,axis=1),tf.reduce_mean(a,axis=1)"
   ]
  },
  {
   "cell_type": "code",
   "execution_count": 26,
   "id": "documented-damage",
   "metadata": {},
   "outputs": [
    {
     "data": {
      "text/plain": [
       "(<tf.Tensor: id=126, shape=(10,), dtype=float32, numpy=\n",
       " array([-1.2058032 , -1.0594052 , -1.0720425 , -1.4261818 , -0.88877815,\n",
       "        -0.8290164 , -0.5461778 , -0.39584246, -1.7973595 , -0.5845716 ],\n",
       "       dtype=float32)>, <tf.Tensor: id=128, shape=(10,), dtype=float32, numpy=\n",
       " array([0.42500728, 0.27892086, 0.1461196 , 0.9610426 , 1.9406475 ,\n",
       "        0.9614829 , 1.3977958 , 1.4094949 , 1.7775799 , 1.0917225 ],\n",
       "       dtype=float32)>, <tf.Tensor: id=130, shape=(10,), dtype=float32, numpy=\n",
       " array([-0.39293805, -0.4003602 , -0.6228897 , -0.33881503,  0.6719679 ,\n",
       "        -0.07697305,  0.52332985,  0.74159503, -0.29692134,  0.38056755],\n",
       "       dtype=float32)>)"
      ]
     },
     "execution_count": 26,
     "metadata": {},
     "output_type": "execute_result"
    }
   ],
   "source": [
    "tf.reduce_min(a,axis=0),tf.reduce_max(a,axis=0),tf.reduce_mean(a,axis=0)"
   ]
  },
  {
   "cell_type": "code",
   "execution_count": 27,
   "id": "delayed-hungarian",
   "metadata": {},
   "outputs": [
    {
     "data": {
      "text/plain": [
       "TensorShape([4, 10])"
      ]
     },
     "execution_count": 27,
     "metadata": {},
     "output_type": "execute_result"
    }
   ],
   "source": [
    "a.shape"
   ]
  },
  {
   "cell_type": "code",
   "execution_count": 28,
   "id": "brazilian-portfolio",
   "metadata": {},
   "outputs": [
    {
     "data": {
      "text/plain": [
       "TensorShape([10])"
      ]
     },
     "execution_count": 28,
     "metadata": {},
     "output_type": "execute_result"
    }
   ],
   "source": [
    "tf.argmax(a).shape"
   ]
  },
  {
   "cell_type": "code",
   "execution_count": 30,
   "id": "utility-hundred",
   "metadata": {},
   "outputs": [
    {
     "data": {
      "text/plain": [
       "<tf.Tensor: id=137, shape=(10,), dtype=int64, numpy=array([0, 3, 0, 3, 0, 3, 2, 3, 1, 0])>"
      ]
     },
     "execution_count": 30,
     "metadata": {},
     "output_type": "execute_result"
    }
   ],
   "source": [
    "tf.argmax(a)"
   ]
  },
  {
   "cell_type": "code",
   "execution_count": 32,
   "id": "significant-serbia",
   "metadata": {},
   "outputs": [
    {
     "data": {
      "text/plain": [
       "<tf.Tensor: id=141, shape=(10,), dtype=int64, numpy=array([0, 3, 0, 3, 0, 3, 2, 3, 1, 0])>"
      ]
     },
     "execution_count": 32,
     "metadata": {},
     "output_type": "execute_result"
    }
   ],
   "source": [
    "tf.argmax(a,axis=0)"
   ]
  },
  {
   "cell_type": "code",
   "execution_count": 33,
   "id": "chief-skating",
   "metadata": {},
   "outputs": [
    {
     "data": {
      "text/plain": [
       "<tf.Tensor: id=144, shape=(4,), dtype=int64, numpy=array([4, 8, 6, 7])>"
      ]
     },
     "execution_count": 33,
     "metadata": {},
     "output_type": "execute_result"
    }
   ],
   "source": [
    "tf.argmax(a,axis=1)"
   ]
  },
  {
   "cell_type": "code",
   "execution_count": 34,
   "id": "complete-lighter",
   "metadata": {},
   "outputs": [
    {
     "data": {
      "text/plain": [
       "TensorShape([10])"
      ]
     },
     "execution_count": 34,
     "metadata": {},
     "output_type": "execute_result"
    }
   ],
   "source": [
    "tf.argmin(a).shape"
   ]
  },
  {
   "cell_type": "code",
   "execution_count": 35,
   "id": "animal-fountain",
   "metadata": {},
   "outputs": [
    {
     "data": {
      "text/plain": [
       "<tf.Tensor: id=149, shape=(10,), dtype=int64, numpy=array([3, 0, 1, 0, 2, 1, 0, 1, 0, 1])>"
      ]
     },
     "execution_count": 35,
     "metadata": {},
     "output_type": "execute_result"
    }
   ],
   "source": [
    "tf.argmin(a)"
   ]
  },
  {
   "cell_type": "markdown",
   "id": "durable-blocking",
   "metadata": {},
   "source": [
    "# tf.equal "
   ]
  },
  {
   "cell_type": "code",
   "execution_count": 36,
   "id": "billion-stake",
   "metadata": {},
   "outputs": [],
   "source": [
    "a=tf.constant([1,2,3,2,5])"
   ]
  },
  {
   "cell_type": "code",
   "execution_count": 37,
   "id": "missing-coupon",
   "metadata": {},
   "outputs": [],
   "source": [
    "b=tf.range(5) "
   ]
  },
  {
   "cell_type": "code",
   "execution_count": 38,
   "id": "square-jefferson",
   "metadata": {},
   "outputs": [
    {
     "data": {
      "text/plain": [
       "<tf.Tensor: id=156, shape=(5,), dtype=bool, numpy=array([False, False, False, False, False])>"
      ]
     },
     "execution_count": 38,
     "metadata": {},
     "output_type": "execute_result"
    }
   ],
   "source": [
    "tf.equal(a,b) "
   ]
  },
  {
   "cell_type": "code",
   "execution_count": 40,
   "id": "patent-vulnerability",
   "metadata": {},
   "outputs": [],
   "source": [
    "res=tf.equal(a,b) "
   ]
  },
  {
   "cell_type": "code",
   "execution_count": 41,
   "id": "surprised-disaster",
   "metadata": {},
   "outputs": [
    {
     "data": {
      "text/plain": [
       "<tf.Tensor: id=158, shape=(5,), dtype=bool, numpy=array([False, False, False, False, False])>"
      ]
     },
     "execution_count": 41,
     "metadata": {},
     "output_type": "execute_result"
    }
   ],
   "source": [
    "res"
   ]
  },
  {
   "cell_type": "code",
   "execution_count": 42,
   "id": "racial-location",
   "metadata": {},
   "outputs": [
    {
     "data": {
      "text/plain": [
       "<tf.Tensor: id=162, shape=(), dtype=int32, numpy=0>"
      ]
     },
     "execution_count": 42,
     "metadata": {},
     "output_type": "execute_result"
    }
   ],
   "source": [
    "tf.reduce_sum(tf.cast(res,dtype=tf.int32)) "
   ]
  },
  {
   "cell_type": "code",
   "execution_count": 44,
   "id": "optional-central",
   "metadata": {},
   "outputs": [
    {
     "data": {
      "text/plain": [
       "<tf.Tensor: id=165, shape=(5,), dtype=int32, numpy=array([0, 0, 0, 0, 0], dtype=int32)>"
      ]
     },
     "execution_count": 44,
     "metadata": {},
     "output_type": "execute_result"
    }
   ],
   "source": [
    "tf.cast(res,dtype=tf.int32)"
   ]
  },
  {
   "cell_type": "markdown",
   "id": "afraid-sphere",
   "metadata": {},
   "source": [
    "# Accuracy"
   ]
  },
  {
   "cell_type": "code",
   "execution_count": 46,
   "id": "straight-orbit",
   "metadata": {},
   "outputs": [],
   "source": [
    "a=tf.constant([[0.1,0.2,0.7],[0.9,0.05,0.05]])"
   ]
  },
  {
   "cell_type": "code",
   "execution_count": 47,
   "id": "dominant-raise",
   "metadata": {},
   "outputs": [
    {
     "data": {
      "text/plain": [
       "<tf.Tensor: id=168, shape=(2, 3), dtype=float32, numpy=\n",
       "array([[0.1 , 0.2 , 0.7 ],\n",
       "       [0.9 , 0.05, 0.05]], dtype=float32)>"
      ]
     },
     "execution_count": 47,
     "metadata": {},
     "output_type": "execute_result"
    }
   ],
   "source": [
    "a"
   ]
  },
  {
   "cell_type": "code",
   "execution_count": 48,
   "id": "recreational-hawaii",
   "metadata": {},
   "outputs": [],
   "source": [
    "pred=tf.cast(tf.argmax(a,axis=1),dtype=tf.int32)"
   ]
  },
  {
   "cell_type": "code",
   "execution_count": 50,
   "id": "economic-significance",
   "metadata": {},
   "outputs": [
    {
     "data": {
      "text/plain": [
       "<tf.Tensor: id=172, shape=(2,), dtype=int32, numpy=array([2, 0], dtype=int32)>"
      ]
     },
     "execution_count": 50,
     "metadata": {},
     "output_type": "execute_result"
    }
   ],
   "source": [
    "pred"
   ]
  },
  {
   "cell_type": "code",
   "execution_count": 52,
   "id": "addressed-orchestra",
   "metadata": {},
   "outputs": [],
   "source": [
    "y=tf.constant([2,1])"
   ]
  },
  {
   "cell_type": "code",
   "execution_count": 54,
   "id": "banner-scanning",
   "metadata": {},
   "outputs": [
    {
     "data": {
      "text/plain": [
       "<tf.Tensor: id=177, shape=(2,), dtype=bool, numpy=array([ True, False])>"
      ]
     },
     "execution_count": 54,
     "metadata": {},
     "output_type": "execute_result"
    }
   ],
   "source": [
    "tf.equal(y,pred) "
   ]
  },
  {
   "cell_type": "code",
   "execution_count": 57,
   "id": "impaired-norfolk",
   "metadata": {},
   "outputs": [],
   "source": [
    "correct=tf.reduce_sum(tf.cast(tf.equal(y,pred),dtype=tf.int32)) "
   ]
  },
  {
   "cell_type": "code",
   "execution_count": 64,
   "id": "early-triple",
   "metadata": {},
   "outputs": [
    {
     "data": {
      "text/plain": [
       "<tf.Tensor: id=191, shape=(), dtype=float64, numpy=0.5>"
      ]
     },
     "execution_count": 64,
     "metadata": {},
     "output_type": "execute_result"
    }
   ],
   "source": [
    "correct/y.shape[0]"
   ]
  },
  {
   "cell_type": "markdown",
   "id": "dried-trauma",
   "metadata": {},
   "source": [
    "# tf.unique"
   ]
  },
  {
   "cell_type": "code",
   "execution_count": 65,
   "id": "grand-internship",
   "metadata": {},
   "outputs": [],
   "source": [
    "a=tf.range(5) "
   ]
  },
  {
   "cell_type": "code",
   "execution_count": 66,
   "id": "massive-sweden",
   "metadata": {},
   "outputs": [
    {
     "data": {
      "text/plain": [
       "Unique(y=<tf.Tensor: id=197, shape=(5,), dtype=int32, numpy=array([0, 1, 2, 3, 4], dtype=int32)>, idx=<tf.Tensor: id=198, shape=(5,), dtype=int32, numpy=array([0, 1, 2, 3, 4], dtype=int32)>)"
      ]
     },
     "execution_count": 66,
     "metadata": {},
     "output_type": "execute_result"
    }
   ],
   "source": [
    "tf.unique(a)"
   ]
  },
  {
   "cell_type": "code",
   "execution_count": 67,
   "id": "encouraging-stuart",
   "metadata": {},
   "outputs": [],
   "source": [
    "a=tf.constant([4,2,2,4,3])"
   ]
  },
  {
   "cell_type": "code",
   "execution_count": 68,
   "id": "continent-university",
   "metadata": {},
   "outputs": [
    {
     "data": {
      "text/plain": [
       "<tf.Tensor: id=201, shape=(5,), dtype=int32, numpy=array([4, 2, 2, 4, 3], dtype=int32)>"
      ]
     },
     "execution_count": 68,
     "metadata": {},
     "output_type": "execute_result"
    }
   ],
   "source": [
    "a"
   ]
  },
  {
   "cell_type": "code",
   "execution_count": 69,
   "id": "moving-monster",
   "metadata": {},
   "outputs": [
    {
     "data": {
      "text/plain": [
       "Unique(y=<tf.Tensor: id=203, shape=(3,), dtype=int32, numpy=array([4, 2, 3], dtype=int32)>, idx=<tf.Tensor: id=204, shape=(5,), dtype=int32, numpy=array([0, 1, 1, 0, 2], dtype=int32)>)"
      ]
     },
     "execution_count": 69,
     "metadata": {},
     "output_type": "execute_result"
    }
   ],
   "source": [
    "tf.unique(a) "
   ]
  },
  {
   "cell_type": "markdown",
   "id": "periodic-mortality",
   "metadata": {},
   "source": [
    "# Sort,argsort"
   ]
  },
  {
   "cell_type": "code",
   "execution_count": 93,
   "id": "plastic-advantage",
   "metadata": {},
   "outputs": [],
   "source": [
    "a=tf.random.shuffle(tf.range(10,20,1)) "
   ]
  },
  {
   "cell_type": "code",
   "execution_count": 94,
   "id": "horizontal-belize",
   "metadata": {},
   "outputs": [
    {
     "data": {
      "text/plain": [
       "<tf.Tensor: id=330, shape=(10,), dtype=int32, numpy=array([15, 14, 17, 10, 19, 18, 11, 12, 16, 13], dtype=int32)>"
      ]
     },
     "execution_count": 94,
     "metadata": {},
     "output_type": "execute_result"
    }
   ],
   "source": [
    "a"
   ]
  },
  {
   "cell_type": "code",
   "execution_count": 95,
   "id": "ranking-nirvana",
   "metadata": {},
   "outputs": [
    {
     "data": {
      "text/plain": [
       "<tf.Tensor: id=340, shape=(10,), dtype=int32, numpy=array([19, 18, 17, 16, 15, 14, 13, 12, 11, 10], dtype=int32)>"
      ]
     },
     "execution_count": 95,
     "metadata": {},
     "output_type": "execute_result"
    }
   ],
   "source": [
    "tf.sort(a,direction='DESCENDING') "
   ]
  },
  {
   "cell_type": "code",
   "execution_count": 96,
   "id": "assumed-alliance",
   "metadata": {},
   "outputs": [
    {
     "data": {
      "text/plain": [
       "<tf.Tensor: id=352, shape=(10,), dtype=int32, numpy=array([4, 5, 2, 8, 0, 1, 9, 7, 6, 3], dtype=int32)>"
      ]
     },
     "execution_count": 96,
     "metadata": {},
     "output_type": "execute_result"
    }
   ],
   "source": [
    "tf.argsort(a,direction='DESCENDING') "
   ]
  },
  {
   "cell_type": "code",
   "execution_count": 97,
   "id": "emerging-evidence",
   "metadata": {},
   "outputs": [],
   "source": [
    "idx=tf.argsort(a,direction='DESCENDING')"
   ]
  },
  {
   "cell_type": "code",
   "execution_count": 102,
   "id": "parliamentary-infection",
   "metadata": {},
   "outputs": [
    {
     "data": {
      "text/plain": [
       "(<tf.Tensor: id=363, shape=(10,), dtype=int32, numpy=array([4, 5, 2, 8, 0, 1, 9, 7, 6, 3], dtype=int32)>,\n",
       " <tf.Tensor: id=330, shape=(10,), dtype=int32, numpy=array([15, 14, 17, 10, 19, 18, 11, 12, 16, 13], dtype=int32)>)"
      ]
     },
     "execution_count": 102,
     "metadata": {},
     "output_type": "execute_result"
    }
   ],
   "source": [
    "idx,a"
   ]
  },
  {
   "cell_type": "code",
   "execution_count": 101,
   "id": "bacterial-richards",
   "metadata": {},
   "outputs": [
    {
     "data": {
      "text/plain": [
       "<tf.Tensor: id=372, shape=(10,), dtype=int32, numpy=array([19, 18, 17, 16, 15, 14, 13, 12, 11, 10], dtype=int32)>"
      ]
     },
     "execution_count": 101,
     "metadata": {},
     "output_type": "execute_result"
    }
   ],
   "source": [
    "tf.gather(a,idx)   "
   ]
  },
  {
   "cell_type": "code",
   "execution_count": 103,
   "id": "armed-consent",
   "metadata": {},
   "outputs": [],
   "source": [
    "a=tf.random.uniform([3,3],maxval=10,dtype=tf.int32) "
   ]
  },
  {
   "cell_type": "code",
   "execution_count": 104,
   "id": "consistent-bulgaria",
   "metadata": {},
   "outputs": [
    {
     "data": {
      "text/plain": [
       "<tf.Tensor: id=379, shape=(3, 3), dtype=int32, numpy=\n",
       "array([[0, 7, 5],\n",
       "       [5, 1, 1],\n",
       "       [3, 6, 3]], dtype=int32)>"
      ]
     },
     "execution_count": 104,
     "metadata": {},
     "output_type": "execute_result"
    }
   ],
   "source": [
    "a"
   ]
  },
  {
   "cell_type": "code",
   "execution_count": 105,
   "id": "ordinary-security",
   "metadata": {},
   "outputs": [
    {
     "data": {
      "text/plain": [
       "<tf.Tensor: id=392, shape=(3, 3), dtype=int32, numpy=\n",
       "array([[0, 5, 7],\n",
       "       [1, 1, 5],\n",
       "       [3, 3, 6]], dtype=int32)>"
      ]
     },
     "execution_count": 105,
     "metadata": {},
     "output_type": "execute_result"
    }
   ],
   "source": [
    "tf.sort(a) "
   ]
  },
  {
   "cell_type": "code",
   "execution_count": 106,
   "id": "living-modem",
   "metadata": {},
   "outputs": [
    {
     "data": {
      "text/plain": [
       "<tf.Tensor: id=402, shape=(3, 3), dtype=int32, numpy=\n",
       "array([[7, 5, 0],\n",
       "       [5, 1, 1],\n",
       "       [6, 3, 3]], dtype=int32)>"
      ]
     },
     "execution_count": 106,
     "metadata": {},
     "output_type": "execute_result"
    }
   ],
   "source": [
    "tf.sort(a,direction='DESCENDING') "
   ]
  },
  {
   "cell_type": "code",
   "execution_count": 107,
   "id": "affecting-solution",
   "metadata": {},
   "outputs": [],
   "source": [
    "idx=tf.argsort(a) "
   ]
  },
  {
   "cell_type": "code",
   "execution_count": 108,
   "id": "herbal-proceeding",
   "metadata": {},
   "outputs": [
    {
     "data": {
      "text/plain": [
       "<tf.Tensor: id=415, shape=(3, 3), dtype=int32, numpy=\n",
       "array([[0, 2, 1],\n",
       "       [1, 2, 0],\n",
       "       [0, 2, 1]], dtype=int32)>"
      ]
     },
     "execution_count": 108,
     "metadata": {},
     "output_type": "execute_result"
    }
   ],
   "source": [
    "idx"
   ]
  },
  {
   "cell_type": "code",
   "execution_count": 110,
   "id": "adolescent-accuracy",
   "metadata": {},
   "outputs": [
    {
     "data": {
      "text/plain": [
       "<tf.Tensor: id=379, shape=(3, 3), dtype=int32, numpy=\n",
       "array([[0, 7, 5],\n",
       "       [5, 1, 1],\n",
       "       [3, 6, 3]], dtype=int32)>"
      ]
     },
     "execution_count": 110,
     "metadata": {},
     "output_type": "execute_result"
    }
   ],
   "source": [
    " a"
   ]
  },
  {
   "cell_type": "code",
   "execution_count": 111,
   "id": "guided-uniform",
   "metadata": {},
   "outputs": [
    {
     "data": {
      "text/plain": [
       "<tf.Tensor: id=420, shape=(3, 3), dtype=int32, numpy=\n",
       "array([[2, 7, 5],\n",
       "       [5, 2, 2],\n",
       "       [3, 6, 3]], dtype=int32)>"
      ]
     },
     "execution_count": 111,
     "metadata": {},
     "output_type": "execute_result"
    }
   ],
   "source": [
    "tf.maximum(a,2)"
   ]
  },
  {
   "cell_type": "code",
   "execution_count": 112,
   "id": "selective-check",
   "metadata": {},
   "outputs": [
    {
     "data": {
      "text/plain": [
       "<tf.Tensor: id=423, shape=(3, 3), dtype=int32, numpy=\n",
       "array([[0, 7, 5],\n",
       "       [5, 1, 1],\n",
       "       [3, 6, 3]], dtype=int32)>"
      ]
     },
     "execution_count": 112,
     "metadata": {},
     "output_type": "execute_result"
    }
   ],
   "source": [
    "tf.minimum(a,8)"
   ]
  },
  {
   "cell_type": "code",
   "execution_count": 114,
   "id": "surface-archive",
   "metadata": {},
   "outputs": [],
   "source": [
    "a=tf.maximum(a,2)"
   ]
  },
  {
   "cell_type": "code",
   "execution_count": 115,
   "id": "dominican-disclaimer",
   "metadata": {},
   "outputs": [
    {
     "data": {
      "text/plain": [
       "<tf.Tensor: id=427, shape=(3, 3), dtype=int32, numpy=\n",
       "array([[2, 7, 5],\n",
       "       [5, 2, 2],\n",
       "       [3, 6, 3]], dtype=int32)>"
      ]
     },
     "execution_count": 115,
     "metadata": {},
     "output_type": "execute_result"
    }
   ],
   "source": [
    "a"
   ]
  },
  {
   "cell_type": "code",
   "execution_count": 116,
   "id": "collective-outdoors",
   "metadata": {},
   "outputs": [
    {
     "data": {
      "text/plain": [
       "<tf.Tensor: id=430, shape=(3, 3), dtype=int32, numpy=\n",
       "array([[2, 7, 5],\n",
       "       [5, 2, 2],\n",
       "       [3, 6, 3]], dtype=int32)>"
      ]
     },
     "execution_count": 116,
     "metadata": {},
     "output_type": "execute_result"
    }
   ],
   "source": [
    "tf.minimum(a,8) "
   ]
  },
  {
   "cell_type": "code",
   "execution_count": 117,
   "id": "roman-mining",
   "metadata": {},
   "outputs": [
    {
     "data": {
      "text/plain": [
       "<tf.Tensor: id=435, shape=(3, 3), dtype=int32, numpy=\n",
       "array([[2, 7, 5],\n",
       "       [5, 2, 2],\n",
       "       [3, 6, 3]], dtype=int32)>"
      ]
     },
     "execution_count": 117,
     "metadata": {},
     "output_type": "execute_result"
    }
   ],
   "source": [
    "tf.clip_by_value(a,2,8)"
   ]
  },
  {
   "cell_type": "code",
   "execution_count": 118,
   "id": "equivalent-washington",
   "metadata": {},
   "outputs": [
    {
     "data": {
      "text/plain": [
       "<tf.Tensor: id=440, shape=(3, 3), dtype=int32, numpy=\n",
       "array([[2, 5, 5],\n",
       "       [5, 2, 2],\n",
       "       [3, 5, 3]], dtype=int32)>"
      ]
     },
     "execution_count": 118,
     "metadata": {},
     "output_type": "execute_result"
    }
   ],
   "source": [
    "tf.clip_by_value(a,2,5)"
   ]
  },
  {
   "cell_type": "code",
   "execution_count": 119,
   "id": "quick-entrepreneur",
   "metadata": {},
   "outputs": [
    {
     "data": {
      "text/plain": [
       "<tf.Tensor: id=427, shape=(3, 3), dtype=int32, numpy=\n",
       "array([[2, 7, 5],\n",
       "       [5, 2, 2],\n",
       "       [3, 6, 3]], dtype=int32)>"
      ]
     },
     "execution_count": 119,
     "metadata": {},
     "output_type": "execute_result"
    }
   ],
   "source": [
    "a"
   ]
  },
  {
   "cell_type": "code",
   "execution_count": 120,
   "id": "surprised-laundry",
   "metadata": {},
   "outputs": [
    {
     "data": {
      "text/plain": [
       "<tf.Tensor: id=444, shape=(3, 3), dtype=int32, numpy=\n",
       "array([[5, 7, 5],\n",
       "       [5, 5, 5],\n",
       "       [5, 6, 5]], dtype=int32)>"
      ]
     },
     "execution_count": 120,
     "metadata": {},
     "output_type": "execute_result"
    }
   ],
   "source": [
    "tf.maximum(a,5)"
   ]
  },
  {
   "cell_type": "code",
   "execution_count": 121,
   "id": "governing-cement",
   "metadata": {},
   "outputs": [
    {
     "data": {
      "text/plain": [
       "<tf.Tensor: id=447, shape=(3, 3), dtype=int32, numpy=\n",
       "array([[2, 4, 4],\n",
       "       [4, 2, 2],\n",
       "       [3, 4, 3]], dtype=int32)>"
      ]
     },
     "execution_count": 121,
     "metadata": {},
     "output_type": "execute_result"
    }
   ],
   "source": [
    "tf.minimum(a,4)"
   ]
  },
  {
   "cell_type": "markdown",
   "id": "scientific-warning",
   "metadata": {},
   "source": [
    "# relu "
   ]
  },
  {
   "cell_type": "code",
   "execution_count": 122,
   "id": "australian-token",
   "metadata": {},
   "outputs": [],
   "source": [
    "a=a-5 "
   ]
  },
  {
   "cell_type": "code",
   "execution_count": 123,
   "id": "paperback-richardson",
   "metadata": {},
   "outputs": [
    {
     "data": {
      "text/plain": [
       "<tf.Tensor: id=450, shape=(3, 3), dtype=int32, numpy=\n",
       "array([[-3,  2,  0],\n",
       "       [ 0, -3, -3],\n",
       "       [-2,  1, -2]], dtype=int32)>"
      ]
     },
     "execution_count": 123,
     "metadata": {},
     "output_type": "execute_result"
    }
   ],
   "source": [
    "a"
   ]
  },
  {
   "cell_type": "code",
   "execution_count": 124,
   "id": "alike-acting",
   "metadata": {},
   "outputs": [
    {
     "data": {
      "text/plain": [
       "<tf.Tensor: id=452, shape=(3, 3), dtype=int32, numpy=\n",
       "array([[0, 2, 0],\n",
       "       [0, 0, 0],\n",
       "       [0, 1, 0]], dtype=int32)>"
      ]
     },
     "execution_count": 124,
     "metadata": {},
     "output_type": "execute_result"
    }
   ],
   "source": [
    "tf.nn.relu(a) "
   ]
  },
  {
   "cell_type": "code",
   "execution_count": 125,
   "id": "satisfactory-growing",
   "metadata": {},
   "outputs": [
    {
     "data": {
      "text/plain": [
       "<tf.Tensor: id=455, shape=(3, 3), dtype=int32, numpy=\n",
       "array([[0, 2, 0],\n",
       "       [0, 0, 0],\n",
       "       [0, 1, 0]], dtype=int32)>"
      ]
     },
     "execution_count": 125,
     "metadata": {},
     "output_type": "execute_result"
    }
   ],
   "source": [
    "tf.maximum(a,0) "
   ]
  },
  {
   "cell_type": "markdown",
   "id": "chemical-sewing",
   "metadata": {},
   "source": [
    "# clip_by norm "
   ]
  },
  {
   "cell_type": "code",
   "execution_count": 127,
   "id": "romance-period",
   "metadata": {},
   "outputs": [],
   "source": [
    "a=tf.random.normal([2,2],mean=10) "
   ]
  },
  {
   "cell_type": "code",
   "execution_count": 128,
   "id": "worst-mainland",
   "metadata": {},
   "outputs": [
    {
     "data": {
      "text/plain": [
       "<tf.Tensor: id=462, shape=(2, 2), dtype=float32, numpy=\n",
       "array([[10.118766, 11.563731],\n",
       "       [11.324453, 10.117425]], dtype=float32)>"
      ]
     },
     "execution_count": 128,
     "metadata": {},
     "output_type": "execute_result"
    }
   ],
   "source": [
    "a"
   ]
  },
  {
   "cell_type": "code",
   "execution_count": 129,
   "id": "eligible-jordan",
   "metadata": {},
   "outputs": [
    {
     "data": {
      "text/plain": [
       "<tf.Tensor: id=468, shape=(), dtype=float32, numpy=21.603584>"
      ]
     },
     "execution_count": 129,
     "metadata": {},
     "output_type": "execute_result"
    }
   ],
   "source": [
    "tf.norm(a)"
   ]
  },
  {
   "cell_type": "code",
   "execution_count": 130,
   "id": "entertaining-substance",
   "metadata": {},
   "outputs": [],
   "source": [
    "aa=tf.clip_by_norm(a,15)  # 进行归一化，并限制最大值 "
   ]
  },
  {
   "cell_type": "code",
   "execution_count": 131,
   "id": "neither-nudist",
   "metadata": {},
   "outputs": [
    {
     "data": {
      "text/plain": [
       "<tf.Tensor: id=486, shape=(2, 2), dtype=float32, numpy=\n",
       "array([[7.0257554, 8.0290365],\n",
       "       [7.8628993, 7.0248237]], dtype=float32)>"
      ]
     },
     "execution_count": 131,
     "metadata": {},
     "output_type": "execute_result"
    }
   ],
   "source": [
    "aa"
   ]
  },
  {
   "cell_type": "code",
   "execution_count": null,
   "id": "answering-brook",
   "metadata": {},
   "outputs": [],
   "source": []
  }
 ],
 "metadata": {
  "kernelspec": {
   "display_name": "Python 3",
   "language": "python",
   "name": "python3"
  },
  "language_info": {
   "codemirror_mode": {
    "name": "ipython",
    "version": 3
   },
   "file_extension": ".py",
   "mimetype": "text/x-python",
   "name": "python",
   "nbconvert_exporter": "python",
   "pygments_lexer": "ipython3",
   "version": "3.6.13"
  }
 },
 "nbformat": 4,
 "nbformat_minor": 5
}
