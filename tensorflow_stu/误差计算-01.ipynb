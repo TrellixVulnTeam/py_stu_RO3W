{
 "cells": [
  {
   "cell_type": "code",
   "execution_count": 2,
   "id": "criminal-consultancy",
   "metadata": {},
   "outputs": [],
   "source": [
    "import tensorflow as tf \n",
    "from tensorflow import keras \n",
    "from tensorflow.keras import datasets \n",
    "import os \n",
    "\n",
    "\n",
    "gpu_options = tf.compat.v1.GPUOptions(per_process_gpu_memory_fraction=0.2)\n",
    "config=tf.compat.v1.ConfigProto(gpu_options=gpu_options)\n",
    "session = tf.compat.v1.Session(config=config)"
   ]
  },
  {
   "cell_type": "markdown",
   "id": "thick-contrast",
   "metadata": {},
   "source": [
    "# MSE "
   ]
  },
  {
   "cell_type": "code",
   "execution_count": 3,
   "id": "oriented-disco",
   "metadata": {},
   "outputs": [],
   "source": [
    "y=tf.constant([1,2,3,0,2]) \n",
    "y=tf.one_hot(y,depth=4)  "
   ]
  },
  {
   "cell_type": "code",
   "execution_count": 4,
   "id": "maritime-postage",
   "metadata": {},
   "outputs": [
    {
     "data": {
      "text/plain": [
       "TensorShape([5, 4])"
      ]
     },
     "execution_count": 4,
     "metadata": {},
     "output_type": "execute_result"
    }
   ],
   "source": [
    "y.shape"
   ]
  },
  {
   "cell_type": "code",
   "execution_count": 6,
   "id": "absent-valuable",
   "metadata": {},
   "outputs": [
    {
     "data": {
      "text/plain": [
       "<tf.Tensor: id=5, shape=(5, 4), dtype=float32, numpy=\n",
       "array([[0., 1., 0., 0.],\n",
       "       [0., 0., 1., 0.],\n",
       "       [0., 0., 0., 1.],\n",
       "       [1., 0., 0., 0.],\n",
       "       [0., 0., 1., 0.]], dtype=float32)>"
      ]
     },
     "execution_count": 6,
     "metadata": {},
     "output_type": "execute_result"
    }
   ],
   "source": [
    "y"
   ]
  },
  {
   "cell_type": "code",
   "execution_count": 7,
   "id": "genetic-graduate",
   "metadata": {},
   "outputs": [],
   "source": [
    "out=tf.random.normal([5,4]) "
   ]
  },
  {
   "cell_type": "code",
   "execution_count": 8,
   "id": "sunrise-foundation",
   "metadata": {},
   "outputs": [],
   "source": [
    "loss1=tf.reduce_mean(tf.square(y-out)) "
   ]
  },
  {
   "cell_type": "code",
   "execution_count": 9,
   "id": "frozen-manner",
   "metadata": {},
   "outputs": [
    {
     "data": {
      "text/plain": [
       "<tf.Tensor: id=17, shape=(), dtype=float32, numpy=1.0920868>"
      ]
     },
     "execution_count": 9,
     "metadata": {},
     "output_type": "execute_result"
    }
   ],
   "source": [
    "loss1"
   ]
  },
  {
   "cell_type": "code",
   "execution_count": 12,
   "id": "finite-breath",
   "metadata": {},
   "outputs": [],
   "source": [
    "loss2=tf.square(tf.norm(y-out))/(5*4) "
   ]
  },
  {
   "cell_type": "code",
   "execution_count": 13,
   "id": "defined-guest",
   "metadata": {},
   "outputs": [
    {
     "data": {
      "text/plain": [
       "<tf.Tensor: id=37, shape=(), dtype=float32, numpy=1.0920868>"
      ]
     },
     "execution_count": 13,
     "metadata": {},
     "output_type": "execute_result"
    }
   ],
   "source": [
    "loss2 "
   ]
  },
  {
   "cell_type": "code",
   "execution_count": 15,
   "id": "educated-currency",
   "metadata": {},
   "outputs": [],
   "source": [
    "loss3=tf.reduce_mean(tf.losses.MSE(y,out)) "
   ]
  },
  {
   "cell_type": "code",
   "execution_count": 16,
   "id": "ruled-flavor",
   "metadata": {},
   "outputs": [
    {
     "data": {
      "text/plain": [
       "<tf.Tensor: id=46, shape=(5,), dtype=float32, numpy=\n",
       "array([1.843025  , 1.0797025 , 1.6347651 , 0.277667  , 0.62527436],\n",
       "      dtype=float32)>"
      ]
     },
     "execution_count": 16,
     "metadata": {},
     "output_type": "execute_result"
    }
   ],
   "source": [
    "tf.losses.MSE(y,out) "
   ]
  },
  {
   "cell_type": "code",
   "execution_count": 17,
   "id": "mighty-consent",
   "metadata": {},
   "outputs": [
    {
     "data": {
      "text/plain": [
       "<tf.Tensor: id=52, shape=(), dtype=float32, numpy=1.0920868>"
      ]
     },
     "execution_count": 17,
     "metadata": {},
     "output_type": "execute_result"
    }
   ],
   "source": [
    "tf.reduce_mean(tf.losses.MSE(y,out))"
   ]
  },
  {
   "cell_type": "markdown",
   "id": "political-assumption",
   "metadata": {},
   "source": [
    "# Lottery 信息熵 "
   ]
  },
  {
   "cell_type": "code",
   "execution_count": 22,
   "id": "extensive-briefing",
   "metadata": {},
   "outputs": [
    {
     "data": {
      "text/plain": [
       "<tf.Tensor: id=76, shape=(4,), dtype=float32, numpy=array([0.25, 0.25, 0.25, 0.25], dtype=float32)>"
      ]
     },
     "execution_count": 22,
     "metadata": {},
     "output_type": "execute_result"
    }
   ],
   "source": [
    "p=tf.fill([4],0.25) \n",
    "p"
   ]
  },
  {
   "cell_type": "code",
   "execution_count": 26,
   "id": "experimental-enzyme",
   "metadata": {},
   "outputs": [
    {
     "data": {
      "text/plain": [
       "<tf.Tensor: id=100, shape=(), dtype=float32, numpy=2.0>"
      ]
     },
     "execution_count": 26,
     "metadata": {},
     "output_type": "execute_result"
    }
   ],
   "source": [
    "-tf.reduce_sum(p*tf.math.log(p)/tf.math.log(2.))"
   ]
  },
  {
   "cell_type": "code",
   "execution_count": 27,
   "id": "south-enforcement",
   "metadata": {},
   "outputs": [],
   "source": [
    "a=tf.constant([0.1,0.1,0.1,0.7])\n",
    "-tf.reduce_sum(a*tf.math.log(a)/tf.math.log(2.)) "
   ]
  },
  {
   "cell_type": "code",
   "execution_count": 29,
   "id": "czech-perth",
   "metadata": {},
   "outputs": [
    {
     "data": {
      "text/plain": [
       "<tf.Tensor: id=120, shape=(), dtype=float32, numpy=0.24194068>"
      ]
     },
     "execution_count": 29,
     "metadata": {},
     "output_type": "execute_result"
    }
   ],
   "source": [
    "a=tf.constant([0.01,0.01,0.01,0.97])\n",
    "-tf.reduce_sum(a*tf.math.log(a)/tf.math.log(2.)) "
   ]
  },
  {
   "cell_type": "markdown",
   "id": "biblical-archive",
   "metadata": {},
   "source": [
    "# Cross Entropy 交叉熵 "
   ]
  },
  {
   "cell_type": "code",
   "execution_count": null,
   "id": "comprehensive-penny",
   "metadata": {},
   "outputs": [],
   "source": []
  }
 ],
 "metadata": {
  "kernelspec": {
   "display_name": "Python 3",
   "language": "python",
   "name": "python3"
  },
  "language_info": {
   "codemirror_mode": {
    "name": "ipython",
    "version": 3
   },
   "file_extension": ".py",
   "mimetype": "text/x-python",
   "name": "python",
   "nbconvert_exporter": "python",
   "pygments_lexer": "ipython3",
   "version": "3.6.13"
  }
 },
 "nbformat": 4,
 "nbformat_minor": 5
}
