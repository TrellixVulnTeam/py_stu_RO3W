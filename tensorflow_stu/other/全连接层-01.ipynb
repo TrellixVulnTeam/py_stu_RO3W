{
 "cells": [
  {
   "cell_type": "code",
   "execution_count": 1,
   "id": "substantial-vietnam",
   "metadata": {},
   "outputs": [],
   "source": [
    "import tensorflow as tf \n",
    "from tensorflow import keras \n",
    "from tensorflow.keras import datasets \n",
    "import os \n",
    "\n",
    "\n",
    "gpu_options = tf.compat.v1.GPUOptions(per_process_gpu_memory_fraction=0.2)\n",
    "config=tf.compat.v1.ConfigProto(gpu_options=gpu_options)\n",
    "session = tf.compat.v1.Session(config=config)"
   ]
  },
  {
   "cell_type": "code",
   "execution_count": 2,
   "id": "marked-article",
   "metadata": {},
   "outputs": [],
   "source": [
    "x=tf.random.normal([4,784])"
   ]
  },
  {
   "cell_type": "code",
   "execution_count": 3,
   "id": "boolean-interface",
   "metadata": {},
   "outputs": [
    {
     "data": {
      "text/plain": [
       "TensorShape([4, 784])"
      ]
     },
     "execution_count": 3,
     "metadata": {},
     "output_type": "execute_result"
    }
   ],
   "source": [
    "x.shape"
   ]
  },
  {
   "cell_type": "code",
   "execution_count": 4,
   "id": "corrected-extent",
   "metadata": {},
   "outputs": [],
   "source": [
    "net=tf.keras.layers.Dense(512) \n",
    "out=net(x) "
   ]
  },
  {
   "cell_type": "code",
   "execution_count": 7,
   "id": "adolescent-forestry",
   "metadata": {},
   "outputs": [
    {
     "data": {
      "text/plain": [
       "TensorShape([4, 512])"
      ]
     },
     "execution_count": 7,
     "metadata": {},
     "output_type": "execute_result"
    }
   ],
   "source": [
    "out.shape"
   ]
  },
  {
   "cell_type": "code",
   "execution_count": 8,
   "id": "working-estonia",
   "metadata": {},
   "outputs": [
    {
     "data": {
      "text/plain": [
       "(TensorShape([784, 512]), TensorShape([512]))"
      ]
     },
     "execution_count": 8,
     "metadata": {},
     "output_type": "execute_result"
    }
   ],
   "source": [
    "net.kernel.shape,net.bias.shape"
   ]
  },
  {
   "cell_type": "code",
   "execution_count": 9,
   "id": "sudden-innocent",
   "metadata": {},
   "outputs": [],
   "source": [
    "net=tf.keras.layers.Dense(10) "
   ]
  },
  {
   "cell_type": "code",
   "execution_count": 10,
   "id": "brazilian-delaware",
   "metadata": {},
   "outputs": [
    {
     "ename": "AttributeError",
     "evalue": "'Dense' object has no attribute 'bias'",
     "output_type": "error",
     "traceback": [
      "\u001b[0;31m---------------------------------------------------------------------------\u001b[0m",
      "\u001b[0;31mAttributeError\u001b[0m                            Traceback (most recent call last)",
      "\u001b[0;32m<ipython-input-10-cf67336a2a25>\u001b[0m in \u001b[0;36m<module>\u001b[0;34m()\u001b[0m\n\u001b[0;32m----> 1\u001b[0;31m \u001b[0mnet\u001b[0m\u001b[0;34m.\u001b[0m\u001b[0mbias\u001b[0m\u001b[0;34m\u001b[0m\u001b[0;34m\u001b[0m\u001b[0m\n\u001b[0m",
      "\u001b[0;31mAttributeError\u001b[0m: 'Dense' object has no attribute 'bias'"
     ]
    }
   ],
   "source": [
    "net.bias"
   ]
  },
  {
   "cell_type": "code",
   "execution_count": 11,
   "id": "confirmed-stewart",
   "metadata": {},
   "outputs": [
    {
     "data": {
      "text/plain": [
       "[]"
      ]
     },
     "execution_count": 11,
     "metadata": {},
     "output_type": "execute_result"
    }
   ],
   "source": [
    "\n",
    "net.get_weights() "
   ]
  },
  {
   "cell_type": "code",
   "execution_count": 12,
   "id": "informal-interstate",
   "metadata": {},
   "outputs": [
    {
     "data": {
      "text/plain": [
       "[]"
      ]
     },
     "execution_count": 12,
     "metadata": {},
     "output_type": "execute_result"
    }
   ],
   "source": [
    "net.weights"
   ]
  },
  {
   "cell_type": "code",
   "execution_count": 13,
   "id": "sexual-absence",
   "metadata": {},
   "outputs": [],
   "source": [
    "net.build(input_shape=(None,4))"
   ]
  },
  {
   "cell_type": "code",
   "execution_count": 21,
   "id": "special-consensus",
   "metadata": {},
   "outputs": [
    {
     "data": {
      "text/plain": [
       "(<tf.Variable 'bias:0' shape=(10,) dtype=float32, numpy=array([0., 0., 0., 0., 0., 0., 0., 0., 0., 0.], dtype=float32)>,\n",
       " 2)"
      ]
     },
     "execution_count": 21,
     "metadata": {},
     "output_type": "execute_result"
    }
   ],
   "source": [
    "net.bias,len(net.weights)"
   ]
  },
  {
   "cell_type": "code",
   "execution_count": 22,
   "id": "overall-warehouse",
   "metadata": {},
   "outputs": [
    {
     "data": {
      "text/plain": [
       "2"
      ]
     },
     "execution_count": 22,
     "metadata": {},
     "output_type": "execute_result"
    }
   ],
   "source": [
    "len(net.weights)"
   ]
  },
  {
   "cell_type": "code",
   "execution_count": 31,
   "id": "hungry-queens",
   "metadata": {},
   "outputs": [
    {
     "data": {
      "text/plain": [
       "(tensorflow.python.framework.tensor_shape.TensorShape,\n",
       " tensorflow.python.framework.tensor_shape.TensorShape)"
      ]
     },
     "execution_count": 31,
     "metadata": {},
     "output_type": "execute_result"
    }
   ],
   "source": [
    "type(net.weights[0].shape),type(net.weights[1].shape)"
   ]
  },
  {
   "cell_type": "code",
   "execution_count": 32,
   "id": "finite-theorem",
   "metadata": {},
   "outputs": [
    {
     "data": {
      "text/plain": [
       "<tf.Variable 'kernel:0' shape=(4, 10) dtype=float32, numpy=\n",
       "array([[ 0.2743649 , -0.04087853, -0.10388213,  0.50010467, -0.42130777,\n",
       "        -0.29929957, -0.46164846, -0.5510782 ,  0.4749819 ,  0.17229706],\n",
       "       [ 0.5397848 ,  0.05045778, -0.2986974 ,  0.20660788, -0.01950336,\n",
       "        -0.4160803 , -0.00407809,  0.56088567,  0.49053907,  0.45921326],\n",
       "       [-0.00758666,  0.42307007,  0.477288  ,  0.03451216,  0.00791335,\n",
       "         0.21088058, -0.13884956, -0.08820045,  0.36573935,  0.48862457],\n",
       "       [-0.26267034, -0.42756414,  0.6160692 ,  0.58098924,  0.08160603,\n",
       "        -0.34212726,  0.23386985,  0.03291041,  0.59248984, -0.24017337]],\n",
       "      dtype=float32)>"
      ]
     },
     "execution_count": 32,
     "metadata": {},
     "output_type": "execute_result"
    }
   ],
   "source": [
    "net.kernel"
   ]
  },
  {
   "cell_type": "code",
   "execution_count": 33,
   "id": "thermal-motel",
   "metadata": {},
   "outputs": [],
   "source": [
    "net.build(input_shape=(None,20))"
   ]
  },
  {
   "cell_type": "code",
   "execution_count": 34,
   "id": "accepting-metadata",
   "metadata": {},
   "outputs": [
    {
     "data": {
      "text/plain": [
       "TensorShape([20, 10])"
      ]
     },
     "execution_count": 34,
     "metadata": {},
     "output_type": "execute_result"
    }
   ],
   "source": [
    "net.kernel.shape"
   ]
  },
  {
   "cell_type": "code",
   "execution_count": 35,
   "id": "editorial-group",
   "metadata": {},
   "outputs": [
    {
     "data": {
      "text/plain": [
       "TensorShape([10])"
      ]
     },
     "execution_count": 35,
     "metadata": {},
     "output_type": "execute_result"
    }
   ],
   "source": [
    "net.bias.shape"
   ]
  },
  {
   "cell_type": "code",
   "execution_count": 37,
   "id": "altered-structure",
   "metadata": {},
   "outputs": [
    {
     "ename": "AttributeError",
     "evalue": "module 'tensorflow._api.v2.random' has no attribute 'randn'",
     "output_type": "error",
     "traceback": [
      "\u001b[0;31m---------------------------------------------------------------------------\u001b[0m",
      "\u001b[0;31mAttributeError\u001b[0m                            Traceback (most recent call last)",
      "\u001b[0;32m<ipython-input-37-17fee73f0e6f>\u001b[0m in \u001b[0;36m<module>\u001b[0;34m()\u001b[0m\n\u001b[0;32m----> 1\u001b[0;31m \u001b[0mout\u001b[0m\u001b[0;34m=\u001b[0m\u001b[0mnet\u001b[0m\u001b[0;34m(\u001b[0m\u001b[0mtf\u001b[0m\u001b[0;34m.\u001b[0m\u001b[0mrandom\u001b[0m\u001b[0;34m.\u001b[0m\u001b[0mrandn\u001b[0m\u001b[0;34m(\u001b[0m\u001b[0;34m(\u001b[0m\u001b[0;36m4\u001b[0m\u001b[0;34m,\u001b[0m\u001b[0;36m12\u001b[0m\u001b[0;34m)\u001b[0m\u001b[0;34m)\u001b[0m\u001b[0;34m)\u001b[0m\u001b[0;34m\u001b[0m\u001b[0;34m\u001b[0m\u001b[0m\n\u001b[0m",
      "\u001b[0;31mAttributeError\u001b[0m: module 'tensorflow._api.v2.random' has no attribute 'randn'"
     ]
    }
   ],
   "source": [
    "out=net(tf.random.randn((4,12)))"
   ]
  },
  {
   "cell_type": "code",
   "execution_count": 38,
   "id": "outer-criticism",
   "metadata": {},
   "outputs": [],
   "source": [
    "out=net(tf.random.normal((4,20)))"
   ]
  },
  {
   "cell_type": "code",
   "execution_count": 39,
   "id": "thousand-helena",
   "metadata": {},
   "outputs": [
    {
     "data": {
      "text/plain": [
       "TensorShape([4, 10])"
      ]
     },
     "execution_count": 39,
     "metadata": {},
     "output_type": "execute_result"
    }
   ],
   "source": [
    "out.shape"
   ]
  },
  {
   "cell_type": "code",
   "execution_count": 44,
   "id": "interracial-tiger",
   "metadata": {},
   "outputs": [],
   "source": [
    "x=tf.random.normal([2,3]) "
   ]
  },
  {
   "cell_type": "code",
   "execution_count": 45,
   "id": "banned-treasure",
   "metadata": {},
   "outputs": [],
   "source": [
    "model=keras.Sequential([\n",
    "    keras.layers.Dense(2,activation='relu'),\n",
    "    keras.layers.Dense(2,activation='relu'),\n",
    "    keras.layers.Dense(2) \n",
    "])"
   ]
  },
  {
   "cell_type": "code",
   "execution_count": 46,
   "id": "driven-society",
   "metadata": {},
   "outputs": [
    {
     "name": "stdout",
     "output_type": "stream",
     "text": [
      "Model: \"sequential_1\"\n",
      "_________________________________________________________________\n",
      "Layer (type)                 Output Shape              Param #   \n",
      "=================================================================\n",
      "dense_5 (Dense)              multiple                  8         \n",
      "_________________________________________________________________\n",
      "dense_6 (Dense)              multiple                  6         \n",
      "_________________________________________________________________\n",
      "dense_7 (Dense)              multiple                  6         \n",
      "=================================================================\n",
      "Total params: 20\n",
      "Trainable params: 20\n",
      "Non-trainable params: 0\n",
      "_________________________________________________________________\n"
     ]
    }
   ],
   "source": [
    "model.build(input_shape=[None,3]) \n",
    "model.summary() "
   ]
  },
  {
   "cell_type": "code",
   "execution_count": 47,
   "id": "posted-helen",
   "metadata": {},
   "outputs": [
    {
     "name": "stdout",
     "output_type": "stream",
     "text": [
      "dense_5/kernel:0 (3, 2)\n",
      "dense_5/bias:0 (2,)\n",
      "dense_6/kernel:0 (2, 2)\n",
      "dense_6/bias:0 (2,)\n",
      "dense_7/kernel:0 (2, 2)\n",
      "dense_7/bias:0 (2,)\n"
     ]
    }
   ],
   "source": [
    "for p in model.trainable_variables:\n",
    "    print(p.name,p.shape)"
   ]
  },
  {
   "cell_type": "code",
   "execution_count": null,
   "id": "transsexual-warner",
   "metadata": {},
   "outputs": [],
   "source": []
  },
  {
   "cell_type": "code",
   "execution_count": null,
   "id": "adequate-world",
   "metadata": {},
   "outputs": [],
   "source": []
  }
 ],
 "metadata": {
  "kernelspec": {
   "display_name": "Python 3",
   "language": "python",
   "name": "python3"
  },
  "language_info": {
   "codemirror_mode": {
    "name": "ipython",
    "version": 3
   },
   "file_extension": ".py",
   "mimetype": "text/x-python",
   "name": "python",
   "nbconvert_exporter": "python",
   "pygments_lexer": "ipython3",
   "version": "3.6.13"
  }
 },
 "nbformat": 4,
 "nbformat_minor": 5
}
