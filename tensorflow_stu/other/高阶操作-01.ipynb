{
 "cells": [
  {
   "cell_type": "markdown",
   "metadata": {},
   "source": [
    "# where "
   ]
  },
  {
   "cell_type": "code",
<<<<<<< HEAD
   "execution_count": 40,
   "metadata": {},
=======
   "execution_count": 1,
   "metadata": {
    "pycharm": {
     "is_executing": false
    }
   },
>>>>>>> 3a011425f51bb80f417910f9c81f7ba0289ffdcf
   "outputs": [],
   "source": [
    "import tensorflow as tf \n",
    "from tensorflow.keras import datasets,layers,optimizers \n",
    "import os \n",
    "os.environ['TF_CPP_MIN_LOG_LEVEL']='2'\n",
    "\n",
    "\n",
    "gpu_options = tf.compat.v1.GPUOptions(per_process_gpu_memory_fraction=0.2)\n",
    "config=tf.compat.v1.ConfigProto(gpu_options=gpu_options)\n",
    "session = tf.compat.v1.Session(config=config)\n"
   ]
  },
  {
   "cell_type": "code",
   "execution_count": 41,
   "metadata": {},
   "outputs": [
    {
     "data": {
      "text/plain": [
       "TensorShape([3, 3])"
      ]
     },
     "execution_count": 41,
     "metadata": {},
     "output_type": "execute_result"
    }
   ],
   "source": [
    "a=tf.random.normal([3,3]) \n",
    "a.shape"
   ]
  },
  {
   "cell_type": "code",
   "execution_count": 42,
   "metadata": {},
   "outputs": [
    {
     "data": {
      "text/plain": [
       "<tf.Tensor: id=129, shape=(3, 3), dtype=float32, numpy=\n",
       "array([[-1.2300166 ,  1.0872896 ,  0.99127847],\n",
       "       [-1.4126886 ,  1.3589698 , -0.5036609 ],\n",
       "       [ 2.0283334 , -1.0578126 ,  0.13169272]], dtype=float32)>"
      ]
     },
     "execution_count": 42,
     "metadata": {},
     "output_type": "execute_result"
    }
   ],
   "source": [
    "a"
   ]
  },
  {
   "cell_type": "code",
   "execution_count": 43,
   "metadata": {},
   "outputs": [],
   "source": [
    "mask=a>0"
   ]
  },
  {
   "cell_type": "code",
   "execution_count": 44,
   "metadata": {},
   "outputs": [
    {
     "data": {
      "text/plain": [
       "<tf.Tensor: id=132, shape=(3, 3), dtype=bool, numpy=\n",
       "array([[False,  True,  True],\n",
       "       [False,  True, False],\n",
       "       [ True, False,  True]])>"
      ]
     },
     "execution_count": 44,
     "metadata": {},
     "output_type": "execute_result"
    }
   ],
   "source": [
    "mask "
   ]
  },
  {
   "cell_type": "code",
   "execution_count": 45,
   "metadata": {},
   "outputs": [
    {
     "data": {
      "text/plain": [
       "<tf.Tensor: id=160, shape=(5,), dtype=float32, numpy=\n",
       "array([1.0872896 , 0.99127847, 1.3589698 , 2.0283334 , 0.13169272],\n",
       "      dtype=float32)>"
      ]
     },
     "execution_count": 45,
     "metadata": {},
     "output_type": "execute_result"
    }
   ],
   "source": [
    "tf.boolean_mask(a,mask) "
   ]
  },
  {
   "cell_type": "code",
   "execution_count": 46,
   "metadata": {},
   "outputs": [],
   "source": [
    "indices=tf.where(mask) "
   ]
  },
  {
   "cell_type": "code",
   "execution_count": 47,
   "metadata": {},
   "outputs": [
    {
     "data": {
      "text/plain": [
       "<tf.Tensor: id=162, shape=(5, 2), dtype=int64, numpy=\n",
       "array([[0, 1],\n",
       "       [0, 2],\n",
       "       [1, 1],\n",
       "       [2, 0],\n",
       "       [2, 2]])>"
      ]
     },
     "execution_count": 47,
     "metadata": {},
     "output_type": "execute_result"
    }
   ],
   "source": [
    "indices \n"
   ]
  },
  {
   "cell_type": "code",
   "execution_count": 48,
   "metadata": {},
   "outputs": [
    {
     "data": {
      "text/plain": [
       "<tf.Tensor: id=164, shape=(5,), dtype=float32, numpy=\n",
       "array([1.0872896 , 0.99127847, 1.3589698 , 2.0283334 , 0.13169272],\n",
       "      dtype=float32)>"
      ]
     },
     "execution_count": 48,
     "metadata": {},
     "output_type": "execute_result"
    }
   ],
   "source": [
    "tf.gather_nd(a,indices) "
   ]
  },
  {
   "cell_type": "code",
   "execution_count": 49,
   "metadata": {},
   "outputs": [
    {
     "data": {
      "text/plain": [
       "<tf.Tensor: id=132, shape=(3, 3), dtype=bool, numpy=\n",
       "array([[False,  True,  True],\n",
       "       [False,  True, False],\n",
       "       [ True, False,  True]])>"
      ]
     },
     "execution_count": 49,
     "metadata": {},
     "output_type": "execute_result"
    }
   ],
   "source": [
    "mask "
   ]
  },
  {
   "cell_type": "code",
   "execution_count": 50,
   "metadata": {},
   "outputs": [],
   "source": [
    "A=tf.ones([3,3]) \n",
    "B=tf.zeros([3,3]) "
   ]
  },
  {
   "cell_type": "code",
   "execution_count": 51,
   "metadata": {},
   "outputs": [
    {
     "data": {
      "text/plain": [
       "<tf.Tensor: id=173, shape=(3, 3), dtype=float32, numpy=\n",
       "array([[0., 1., 1.],\n",
       "       [0., 1., 0.],\n",
       "       [1., 0., 1.]], dtype=float32)>"
      ]
     },
     "execution_count": 51,
     "metadata": {},
     "output_type": "execute_result"
    }
   ],
   "source": [
    "tf.where(mask,A,B) "
   ]
  },
  {
   "cell_type": "markdown",
   "metadata": {},
   "source": [
    "# scatter_nd"
   ]
  },
  {
   "cell_type": "code",
   "execution_count": 52,
   "metadata": {},
   "outputs": [],
   "source": [
    "indices=tf.constant([[4],[3],[1],[7]]) "
   ]
  },
  {
   "cell_type": "code",
   "execution_count": 53,
   "metadata": {},
   "outputs": [],
   "source": [
    "updates=tf.constant([9,10,11,12]) "
   ]
  },
  {
   "cell_type": "code",
   "execution_count": 54,
   "metadata": {},
   "outputs": [],
   "source": [
    "shape=tf.constant([8])"
   ]
  },
  {
   "cell_type": "code",
   "execution_count": 55,
   "metadata": {},
   "outputs": [
    {
     "data": {
      "text/plain": [
       "<tf.Tensor: id=177, shape=(1,), dtype=int32, numpy=array([8], dtype=int32)>"
      ]
     },
     "execution_count": 55,
     "metadata": {},
     "output_type": "execute_result"
    }
   ],
   "source": [
    "shape"
   ]
  },
  {
   "cell_type": "code",
   "execution_count": 56,
   "metadata": {},
   "outputs": [
    {
     "data": {
      "text/plain": [
       "<tf.Tensor: id=179, shape=(8,), dtype=int32, numpy=array([ 0, 11,  0, 10,  9,  0,  0, 12], dtype=int32)>"
      ]
     },
     "execution_count": 56,
     "metadata": {},
     "output_type": "execute_result"
    }
   ],
   "source": [
    "tf.scatter_nd(indices,updates,shape)"
   ]
  },
  {
   "cell_type": "markdown",
   "metadata": {},
   "source": [
    "# meshgrid "
   ]
  },
  {
   "cell_type": "code",
   "execution_count": 57,
   "metadata": {},
   "outputs": [
    {
     "data": {
      "text/plain": [
       "array([[-2., -2.],\n",
       "       [-1., -2.],\n",
       "       [ 0., -2.],\n",
       "       [ 1., -2.],\n",
       "       [ 2., -2.],\n",
       "       [-2., -1.],\n",
       "       [-1., -1.],\n",
       "       [ 0., -1.],\n",
       "       [ 1., -1.],\n",
       "       [ 2., -1.],\n",
       "       [-2.,  0.],\n",
       "       [-1.,  0.],\n",
       "       [ 0.,  0.],\n",
       "       [ 1.,  0.],\n",
       "       [ 2.,  0.],\n",
       "       [-2.,  1.],\n",
       "       [-1.,  1.],\n",
       "       [ 0.,  1.],\n",
       "       [ 1.,  1.],\n",
       "       [ 2.,  1.],\n",
       "       [-2.,  2.],\n",
       "       [-1.,  2.],\n",
       "       [ 0.,  2.],\n",
       "       [ 1.,  2.],\n",
       "       [ 2.,  2.]])"
      ]
     },
     "execution_count": 57,
     "metadata": {},
     "output_type": "execute_result"
    }
   ],
   "source": [
    "import numpy as np\n",
    "points=[]\n",
    "for y in np.linspace(-2,2,5):\n",
    "    for x in np.linspace(-2,2,5):\n",
    "        points.append([x,y])\n",
    "np.array(points) "
   ]
  },
  {
   "cell_type": "code",
   "execution_count": 60,
   "metadata": {},
   "outputs": [],
   "source": [
    "y=tf.linspace(-2.,2,5)"
   ]
  },
  {
   "cell_type": "code",
   "execution_count": 61,
   "metadata": {},
   "outputs": [
    {
     "data": {
      "text/plain": [
       "<tf.Tensor: id=187, shape=(5,), dtype=float32, numpy=array([-2., -1.,  0.,  1.,  2.], dtype=float32)>"
      ]
     },
     "execution_count": 61,
     "metadata": {},
     "output_type": "execute_result"
    }
   ],
   "source": [
    "y"
   ]
  },
  {
   "cell_type": "code",
   "execution_count": 62,
   "metadata": {},
   "outputs": [],
   "source": [
    "x=tf.linspace(-2.,2,5)"
   ]
  },
  {
   "cell_type": "code",
   "execution_count": 63,
   "metadata": {},
   "outputs": [
    {
     "data": {
      "text/plain": [
       "<tf.Tensor: id=192, shape=(5,), dtype=float32, numpy=array([-2., -1.,  0.,  1.,  2.], dtype=float32)>"
      ]
     },
     "execution_count": 63,
     "metadata": {},
     "output_type": "execute_result"
    }
   ],
   "source": [
    "x"
   ]
  },
  {
   "cell_type": "code",
   "execution_count": 64,
   "metadata": {},
   "outputs": [],
   "source": [
    "points_x,points_y=tf.meshgrid(x,y) "
   ]
  },
  {
   "cell_type": "code",
   "execution_count": 65,
   "metadata": {},
   "outputs": [
    {
     "data": {
      "text/plain": [
       "TensorShape([5, 5])"
      ]
     },
     "execution_count": 65,
     "metadata": {},
     "output_type": "execute_result"
    }
   ],
   "source": [
    "points_x.shape"
   ]
  },
  {
   "cell_type": "code",
   "execution_count": 66,
   "metadata": {},
   "outputs": [
    {
     "data": {
      "text/plain": [
       "<tf.Tensor: id=214, shape=(5, 5), dtype=float32, numpy=\n",
       "array([[-2., -1.,  0.,  1.,  2.],\n",
       "       [-2., -1.,  0.,  1.,  2.],\n",
       "       [-2., -1.,  0.,  1.,  2.],\n",
       "       [-2., -1.,  0.,  1.,  2.],\n",
       "       [-2., -1.,  0.,  1.,  2.]], dtype=float32)>"
      ]
     },
     "execution_count": 66,
     "metadata": {},
     "output_type": "execute_result"
    }
   ],
   "source": [
    "points_x"
   ]
  },
  {
   "cell_type": "code",
   "execution_count": 67,
   "metadata": {},
   "outputs": [
    {
     "data": {
      "text/plain": [
       "<tf.Tensor: id=215, shape=(5, 5), dtype=float32, numpy=\n",
       "array([[-2., -2., -2., -2., -2.],\n",
       "       [-1., -1., -1., -1., -1.],\n",
       "       [ 0.,  0.,  0.,  0.,  0.],\n",
       "       [ 1.,  1.,  1.,  1.,  1.],\n",
       "       [ 2.,  2.,  2.,  2.,  2.]], dtype=float32)>"
      ]
     },
     "execution_count": 67,
     "metadata": {},
     "output_type": "execute_result"
    }
   ],
   "source": [
    "points_y"
   ]
  },
  {
   "cell_type": "code",
   "execution_count": 68,
   "metadata": {},
   "outputs": [
    {
     "data": {
      "text/plain": [
       "TensorShape([5, 5])"
      ]
     },
     "execution_count": 68,
     "metadata": {},
     "output_type": "execute_result"
    }
   ],
   "source": [
    "points_x.shape"
   ]
  },
  {
   "cell_type": "code",
   "execution_count": 69,
   "metadata": {},
   "outputs": [],
   "source": [
    "points=tf.stack([points_x,points_y],axis=2) "
   ]
  },
  {
   "cell_type": "code",
   "execution_count": 71,
   "metadata": {},
   "outputs": [
    {
     "data": {
      "text/plain": [
       "<tf.Tensor: id=218, shape=(5, 5, 2), dtype=float32, numpy=\n",
       "array([[[-2., -2.],\n",
       "        [-1., -2.],\n",
       "        [ 0., -2.],\n",
       "        [ 1., -2.],\n",
       "        [ 2., -2.]],\n",
       "\n",
       "       [[-2., -1.],\n",
       "        [-1., -1.],\n",
       "        [ 0., -1.],\n",
       "        [ 1., -1.],\n",
       "        [ 2., -1.]],\n",
       "\n",
       "       [[-2.,  0.],\n",
       "        [-1.,  0.],\n",
       "        [ 0.,  0.],\n",
       "        [ 1.,  0.],\n",
       "        [ 2.,  0.]],\n",
       "\n",
       "       [[-2.,  1.],\n",
       "        [-1.,  1.],\n",
       "        [ 0.,  1.],\n",
       "        [ 1.,  1.],\n",
       "        [ 2.,  1.]],\n",
       "\n",
       "       [[-2.,  2.],\n",
       "        [-1.,  2.],\n",
       "        [ 0.,  2.],\n",
       "        [ 1.,  2.],\n",
       "        [ 2.,  2.]]], dtype=float32)>"
      ]
     },
     "execution_count": 71,
     "metadata": {},
     "output_type": "execute_result"
    }
   ],
   "source": [
    "points"
   ]
  },
  {
   "cell_type": "code",
   "execution_count": 72,
   "metadata": {},
   "outputs": [],
   "source": [
    "def func(x):\n",
    "    z=tf.math.sin(x[...,0])+tf.math.sin(x[...,1]) \n",
    "    return z "
   ]
  },
  {
   "cell_type": "code",
   "execution_count": 73,
   "metadata": {},
   "outputs": [],
   "source": [
    "x=tf.linspace(0.,2*3.14,500)"
   ]
  },
  {
   "cell_type": "code",
   "execution_count": 74,
   "metadata": {},
   "outputs": [],
   "source": [
    "y=tf.linspace(0.,2*3.14,500)"
   ]
  },
  {
   "cell_type": "code",
   "execution_count": 75,
   "metadata": {},
   "outputs": [],
   "source": [
    "# [50,50 ]"
   ]
  },
  {
   "cell_type": "code",
   "execution_count": 76,
   "metadata": {},
   "outputs": [
    {
     "name": "stdout",
     "output_type": "stream",
     "text": [
      "points: (500, 500, 2)\n"
     ]
    }
   ],
   "source": [
    "points_x,points_y=tf.meshgrid(x,y) \n",
    "points=tf.stack([points_x,points_y],axis=2) \n",
    "print('points:',points.shape)"
   ]
  },
  {
   "cell_type": "code",
   "execution_count": 77,
   "metadata": {},
   "outputs": [
    {
     "data": {
      "text/plain": [
       "TensorShape([500, 500])"
      ]
     },
     "execution_count": 77,
     "metadata": {},
     "output_type": "execute_result"
    }
   ],
   "source": [
    "points_x.shape"
   ]
  },
  {
   "cell_type": "code",
   "execution_count": 78,
   "metadata": {},
   "outputs": [],
   "source": [
    "z=func(points) "
   ]
  },
  {
   "cell_type": "code",
   "execution_count": 79,
   "metadata": {},
   "outputs": [
    {
     "name": "stdout",
     "output_type": "stream",
     "text": [
      "z: (500, 500)\n"
     ]
    }
   ],
   "source": [
    "print('z:',z.shape)"
   ]
  },
  {
   "cell_type": "code",
   "execution_count": 80,
   "metadata": {},
   "outputs": [],
   "source": [
    "import matplotlib.pyplot as plt "
   ]
  },
  {
   "cell_type": "code",
   "execution_count": 81,
   "metadata": {},
   "outputs": [
    {
     "data": {
      "text/plain": [
       "<matplotlib.colorbar.Colorbar at 0x7fa0f4612e80>"
      ]
     },
     "execution_count": 81,
     "metadata": {},
     "output_type": "execute_result"
    },
    {
     "data": {
      "image/png": "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\n",
      "text/plain": [
       "<Figure size 432x288 with 2 Axes>"
      ]
     },
     "metadata": {
      "needs_background": "light"
     },
     "output_type": "display_data"
    }
   ],
   "source": [
    "plt.figure('plot 2d func value') \n",
    "plt.imshow(z,origin='lower',interpolation='none') \n",
    "plt.colorbar() "
   ]
  },
  {
   "cell_type": "code",
   "execution_count": null,
   "metadata": {},
   "outputs": [],
   "source": []
  }
 ],
 "metadata": {
  "kernelspec": {
   "display_name": "Python 3",
   "language": "python",
   "name": "python3"
  },
  "language_info": {
   "codemirror_mode": {
    "name": "ipython",
    "version": 3
   },
   "file_extension": ".py",
   "mimetype": "text/x-python",
   "name": "python",
   "nbconvert_exporter": "python",
   "pygments_lexer": "ipython3",
   "version": "3.6.13"
  }
 },
 "nbformat": 4,
 "nbformat_minor": 4
}