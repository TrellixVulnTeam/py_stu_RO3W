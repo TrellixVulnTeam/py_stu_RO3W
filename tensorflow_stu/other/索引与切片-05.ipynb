{
 "cells": [
  {
   "cell_type": "code",
   "execution_count": 1,
   "id": "imposed-intelligence",
   "metadata": {},
   "outputs": [],
   "source": [
    "import tensorflow as tf \n",
    "from tensorflow.keras import datasets,layers,optimizers \n",
    "\n",
    "\n",
    "gpu_options = tf.compat.v1.GPUOptions(per_process_gpu_memory_fraction=0.2)\n",
    "config=tf.compat.v1.ConfigProto(gpu_options=gpu_options)\n",
    "session = tf.compat.v1.Session(config=config)\n",
    "\n",
    "\n"
   ]
  },
  {
   "cell_type": "code",
   "execution_count": 2,
   "id": "varying-custom",
   "metadata": {},
   "outputs": [],
   "source": [
    "a=tf.random.normal([4,35,8])"
   ]
  },
  {
   "cell_type": "code",
   "execution_count": 3,
   "id": "august-password",
   "metadata": {},
   "outputs": [
    {
     "data": {
      "text/plain": [
       "TensorShape([2, 8])"
      ]
     },
     "execution_count": 3,
     "metadata": {},
     "output_type": "execute_result"
    }
   ],
   "source": [
    "tf.gather_nd(a,[[0,0],[1,1]]).shape"
   ]
  },
  {
   "cell_type": "code",
   "execution_count": 4,
   "id": "further-mambo",
   "metadata": {},
   "outputs": [
    {
     "data": {
      "text/plain": [
       "<tf.Tensor: id=10, shape=(2, 8), dtype=float32, numpy=\n",
       "array([[-1.384655  ,  1.2890015 ,  1.2125483 ,  0.29029763,  0.04124366,\n",
       "        -0.22851871,  1.3035239 , -1.1422329 ],\n",
       "       [ 0.10995976, -1.4301234 ,  0.98775387,  0.28721023,  0.74438643,\n",
       "         0.40292218, -0.8115399 , -0.4025161 ]], dtype=float32)>"
      ]
     },
     "execution_count": 4,
     "metadata": {},
     "output_type": "execute_result"
    }
   ],
   "source": [
    "tf.gather_nd(a,[[0,0],[1,1]])"
   ]
  },
  {
   "cell_type": "code",
   "execution_count": 5,
   "id": "banned-compound",
   "metadata": {},
   "outputs": [
    {
     "data": {
      "text/plain": [
       "TensorShape([3, 8])"
      ]
     },
     "execution_count": 5,
     "metadata": {},
     "output_type": "execute_result"
    }
   ],
   "source": [
    "tf.gather_nd(a,[[0,0],[1,1],[2,2]]).shape"
   ]
  },
  {
   "cell_type": "code",
   "execution_count": 7,
   "id": "featured-bishop",
   "metadata": {},
   "outputs": [
    {
     "data": {
      "text/plain": [
       "<tf.Tensor: id=17, shape=(3, 8), dtype=float32, numpy=\n",
       "array([[-1.384655  ,  1.2890015 ,  1.2125483 ,  0.29029763,  0.04124366,\n",
       "        -0.22851871,  1.3035239 , -1.1422329 ],\n",
       "       [ 0.10995976, -1.4301234 ,  0.98775387,  0.28721023,  0.74438643,\n",
       "         0.40292218, -0.8115399 , -0.4025161 ],\n",
       "       [-0.5171967 , -0.7352024 , -0.348106  , -0.27375525, -0.01660214,\n",
       "        -0.66439253,  1.464884  , -0.41305882]], dtype=float32)>"
      ]
     },
     "execution_count": 7,
     "metadata": {},
     "output_type": "execute_result"
    }
   ],
   "source": [
    "tf.gather_nd(a,[[0,0],[1,1],[2,2]])"
   ]
  },
  {
   "cell_type": "code",
   "execution_count": 8,
   "id": "industrial-substance",
   "metadata": {},
   "outputs": [
    {
     "data": {
      "text/plain": [
       "TensorShape([3])"
      ]
     },
     "execution_count": 8,
     "metadata": {},
     "output_type": "execute_result"
    }
   ],
   "source": [
    "tf.gather_nd(a,[[0,0,0],[1,1,1],[2,2,2]]).shape"
   ]
  },
  {
   "cell_type": "code",
   "execution_count": 9,
   "id": "provincial-juice",
   "metadata": {},
   "outputs": [
    {
     "data": {
      "text/plain": [
       "TensorShape([1, 3])"
      ]
     },
     "execution_count": 9,
     "metadata": {},
     "output_type": "execute_result"
    }
   ],
   "source": [
    "tf.gather_nd(a,[[[0,0,0],[1,1,1],[2,2,2]]]).shape"
   ]
  },
  {
   "cell_type": "code",
   "execution_count": 12,
   "id": "minus-output",
   "metadata": {},
   "outputs": [
    {
     "data": {
      "text/plain": [
       "TensorShape([1, 1, 3])"
      ]
     },
     "execution_count": 12,
     "metadata": {},
     "output_type": "execute_result"
    }
   ],
   "source": [
    "tf.gather_nd(a,[[[[0,0,0],[1,1,1],[2,2,2]]]]).shape"
   ]
  },
  {
   "cell_type": "code",
   "execution_count": 13,
   "id": "indian-astronomy",
   "metadata": {},
   "outputs": [],
   "source": [
    "a=tf.random.normal([4,28,28,3])"
   ]
  },
  {
   "cell_type": "code",
   "execution_count": 15,
   "id": "liked-monthly",
   "metadata": {},
   "outputs": [
    {
     "data": {
      "text/plain": [
       "TensorShape([2, 28, 28, 3])"
      ]
     },
     "execution_count": 15,
     "metadata": {},
     "output_type": "execute_result"
    }
   ],
   "source": [
    "tf.boolean_mask(a,mask=[True,True,False,False]).shape "
   ]
  },
  {
   "cell_type": "code",
   "execution_count": 16,
   "id": "accepting-entrance",
   "metadata": {},
   "outputs": [
    {
     "data": {
      "text/plain": [
       "TensorShape([4, 28, 28, 2])"
      ]
     },
     "execution_count": 16,
     "metadata": {},
     "output_type": "execute_result"
    }
   ],
   "source": [
    "tf.boolean_mask(a,mask=[True,True,False],axis=3).shape "
   ]
  },
  {
   "cell_type": "code",
   "execution_count": 17,
   "id": "balanced-membrane",
   "metadata": {},
   "outputs": [],
   "source": [
    "a=tf.ones([2,3,4]) "
   ]
  },
  {
   "cell_type": "code",
   "execution_count": 20,
   "id": "earlier-connectivity",
   "metadata": {},
   "outputs": [
    {
     "data": {
      "text/plain": [
       "<tf.Tensor: id=154, shape=(3, 4), dtype=float32, numpy=\n",
       "array([[1., 1., 1., 1.],\n",
       "       [1., 1., 1., 1.],\n",
       "       [1., 1., 1., 1.]], dtype=float32)>"
      ]
     },
     "execution_count": 20,
     "metadata": {},
     "output_type": "execute_result"
    }
   ],
   "source": [
    "tf.boolean_mask(a,mask=[[True,False,False],[False,True,True]])"
   ]
  },
  {
   "cell_type": "code",
   "execution_count": 21,
   "id": "abroad-healthcare",
   "metadata": {},
   "outputs": [],
   "source": [
    "a=tf.random.normal([4,35,8])"
   ]
  },
  {
   "cell_type": "code",
   "execution_count": 22,
   "id": "prime-figure",
   "metadata": {},
   "outputs": [
    {
     "data": {
      "text/plain": [
       "TensorShape([2, 8])"
      ]
     },
     "execution_count": 22,
     "metadata": {},
     "output_type": "execute_result"
    }
   ],
   "source": [
    "tf.gather_nd(a,[[0,0],[1,1]]).shape "
   ]
  },
  {
   "cell_type": "code",
   "execution_count": 23,
   "id": "minor-silence",
   "metadata": {},
   "outputs": [
    {
     "data": {
      "text/plain": [
       "TensorShape([3, 8])"
      ]
     },
     "execution_count": 23,
     "metadata": {},
     "output_type": "execute_result"
    }
   ],
   "source": [
    "tf.gather_nd(a,[[0,0],[1,1],[2,2]]).shape"
   ]
  },
  {
   "cell_type": "code",
   "execution_count": 24,
   "id": "amber-qatar",
   "metadata": {},
   "outputs": [
    {
     "data": {
      "text/plain": [
       "TensorShape([3])"
      ]
     },
     "execution_count": 24,
     "metadata": {},
     "output_type": "execute_result"
    }
   ],
   "source": [
    "tf.gather_nd(a,[[0,0,0],[1,1,1],[2,2,2]]).shape"
   ]
  },
  {
   "cell_type": "code",
   "execution_count": 27,
   "id": "static-constitutional",
   "metadata": {},
   "outputs": [
    {
     "data": {
      "text/plain": [
       "TensorShape([1, 3, 3])"
      ]
     },
     "execution_count": 27,
     "metadata": {},
     "output_type": "execute_result"
    }
   ],
   "source": [
    "tf.gather_nd(a,[[[0,0,0],[1,1,1],[2,2,2]]]).shape "
   ]
  },
  {
   "cell_type": "code",
   "execution_count": 28,
   "id": "corporate-martin",
   "metadata": {},
   "outputs": [],
   "source": [
    "a=tf.random.normal([4,28,28,3])"
   ]
  },
  {
   "cell_type": "code",
   "execution_count": 29,
   "id": "invalid-california",
   "metadata": {},
   "outputs": [
    {
     "data": {
      "text/plain": [
       "TensorShape([2, 28, 28, 3])"
      ]
     },
     "execution_count": 29,
     "metadata": {},
     "output_type": "execute_result"
    }
   ],
   "source": [
    "tf.boolean_mask(a,mask=[True,True,False,False]).shape "
   ]
  },
  {
   "cell_type": "code",
   "execution_count": 30,
   "id": "stretch-marble",
   "metadata": {},
   "outputs": [
    {
     "data": {
      "text/plain": [
       "TensorShape([2, 28, 28, 3])"
      ]
     },
     "execution_count": 30,
     "metadata": {},
     "output_type": "execute_result"
    }
   ],
   "source": [
    "tf.boolean_mask(a,mask=[True,True,False,False]).shape"
   ]
  },
  {
   "cell_type": "code",
   "execution_count": 31,
   "id": "exterior-associate",
   "metadata": {},
   "outputs": [
    {
     "data": {
      "text/plain": [
       "TensorShape([4, 28, 28, 2])"
      ]
     },
     "execution_count": 31,
     "metadata": {},
     "output_type": "execute_result"
    }
   ],
   "source": [
    "tf.boolean_mask(a,mask=[True,True,False],axis=3).shape"
   ]
  },
  {
   "cell_type": "code",
   "execution_count": 32,
   "id": "hydraulic-wrestling",
   "metadata": {},
   "outputs": [],
   "source": [
    "a=tf.ones([2,3,4]) "
   ]
  },
  {
   "cell_type": "code",
   "execution_count": 33,
   "id": "bearing-county",
   "metadata": {},
   "outputs": [
    {
     "data": {
      "text/plain": [
       "<tf.Tensor: id=298, shape=(3, 4), dtype=float32, numpy=\n",
       "array([[1., 1., 1., 1.],\n",
       "       [1., 1., 1., 1.],\n",
       "       [1., 1., 1., 1.]], dtype=float32)>"
      ]
     },
     "execution_count": 33,
     "metadata": {},
     "output_type": "execute_result"
    }
   ],
   "source": [
    "tf.boolean_mask(a,mask=[[True,False,False],[False,True,True]])"
   ]
  },
  {
   "cell_type": "code",
   "execution_count": null,
   "id": "three-state",
   "metadata": {},
   "outputs": [],
   "source": []
  }
 ],
 "metadata": {
  "kernelspec": {
   "display_name": "Python 3",
   "language": "python",
   "name": "python3"
  },
  "language_info": {
   "codemirror_mode": {
    "name": "ipython",
    "version": 3
   },
   "file_extension": ".py",
   "mimetype": "text/x-python",
   "name": "python",
   "nbconvert_exporter": "python",
   "pygments_lexer": "ipython3",
   "version": "3.6.13"
  }
 },
 "nbformat": 4,
 "nbformat_minor": 5
}
