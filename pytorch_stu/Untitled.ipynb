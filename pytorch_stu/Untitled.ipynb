{
 "cells": [
  {
   "cell_type": "code",
   "execution_count": 3,
   "id": "capable-interaction",
   "metadata": {},
   "outputs": [],
   "source": [
    "import torch \n",
    "from torch import nn"
   ]
  },
  {
   "cell_type": "code",
   "execution_count": 6,
   "id": "introductory-carry",
   "metadata": {},
   "outputs": [],
   "source": [
    "class LogisticRegression(nn.Module):\n",
    "    def __init__(self,in1):\n",
    "        super().__init__()\n",
    "        self.log_reg=nn.Sequential(\n",
    "            nn.Linear(in1,1),\n",
    "            nn.Sigmoid()\n",
    "        )\n",
    "    def forward(self,x):\n",
    "        return self.log_reg(x) "
   ]
  },
  {
   "cell_type": "code",
   "execution_count": 8,
   "id": "thrown-alloy",
   "metadata": {},
   "outputs": [],
   "source": [
    "model=LogisticRegression(16)\n",
    "criterion=nn.BCELoss() "
   ]
  },
  {
   "cell_type": "code",
   "execution_count": 9,
   "id": "sixth-avenue",
   "metadata": {},
   "outputs": [],
   "source": [
    "optimizer=torch.optim.SGD(model.parameters(),lr=0.01) "
   ]
  },
  {
   "cell_type": "code",
   "execution_count": null,
   "id": "disturbed-output",
   "metadata": {},
   "outputs": [],
   "source": [
    "n_epochs=10 \n",
    "for t in range(n_epochs):\n",
    "    y_pred=model(x) \n",
    "    loss=criterion(y_pred,y) "
   ]
  }
 ],
 "metadata": {
  "kernelspec": {
   "display_name": "Python 3",
   "language": "python",
   "name": "python3"
  },
  "language_info": {
   "codemirror_mode": {
    "name": "ipython",
    "version": 3
   },
   "file_extension": ".py",
   "mimetype": "text/x-python",
   "name": "python",
   "nbconvert_exporter": "python",
   "pygments_lexer": "ipython3",
   "version": "3.6.13"
  }
 },
 "nbformat": 4,
 "nbformat_minor": 5
}
