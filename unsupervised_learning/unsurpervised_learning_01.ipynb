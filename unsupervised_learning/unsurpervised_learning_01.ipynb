{
 "cells": [
  {
   "cell_type": "code",
   "execution_count": 4,
   "metadata": {},
   "outputs": [],
   "source": [
    "import numpy as np\n",
    "import matplotlib.pyplot as plt\n",
    "import cv2 \n",
    "from sklearn.cluster import KMeans "
   ]
  },
  {
   "cell_type": "code",
   "execution_count": null,
   "metadata": {},
   "outputs": [
    {
     "name": "stdout",
     "output_type": "stream",
     "text": [
      "(726, 1553, 3)\n",
      "(1127478, 3)\n"
     ]
    }
   ],
   "source": [
    "\n",
    "img = cv2.imread(r'1.png')#BGR format\n",
    "img = cv2.cvtColor(img, cv2.COLOR_BGR2RGB)\n",
    "raw_img = img.copy()\n",
    "\n",
    "print(img.shape)\n",
    "width = img.shape[0]\n",
    "height = img.shape[1]\n",
    "\n",
    "#we are creating segmentation of K colors\n",
    "#firstly, we will find K dominating colors in an image using K means clustering\n",
    "\n",
    "#we have RGB image(3 channels) so we will use 3 channels values as features\n",
    "img = img.reshape(-1,3)\n",
    "print(img.shape)\n",
    "\n",
    "k = 4   #number of dominating colors you want\n",
    "\n",
    "classifier = KMeans(n_clusters=k,max_iter=100,\n",
    "                init='k-means++')\n",
    "kmeans = classifier.fit(img)\n",
    "\n",
    "labels = kmeans.labels_\n",
    "print(f'labels:{labels}')\n",
    "\n",
    "dominating_colors = np.array(kmeans.cluster_centers_,dtype='uint8')\n",
    "\n",
    "print(dominating_colors)\n",
    "colors = []\n",
    "\n",
    "for col in dominating_colors:\n",
    "\tr = col[0]\n",
    "\tg = col[1]\n",
    "\tb = col[2]\n",
    "\tcolors.append([r, g, b])\n",
    "\n",
    "segmented_img = np.zeros((img.shape[0],3),dtype='uint8')\n",
    "\n",
    "for pix in range(segmented_img.shape[0]):\n",
    "\tr_g_b = colors[labels[pix]]\n",
    "\tsegmented_img[pix] = r_g_b\n",
    "\n",
    "segmented_img = segmented_img.reshape((width,height,3))\n",
    "plt.subplot(121)\n",
    "plt.imshow(raw_img)\n",
    "plt.subplot(122)\n",
    "plt.imshow(segmented_img)\n",
    "plt.show()\n"
   ]
  },
  {
   "cell_type": "code",
   "execution_count": null,
   "metadata": {},
   "outputs": [],
   "source": []
  },
  {
   "cell_type": "code",
   "execution_count": null,
   "metadata": {},
   "outputs": [],
   "source": []
  }
 ],
 "metadata": {
  "kernelspec": {
   "display_name": "Python 3",
   "language": "python",
   "name": "python3"
  },
  "language_info": {
   "codemirror_mode": {
    "name": "ipython",
    "version": 3
   },
   "file_extension": ".py",
   "mimetype": "text/x-python",
   "name": "python",
   "nbconvert_exporter": "python",
   "pygments_lexer": "ipython3",
   "version": "3.7.0"
  }
 },
 "nbformat": 4,
 "nbformat_minor": 2
}
