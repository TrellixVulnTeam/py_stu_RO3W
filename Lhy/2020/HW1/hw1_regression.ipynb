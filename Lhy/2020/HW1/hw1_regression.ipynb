{
  "nbformat": 4,
  "nbformat_minor": 0,
  "metadata": {
    "colab": {
      "name": "hw1_regression.ipynb",
      "provenance": [],
      "collapsed_sections": []
    },
    "kernelspec": {
      "name": "python3",
      "display_name": "Python 3"
    }
  },
  "cells": [
    {
      "cell_type": "markdown",
      "metadata": {
        "id": "p9FfatPz6MU3"
      },
      "source": [
        "# **Homework 1: Linear Regression**"
      ]
    },
    {
      "cell_type": "markdown",
      "metadata": {
        "id": "fsoaNwrZA0ui"
      },
      "source": [
        "本次目標：由前 9 個小時的 18 個 features (包含 PM2.5)預測的 10 個小時的 PM2.5。<!-- 可以參考 <link> 獲知更細項的作業說明。-->\n",
        "\n",
        "<!-- 首先，從 https://drive.google.com/open?id=1El0zvTkrSuqCTDcMpijXpADvJzZC2Jpa 將整個資料夾下載下來，並將下載下來的資料夾放到自己的 Google Drive（注意：上傳到自己 Google Drive 的是資料夾 hw1-regression，而非壓縮檔） -->\n",
        "\n",
        "\n",
        "若有任何問題，歡迎來信至助教信箱 ntu-ml-2020spring-ta@googlegroups.com"
      ]
    },
    {
      "cell_type": "markdown",
      "metadata": {
        "id": "U7RiAkkjCc6l"
      },
      "source": [
        "# **Load 'train.csv'**\n",
        "train.csv 的資料為 12 個月中，每個月取 20 天，每天 24 小時的資料(每小時資料有 18 個 features)。"
      ]
    },
    {
      "cell_type": "code",
      "metadata": {
        "id": "1AfNX-hB3kN8"
      },
      "source": [
        "import sys\n",
        "import pandas as pd\n",
        "import numpy as np\n",
        "from google.colab import drive \n",
        "!gdown --id '1wNKAxQ29G15kgpBy_asjTcZRRgmsCZRm' --output data.zip\n",
        "!unzip data.zip\n",
        "# data = pd.read_csv('gdrive/My Drive/hw1-regression/train.csv', header = None, encoding = 'big5')\n",
        "data = pd.read_csv('./train.csv', encoding = 'big5')"
      ],
      "execution_count": null,
      "outputs": []
    },
    {
      "cell_type": "markdown",
      "metadata": {
        "id": "gqUdj00pDTpo"
      },
      "source": [
        "# **Preprocessing** \n",
        "取需要的數值部分，將 'RAINFALL' 欄位全部補 0。\n",
        "另外，如果要在 colab 重覆這段程式碼的執行，請從頭開始執行(把上面的都重新跑一次)，以避免跑出不是自己要的結果（若自己寫程式不會遇到，但 colab 重複跑這段會一直往下取資料。意即第一次取原本資料的第三欄之後的資料，第二次取第一次取的資料掉三欄之後的資料，...）。"
      ]
    },
    {
      "cell_type": "code",
      "metadata": {
        "id": "AIGP7XUYD_Yb"
      },
      "source": [
        "data = data.iloc[:, 3:]\n",
        "data[data == 'NR'] = 0\n",
        "raw_data = data.to_numpy()"
      ],
      "execution_count": null,
      "outputs": []
    },
    {
      "cell_type": "markdown",
      "metadata": {
        "id": "V7PCrVwX6jBF"
      },
      "source": [
        "# **Extract Features (1)**\n",
        "![圖片說明](https://drive.google.com/uc?id=1LyaqD4ojX07oe5oDzPO99l9ts5NRyArH)\n",
        "![圖片說明](https://drive.google.com/uc?id=1ZroBarcnlsr85gibeqEF-MtY13xJTG47)\n",
        "\n",
        "將原始 4320 * 18 的資料依照每個月分重組成 12 個 18 (features) * 480 (hours) 的資料。 "
      ]
    },
    {
      "cell_type": "code",
      "metadata": {
        "id": "HBnrGYXu9dZQ"
      },
      "source": [
        "month_data = {}\n",
        "for month in range(12):\n",
        "    sample = np.empty([18, 480])\n",
        "    for day in range(20):\n",
        "        sample[:, day * 24 : (day + 1) * 24] = raw_data[18 * (20 * month + day) : 18 * (20 * month + day + 1), :]\n",
        "    month_data[month] = sample"
      ],
      "execution_count": null,
      "outputs": []
    },
    {
      "cell_type": "markdown",
      "metadata": {
        "id": "WhVmtFEQ9D6t"
      },
      "source": [
        "# **Extract Features (2)**\n",
        "![alt text](https://drive.google.com/uc?id=1wKoPuaRHoX682LMiBgIoOP4PDyNKsJLK)\n",
        "![alt text](https://drive.google.com/uc?id=1FRWWiXQ-Qh0i9tyx0LiugHYF_xDdkhLN)\n",
        "\n",
        "每個月會有 480hrs，每 9 小時形成一個 data，每個月會有 471 個 data，故總資料數為 471 * 12 筆，而每筆 data 有 9 * 18 的 features (一小時 18 個 features * 9 小時)。\n",
        "\n",
        "對應的 target 則有 471 * 12 個(第 10 個小時的 PM2.5)"
      ]
    },
    {
      "cell_type": "code",
      "metadata": {
        "id": "dcOrC4Fi-n3i"
      },
      "source": [
        "x = np.empty([12 * 471, 18 * 9], dtype = float)\n",
        "y = np.empty([12 * 471, 1], dtype = float)\n",
        "for month in range(12):\n",
        "    for day in range(20):\n",
        "        for hour in range(24):\n",
        "            if day == 19 and hour > 14:\n",
        "                continue\n",
        "            x[month * 471 + day * 24 + hour, :] = month_data[month][:,day * 24 + hour : day * 24 + hour + 9].reshape(1, -1) #vector dim:18*9 (9 9 9 9 9 9 9 9 9 9 9 9 9 9 9 9 9 9)\n",
        "            y[month * 471 + day * 24 + hour, 0] = month_data[month][9, day * 24 + hour + 9] #value\n",
        "print(x)\n",
        "print(y)"
      ],
      "execution_count": null,
      "outputs": []
    },
    {
      "cell_type": "markdown",
      "metadata": {
        "id": "1wOii0TX8IwE"
      },
      "source": [
        "# **Normalize (1)**\n"
      ]
    },
    {
      "cell_type": "code",
      "metadata": {
        "id": "ceMqFoNI8ftQ"
      },
      "source": [
        "mean_x = np.mean(x, axis = 0) #18 * 9 \n",
        "std_x = np.std(x, axis = 0) #18 * 9 \n",
        "for i in range(len(x)): #12 * 471\n",
        "    for j in range(len(x[0])): #18 * 9 \n",
        "        if std_x[j] != 0:\n",
        "            x[i][j] = (x[i][j] - mean_x[j]) / std_x[j]\n",
        "x"
      ],
      "execution_count": null,
      "outputs": []
    },
    {
      "cell_type": "markdown",
      "metadata": {
        "id": "NzvXP5Jya64j"
      },
      "source": [
        "#**Split Training Data Into \"train_set\" and \"validation_set\"**\n",
        "這部分是針對作業中 report 的第二題、第三題做的簡單示範，以生成比較中用來訓練的 train_set 和不會被放入訓練、只是用來驗證的 validation_set。"
      ]
    },
    {
      "cell_type": "code",
      "metadata": {
        "id": "feF4XXOQb5SC",
        "colab": {
          "base_uri": "https://localhost:8080/"
        },
        "outputId": "3be3b603-0476-457a-d520-c98fd1665d53"
      },
      "source": [
        "import math\n",
        "x_train_set = x[: math.floor(len(x) * 0.8), :]\n",
        "y_train_set = y[: math.floor(len(y) * 0.8), :]\n",
        "x_validation = x[math.floor(len(x) * 0.8): , :]\n",
        "y_validation = y[math.floor(len(y) * 0.8): , :]\n",
        "print(x_train_set)\n",
        "print(y_train_set)\n",
        "print(x_validation)\n",
        "print(y_validation)\n",
        "print(len(x_train_set))\n",
        "print(len(y_train_set))\n",
        "print(len(x_validation))\n",
        "print(len(y_validation))"
      ],
      "execution_count": 5,
      "outputs": [
        {
          "output_type": "stream",
          "text": [
            "[[14.  14.  14.  ...  2.   2.   0.5]\n",
            " [14.  14.  13.  ...  2.   0.5  0.3]\n",
            " [14.  13.  12.  ...  0.5  0.3  0.8]\n",
            " ...\n",
            " [28.  27.  25.  ...  3.2  2.   1.3]\n",
            " [27.  25.  23.  ...  2.   1.3  1.3]\n",
            " [25.  23.  23.  ...  1.3  1.3  0.8]]\n",
            "[[30.]\n",
            " [41.]\n",
            " [44.]\n",
            " ...\n",
            " [ 7.]\n",
            " [ 5.]\n",
            " [14.]]\n",
            "[[23.  23.  23.  ...  1.3  0.8  1.1]\n",
            " [23.  23.  24.  ...  0.8  1.1  2.3]\n",
            " [23.  24.  24.  ...  1.1  2.3  1.6]\n",
            " ...\n",
            " [17.  18.  19.  ...  1.1  1.4  1.3]\n",
            " [18.  19.  18.  ...  1.4  1.3  1.6]\n",
            " [19.  18.  17.  ...  1.3  1.6  1.8]]\n",
            "[[13.]\n",
            " [24.]\n",
            " [22.]\n",
            " ...\n",
            " [17.]\n",
            " [24.]\n",
            " [29.]]\n",
            "4521\n",
            "4521\n",
            "1131\n",
            "1131\n"
          ],
          "name": "stdout"
        }
      ]
    },
    {
      "cell_type": "markdown",
      "metadata": {
        "id": "Q-qAu0KR_ZRR"
      },
      "source": [
        "# **Training**\n",
        "![alt text](https://drive.google.com/uc?id=1xIXvqZ4EGgmxrp7c9r0LOVbcvd4d9H4N)\n",
        "![alt text](https://drive.google.com/uc?id=1S42g06ON5oJlV2f9RukxawjbE4NpsaB6)\n",
        "![alt text](https://drive.google.com/uc?id=1BbXu-oPB9EZBHDQ12YCkYqtyAIil3bGj)\n",
        "\n",
        "(和上圖不同處: 下面的 code 採用 Root Mean Square Error)\n",
        "\n",
        "因為常數項的存在，所以 dimension (dim) 需要多加一欄；eps 項是避免 adagrad 的分母為 0 而加的極小數值。\n",
        "\n",
        "每一個 dimension (dim) 會對應到各自的 gradient, weight (w)，透過一次次的 iteration (iter_time) 學習。"
      ]
    },
    {
      "cell_type": "code",
      "metadata": {
        "id": "cCzDfxBFBFqp",
        "colab": {
          "base_uri": "https://localhost:8080/"
        },
        "outputId": "89c918b0-ee08-4b25-8e94-2603dd0f1ad1"
      },
      "source": [
        "dim = 18 * 9 + 1\n",
        "w = np.zeros([dim, 1])\n",
        "x = np.concatenate((np.ones([12 * 471, 1]), x), axis = 1).astype(float)\n",
        "learning_rate = 100\n",
        "iter_time = 1000\n",
        "adagrad = np.zeros([dim, 1])\n",
        "eps = 0.0000000001\n",
        "for t in range(iter_time):\n",
        "    loss = np.sqrt(np.sum(np.power(np.dot(x, w) - y, 2))/471/12)#rmse\n",
        "    if(t%100==0):\n",
        "        print(str(t) + \":\" + str(loss))\n",
        "    gradient = 2 * np.dot(x.transpose(), np.dot(x, w) - y) #dim*1\n",
        "    adagrad += gradient ** 2\n",
        "    w = w - learning_rate * gradient / np.sqrt(adagrad + eps)\n",
        "np.save('weight.npy', w)\n",
        "w"
      ],
      "execution_count": 6,
      "outputs": [
        {
          "output_type": "stream",
          "text": [
            "0:27.071214829194115\n",
            "100:9.451089518526109\n",
            "200:8.676332801519782\n",
            "300:8.225231287860272\n",
            "400:7.919681076360057\n",
            "500:7.6942907227015915\n",
            "600:7.518284415231593\n",
            "700:7.3752975908358716\n",
            "800:7.255754342414656\n",
            "900:7.153631499306634\n"
          ],
          "name": "stdout"
        },
        {
          "output_type": "execute_result",
          "data": {
            "text/plain": [
              "array([[ 5.81212085e-03],\n",
              "       [-9.10664274e-03],\n",
              "       [-8.85075776e-03],\n",
              "       [-7.58703583e-03],\n",
              "       [-6.67601178e-03],\n",
              "       [-4.61583345e-03],\n",
              "       [-3.21508733e-03],\n",
              "       [-1.14336780e-03],\n",
              "       [ 8.45146352e-04],\n",
              "       [ 3.67630231e-03],\n",
              "       [ 7.34167505e-03],\n",
              "       [ 7.62477848e-03],\n",
              "       [ 7.58809316e-03],\n",
              "       [ 7.57266819e-03],\n",
              "       [ 8.49121110e-03],\n",
              "       [ 9.35590873e-03],\n",
              "       [ 1.06427457e-02],\n",
              "       [ 1.35597599e-02],\n",
              "       [ 1.73166908e-02],\n",
              "       [ 5.23945596e-04],\n",
              "       [ 1.99141515e-04],\n",
              "       [ 5.80078891e-03],\n",
              "       [-7.49680669e-04],\n",
              "       [ 8.20190807e-03],\n",
              "       [ 1.22373354e-02],\n",
              "       [ 5.46083937e-02],\n",
              "       [ 1.28607893e-01],\n",
              "       [ 1.84347671e-01],\n",
              "       [-2.64300110e-02],\n",
              "       [-2.33835121e-02],\n",
              "       [-1.59892457e-02],\n",
              "       [-4.22707291e-03],\n",
              "       [ 5.41301716e-03],\n",
              "       [ 6.57428829e-03],\n",
              "       [ 3.01375390e-02],\n",
              "       [ 7.91909533e-02],\n",
              "       [ 1.20543589e-01],\n",
              "       [ 2.19564401e-02],\n",
              "       [ 1.73581125e-02],\n",
              "       [ 1.99012863e-02],\n",
              "       [ 2.94497995e-03],\n",
              "       [ 1.20666035e-03],\n",
              "       [ 3.60456001e-03],\n",
              "       [ 2.55752709e-02],\n",
              "       [ 4.53100213e-02],\n",
              "       [ 4.74753145e-02],\n",
              "       [-1.73069938e-02],\n",
              "       [-1.99640776e-02],\n",
              "       [-1.83585890e-02],\n",
              "       [-1.78368031e-02],\n",
              "       [-1.44593467e-02],\n",
              "       [-1.08673433e-02],\n",
              "       [ 7.57186797e-03],\n",
              "       [ 5.12582536e-02],\n",
              "       [ 9.61307887e-02],\n",
              "       [-1.02639728e-02],\n",
              "       [-1.25659594e-02],\n",
              "       [-1.03989471e-02],\n",
              "       [-1.26040295e-02],\n",
              "       [-1.10538999e-02],\n",
              "       [-7.80486449e-03],\n",
              "       [ 1.13143382e-02],\n",
              "       [ 5.12669895e-02],\n",
              "       [ 8.78850314e-02],\n",
              "       [-3.26599912e-03],\n",
              "       [-6.73787273e-03],\n",
              "       [-1.25640972e-02],\n",
              "       [-1.53629391e-02],\n",
              "       [-1.38949277e-02],\n",
              "       [-6.15944452e-03],\n",
              "       [ 1.05838961e-02],\n",
              "       [ 3.48708842e-02],\n",
              "       [ 5.99642788e-02],\n",
              "       [ 8.34253892e-04],\n",
              "       [ 3.70620157e-03],\n",
              "       [-5.47784321e-04],\n",
              "       [-4.94070710e-03],\n",
              "       [-8.71709623e-03],\n",
              "       [-6.71828186e-03],\n",
              "       [-2.61236085e-03],\n",
              "       [ 3.04726458e-02],\n",
              "       [ 9.85607331e-02],\n",
              "       [ 2.20680128e-02],\n",
              "       [ 2.19298359e-02],\n",
              "       [ 1.93906842e-02],\n",
              "       [ 1.78252503e-02],\n",
              "       [ 1.69708554e-02],\n",
              "       [ 2.37201405e-02],\n",
              "       [ 9.78971780e-03],\n",
              "       [ 1.73969611e-01],\n",
              "       [ 3.82754842e-01],\n",
              "       [ 8.66350120e-03],\n",
              "       [-3.24720007e-02],\n",
              "       [-7.14765355e-02],\n",
              "       [-8.73377401e-03],\n",
              "       [ 2.37527220e-03],\n",
              "       [ 5.39507324e-02],\n",
              "       [-1.10561470e-02],\n",
              "       [-6.35118980e-02],\n",
              "       [-1.15020789e-01],\n",
              "       [ 3.39456894e-03],\n",
              "       [ 2.30318905e-03],\n",
              "       [ 6.16538784e-04],\n",
              "       [-7.48580923e-04],\n",
              "       [-2.09750905e-03],\n",
              "       [-3.25911942e-03],\n",
              "       [-5.09793170e-03],\n",
              "       [-4.85583527e-03],\n",
              "       [-5.45899240e-03],\n",
              "       [-9.05763531e-03],\n",
              "       [ 6.90851858e-03],\n",
              "       [-3.63394159e-03],\n",
              "       [-4.23203845e-03],\n",
              "       [ 7.68387204e-04],\n",
              "       [ 9.20416890e-03],\n",
              "       [ 2.62512949e-02],\n",
              "       [ 7.59344295e-02],\n",
              "       [ 1.19639997e-01],\n",
              "       [ 4.64504326e-03],\n",
              "       [ 4.32829707e-03],\n",
              "       [ 5.08923043e-03],\n",
              "       [ 6.16521776e-03],\n",
              "       [ 8.62744070e-03],\n",
              "       [ 9.41526823e-03],\n",
              "       [ 1.17635961e-02],\n",
              "       [ 1.80154274e-02],\n",
              "       [ 2.50417335e-02],\n",
              "       [ 1.47926885e-04],\n",
              "       [ 3.35986096e-03],\n",
              "       [ 6.44600543e-04],\n",
              "       [ 3.11600281e-03],\n",
              "       [ 2.80610058e-04],\n",
              "       [ 4.66158219e-04],\n",
              "       [-2.47421503e-03],\n",
              "       [ 1.49411336e-03],\n",
              "       [ 2.09210220e-03],\n",
              "       [-1.96481271e-03],\n",
              "       [-1.25239397e-03],\n",
              "       [-3.06940004e-04],\n",
              "       [-1.98904521e-03],\n",
              "       [ 5.51353216e-04],\n",
              "       [-1.53508041e-03],\n",
              "       [-2.73530882e-03],\n",
              "       [-2.89632646e-03],\n",
              "       [ 1.79761091e-03],\n",
              "       [-1.50186176e-02],\n",
              "       [-1.11331594e-02],\n",
              "       [-9.78741771e-03],\n",
              "       [-1.19501284e-02],\n",
              "       [-1.24886590e-02],\n",
              "       [-1.51248632e-02],\n",
              "       [-1.89089702e-02],\n",
              "       [-1.74778050e-02],\n",
              "       [-1.18668414e-02],\n",
              "       [-1.93762543e-02],\n",
              "       [-1.61461158e-02],\n",
              "       [-1.99148630e-02],\n",
              "       [-1.62437907e-02],\n",
              "       [-1.24691832e-02],\n",
              "       [-1.16620583e-02],\n",
              "       [-2.19312123e-02],\n",
              "       [-2.16706050e-02],\n",
              "       [-9.59665656e-03]])"
            ]
          },
          "metadata": {
            "tags": []
          },
          "execution_count": 6
        }
      ]
    },
    {
      "cell_type": "markdown",
      "metadata": {
        "id": "ZqNdWKsYBK28"
      },
      "source": [
        "# **Testing**\n",
        "![alt text](https://drive.google.com/uc?id=1165ETzZyE6HStqKvgR0gKrJwgFLK6-CW)\n",
        "\n",
        "載入 test data，並且以相似於訓練資料預先處理和特徵萃取的方式處理，使 test data 形成 240 個維度為 18 * 9 + 1 的資料。"
      ]
    },
    {
      "cell_type": "code",
      "metadata": {
        "id": "AALygqJFCWOA"
      },
      "source": [
        "# testdata = pd.read_csv('gdrive/My Drive/hw1-regression/test.csv', header = None, encoding = 'big5')\n",
        "testdata = pd.read_csv('./test.csv', header = None, encoding = 'big5')\n",
        "test_data = testdata.iloc[:, 2:]\n",
        "test_data[test_data == 'NR'] = 0\n",
        "test_data = test_data.to_numpy()\n",
        "test_x = np.empty([240, 18*9], dtype = float)\n",
        "for i in range(240):\n",
        "    test_x[i, :] = test_data[18 * i: 18* (i + 1), :].reshape(1, -1)\n",
        "for i in range(len(test_x)):\n",
        "    for j in range(len(test_x[0])):\n",
        "        if std_x[j] != 0:\n",
        "            test_x[i][j] = (test_x[i][j] - mean_x[j]) / std_x[j]\n",
        "test_x = np.concatenate((np.ones([240, 1]), test_x), axis = 1).astype(float)\n",
        "test_x"
      ],
      "execution_count": null,
      "outputs": []
    },
    {
      "cell_type": "markdown",
      "metadata": {
        "id": "dJQks9JEHR6W"
      },
      "source": [
        "# **Prediction**\n",
        "說明圖同上\n",
        "\n",
        "![alt text](https://drive.google.com/uc?id=1165ETzZyE6HStqKvgR0gKrJwgFLK6-CW)\n",
        "\n",
        "有了 weight 和測試資料即可預測 target。"
      ]
    },
    {
      "cell_type": "code",
      "metadata": {
        "id": "jNyB229jHsEQ"
      },
      "source": [
        "w = np.load('weight.npy')\n",
        "ans_y = np.dot(test_x, w)\n",
        "ans_y"
      ],
      "execution_count": null,
      "outputs": []
    },
    {
      "cell_type": "markdown",
      "metadata": {
        "id": "HKMKW7RzHwuO"
      },
      "source": [
        "# **Save Prediction to CSV File**\n"
      ]
    },
    {
      "cell_type": "code",
      "metadata": {
        "id": "Dwfpqqy0H8en"
      },
      "source": [
        "import csv\n",
        "with open('submit.csv', mode='w', newline='') as submit_file:\n",
        "    csv_writer = csv.writer(submit_file)\n",
        "    header = ['id', 'value']\n",
        "    print(header)\n",
        "    csv_writer.writerow(header)\n",
        "    for i in range(240):\n",
        "        row = ['id_' + str(i), ans_y[i][0]]\n",
        "        csv_writer.writerow(row)\n",
        "        print(row)"
      ],
      "execution_count": null,
      "outputs": []
    },
    {
      "cell_type": "markdown",
      "metadata": {
        "id": "Y54yWq9cIPR4"
      },
      "source": [
        "相關 reference 可以參考:\n",
        "\n",
        "Adagrad :\n",
        "https://youtu.be/yKKNr-QKz2Q?list=PLJV_el3uVTsPy9oCRY30oBPNLCo89yu49&t=705 \n",
        "\n",
        "RMSprop : \n",
        "https://www.youtube.com/watch?v=5Yt-obwvMHI \n",
        "\n",
        "Adam\n",
        "https://www.youtube.com/watch?v=JXQT_vxqwIs \n",
        "\n",
        "\n",
        "以上 print 的部分主要是為了看一下資料和結果的呈現，拿掉也無妨。另外，在自己的 linux 系統，可以將檔案寫死的的部分換成 sys.argv 的使用 (可在 terminal 自行輸入檔案和檔案位置)。\n",
        "\n",
        "最後，可以藉由調整 learning rate、iter_time (iteration 次數)、取用 features 的多寡(取幾個小時，取哪些特徵欄位)，甚至是不同的 model 來超越 baseline。\n",
        "\n",
        "Report 的問題模板請參照 : https://docs.google.com/document/d/1s84RXs2AEgZr54WCK9IgZrfTF-6B1td-AlKR9oqYa4g/edit"
      ]
    }
  ]
}