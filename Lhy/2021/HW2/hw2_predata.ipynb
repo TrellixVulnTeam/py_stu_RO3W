{
 "cells": [
  {
   "cell_type": "markdown",
   "metadata": {
    "id": "OYlaRwNu7ojq"
   },
   "source": [
    "# **Homework 2-1 Phoneme Classification**"
   ]
  },
  {
   "cell_type": "markdown",
   "metadata": {
    "id": "emUd7uS7crTz"
   },
   "source": [
    "## The DARPA TIMIT Acoustic-Phonetic Continuous Speech Corpus (TIMIT)\n",
    "The TIMIT corpus of reading speech has been designed to provide speech data for the acquisition of acoustic-phonetic knowledge and for the development and evaluation of automatic speech recognition systems.\n",
    "\n",
    "This homework is a multiclass classification task, \n",
    "we are going to train a deep neural network classifier to predict the phonemes for each frame from the speech corpus TIMIT.\n",
    "\n",
    "link: https://academictorrents.com/details/34e2b78745138186976cbc27939b1b34d18bd5b3"
   ]
  },
  {
   "cell_type": "markdown",
   "metadata": {
    "id": "RqoxAtJTRc_p"
   },
   "source": [
    "## Set up environment variable"
   ]
  },
  {
   "cell_type": "code",
   "execution_count": null,
   "metadata": {
    "id": "GhLLroT0RKbI"
   },
   "outputs": [],
   "source": [
    "# For reproducibility\n",
    "import os\n",
    "os.environ['CUBLAS_WORKSPACE_CONFIG']=\":16:8\" "
   ]
  },
  {
   "cell_type": "markdown",
   "metadata": {
    "id": "KVUGfWTo7_Oj"
   },
   "source": [
    "## Download Data\n",
    "Download data from google drive, then unzip it.\n",
    "\n",
    "You should have `timit_11/train_11.npy`, `timit_11/train_label_11.npy`, and `timit_11/test_11.npy` after running this block.<br><br>\n",
    "`timit_11/`\n",
    "- `train_11.npy`: training data<br>\n",
    "- `train_label_11.npy`: training label<br>\n",
    "- `test_11.npy`:  testing data<br><br>\n",
    "\n",
    "**notes: if the google drive link is dead, you can download the data directly from Kaggle and upload it to the workspace**\n",
    "\n",
    "\n"
   ]
  },
  {
   "cell_type": "code",
   "execution_count": null,
   "metadata": {
    "colab": {
     "base_uri": "https://localhost:8080/"
    },
    "id": "OzkiMEcC3Foq",
    "outputId": "fa97a540-1a15-4b83-e206-6839bc4cef44"
   },
   "outputs": [
    {
     "name": "stdout",
     "output_type": "stream",
     "text": [
      "Downloading...\n",
      "From: https://drive.google.com/uc?id=1HPkcmQmFGu-3OknddKIa5dNDsR05lIQR\n",
      "To: /content/data.zip\n",
      "372MB [00:02, 125MB/s]\n",
      "Archive:  data.zip\n",
      "   creating: timit_11/\n",
      "  inflating: timit_11/train_11.npy   \n",
      "  inflating: timit_11/test_11.npy    \n",
      "  inflating: timit_11/train_label_11.npy  \n",
      "data.zip  sample_data  timit_11\n"
     ]
    }
   ],
   "source": [
    "!gdown --id '1HPkcmQmFGu-3OknddKIa5dNDsR05lIQR' --output data.zip\n",
    "!unzip data.zip\n",
    "!ls "
   ]
  },
  {
   "cell_type": "markdown",
   "metadata": {
    "id": "3pz2iQ8SSEeR"
   },
   "source": [
    "## Import Packages"
   ]
  },
  {
   "cell_type": "code",
   "execution_count": null,
   "metadata": {
    "id": "OmAX3vw4SLW8"
   },
   "outputs": [],
   "source": [
    "import numpy as np\n",
    "import torch\n",
    "import torch.nn as nn"
   ]
  },
  {
   "cell_type": "markdown",
   "metadata": {
    "id": "_L_4anls8Drv"
   },
   "source": [
    "## Preparing Data\n",
    "Load the training and testing data from the `.npy` file (NumPy array)."
   ]
  },
  {
   "cell_type": "code",
   "execution_count": null,
   "metadata": {
    "colab": {
     "base_uri": "https://localhost:8080/"
    },
    "id": "IJjLT8em-y9G",
    "outputId": "a4a656b8-55af-4919-9a0b-dedf74967d57"
   },
   "outputs": [
    {
     "name": "stdout",
     "output_type": "stream",
     "text": [
      "Loading data ...\n",
      "Size of training data: (1229932, 429)\n",
      "Size of testing data: (451552, 429)\n"
     ]
    }
   ],
   "source": [
    "print('Loading data ...')\n",
    "\n",
    "data_root='./timit_11/'\n",
    "train = np.load(data_root + 'train_11.npy')\n",
    "train_label = np.load(data_root + 'train_label_11.npy').astype(int)\n",
    "test = np.load(data_root + 'test_11.npy')\n",
    "\n",
    "print('Size of training data: {}'.format(train.shape))\n",
    "print('Size of testing data: {}'.format(test.shape))"
   ]
  },
  {
   "cell_type": "markdown",
   "metadata": {
    "id": "JDT329vhSewn"
   },
   "source": [
    "### Reconstruct frames into sequences"
   ]
  },
  {
   "cell_type": "code",
   "execution_count": null,
   "metadata": {
    "id": "mLcu6n7FmHPZ"
   },
   "outputs": [],
   "source": [
    "# Find the indices to split\n",
    "center_offset = 39 * 5\n",
    "n_features = 39\n",
    "def find_split_indices(arr):\n",
    "    indices = [0]\n",
    "    each_seq_len = []\n",
    "    for i in range(arr.shape[0] - 1):\n",
    "        if np.array_equal(arr[i][center_offset : center_offset + n_features], arr[i + 1][center_offset - n_features: center_offset]) == False:\n",
    "            indices.append(i + 1)\n",
    "            each_seq_len.append(indices[len(indices) - 1] - indices[len(indices) - 2])\n",
    "    each_seq_len.append(arr.shape[0] - indices[len(indices) - 1])\n",
    "    return indices, each_seq_len\n",
    "\n",
    "train_split_indices, train_seq_len = find_split_indices(train)\n",
    "test_split_indices, test_seq_len = find_split_indices(test)"
   ]
  },
  {
   "cell_type": "code",
   "execution_count": null,
   "metadata": {
    "id": "zSDu2cgTGuD3"
   },
   "outputs": [],
   "source": [
    "# Fetch the center frame\n",
    "train = train[:, center_offset : center_offset + n_features]\n",
    "test = test[:, center_offset : center_offset + n_features]"
   ]
  },
  {
   "cell_type": "markdown",
   "metadata": {
    "id": "YJ3MmckuTJ48"
   },
   "source": [
    "### Pad each sequences into same length (only for training data)"
   ]
  },
  {
   "cell_type": "code",
   "execution_count": null,
   "metadata": {
    "id": "T5eUbaNatwr5"
   },
   "outputs": [],
   "source": [
    "def transform_to_padded_seqs(data, split_indices, seq_len):\n",
    "\n",
    "    l = len(split_indices)\n",
    "\n",
    "    seqs = [torch.tensor(data[split_indices[i] : split_indices[i + 1]]) if i != l - 1 else torch.tensor(data[split_indices[i]:]) for i in range(l)]\n",
    "    padded_seqs = torch.nn.utils.rnn.pad_sequence(seqs, batch_first=True, padding_value=-1)\n",
    "    sorted_idx = np.argsort(np.array(seq_len) * -1) # descending order\n",
    "    padded_seqs = padded_seqs[sorted_idx]\n",
    "    \n",
    "    return padded_seqs"
   ]
  },
  {
   "cell_type": "code",
   "execution_count": null,
   "metadata": {
    "id": "Zl34089NiCCx"
   },
   "outputs": [],
   "source": [
    "# preprocessing training data\n",
    "padded_train = transform_to_padded_seqs(train, train_split_indices, train_seq_len)\n",
    "padded_train_labels = transform_to_padded_seqs(train_label, train_split_indices, train_seq_len)\n",
    "train_seq_len.sort(reverse=True)\n",
    "max_train_seq_len = train_seq_len[0]\n",
    "# preprocessing testing data\n",
    "l = len(test_split_indices)\n",
    "test_seqs_list = [torch.tensor(test[test_split_indices[i] : test_split_indices[i + 1]]) if i != l - 1 else torch.tensor(test[test_split_indices[i]:]) for i in range(l)]"
   ]
  },
  {
   "cell_type": "markdown",
   "metadata": {
    "id": "i5Hk-gUrTCR-"
   },
   "source": [
    "### Split data into training and validation set if needed"
   ]
  },
  {
   "cell_type": "code",
   "execution_count": null,
   "metadata": {
    "id": "UUirGNCNAalU"
   },
   "outputs": [],
   "source": [
    "VAL = False\n",
    "if VAL:\n",
    "    train_indices = [i for i in range(padded_train.shape[0]) if i % 10 != 0]\n",
    "    val_indices = [i for i in range(padded_train.shape[0]) if i % 10 == 0]\n",
    "    padded_val = padded_train[val_indices]\n",
    "    padded_train = padded_train[train_indices]\n",
    "    padded_val_labels = padded_train_labels[val_indices]\n",
    "    padded_train_labels = padded_train_labels[train_indices]\n",
    "    val_seq_len = [train_seq_len[i] for i in range(len(train_seq_len)) if i % 10 == 0 ]\n",
    "    train_seq_len = [train_seq_len[i] for i in range(len(train_seq_len)) if i % 10 != 0]"
   ]
  },
  {
   "cell_type": "markdown",
   "metadata": {
    "id": "IRqKNvNZwe3V"
   },
   "source": [
    "## Create Model"
   ]
  },
  {
   "cell_type": "code",
   "execution_count": null,
   "metadata": {
    "id": "lbZrwT6Ny0XL"
   },
   "outputs": [],
   "source": [
    "class Classifier(nn.Module):\n",
    "    def __init__(self, device):\n",
    "        super(Classifier, self).__init__()\n",
    "        self.n_layer = 2\n",
    "        self.hidden_dim = 768 * 2\n",
    "        self.lstm = nn.LSTM(input_size=39, hidden_size=self.hidden_dim // 2, num_layers=self.n_layer, bidirectional=True, dropout=0.5)\n",
    "        self.out = nn.Linear(self.hidden_dim, 39)\n",
    "        self.act = nn.ReLU()\n",
    "        self.drop = nn.Dropout(0.5)\n",
    "\n",
    "    def forward(self, x, seq_len, total_length):\n",
    "        x = torch.nn.utils.rnn.pack_padded_sequence(x, seq_len, batch_first=True)\n",
    "        x, _ = self.lstm(x)\n",
    "        x, l = torch.nn.utils.rnn.pad_packed_sequence(x, total_length=total_length, batch_first=True)\n",
    "        x = x.reshape(-1, self.hidden_dim)\n",
    "        x = self.act(x)\n",
    "        x = self.drop(x)\n",
    "        x = self.out(x)\n",
    "        return x"
   ]
  },
  {
   "cell_type": "markdown",
   "metadata": {
    "id": "xJaw_8NN4Ex4"
   },
   "source": [
    "## **Train**"
   ]
  },
  {
   "cell_type": "code",
   "execution_count": null,
   "metadata": {
    "id": "88xPiUnm0tAd"
   },
   "outputs": [],
   "source": [
    "# fix random seed\n",
    "def same_seeds(seed):\n",
    "    torch.manual_seed(seed)\n",
    "    if torch.cuda.is_available():\n",
    "        torch.cuda.manual_seed(seed)\n",
    "        torch.cuda.manual_seed_all(seed)  \n",
    "    np.random.seed(seed)  \n",
    "    torch.backends.cudnn.benchmark = False\n",
    "    torch.backends.cudnn.deterministic = True"
   ]
  },
  {
   "cell_type": "code",
   "execution_count": null,
   "metadata": {
    "id": "y114Vmm3Ja6o"
   },
   "outputs": [],
   "source": [
    "#check device\n",
    "def get_device():\n",
    "  return 'cuda' if torch.cuda.is_available() else 'cpu'"
   ]
  },
  {
   "cell_type": "code",
   "execution_count": null,
   "metadata": {
    "colab": {
     "base_uri": "https://localhost:8080/"
    },
    "id": "NhejmTyABwjm",
    "outputId": "eeb60c35-bd12-4812-9033-a67dd01e622d"
   },
   "outputs": [
    {
     "name": "stdout",
     "output_type": "stream",
     "text": [
      "DEVICE: cuda\n",
      "[001/008] Train Acc: 0.659272 Loss: 1.095358\n",
      "[002/008] Train Acc: 0.767911 Loss: 0.711162\n",
      "[003/008] Train Acc: 0.804336 Loss: 0.588268\n",
      "[004/008] Train Acc: 0.832855 Loss: 0.498345\n",
      "[005/008] Train Acc: 0.851354 Loss: 0.435548\n",
      "Change learning rate to:  0.0001\n",
      "[006/008] Train Acc: 0.881419 Loss: 0.342824\n",
      "[007/008] Train Acc: 0.900688 Loss: 0.281273\n",
      "[008/008] Train Acc: 0.911380 Loss: 0.247932\n"
     ]
    }
   ],
   "source": [
    "# fix random seed for reproducibility\n",
    "same_seeds(0)\n",
    "\n",
    "# get device \n",
    "device = get_device()\n",
    "print(f'DEVICE: {device}')\n",
    "\n",
    "n_train_seqs = padded_train.shape[0]\n",
    "if VAL:\n",
    "    n_val_seqs = padded_val.shape[0]\n",
    "\n",
    "# Hyperparameters\n",
    "n_epoch = 8\n",
    "batch_size = 2\n",
    "learning_rate = 0.001          \n",
    "model_path = './model.ckpt'\n",
    "\n",
    "# create model, define a loss function, and optimizer\n",
    "model = Classifier(device).to(device)\n",
    "criterion = nn.CrossEntropyLoss(ignore_index=-1) \n",
    "optimizer = torch.optim.Adam(model.parameters(), lr=learning_rate)\n",
    "\n",
    "# ramdom number generator for batch index\n",
    "rng = np.random.default_rng(0)\n",
    "\n",
    "best_acc = 0.0\n",
    "\n",
    "for i in range(n_epoch):\n",
    "\n",
    "    train_acc = 0.0\n",
    "    train_loss = 0.0\n",
    "    total_labels_num = 0\n",
    "    model.train()\n",
    "\n",
    "    if i == 5:\n",
    "        for g in optimizer.param_groups:\n",
    "            g['lr'] = g['lr'] / 10\n",
    "            print(\"Change learning rate to: \", g['lr'])\n",
    "\n",
    "    for j in range(int(n_train_seqs / batch_size)):\n",
    "        \n",
    "        batch_indices = np.sort(rng.choice(n_train_seqs, batch_size, replace=False))\n",
    "        batch_padded_train = padded_train[batch_indices].to(device)\n",
    "        batch_train_seq_len = np.array(train_seq_len)[batch_indices].tolist() # The length of each sequence\n",
    "        batch_padded_train_labels = padded_train_labels[batch_indices].to(device).reshape(-1)\n",
    "\n",
    "        optimizer.zero_grad() \n",
    "        \n",
    "        batch_logits = model(batch_padded_train.float(), batch_train_seq_len, max_train_seq_len)\n",
    "        _, batch_train_pred = torch.max(batch_logits, 1) \n",
    "        \n",
    "        batch_loss = criterion(batch_logits, batch_padded_train_labels)\n",
    "\n",
    "        train_acc += (torch.logical_and(batch_train_pred.cpu() == batch_padded_train_labels.cpu(), batch_padded_train_labels.cpu() != -1)).sum().item()\n",
    "        train_loss += batch_loss.item()\n",
    "        total_labels_num += (batch_padded_train_labels.cpu() != -1).sum().item()\n",
    "\n",
    "        batch_loss.backward(retain_graph=True) \n",
    "        optimizer.step()\n",
    "\n",
    "        avg_train_loss = train_loss / int(n_train_seqs / batch_size)\n",
    "        avg_train_acc = train_acc / total_labels_num\n",
    "\n",
    "    if VAL:\n",
    "        model.eval()\n",
    "        with torch.no_grad():\n",
    "            val_data = padded_val.float().to(device)\n",
    "            logits = model(val_data, val_seq_len, max_train_seq_len)\n",
    "            _, val_pred = torch.max(logits, 1)\n",
    "            labels = padded_val_labels.to(device).reshape(-1)\n",
    "            val_loss = criterion(logits, labels)\n",
    "            val_acc = (torch.logical_and(val_pred.cpu() == labels.cpu(), labels.cpu() != -1)).sum().item()\n",
    "            total_labels_num = (labels.cpu() != -1).sum().item()\n",
    "            avg_val_acc = val_acc / total_labels_num\n",
    "            avg_val_loss = val_loss\n",
    "            if avg_val_acc > best_acc:\n",
    "                best_acc = avg_val_acc\n",
    "                torch.save(model.state_dict(), model_path)\n",
    "                print('saving model with acc {:.3f}'.format(avg_val_acc))\n",
    "        print('[{:03d}/{:03d}] Train Acc: {:3.6f} Loss: {:3.6f} | Val Acc: {:3.6f} loss: {:3.6f}'.format(\n",
    "            i + 1, n_epoch, avg_train_acc, avg_train_loss, avg_val_acc, avg_val_loss\n",
    "            ))\n",
    "    else:\n",
    "        print('[{:03d}/{:03d}] Train Acc: {:3.6f} Loss: {:3.6f}'.format(\n",
    "            i + 1, n_epoch, avg_train_acc, avg_train_loss))\n",
    "        torch.save(model.state_dict(), model_path)"
   ]
  },
  {
   "cell_type": "markdown",
   "metadata": {
    "id": "1Hi7jTn3PX-m"
   },
   "source": [
    "## Testing"
   ]
  },
  {
   "cell_type": "code",
   "execution_count": null,
   "metadata": {
    "colab": {
     "base_uri": "https://localhost:8080/"
    },
    "id": "1PKjtAScPWtr",
    "outputId": "fe1f4c16-abe4-4e86-ff9a-ae85806e1668"
   },
   "outputs": [
    {
     "data": {
      "text/plain": [
       "<All keys matched successfully>"
      ]
     },
     "execution_count": 15,
     "metadata": {
      "tags": []
     },
     "output_type": "execute_result"
    }
   ],
   "source": [
    "# create model and load weights from checkpoint\n",
    "del model\n",
    "model = Classifier(device).to(device)\n",
    "model.load_state_dict(torch.load(model_path))"
   ]
  },
  {
   "cell_type": "markdown",
   "metadata": {
    "id": "940TtCCdoYd0"
   },
   "source": [
    "Make prediction."
   ]
  },
  {
   "cell_type": "code",
   "execution_count": null,
   "metadata": {
    "id": "84HU5GGjPqR0"
   },
   "outputs": [],
   "source": [
    "predict = []\n",
    "model.eval() # set the model to evaluation mode\n",
    "with torch.no_grad():\n",
    "    for seq in test_seqs_list:\n",
    "        seq = seq.float().to(device)\n",
    "        logits = model(seq.unsqueeze(0), [seq.shape[0]], seq.shape[0])\n",
    "        _, test_pred = torch.max(logits, 1)\n",
    "        for label in test_pred:\n",
    "            predict.append(label)  "
   ]
  },
  {
   "cell_type": "markdown",
   "metadata": {
    "id": "AWDf_C-omElb"
   },
   "source": [
    "Write prediction to a CSV file.\n",
    "\n",
    "After finish running this block, download the file `prediction.csv` from the files section on the left-hand side and submit it to Kaggle."
   ]
  },
  {
   "cell_type": "code",
   "execution_count": null,
   "metadata": {
    "id": "GuljYSPHcZir"
   },
   "outputs": [],
   "source": [
    "with open('prediction.csv', 'w') as f:\n",
    "    f.write('Id,Class\\n')\n",
    "    for i, y in enumerate(predict):\n",
    "        f.write('{},{}\\n'.format(i, y))"
   ]
  },
  {
   "cell_type": "markdown",
   "metadata": {
    "id": "XKJ9bCvYmK3w"
   },
   "source": [
    "## Reference\n",
    "Source: TA Sample code (https://github.com/ga642381/ML2021-Spring/blob/main/HW02/HW02-1.ipynb)\n",
    "<br>\n",
    "Pytorch official document\n",
    "<br>\n",
    "https://pytorch.org/docs/stable/generated/torch.nn.LSTM.html\n",
    "https://pytorch.org/docs/stable/generated/torch.nn.utils.rnn.pad_sequence.html\n",
    "https://pytorch.org/docs/stable/generated/torch.nn.utils.rnn.pad_packed_sequence.html\n",
    "https://pytorch.org/docs/stable/generated/torch.nn.utils.rnn.pack_padded_sequence.html\n",
    "<br>\n",
    "RNN introduction\n",
    "<br>\n",
    "https://www.youtube.com/watch?v=xCGidAeyS4M (Prof. Hung-Yi Lee's youtube channel)\n",
    "\n",
    "\n"
   ]
  }
 ],
 "metadata": {
  "accelerator": "GPU",
  "colab": {
   "collapsed_sections": [],
   "name": "hw2.ipynb",
   "provenance": []
  },
  "kernelspec": {
   "display_name": "Python 3",
   "language": "python",
   "name": "python3"
  },
  "language_info": {
   "codemirror_mode": {
    "name": "ipython",
    "version": 3
   },
   "file_extension": ".py",
   "mimetype": "text/x-python",
   "name": "python",
   "nbconvert_exporter": "python",
   "pygments_lexer": "ipython3",
   "version": "3.8.5"
  }
 },
 "nbformat": 4,
 "nbformat_minor": 1
}
