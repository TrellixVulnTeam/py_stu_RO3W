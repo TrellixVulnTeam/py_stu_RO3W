{
 "cells": [
  {
   "cell_type": "code",
   "execution_count": 1,
   "metadata": {
    "pycharm": {
     "is_executing": false
    }
   },
   "outputs": [],
   "source": [
    "from mxnet.gluon import nn\n",
    "net=nn.Sequential()\n",
    "with net.name_scope():\n",
    "    # 第一阶段 \n",
    "    net.add(nn.Conv2D( channels=96,kernel_size=11,strides=4,activation='relu'))\n",
    "    net.add(nn.MaxPool2D(pool_size=3,strides=2))\n",
    "    # 第二阶段 \n",
    "    net.add(nn.Conv2D(\n",
    "        channels=256,kernel_size=5,padding=2,activation='relu'))\n",
    "    net.add(nn.MaxPool2D(pool_size=3,strides=2))\n",
    "    #第三阶段 \n",
    "    net.add(nn.Conv2D(\n",
    "                channels=384,kernel_size=3,padding=1,activation='relu'))\n",
    "    \n",
    "    net.add(nn.Conv2D(channels=384,kernel_size=3,padding=1,activation='relu'))\n",
    "    \n",
    "    net.add(nn.Conv2D(channels=256,kernel_size=3,padding=1,activation='relu'))\n",
    "    net.add(nn.MaxPool2D(pool_size=3,strides=2)) \n",
    "    # 第四阶段 \n",
    "    net.add(nn.Flatten())\n",
    "    net.add(nn.Dense(4096,activation='relu'))\n",
    "    net.add(nn.Dropout(.5))\n",
    "    #第五阶段 \n",
    "    net.add(nn.Dense(4096,activation='relu'))\n",
    "    net.add(nn.Dropout(.5))\n",
    "    # 第六阶段 \n",
    "    net.add(nn.Dense(10))\n",
    "     \n",
    "    \n",
    "    "
   ]
  },
  {
   "cell_type": "markdown",
   "metadata": {},
   "source": [
    "# 读取数据 \n",
    "Alexnet 使用的Imagenet数据，其中输入图片大小一般是 224*224。因为imageNet数据训练时间过长，我们用FashionMNIST\n",
    "来演示。这里我们额外做了一步将数据扩大到224*224 "
   ]
  },
  {
   "cell_type": "code",
   "execution_count": 2,
   "metadata": {},
   "outputs": [],
   "source": [
    "import sys\n",
    "sys.path.append('..') \n",
    "from d2lzh import utils\n",
    "from mxnet import image\n",
    "import d2lzh_my\n",
    "\n",
    "def transform(data,label):\n",
    "    data=image.imresize(data,224,224) \n",
    "    return utils.transform_mnist(data,label) \n",
    "batch_size=64 \n",
    "train_data,test_data=d2lzh_my.utils.load_data_fashion_mnist(batch_size,transform) "
   ]
  },
  {
   "cell_type": "markdown",
   "metadata": {},
   "source": [
    "# 训练 \n",
    "这时候我们可以开始训练。相对于前面的LeNet，我们做了如下三个改动：\n",
    "\n",
    "1. 我们使用Xavier来初始化参数 \n",
    "2. 使用了更小的学习率\n",
    "3. 默认只迭代一轮（这样网页编译快点一点 ）"
   ]
  },
  {
   "cell_type": "code",
   "execution_count": 3,
   "metadata": {},
   "outputs": [
    {
     "name": "stdout",
     "output_type": "stream",
     "text": [
      "<mxnet.gluon.data.dataloader.DataLoader object at 0x7f8ba76c8f28>\n"
     ]
    },
    {
     "ename": "MXNetError",
     "evalue": "b'Invalid Parameter format for size expect Shape(tuple) but value=\\'<function transform at 0x7f8ba4e80510>\\', in operator _image_resize(name=\"\", interp=\"1\", keep_ratio=\"False\", size=\"<function transform at 0x7f8ba4e80510>\")'",
     "output_type": "error",
     "traceback": [
      "\u001b[0;31m---------------------------------------------------------------------------\u001b[0m",
      "\u001b[0;31mRemoteTraceback\u001b[0m                           Traceback (most recent call last)",
      "\u001b[0;31mRemoteTraceback\u001b[0m: \n\"\"\"\nTraceback (most recent call last):\n  File \"/Users/nanji/miniconda3/envs/gluon/lib/python3.6/multiprocessing/pool.py\", line 119, in worker\n    result = (True, func(*args, **kwds))\n  File \"/Users/nanji/miniconda3/envs/gluon/lib/python3.6/site-packages/mxnet/gluon/data/dataloader.py\", line 400, in _worker_fn\n    batch = batchify_fn([_worker_dataset[i] for i in samples])\n  File \"/Users/nanji/miniconda3/envs/gluon/lib/python3.6/site-packages/mxnet/gluon/data/dataloader.py\", line 400, in <listcomp>\n    batch = batchify_fn([_worker_dataset[i] for i in samples])\n  File \"/Users/nanji/miniconda3/envs/gluon/lib/python3.6/site-packages/mxnet/gluon/data/dataset.py\", line 124, in __getitem__\n    return self._fn(*item)\n  File \"/Users/nanji/miniconda3/envs/gluon/lib/python3.6/site-packages/mxnet/gluon/data/dataset.py\", line 135, in __call__\n    return (self._fn(x),) + args\n  File \"/Users/nanji/miniconda3/envs/gluon/lib/python3.6/site-packages/mxnet/gluon/block.py\", line 548, in __call__\n    out = self.forward(*args)\n  File \"/Users/nanji/miniconda3/envs/gluon/lib/python3.6/site-packages/mxnet/gluon/nn/basic_layers.py\", line 53, in forward\n    x = block(x)\n  File \"/Users/nanji/miniconda3/envs/gluon/lib/python3.6/site-packages/mxnet/gluon/block.py\", line 548, in __call__\n    out = self.forward(*args)\n  File \"/Users/nanji/miniconda3/envs/gluon/lib/python3.6/site-packages/mxnet/gluon/block.py\", line 915, in forward\n    return self._call_cached_op(x, *args)\n  File \"/Users/nanji/miniconda3/envs/gluon/lib/python3.6/site-packages/mxnet/gluon/block.py\", line 805, in _call_cached_op\n    self._build_cache(*args)\n  File \"/Users/nanji/miniconda3/envs/gluon/lib/python3.6/site-packages/mxnet/gluon/block.py\", line 757, in _build_cache\n    data, out = self._get_graph(*args)\n  File \"/Users/nanji/miniconda3/envs/gluon/lib/python3.6/site-packages/mxnet/gluon/block.py\", line 749, in _get_graph\n    out = self.hybrid_forward(symbol, *grouped_inputs, **params)  # pylint: disable=no-value-for-parameter\n  File \"/Users/nanji/miniconda3/envs/gluon/lib/python3.6/site-packages/mxnet/gluon/nn/basic_layers.py\", line 117, in hybrid_forward\n    x = block(x)\n  File \"/Users/nanji/miniconda3/envs/gluon/lib/python3.6/site-packages/mxnet/gluon/block.py\", line 548, in __call__\n    out = self.forward(*args)\n  File \"/Users/nanji/miniconda3/envs/gluon/lib/python3.6/site-packages/mxnet/gluon/block.py\", line 932, in forward\n    return self.hybrid_forward(symbol, x, *args, **params)\n  File \"/Users/nanji/miniconda3/envs/gluon/lib/python3.6/site-packages/mxnet/gluon/data/vision/transforms.py\", line 372, in hybrid_forward\n    return F.image.resize(x, self._size, self._keep, self._interpolation)\n  File \"<string>\", line 87, in resize\n  File \"mxnet/cython/symbol.pyx\", line 117, in mxnet._cy3.symbol._symbol_creator\n  File \"mxnet/cython/./base.pyi\", line 36, in mxnet._cy3.symbol.CALL\nmxnet.base.MXNetError: b'Invalid Parameter format for size expect Shape(tuple) but value=\\'<function transform at 0x7f8ba4e80510>\\', in operator _image_resize(name=\"\", interp=\"1\", keep_ratio=\"False\", size=\"<function transform at 0x7f8ba4e80510>\")'\n\"\"\"",
      "\nThe above exception was the direct cause of the following exception:\n",
      "\u001b[0;31mMXNetError\u001b[0m                                Traceback (most recent call last)",
      "\u001b[0;32m<ipython-input-3-7dcab64784b7>\u001b[0m in \u001b[0;36m<module>\u001b[0;34m\u001b[0m\n\u001b[1;32m     13\u001b[0m     \u001b[0mtrain_acc\u001b[0m \u001b[0;34m=\u001b[0m \u001b[0;36m0.\u001b[0m\u001b[0;34m\u001b[0m\u001b[0;34m\u001b[0m\u001b[0m\n\u001b[1;32m     14\u001b[0m     \u001b[0mprint\u001b[0m\u001b[0;34m(\u001b[0m\u001b[0mtrain_data\u001b[0m\u001b[0;34m)\u001b[0m\u001b[0;34m\u001b[0m\u001b[0;34m\u001b[0m\u001b[0m\n\u001b[0;32m---> 15\u001b[0;31m     \u001b[0;32mfor\u001b[0m \u001b[0mdata\u001b[0m\u001b[0;34m,\u001b[0m \u001b[0mlabel\u001b[0m \u001b[0;32min\u001b[0m \u001b[0mtrain_data\u001b[0m\u001b[0;34m:\u001b[0m\u001b[0;34m\u001b[0m\u001b[0;34m\u001b[0m\u001b[0m\n\u001b[0m\u001b[1;32m     16\u001b[0m \u001b[0;34m\u001b[0m\u001b[0m\n\u001b[1;32m     17\u001b[0m \u001b[0;34m\u001b[0m\u001b[0m\n",
      "\u001b[0;32m~/miniconda3/envs/gluon/lib/python3.6/site-packages/mxnet/gluon/data/dataloader.py\u001b[0m in \u001b[0;36m__next__\u001b[0;34m(self)\u001b[0m\n\u001b[1;32m    449\u001b[0m         \u001b[0;32massert\u001b[0m \u001b[0mself\u001b[0m\u001b[0;34m.\u001b[0m\u001b[0m_rcvd_idx\u001b[0m \u001b[0;32min\u001b[0m \u001b[0mself\u001b[0m\u001b[0;34m.\u001b[0m\u001b[0m_data_buffer\u001b[0m\u001b[0;34m,\u001b[0m \u001b[0;34m\"fatal error with _push_next, rcvd_idx missing\"\u001b[0m\u001b[0;34m\u001b[0m\u001b[0;34m\u001b[0m\u001b[0m\n\u001b[1;32m    450\u001b[0m         \u001b[0mret\u001b[0m \u001b[0;34m=\u001b[0m \u001b[0mself\u001b[0m\u001b[0;34m.\u001b[0m\u001b[0m_data_buffer\u001b[0m\u001b[0;34m.\u001b[0m\u001b[0mpop\u001b[0m\u001b[0;34m(\u001b[0m\u001b[0mself\u001b[0m\u001b[0;34m.\u001b[0m\u001b[0m_rcvd_idx\u001b[0m\u001b[0;34m)\u001b[0m\u001b[0;34m\u001b[0m\u001b[0;34m\u001b[0m\u001b[0m\n\u001b[0;32m--> 451\u001b[0;31m         \u001b[0mbatch\u001b[0m \u001b[0;34m=\u001b[0m \u001b[0mpickle\u001b[0m\u001b[0;34m.\u001b[0m\u001b[0mloads\u001b[0m\u001b[0;34m(\u001b[0m\u001b[0mret\u001b[0m\u001b[0;34m.\u001b[0m\u001b[0mget\u001b[0m\u001b[0;34m(\u001b[0m\u001b[0;34m)\u001b[0m\u001b[0;34m)\u001b[0m \u001b[0;32mif\u001b[0m \u001b[0mself\u001b[0m\u001b[0;34m.\u001b[0m\u001b[0m_dataset\u001b[0m \u001b[0;32mis\u001b[0m \u001b[0;32mNone\u001b[0m \u001b[0;32melse\u001b[0m \u001b[0mret\u001b[0m\u001b[0;34m.\u001b[0m\u001b[0mget\u001b[0m\u001b[0;34m(\u001b[0m\u001b[0;34m)\u001b[0m\u001b[0;34m\u001b[0m\u001b[0;34m\u001b[0m\u001b[0m\n\u001b[0m\u001b[1;32m    452\u001b[0m         \u001b[0;32mif\u001b[0m \u001b[0mself\u001b[0m\u001b[0;34m.\u001b[0m\u001b[0m_pin_memory\u001b[0m\u001b[0;34m:\u001b[0m\u001b[0;34m\u001b[0m\u001b[0;34m\u001b[0m\u001b[0m\n\u001b[1;32m    453\u001b[0m             \u001b[0mbatch\u001b[0m \u001b[0;34m=\u001b[0m \u001b[0m_as_in_context\u001b[0m\u001b[0;34m(\u001b[0m\u001b[0mbatch\u001b[0m\u001b[0;34m,\u001b[0m \u001b[0mcontext\u001b[0m\u001b[0;34m.\u001b[0m\u001b[0mcpu_pinned\u001b[0m\u001b[0;34m(\u001b[0m\u001b[0mself\u001b[0m\u001b[0;34m.\u001b[0m\u001b[0m_pin_device_id\u001b[0m\u001b[0;34m)\u001b[0m\u001b[0;34m)\u001b[0m\u001b[0;34m\u001b[0m\u001b[0;34m\u001b[0m\u001b[0m\n",
      "\u001b[0;32m~/miniconda3/envs/gluon/lib/python3.6/multiprocessing/pool.py\u001b[0m in \u001b[0;36mget\u001b[0;34m(self, timeout)\u001b[0m\n\u001b[1;32m    642\u001b[0m             \u001b[0;32mreturn\u001b[0m \u001b[0mself\u001b[0m\u001b[0;34m.\u001b[0m\u001b[0m_value\u001b[0m\u001b[0;34m\u001b[0m\u001b[0;34m\u001b[0m\u001b[0m\n\u001b[1;32m    643\u001b[0m         \u001b[0;32melse\u001b[0m\u001b[0;34m:\u001b[0m\u001b[0;34m\u001b[0m\u001b[0;34m\u001b[0m\u001b[0m\n\u001b[0;32m--> 644\u001b[0;31m             \u001b[0;32mraise\u001b[0m \u001b[0mself\u001b[0m\u001b[0;34m.\u001b[0m\u001b[0m_value\u001b[0m\u001b[0;34m\u001b[0m\u001b[0;34m\u001b[0m\u001b[0m\n\u001b[0m\u001b[1;32m    645\u001b[0m \u001b[0;34m\u001b[0m\u001b[0m\n\u001b[1;32m    646\u001b[0m     \u001b[0;32mdef\u001b[0m \u001b[0m_set\u001b[0m\u001b[0;34m(\u001b[0m\u001b[0mself\u001b[0m\u001b[0;34m,\u001b[0m \u001b[0mi\u001b[0m\u001b[0;34m,\u001b[0m \u001b[0mobj\u001b[0m\u001b[0;34m)\u001b[0m\u001b[0;34m:\u001b[0m\u001b[0;34m\u001b[0m\u001b[0;34m\u001b[0m\u001b[0m\n",
      "\u001b[0;31mMXNetError\u001b[0m: b'Invalid Parameter format for size expect Shape(tuple) but value=\\'<function transform at 0x7f8ba4e80510>\\', in operator _image_resize(name=\"\", interp=\"1\", keep_ratio=\"False\", size=\"<function transform at 0x7f8ba4e80510>\")'"
     ]
    }
   ],
   "source": [
    "from mxnet import autograd \n",
    "from mxnet import gluon \n",
    "from mxnet import nd \n",
    "from mxnet import init \n",
    "ctx=utils.try_gpu()\n",
    "\n",
    "net.initialize(ctx=ctx,init=init.Xavier())\n",
    "softmax_cross_entropy=gluon.loss.SoftmaxCrossEntropyLoss()\n",
    "trainer=gluon.Trainer(\n",
    "    net.collect_params(),'sgd',{'learning_rate':0.01})\n",
    "for epoch in range(1):\n",
    "    train_loss = 0.\n",
    "    train_acc = 0. \n",
    "    print(train_data)\n",
    "    for data, label in train_data:\n",
    "        \n",
    "        \n",
    "        a=label.as_in_context(ctx)\n",
    "        with autograd.record():\n",
    "            output=net(data.as_in_context(ctx))\n",
    "            loss=softmax_cross_entropy(output,label)\n",
    "        loss.backward()\n",
    "        trainer.step(batch_size) \n",
    "        train_loss+=nd.mean(loss).asscalar() \n",
    "        train_acc+=utils.accuracy(output,label)\n",
    "    test_acc=utils.evaluate_accuracy(test_data,net,ctx) \n",
    "    print(\"Epoch %d . loss :%f ,train acc %f,Test acc%f \"% \n",
    "          (epoch,train_loss/len(train_data),train_acc.asscalar()/len(train_data),test_acc)\n",
    "          ) \n",
    "\n",
    "        "
   ]
  },
  {
   "cell_type": "code",
   "execution_count": null,
   "metadata": {},
   "outputs": [],
   "source": []
  }
 ],
 "metadata": {
  "kernelspec": {
   "display_name": "Python 3",
   "language": "python",
   "name": "python3"
  },
  "language_info": {
   "codemirror_mode": {
    "name": "ipython",
    "version": 3
   },
   "file_extension": ".py",
   "mimetype": "text/x-python",
   "name": "python",
   "nbconvert_exporter": "python",
   "pygments_lexer": "ipython3",
   "version": "3.6.12"
  }
 },
 "nbformat": 4,
 "nbformat_minor": 1
}