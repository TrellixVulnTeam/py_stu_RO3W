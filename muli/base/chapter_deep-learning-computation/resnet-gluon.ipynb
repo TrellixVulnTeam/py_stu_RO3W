{
 "cells": [
  {
   "cell_type": "markdown",
   "metadata": {},
   "source": [
    "# ResNet: 深度残差网络 \n",
    "微软的ResNet 横空出世 "
   ]
  },
  {
   "cell_type": "code",
   "execution_count": 1,
   "metadata": {},
   "outputs": [],
   "source": [
    "from mxnet.gluon import nn\n",
    "from mxnet import nd\n",
    "\n",
    "class Residual(nn.Block):\n",
    "    def __init__(self,channels,same_shape=True,**kwargs):\n",
    "        super(Residual,self).__init__(**kwargs)\n",
    "        self.same_shape=same_shape\n",
    "        strides=1 if same_shape else 2 \n",
    "        with self.name_scope():\n",
    "            self.conv1=nn.Conv2D(channels,kernel_size=3,padding=1,\n",
    "                               strides=strides)\n",
    "            self.bn1=nn.BatchNorm()\n",
    "            self.conv2=nn.Conv2D(channels,kernel_size=3,padding=1)\n",
    "            self.bn2=nn.BatchNorm()\n",
    "            if not same_shape:\n",
    "                self.conv3=nn.Conv2D(channels,kernel_size=1,\n",
    "                                    strides=strides) \n",
    "    def forward(self,x):\n",
    "        out=nd.relu(self.bn1(self.conv1(x))) \n",
    "        out=self.bn2(self.conv2(out)) \n",
    "        if not self.same_shape:\n",
    "            x=self.conv3(x)  \n",
    "        return nd.relu(x+out) \n",
    "        \n",
    "            "
   ]
  },
  {
   "cell_type": "markdown",
   "metadata": {},
   "source": [
    "输入输出通道相同"
   ]
  },
  {
   "cell_type": "code",
   "execution_count": 2,
   "metadata": {},
   "outputs": [
    {
     "data": {
      "text/plain": [
       "(4, 3, 6, 6)"
      ]
     },
     "execution_count": 2,
     "metadata": {},
     "output_type": "execute_result"
    }
   ],
   "source": [
    "blk=Residual(3) \n",
    "blk.initialize() \n",
    "x=nd.random.uniform(shape=(4,3,6,6))\n",
    "blk(x).shape"
   ]
  },
  {
   "cell_type": "markdown",
   "metadata": {},
   "source": [
    "输入输出通道不同 "
   ]
  },
  {
   "cell_type": "code",
   "execution_count": 3,
   "metadata": {},
   "outputs": [
    {
     "data": {
      "text/plain": [
       "(4, 8, 3, 3)"
      ]
     },
     "execution_count": 3,
     "metadata": {},
     "output_type": "execute_result"
    }
   ],
   "source": [
    "blk2=Residual(8,same_shape=False) \n",
    "blk2.initialize()\n",
    "blk2(x).shape "
   ]
  },
  {
   "cell_type": "code",
   "execution_count": 4,
   "metadata": {},
   "outputs": [],
   "source": [
    "class ResNet(nn.Block):\n",
    "    def __init__(self,num_classes,verbose=False,**kwargs):\n",
    "        super(ResNet,self).__init__(**kwargs)\n",
    "        self.verbose=verbose \n",
    "        with self.name_scope():\n",
    "            # block 1 \n",
    "            b1=nn.Conv2D(64,kernel_size=7,strides=2) \n",
    "            # block 2 \n",
    "            b2=nn.Sequential() \n",
    "            b2.add(\n",
    "                nn.MaxPool2D(pool_size=3,strides=2),\n",
    "                Residual(64),\n",
    "                Residual(64)\n",
    "            )\n",
    "            # block 3 \n",
    "            b3=nn.Sequential() \n",
    "            b3.add(\n",
    "                Residual(128,same_shape=False),\n",
    "                Residual(128) \n",
    "            )\n",
    "            # block 4 \n",
    "            b4=nn.Sequential() \n",
    "            b4.add(\n",
    "                Residual(256,same_shape=False),\n",
    "                Residual(256) \n",
    "            )\n",
    "            # block 5 \n",
    "            b5=nn.Sequential() \n",
    "            b5.add(\n",
    "                Residual(512,same_shape=False),\n",
    "                Residual(512)\n",
    "            )\n",
    "            #block 6 \n",
    "            b6=nn.Sequential()\n",
    "            b6.add(\n",
    "                nn.AvgPool2D(pool_size=3),\n",
    "                nn.Dense(num_classes)\n",
    "            )\n",
    "            self.net=nn.Sequential()\n",
    "            self.net.add(b1,b2,b3,b4,b5,b6)\n",
    "    def forward(self,x):\n",
    "        out=x \n",
    "        for i,b in enumerate(self.net):\n",
    "            out=b(out) \n",
    "            if self.verbose:\n",
    "                print(\"Block %d output: %s \" %(i+1,out.shape))\n",
    "        return out "
   ]
  },
  {
   "cell_type": "code",
   "execution_count": 5,
   "metadata": {},
   "outputs": [
    {
     "name": "stdout",
     "output_type": "stream",
     "text": [
      "Block 1 output: (4, 64, 45, 45) \n",
      "Block 2 output: (4, 64, 22, 22) \n",
      "Block 3 output: (4, 128, 11, 11) \n",
      "Block 4 output: (4, 256, 6, 6) \n",
      "Block 5 output: (4, 512, 3, 3) \n",
      "Block 6 output: (4, 10) \n"
     ]
    }
   ],
   "source": [
    "net=ResNet(10,verbose=True)\n",
    "net.initialize()\n",
    "\n",
    "x=nd.random.uniform(shape=(4,3,96,96))\n",
    "y=net(x) \n"
   ]
  },
  {
   "cell_type": "code",
   "execution_count": null,
   "metadata": {},
   "outputs": [
    {
     "name": "stdout",
     "output_type": "stream",
     "text": [
      "aaaaaaaa\n",
      "Start training on  gpu(0)\n"
     ]
    }
   ],
   "source": [
    "import sys \n",
    "sys.path.append('..')\n",
    "import utils \n",
    "import mxnet as mx \n",
    "from mxnet import gluon \n",
    "from mxnet import init \n",
    "train_data,test_data=utils.load_data_fashion_mnist(batch_size=64,resize=96)\n",
    "ctx=utils.try_gpu()\n",
    "net=ResNet(10)\n",
    "net.initialize(ctx=ctx,init=init.Xavier()) \n",
    "loss=gluon.loss.SoftmaxCrossEntropyLoss() \n",
    "trainer=gluon.Trainer(net.collect_params(),'sgd',{'learning_rate':0.05})  \n",
    "import time \n",
    "start=time.time() \n",
    "utils.train(train_data,test_data,net,loss,trainer,ctx,num_epochs=1) \n",
    "end=time.time() \n",
    "print(\"time is \",end-start)"
   ]
  },
  {
   "cell_type": "code",
   "execution_count": null,
   "metadata": {},
   "outputs": [],
   "source": []
  }
 ],
 "metadata": {
  "kernelspec": {
   "display_name": "Python 3",
   "language": "python",
   "name": "python3"
  },
  "language_info": {
   "codemirror_mode": {
    "name": "ipython",
    "version": 3
   },
   "file_extension": ".py",
   "mimetype": "text/x-python",
   "name": "python",
   "nbconvert_exporter": "python",
   "pygments_lexer": "ipython3",
   "version": "3.6.12"
  }
 },
 "nbformat": 4,
 "nbformat_minor": 4
}
