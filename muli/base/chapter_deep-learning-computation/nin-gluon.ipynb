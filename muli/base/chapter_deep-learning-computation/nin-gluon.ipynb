{
 "cells": [
  {
   "cell_type": "code",
   "execution_count": 1,
   "metadata": {},
   "outputs": [],
   "source": [
    "from mxnet.gluon import nn\n",
    "def mlpconv(channels,kernel_size,padding,strides=1,max_pooling=True):\n",
    "    out=nn.Sequential() \n",
    "    with out.name_scope():\n",
    "        out.add(\n",
    "            nn.Conv2D(channels=channels,kernel_size=kernel_size,\n",
    "                     strides=strides,padding=padding,activation='relu'),\n",
    "            nn.Conv2D(channels=channels,kernel_size=1,\n",
    "                     padding=0,strides=1,activation='relu'),\n",
    "            nn.Conv2D(channels=channels,kernel_size=1,\n",
    "                     padding=0,strides=1,activation='relu')\n",
    "        )\n",
    "        if max_pooling:\n",
    "            out.add(nn.MaxPool2D(pool_size=3,strides=2))\n",
    "    return out "
   ]
  },
  {
   "cell_type": "markdown",
   "metadata": {},
   "source": [
    "测试一下："
   ]
  },
  {
   "cell_type": "code",
   "execution_count": 2,
   "metadata": {},
   "outputs": [
    {
     "data": {
      "text/plain": [
       "(32, 64, 6, 6)"
      ]
     },
     "execution_count": 2,
     "metadata": {},
     "output_type": "execute_result"
    }
   ],
   "source": [
    "\n",
    "from mxnet import nd\n",
    "blk=mlpconv(64,3,0)\n",
    "blk.initialize()\n",
    "x=nd.random.uniform(shape=(32,3,16,16))\n",
    "y=blk(x) \n",
    "y.shape"
   ]
  },
  {
   "cell_type": "markdown",
   "metadata": {},
   "source": [
    "Nin 的卷积层的参数跟Alexnet类似，使用三组不同的设定 \n",
    "- kernel: 11 * 11 ,channel;96\n",
    "- kernel: 5 * 5 ,channels:256\n",
    "- kernel:3 * 3 ,channels:384 \n",
    "除了使用了1 * 1 卷积外，NiN 在最后不是使用全连接，而是使用通道数为输出类别个数的mlpconv,外接一个平均池化层来将每个通道里的数值平均层一个标量 。 \n"
   ]
  },
  {
   "cell_type": "code",
   "execution_count": 3,
   "metadata": {},
   "outputs": [],
   "source": [
    "net=nn.Sequential()\n",
    "with net.name_scope():\n",
    "    net.add(\n",
    "    mlpconv(96,11,0,strides=4),\n",
    "    mlpconv(256,5,2),\n",
    "    mlpconv(384,3,1),\n",
    "        # 目标类为10类 \n",
    "        nn.Dropout(.5),\n",
    "        # 输出为batch_size * 10 * 5 * 5 ,通过AvgPool2D 转成 \n",
    "        # batch_size * 10 * 1 * 1 \n",
    "        mlpconv(10,3,1,max_pooling=False),\n",
    "        nn.AvgPool2D(pool_size=5),\n",
    "        # 转成 batch_size * 10 \n",
    "        nn.Flatten()\n",
    "    )"
   ]
  },
  {
   "cell_type": "markdown",
   "metadata": {},
   "source": [
    "# 获取数据并训练\n",
    "跟Alexnet类似，但使用了更大的学习率 \n",
    "\n"
   ]
  },
  {
   "cell_type": "code",
   "execution_count": 4,
   "metadata": {},
   "outputs": [
    {
     "name": "stdout",
     "output_type": "stream",
     "text": [
      "aaaaaaaa\n",
      "Start training on  gpu(0)\n",
      "Epoch 0. Loss: 2.290, Train acc 0.17, Test acc 0.18, Time 60.2 sec\n",
      " run time is : 60.242855\n"
     ]
    }
   ],
   "source": [
    "import sys \n",
    "sys.path.append('..') \n",
    "import utils \n",
    "from mxnet import gluon\n",
    "from mxnet import init \n",
    "import time \n",
    "train_data,test_data=utils.load_data_fashion_mnist(batch_size=64,resize=224) \n",
    "ctx=utils.try_gpu() \n",
    "net.initialize(ctx=ctx,init=init.Xavier()) \n",
    "loss=gluon.loss.SoftmaxCrossEntropyLoss() \n",
    "trainer=gluon.Trainer(net.collect_params(),\n",
    "                     'sgd',{'learning_rate':0.01})\n",
    "start=time.time() \n",
    "utils.train(train_data,test_data,net,loss,\n",
    "           trainer,ctx,num_epochs=1) \n",
    "end=time.time() \n",
    "print(\" run time is : %f\"%(end-start))"
   ]
  },
  {
   "cell_type": "code",
   "execution_count": null,
   "metadata": {},
   "outputs": [],
   "source": []
  }
 ],
 "metadata": {
  "kernelspec": {
   "display_name": "Python 3",
   "language": "python",
   "name": "python3"
  },
  "language_info": {
   "codemirror_mode": {
    "name": "ipython",
    "version": 3
   },
   "file_extension": ".py",
   "mimetype": "text/x-python",
   "name": "python",
   "nbconvert_exporter": "python",
   "pygments_lexer": "ipython3",
   "version": "3.6.12"
  }
 },
 "nbformat": 4,
 "nbformat_minor": 4
}
