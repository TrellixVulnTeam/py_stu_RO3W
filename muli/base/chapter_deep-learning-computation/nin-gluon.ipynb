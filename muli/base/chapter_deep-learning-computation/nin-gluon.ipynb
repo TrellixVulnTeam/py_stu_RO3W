{
 "cells": [
  {
   "cell_type": "code",
   "execution_count": 1,
   "metadata": {},
   "outputs": [],
   "source": [
    "from mxnet.gluon import nn\n",
    "def mlpconv(channels,kernel_size,padding,strides=1,max_pooling=True):\n",
    "    out=nn.Sequential() \n",
    "    with out.name_scope():\n",
    "        out.add(\n",
    "            nn.Conv2D(channels=channels,kernel_size=kernel_size,\n",
    "                     strides=strides,padding=padding,activation='relu'),\n",
    "            nn.Conv2D(channels=channels,kernel_size=kernel_size,\n",
    "                     padding=0,strides=1,activation='relu'),\n",
    "            nn.Conv2D(channels=channels,kernel_size=1,\n",
    "                     padding=0,strides=1,activation='relu')\n",
    "        )\n",
    "        if max_pooling:\n",
    "            out.add(nn.MaxPool2D(pool_size=3,strides=2))\n",
    "    return out "
   ]
  },
  {
   "cell_type": "markdown",
   "metadata": {},
   "source": [
    "测试一下："
   ]
  },
  {
   "cell_type": "code",
   "execution_count": 2,
   "metadata": {},
   "outputs": [
    {
     "data": {
      "text/plain": [
       "(32, 64, 5, 5)"
      ]
     },
     "execution_count": 2,
     "metadata": {},
     "output_type": "execute_result"
    }
   ],
   "source": [
    "\n",
    "from mxnet import nd\n",
    "blk=mlpconv(64,3,0)\n",
    "blk.initialize()\n",
    "x=nd.random.uniform(shape=(32,3,16,16))\n",
    "y=blk(x) \n",
    "y.shape"
   ]
  },
  {
   "cell_type": "code",
   "execution_count": null,
   "metadata": {},
   "outputs": [],
   "source": []
  }
 ],
 "metadata": {
  "kernelspec": {
   "display_name": "Python 3",
   "language": "python",
   "name": "python3"
  },
  "language_info": {
   "codemirror_mode": {
    "name": "ipython",
    "version": 3
   },
   "file_extension": ".py",
   "mimetype": "text/x-python",
   "name": "python",
   "nbconvert_exporter": "python",
   "pygments_lexer": "ipython3",
   "version": "3.6.12"
  }
 },
 "nbformat": 4,
 "nbformat_minor": 4
}
