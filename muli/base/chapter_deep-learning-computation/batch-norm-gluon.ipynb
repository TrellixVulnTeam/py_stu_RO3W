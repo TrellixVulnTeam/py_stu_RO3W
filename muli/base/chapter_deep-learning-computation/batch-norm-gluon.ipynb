{
 "cells": [
  {
   "cell_type": "code",
   "execution_count": 1,
   "metadata": {},
   "outputs": [],
   "source": [
    "from mxnet.gluon import nn \n",
    "from mxnet import nd \n",
    "net=nn.Sequential() "
   ]
  },
  {
   "cell_type": "code",
   "execution_count": 2,
   "metadata": {},
   "outputs": [],
   "source": [
    "with net.name_scope():\n",
    "    # 第一层卷积 \n",
    "    net.add(nn.Conv2D(channels=20,kernel_size=5))\n",
    "    ### 添加了批量归一化层 \n",
    "    net.add(nn.BatchNorm(axis=1)) \n",
    "    net.add(nn.Activation(activation='relu'))\n",
    "    net.add(nn.MaxPool2D(pool_size=2,strides=2)) \n",
    "    # 第二层卷积  \n",
    "    net.add(nn.Conv2D(channels=50,kernel_size=3)) \n",
    "    ### 添加了批量归一化层\n",
    "    net.add(nn.BatchNorm(axis=1)) \n",
    "    net.add(nn.Activation(activation='relu'))\n",
    "    net.add(nn.MaxPool2D(pool_size=2,strides=2)) \n",
    "    net.add(nn.Flatten()) \n",
    "    # 第一层全连接 \n",
    "    net.add(nn.Dense(128,activation='relu')) \n",
    "    # 第二层全连接 \n",
    "    net.add(nn.Dense(10)) \n",
    "    "
   ]
  },
  {
   "cell_type": "code",
   "execution_count": 14,
   "metadata": {},
   "outputs": [
    {
     "name": "stdout",
     "output_type": "stream",
     "text": [
      "aaaaaaaa\n",
      "Epoch 0 . loss :0.138548 ,train acc 0.951823,Test acc0.918770 \n",
      "Epoch 1 . loss :0.138715 ,train acc 0.951656,Test acc0.918970 \n",
      "Epoch 2 . loss :0.138454 ,train acc 0.951372,Test acc0.919171 \n",
      "Epoch 3 . loss :0.138615 ,train acc 0.951689,Test acc0.918470 \n",
      "Epoch 4 . loss :0.138510 ,train acc 0.951706,Test acc0.919171 \n",
      "Time is : 8.105082\n"
     ]
    }
   ],
   "source": [
    "import sys \n",
    "sys.path.append(\"..\")\n",
    "from mxnet import gluon \n",
    "from mxnet import autograd \n",
    "import time \n",
    "import utils \n",
    "import mxnet as mx\n",
    "ctx=utils.try_gpu() \n",
    "# ctx=mx.cpu()\n",
    "net.initialize(ctx=ctx) \n",
    "batch_size=256\n",
    "train_data,test_data=utils.load_data_fashion_mnist(batch_size=batch_size)\n",
    "softmax_cross_entropy=gluon.loss.SoftmaxCrossEntropyLoss() \n",
    "trainer=gluon.Trainer(net.collect_params(),'sgd',{'learning_rate':0.001})\n",
    "start=time.time()\n",
    "for epoch in range(5):\n",
    "    train_loss=0.\n",
    "    train_acc=0. \n",
    "    for data,label in train_data:\n",
    "        label=label.as_in_context(ctx) \n",
    "        with autograd.record():\n",
    "            output=net(data.as_in_context(ctx))  \n",
    "            loss=softmax_cross_entropy(output,label) \n",
    "        loss.backward() \n",
    "        trainer.step(batch_size) \n",
    "        train_loss+=nd.mean(loss).asscalar() \n",
    "        train_acc+=utils.accuracy(output,label)\n",
    "    test_acc=utils.evaluate_accuracy(test_data,net,ctx)\n",
    "    print(\"Epoch %d . loss :%f ,train acc %f,Test acc%f \"% \n",
    "          (epoch,train_loss/len(train_data),train_acc/len(train_data),test_acc)\n",
    "          ) \n",
    "end=time.time() \n",
    "print(\"Time is : %f\"%(end-start)) "
   ]
  },
  {
   "cell_type": "code",
   "execution_count": null,
   "metadata": {},
   "outputs": [],
   "source": []
  }
 ],
 "metadata": {
  "kernelspec": {
   "display_name": "Python 3",
   "language": "python",
   "name": "python3"
  },
  "language_info": {
   "codemirror_mode": {
    "name": "ipython",
    "version": 3
   },
   "file_extension": ".py",
   "mimetype": "text/x-python",
   "name": "python",
   "nbconvert_exporter": "python",
   "pygments_lexer": "ipython3",
   "version": "3.6.12"
  }
 },
 "nbformat": 4,
 "nbformat_minor": 4
}
