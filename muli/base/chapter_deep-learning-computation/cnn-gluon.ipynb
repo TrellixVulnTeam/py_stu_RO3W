{
 "cells": [
  {
   "cell_type": "markdown",
   "metadata": {
    "collapsed": true,
    "pycharm": {
     "is_executing": false
    }
   },
   "source": [
    "# 卷积神经网络---使用gluon\n",
    "现在我们使用gluon来实现 -- 上一章的卷积神经网络 \n",
    "\n",
    "# 定义模型 \n",
    "下面是LeNet在gluon里的实现，注意到我们不再需要实现去计算每层的输入大小，尤其是接在卷积后面的那个全连接层。 "
   ]
  },
  {
   "cell_type": "code",
   "execution_count": 1,
   "metadata": {},
   "outputs": [],
   "source": [
    "from mxnet import gluon \n",
    "net=gluon.nn.Sequential() \n",
    "\n",
    "with net.name_scope():\n",
    "    net.add(gluon.nn.Conv2D(channels=20,kernel_size=5,activation='relu'))\n",
    "    net.add(gluon.nn.MaxPool2D(pool_size=2,strides=2))\n",
    "    net.add(gluon.nn.Conv2D(channels=50,kernel_size=3,activation='relu'))\n",
    "    net.add(gluon.nn.MaxPool2D(pool_size=2,strides=2))\n",
    "    net.add(gluon.nn.Flatten())\n",
    "    net.add(gluon.nn.Dense(128,activation='relu'))\n",
    "    net.add(gluon.nn.Dense(10))"
   ]
  },
  {
   "cell_type": "markdown",
   "metadata": {},
   "source": [
    "然后我们尝试将模型权重初始化在GPU上 "
   ]
  },
  {
   "cell_type": "code",
   "execution_count": 2,
   "metadata": {},
   "outputs": [
    {
     "name": "stdout",
     "output_type": "stream",
     "text": [
      "initialize weight on cpu(0)\n"
     ]
    }
   ],
   "source": [
    "import sys \n",
    "import d2lzh\n",
    "sys.path.append('..')  \n",
    "\n",
    "ctx=d2lzh.utils.try_gpu()\n",
    "net.initialize(ctx=ctx) \n",
    "print(\"initialize weight on\",ctx) \n"
   ]
  },
  {
   "cell_type": "markdown",
   "metadata": {},
   "source": [
    "# 获取数据\n",
    "跟之前没什么两样 。"
   ]
  },
  {
   "cell_type": "code",
   "execution_count": 3,
   "metadata": {},
   "outputs": [
    {
     "name": "stdout",
     "output_type": "stream",
     "text": [
      "Epoch 0 . loss :1.096395 ,train acc 0.595900,Test acc0.817100 \n",
      "Epoch 1 . loss :0.467604 ,train acc 0.822119,Test acc0.849100 \n",
      "Epoch 2 . loss :0.383229 ,train acc 0.857541,Test acc0.869000 \n",
      "Epoch 3 . loss :0.339301 ,train acc 0.873969,Test acc0.884500 \n",
      "Epoch 4 . loss :0.314231 ,train acc 0.882757,Test acc0.881700 \n"
     ]
    }
   ],
   "source": [
    "from mxnet import autograd as autograd \n",
    "from mxnet import nd\n",
    "import d2lzh_my\n",
    "\n",
    "batch_size=256\n",
    "train_data,test_data=d2lzh.utils.load_data_fashion_mnist(batch_size) \n",
    "\n",
    "softmax_cross_entropy=gluon.loss.SoftmaxCrossEntropyLoss()\n",
    "trainer=gluon.Trainer(net.collect_params(),'sgd',{'learning_rate':0.5})\n",
    "\n",
    "for epoch in range(5):\n",
    "    train_loss=0. \n",
    "    train_acc=0. \n",
    "    for data,label in train_data:\n",
    "        label=label.as_in_context(ctx) \n",
    "        with autograd.record():\n",
    "            output=net(data.as_in_context(ctx)) \n",
    "            loss=softmax_cross_entropy(output,label) \n",
    "        loss.backward()\n",
    "        trainer.step(batch_size) \n",
    "        train_loss+=nd.mean(loss).asscalar()\n",
    "#         train_acc+=d2lzh_my.utils.accuracy(output,label.astype(\"float32\"))\n",
    "        train_acc+=d2lzh_my.utils.accuracy(output,label.astype(\"float32\"))\n",
    "    test_acc=d2lzh_my.utils.evaluate_accuracy(test_data,net,ctx) \n",
    "    print(\"Epoch %d . train loss  :%f ,train acc %f,Test acc%f \"% \n",
    "          (epoch,train_loss/len(train_data),train_acc.asscalar()/len(train_data),test_acc)\n",
    "          ) \n",
    "    "
   ]
  },
  {
   "cell_type": "code",
   "execution_count": null,
   "metadata": {},
   "outputs": [],
   "source": []
  }
 ],
 "metadata": {
  "kernelspec": {
   "display_name": "Python 3",
   "language": "python",
   "name": "python3"
  },
  "language_info": {
   "codemirror_mode": {
    "name": "ipython",
    "version": 3
   },
   "file_extension": ".py",
   "mimetype": "text/x-python",
   "name": "python",
   "nbconvert_exporter": "python",
   "pygments_lexer": "ipython3",
   "version": "3.6.2"
  }
 },
 "nbformat": 4,
 "nbformat_minor": 1
}
