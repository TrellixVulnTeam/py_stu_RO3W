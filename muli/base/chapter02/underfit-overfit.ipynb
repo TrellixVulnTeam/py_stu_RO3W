{
 "cells": [
  {
   "cell_type": "markdown",
   "metadata": {},
   "source": [
    "# 数据集大小 \n",
    "为了理解 两个因素对拟合和过拟合的影响，我们来动个手 \n",
    "\n",
    "# 多项式拟合 \n",
    "\n",
    "我们以多项式为例。给定一个标量数据点集合X和对应的目标值y,多项式拟合的目标是找一个K阶多项式。然后和这个多项式进行匹配。其由向量W和位移B组成，来最好地近似每个样本x和y.\n",
    "用数学符号来表示就是我们用 w和b来预测 "
   ]
  },
  {
   "cell_type": "markdown",
   "metadata": {},
   "source": [
    "并以平方差为损失函数。特别地，一阶多项式拟合又叫 线性拟合 。\n",
    "\n",
    "# 创建数据集 \n",
    "\n",
    "这里我们使用一个人工数据来把事情弄简单些，因为这样我们将置到真实的模型是什么样子的。\n",
    "具体来说，我们使用如下的二阶多项式来生成每一个数据样本。 \n",
    "这里噪音服从均值0和标准差为 0.1的正态分布。 \n",
    "需要注意的是，我们用以上相同的数据生成函数来生成训练集和测试数据集 。\n",
    "两个数据集的样本数都是100. \n"
   ]
  }
 ],
 "metadata": {
  "kernelspec": {
   "display_name": "Python 3",
   "language": "python",
   "name": "python3"
  },
  "language_info": {
   "codemirror_mode": {
    "name": "ipython",
    "version": 3
   },
   "file_extension": ".py",
   "mimetype": "text/x-python",
   "name": "python",
   "nbconvert_exporter": "python",
   "pygments_lexer": "ipython3",
   "version": "3.6.2"
  }
 },
 "nbformat": 4,
 "nbformat_minor": 4
}
