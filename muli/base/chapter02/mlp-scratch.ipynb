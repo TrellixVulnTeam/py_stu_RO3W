{
 "cells": [
  {
   "cell_type": "markdown",
   "metadata": {
    "collapsed": true
   },
   "source": [
    "# 多层感知机 --- 从0开始 \n",
    "前面我们介绍了包括线性回归和多类逻辑回归的数个模型，他们的共同点是全是只含有一个\n",
    "输入层，一个输出层。这一节我们将介绍多层神经网络，就是包含至少一个隐含层的网络。 \n",
    "\n",
    "# 数据获取 \n",
    "使用FashionMNIST数据集 "
   ]
  },
  {
   "cell_type": "code",
   "execution_count": 1,
   "metadata": {},
   "outputs": [],
   "source": [
    "import sys\n",
    "import mxnet as mx\n",
    "\n",
    "sys.path.append('..') \n",
    "from d2lzh_my import utils\n",
    "batch_size=256\n",
    "train_data,test_data = utils.load_data_fashion_mnist(batch_size) "
   ]
  },
  {
   "cell_type": "code",
   "execution_count": 2,
   "metadata": {},
   "outputs": [],
   "source": [
    "from mxnet import ndarray as nd \n",
    "num_inputs=28*28 \n",
    "num_outputs=10 \n",
    "\n",
    "num_hidden=256\n",
    "weight_scale=0.01 \n",
    "\n",
    "W1=nd.random_normal(shape=(num_inputs,num_hidden),scale=weight_scale)\n",
    "b1=nd.zeros(num_hidden) \n",
    "\n",
    "W2=nd.random_normal(shape=(num_hidden,num_outputs),scale=weight_scale) \n",
    "b2=nd.zeros(num_outputs) \n",
    "\n",
    "params =[W1,b1,W2,b2]\n",
    "for param in params:\n",
    "    param.attach_grad()"
   ]
  },
  {
   "cell_type": "markdown",
   "metadata": {},
   "source": [
    "# 激活函数 \n",
    "如果我们就用线性操作符来构造多层神经网络，那么整个模型仍然%gui是一个线性函数。\n",
    "这是因为 \n",
    "   \n",
    "这里。为了让我们的模型可以拟合非线性函数，我们需要在层之间插入非线性的激活函数。\n",
    "这里我们使用Relu \n",
    "            Relu(X)=max(X,0) "
   ]
  },
  {
   "cell_type": "code",
   "execution_count": 3,
   "metadata": {},
   "outputs": [],
   "source": [
    "def relu(x):\n",
    "    return nd.maximum(x,0) "
   ]
  },
  {
   "cell_type": "markdown",
   "metadata": {},
   "source": [
    "# 定义模型\n",
    "我们的模型就是将层（全连接）和激活函数（Relu)串起来 \n"
   ]
  },
  {
   "cell_type": "code",
   "execution_count": 4,
   "metadata": {},
   "outputs": [],
   "source": [
    "def net(X):\n",
    "    X=X.reshape((-1,num_inputs)) \n",
    "    h1=relu(nd.dot(X,W1)+b1) \n",
    "    output=nd.dot(h1,W2)+b2\n",
    "    return output "
   ]
  },
  {
   "cell_type": "markdown",
   "metadata": {},
   "source": [
    "# Softmax 和交叉熵损失函数 \n",
    "在多类Logistic 回归里我们提到分开实现Softmax和交叉熵损失函数可能导致数值不稳定。这里\n",
    "我们使用Gluon提供的函数 。 "
   ]
  },
  {
   "cell_type": "code",
   "execution_count": 5,
   "metadata": {},
   "outputs": [],
   "source": [
    "from mxnet import gluon \n",
    "softmax_cross_entropy=gluon.loss.SoftmaxCrossEntropyLoss() "
   ]
  },
  {
   "cell_type": "markdown",
   "metadata": {},
   "source": [
    "# 训练 \n",
    "训练和之前一样 "
   ]
  },
  {
   "cell_type": "code",
   "execution_count": 14,
   "metadata": {},
   "outputs": [
    {
     "name": "stdout",
     "output_type": "stream",
     "text": [
      "Epoch 0 .loss : 0.302240 ,Train acc 0.887749 , Test acc 0.882200 \n",
      "Epoch 1 .loss : 0.295959 ,Train acc 0.889533 , Test acc 0.886100 \n",
      "Epoch 2 .loss : 0.287953 ,Train acc 0.893057 , Test acc 0.885500 \n",
      "Epoch 3 .loss : 0.283267 ,Train acc 0.894287 , Test acc 0.887200 \n",
      "Epoch 4 .loss : 0.279283 ,Train acc 0.897756 , Test acc 0.884600 \n"
     ]
    }
   ],
   "source": [
    "from mxnet import autograd as autograd \n",
    "earning_rate=.5 \n",
    "for epoch in range(5):\n",
    "    train_loss=0 \n",
    "    train_acc=0 \n",
    "    for data,label in train_data:\n",
    "        with autograd.record():\n",
    "            output=net(data)\n",
    "            loss=softmax_cross_entropy(output,label)\n",
    "        loss.backward() \n",
    "        utils.SGD(params,earning_rate/batch_size)  \n",
    "        train_loss+=nd.mean(loss).asscalar()\n",
    "        train_acc+=utils.accuracy(output,label.astype(\"float32\")).asscalar() \n",
    "    test_acc = utils.evaluate_accuracy(test_data,net )  \n",
    "    print(\"Epoch %d .loss : %f ,Train acc %f , Test acc %f \"% (epoch,\n",
    "                                                               train_loss/len(train_data),\n",
    "                                                               train_acc/len(train_data),\n",
    "                                                               test_acc))\n",
    "   "
   ]
  },
  {
   "cell_type": "code",
   "execution_count": null,
   "metadata": {},
   "outputs": [],
   "source": []
  },
  {
   "cell_type": "code",
   "execution_count": null,
   "metadata": {},
   "outputs": [],
   "source": []
  }
 ],
 "metadata": {
  "kernelspec": {
   "display_name": "Python 3",
   "language": "python",
   "name": "python3"
  },
  "language_info": {
   "codemirror_mode": {
    "name": "ipython",
    "version": 3
   },
   "file_extension": ".py",
   "mimetype": "text/x-python",
   "name": "python",
   "nbconvert_exporter": "python",
   "pygments_lexer": "ipython3",
   "version": "3.6.2"
  },
  "pycharm": {
   "stem_cell": {
    "cell_type": "raw",
    "metadata": {
     "collapsed": false
    },
    "source": []
   }
  }
 },
 "nbformat": 4,
 "nbformat_minor": 1
}
