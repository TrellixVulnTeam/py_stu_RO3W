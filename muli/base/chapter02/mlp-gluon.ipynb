{
 "cells": [
  {
   "cell_type": "markdown",
   "metadata": {},
   "source": [
    "# 多层感知机 -- 使用 Gluon \n",
    "我们只需要稍微改动 多类 Logistic 回归 来实现多层感知机 \n",
    "\n",
    "# 定义模型 \n",
    "唯一的区别在这里，我们加了一行进来 。 "
   ]
  },
  {
   "cell_type": "code",
   "execution_count": 1,
   "metadata": {},
   "outputs": [],
   "source": [
    "from mxnet import gluon "
   ]
  },
  {
   "cell_type": "code",
   "execution_count": 2,
   "metadata": {},
   "outputs": [
    {
     "name": "stdout",
     "output_type": "stream",
     "text": [
      "Sequential(\n",
      "  (0): Flatten\n",
      "  (1): Dense(None -> 256, Activation(relu))\n",
      "  (2): Dense(None -> 10, linear)\n",
      ")\n"
     ]
    }
   ],
   "source": [
    "net=gluon.nn.Sequential() \n",
    "with net.name_scope():\n",
    "    net.add(gluon.nn.Flatten())  \n",
    "    net.add(gluon.nn.Dense(256,activation='relu')) \n",
    "#     net.add(gluon.nn.Dense(128,activation='relu'))\n",
    "    net.add(gluon.nn.Dense(10))\n",
    "print(net)\n",
    "net.initialize() "
   ]
  },
  {
   "cell_type": "markdown",
   "metadata": {},
   "source": [
    "# 读取数据并训练 "
   ]
  },
  {
   "cell_type": "code",
   "execution_count": 3,
   "metadata": {},
   "outputs": [
    {
     "name": "stdout",
     "output_type": "stream",
     "text": [
      "Epoch 0 . Loss： 0.708349, Train acc 0.735827 , Test acc 0.832600 \n",
      "Epoch 1 . Loss： 0.466153, Train acc 0.827316 , Test acc 0.843600 \n",
      "Epoch 2 . Loss： 0.408032, Train acc 0.850521 , Test acc 0.866700 \n",
      "Epoch 3 . Loss： 0.380908, Train acc 0.859674 , Test acc 0.868300 \n",
      "Epoch 4 . Loss： 0.361127, Train acc 0.866207 , Test acc 0.870300 \n"
     ]
    }
   ],
   "source": [
    "import sys \n",
    "sys.path.append('..') \n",
    "from mxnet import ndarray as nd \n",
    "from mxnet import autograd \n",
    "import d2lzh_my\n",
    "import d2lzh\n",
    "batch_size =256\n",
    "train_data,test_data=d2lzh.utils.load_data_fashion_mnist(batch_size) \n",
    "softmax_cross_entropy=gluon.loss.SoftmaxCrossEntropyLoss() \n",
    "trainer=gluon.Trainer(net.collect_params(),'sgd',{'learning_rate':0.5})\n",
    "\n",
    "for epoch in range(5):\n",
    "    train_loss=0. \n",
    "    train_acc=0. \n",
    "    for data,label in train_data:\n",
    "        with autograd.record():\n",
    "            output=net(data) \n",
    "            loss=softmax_cross_entropy(output,label)\n",
    "        loss.backward() \n",
    "        trainer.step(batch_size) \n",
    "        \n",
    "        train_loss+=nd.mean(loss).asscalar() \n",
    "        train_acc+=d2lzh_my.utils.accuracy(output,label.astype(\"float32\")).asscalar() \n",
    "    test_acc=d2lzh.utils.evaluate_accuracy(test_data,net) \n",
    "    print(\"Epoch %d . Loss： %f, Train acc %f , Test acc %f \"%\n",
    "         (epoch,train_loss/len(train_data),train_acc/len(train_data ),\n",
    "         test_acc))"
   ]
  },
  {
   "cell_type": "code",
   "execution_count": null,
   "metadata": {},
   "outputs": [],
   "source": []
  }
 ],
 "metadata": {
  "kernelspec": {
   "display_name": "Python 3",
   "language": "python",
   "name": "python3"
  },
  "language_info": {
   "codemirror_mode": {
    "name": "ipython",
    "version": 3
   },
   "file_extension": ".py",
   "mimetype": "text/x-python",
   "name": "python",
   "nbconvert_exporter": "python",
   "pygments_lexer": "ipython3",
   "version": "3.6.2"
  },
  "pycharm": {
   "stem_cell": {
    "cell_type": "raw",
    "metadata": {
     "collapsed": false
    },
    "source": []
   }
  }
 },
 "nbformat": 4,
 "nbformat_minor": 4
}
