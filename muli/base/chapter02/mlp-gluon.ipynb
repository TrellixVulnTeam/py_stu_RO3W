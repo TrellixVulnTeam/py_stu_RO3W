{
 "cells": [
  {
   "cell_type": "markdown",
   "metadata": {},
   "source": [
    "# 多层感知机 -- 使用 Gluon \n",
    "我们只需要稍微改动 多类 Logistic 回归 来实现多层感知机 \n",
    "\n",
    "# 定义模型 \n",
    "唯一的区别在这里，我们加了一行进来 。 "
   ]
  },
  {
   "cell_type": "code",
   "execution_count": 1,
   "metadata": {},
   "outputs": [],
   "source": [
    "from mxnet import gluon "
   ]
  },
  {
   "cell_type": "code",
   "execution_count": 3,
   "metadata": {},
   "outputs": [
    {
     "name": "stdout",
     "output_type": "stream",
     "text": [
      "Sequential(\n",
      "  (0): Flatten\n",
      "  (1): Dense(None -> 256, Activation(relu))\n",
      "  (2): Dense(None -> 10, linear)\n",
      ")\n"
     ]
    }
   ],
   "source": [
    "net=gluon.nn.Sequential() \n",
    "with net.name_scope():\n",
    "    net.add(gluon.nn.Flatten()) \n",
    "    net.add(gluon.nn.Dense(256,activation='relu')) \n",
    "    net.add(gluon.nn.Dense(10))\n",
    "print(net)\n",
    "net.initialize() "
   ]
  },
  {
   "cell_type": "markdown",
   "metadata": {},
   "source": [
    "# 读取数据并训练 "
   ]
  },
  {
   "cell_type": "code",
   "execution_count": null,
   "metadata": {},
   "outputs": [],
   "source": [
    "import sys \n",
    "sys.path.append('..') \n",
    "from mxnet import ndarray as nd \n",
    "from mxnett import autograd \n",
    "import utils \n",
    "batch_size =256 "
   ]
  }
 ],
 "metadata": {
  "kernelspec": {
   "display_name": "Python 3",
   "language": "python",
   "name": "python3"
  },
  "language_info": {
   "codemirror_mode": {
    "name": "ipython",
    "version": 3
   },
   "file_extension": ".py",
   "mimetype": "text/x-python",
   "name": "python",
   "nbconvert_exporter": "python",
   "pygments_lexer": "ipython3",
   "version": "3.6.2"
  }
 },
 "nbformat": 4,
 "nbformat_minor": 4
}
