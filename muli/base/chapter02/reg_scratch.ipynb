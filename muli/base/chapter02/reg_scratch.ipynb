{
 "cells": [
  {
   "attachments": {
    "image.png": {
     "image/png": "[encoded data removed]"
    }
   },
   "cell_type": "markdown",
   "metadata": {},
   "source": [
    "# 正则化---从 0 开始 \n",
    "本章 从 0 开始介绍如何的正则化来应对 过拟合 问题 \n",
    "\n",
    "# 高维线性回归 \n",
    "我们使用高维线性回归为例来引入一个过拟合问题\n",
    "具体来说我们使用如下的线性函数来生成每一个数据样本 。 \n",
    "       \n",
    "![image.png](attachment:image.png)\n",
    "\n",
    "这里噪音服从均值0和标准差为0.01的正态分布。\n",
    "需要注意的是，我们用以上相同的数据生成函数来生成训练数据集和测试数据集。\n",
    "为了观察拟合，我们特意把训练数据样本数设低，例如n=20,同时把维度升高，例如 p=200. \n"
   ]
  },
  {
   "cell_type": "code",
   "execution_count": 1,
   "metadata": {},
   "outputs": [],
   "source": [
    "from mxnet import ndarray as nd \n",
    "from mxnet import autograd \n",
    "from mxnet import gluon \n",
    "\n",
    "num_train=20 \n",
    "num_test=100\n",
    "num_inputs=200 \n"
   ]
  },
  {
   "cell_type": "markdown",
   "metadata": {},
   "source": [
    "# 生成数据集 \n",
    "这里定义模型真是参数 "
   ]
  },
  {
   "cell_type": "code",
   "execution_count": 2,
   "metadata": {},
   "outputs": [],
   "source": [
    "true_w=nd.ones((num_inputs,1))*0.01 \n",
    "true_b =0.05 "
   ]
  },
  {
   "cell_type": "markdown",
   "metadata": {},
   "source": [
    "接着我们生成训练和测试数据集 。 "
   ]
  },
  {
   "cell_type": "code",
   "execution_count": 3,
   "metadata": {},
   "outputs": [],
   "source": [
    "X=nd.random.normal(shape=(num_train+num_test,num_inputs))\n",
    "y=nd.dot(X,true_w)\n",
    "y+=0.01*nd.random.normal(shape=y.shape) \n",
    "X_train,X_test =X[:num_train,:],X[num_train:,:] \n",
    "y_train,y_test=y[:num_train],y[num_train:]"
   ]
  },
  {
   "cell_type": "markdown",
   "metadata": {},
   "source": [
    "当我们开始训练神经网络的时候，我们需要不断读取数据块。这里我们定义一个函数，它每次返回batch_size个随机的样本和对应的目标，我们通过python的yield 来构造一个迭代器 "
   ]
  },
  {
   "cell_type": "code",
   "execution_count": 4,
   "metadata": {},
   "outputs": [],
   "source": [
    "import random \n",
    "batch_size=1 \n",
    "def data_iter(num_examples):\n",
    "    idx=list(range(num_examples))\n",
    "    random.shuffle(idx) \n",
    "    for i in range(0,num_examples,batch_size):\n",
    "        j=nd.array(idx[i:min(i+batch_size,num_examples)])\n",
    "        yield X.take(j),y.take(j)"
   ]
  },
  {
   "cell_type": "markdown",
   "metadata": {},
   "source": [
    "初始化模型参数。之后训练时，我们需要对这些参数求导来更新他们的值，\n",
    "所以我们需要提高创建它们的梯度 。 "
   ]
  },
  {
   "cell_type": "code",
   "execution_count": 5,
   "metadata": {},
   "outputs": [],
   "source": [
    "def get_params():\n",
    "    w=nd.random.normal(shape=(num_inputs,1))*0.1 \n",
    "    b=nd.zeros((1,)) \n",
    "    for param in (w,b): \n",
    "        param.attach_grad()\n",
    "    return (w,b) "
   ]
  },
  {
   "cell_type": "markdown",
   "metadata": {},
   "source": [
    "# L2范数正则化 \n",
    "线性模型就是将输入和模型做乘法再加上偏移。\n",
    "这里我们引入L2范数正则化。不同于在训练时仅仅最小化损失函数(Loss),我们在训练时其实在最小化 \n",
    "\n",
    "直观上，L2范数正则化试图惩罚较大绝对值的参数值。在训练模型时，如果 PAI=0，则未使用正则化。需要注意的是，在测试模型时，PAI必须为0 . "
   ]
  },
  {
   "cell_type": "code",
   "execution_count": 6,
   "metadata": {},
   "outputs": [],
   "source": [
    "def net(X,lambd,w,b):\n",
    "#     return nd.dot(X,w)+b+lambd*((w**2).sum()+b **2)\n",
    "    return nd.dot(X,w)+b"
   ]
  },
  {
   "cell_type": "markdown",
   "metadata": {},
   "source": [
    "# 定义训练和测试 \n",
    "我们定义一个训练函数，这样在跑不同的实验时，不需要重复实现相同的步骤 。 "
   ]
  },
  {
   "cell_type": "code",
   "execution_count": 7,
   "metadata": {},
   "outputs": [],
   "source": [
    "%matplotlib inline\n",
    "\n",
    "import matplotlib as mpl \n",
    "mpl.rcParams['figure.dpi']=120 \n",
    "import matplotlib.pyplot as plt \n",
    "\n",
    "def square_loss(yhat,y):\n",
    "    return (yhat-y.reshape(yhat.shape))**2 \n",
    "\n",
    "def SGD(params,lr):\n",
    "    for param in params:\n",
    "        param[:]=param - lr*param.grad\n",
    "\n",
    "def test(params,X,y):\n",
    "    return square_loss(net(X,0,*params),y).mean().asscalar() "
   ]
  },
  {
   "cell_type": "code",
   "execution_count": 10,
   "metadata": {},
   "outputs": [],
   "source": [
    "def train(lambd):\n",
    "    epochs=10 \n",
    "    learning_rate=0.002 \n",
    "    params=get_params()\n",
    "    train_loss=[]\n",
    "    test_loss=[] \n",
    "    for e in range(epochs):\n",
    "        for data,label in data_iter(num_train):\n",
    "            with autograd.record(): # 计算导数 \n",
    "                output=net(data,lambd,*params)\n",
    "                (w,b)=params \n",
    "                loss=square_loss(output,label)+lambd*((w**2).sum()+b **2) \n",
    "            loss.backward()\n",
    "            # 更新参数 \n",
    "            SGD(params,learning_rate) \n",
    "        train_loss.append(test(params,X_train,y_train)) \n",
    "        test_loss.append(test(params,X_test,y_test)) \n",
    "    plt.plot(train_loss) \n",
    "    plt.plot(test_loss) \n",
    "    plt.legend(['train','test'])\n",
    "    plt.show() \n",
    "    print(len(params))\n",
    "    return 'learned w[:10]:',params[0][:10],'learned b :',params[1]"
   ]
  },
  {
   "cell_type": "code",
   "execution_count": 11,
   "metadata": {},
   "outputs": [
    {
     "data": {
      "image/png": "[encoded data removed]",
      "text/plain": [
       "<Figure size 432x288 with 1 Axes>"
      ]
     },
     "metadata": {
      "needs_background": "light"
     },
     "output_type": "display_data"
    },
    {
     "name": "stdout",
     "output_type": "stream",
     "text": [
      "2\n"
     ]
    },
    {
     "data": {
      "text/plain": [
       "('learned w[:10]:',\n",
       " \n",
       " [[ 0.15363665]\n",
       "  [ 0.07932886]\n",
       "  [-0.15560655]\n",
       "  [-0.01836618]\n",
       "  [-0.12176866]\n",
       "  [ 0.08053805]\n",
       "  [ 0.1892027 ]\n",
       "  [-0.10459369]\n",
       "  [ 0.05665891]\n",
       "  [-0.07537621]]\n",
       " <NDArray 10x1 @cpu(0)>,\n",
       " 'learned b :',\n",
       " \n",
       " [0.01396796]\n",
       " <NDArray 1 @cpu(0)>)"
      ]
     },
     "execution_count": 11,
     "metadata": {},
     "output_type": "execute_result"
    }
   ],
   "source": [
    "train(0)"
   ]
  },
  {
   "cell_type": "code",
   "execution_count": 12,
   "metadata": {},
   "outputs": [
    {
     "data": {
      "image/png": "[encoded data removed]",
      "text/plain": [
       "<Figure size 432x288 with 1 Axes>"
      ]
     },
     "metadata": {
      "needs_background": "light"
     },
     "output_type": "display_data"
    },
    {
     "name": "stdout",
     "output_type": "stream",
     "text": [
      "2\n"
     ]
    },
    {
     "data": {
      "text/plain": [
       "('learned w[:10]:',\n",
       " \n",
       " [[ 3.0028213e-02]\n",
       "  [-4.8597092e-03]\n",
       "  [-3.4727407e-05]\n",
       "  [ 1.1428167e-02]\n",
       "  [-5.0141593e-03]\n",
       "  [-7.8545520e-03]\n",
       "  [ 2.6067994e-03]\n",
       "  [ 3.7082946e-03]\n",
       "  [ 1.5444501e-02]\n",
       "  [-3.9545376e-02]]\n",
       " <NDArray 10x1 @cpu(0)>,\n",
       " 'learned b :',\n",
       " \n",
       " [0.0039511]\n",
       " <NDArray 1 @cpu(0)>)"
      ]
     },
     "execution_count": 12,
     "metadata": {},
     "output_type": "execute_result"
    }
   ],
   "source": [
    "train(2)"
   ]
  },
  {
   "cell_type": "code",
   "execution_count": 13,
   "metadata": {},
   "outputs": [
    {
     "data": {
      "image/png": "[encoded data removed]",
      "text/plain": [
       "<Figure size 432x288 with 1 Axes>"
      ]
     },
     "metadata": {
      "needs_background": "light"
     },
     "output_type": "display_data"
    },
    {
     "name": "stdout",
     "output_type": "stream",
     "text": [
      "2\n"
     ]
    },
    {
     "data": {
      "text/plain": [
       "('learned w[:10]:',\n",
       " \n",
       " [[ 1.4711568e-03]\n",
       "  [-3.4322025e-04]\n",
       "  [ 1.4176569e-04]\n",
       "  [ 3.9940252e-04]\n",
       "  [ 8.5904117e-04]\n",
       "  [ 1.8959637e-03]\n",
       "  [ 8.4193860e-04]\n",
       "  [-2.1148298e-07]\n",
       "  [ 6.5023208e-04]\n",
       "  [-2.0586657e-03]]\n",
       " <NDArray 10x1 @cpu(0)>,\n",
       " 'learned b :',\n",
       " \n",
       " [-3.7140453e-05]\n",
       " <NDArray 1 @cpu(0)>)"
      ]
     },
     "execution_count": 13,
     "metadata": {},
     "output_type": "execute_result"
    }
   ],
   "source": [
    "train(20)"
   ]
  },
  {
   "cell_type": "code",
   "execution_count": null,
   "metadata": {},
   "outputs": [],
   "source": []
  }
 ],
 "metadata": {
  "kernelspec": {
   "display_name": "Python 3",
   "language": "python",
   "name": "python3"
  },
  "language_info": {
   "codemirror_mode": {
    "name": "ipython",
    "version": 3
   },
   "file_extension": ".py",
   "mimetype": "text/x-python",
   "name": "python",
   "nbconvert_exporter": "python",
   "pygments_lexer": "ipython3",
   "version": "3.6.2"
  }
 },
 "nbformat": 4,
 "nbformat_minor": 4
}
