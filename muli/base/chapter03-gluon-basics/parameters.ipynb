{
 "cells": [
  {
   "cell_type": "markdown",
   "metadata": {},
   "source": [
    "# 初始化模型参数 \n",
    "我们仍使用MLP 这个例子来详细解释如何初始化模型参数 。 "
   ]
  },
  {
   "cell_type": "code",
   "execution_count": 1,
   "metadata": {},
   "outputs": [],
   "source": [
    "from mxnet.gluon import nn \n",
    "from mxnet import nd\n",
    "\n",
    "def get_net():\n",
    "    net=nn.Sequential()\n",
    "    with net.name_scope():\n",
    "        net.add(nn.Dense(4,activation='relu'))\n",
    "        net.add(nn.Dense(2))\n",
    "    return net \n",
    "\n",
    "x=nd.random.uniform(shape=(3,5))"
   ]
  },
  {
   "cell_type": "code",
   "execution_count": 2,
   "metadata": {},
   "outputs": [
    {
     "data": {
      "text/plain": [
       "\n",
       "[[0.5488135  0.5928446  0.71518934 0.84426576 0.60276335]\n",
       " [0.8579456  0.5448832  0.8472517  0.4236548  0.6235637 ]\n",
       " [0.6458941  0.3843817  0.4375872  0.2975346  0.891773  ]]\n",
       "<NDArray 3x5 @cpu(0)>"
      ]
     },
     "execution_count": 2,
     "metadata": {},
     "output_type": "execute_result"
    }
   ],
   "source": [
    "x "
   ]
  },
  {
   "cell_type": "code",
   "execution_count": 3,
   "metadata": {},
   "outputs": [
    {
     "name": "stderr",
     "output_type": "stream",
     "text": [
      "Parameter 'sequential0_dense0_weight' has not been initialized. Note that you should initialize parameters and create Trainer with Block.collect_params() instead of Block.params because the later does not include Parameters of nested child Blocks"
     ]
    }
   ],
   "source": [
    "import sys \n",
    "try:\n",
    "    net=get_net()\n",
    "    net(x)\n",
    "except RuntimeError as err:\n",
    "    sys.stderr.write(str(err))"
   ]
  },
  {
   "cell_type": "code",
   "execution_count": 4,
   "metadata": {},
   "outputs": [
    {
     "data": {
      "text/plain": [
       "Sequential(\n",
       "  (0): Dense(None -> 4, Activation(relu))\n",
       "  (1): Dense(None -> 2, linear)\n",
       ")"
      ]
     },
     "execution_count": 4,
     "metadata": {},
     "output_type": "execute_result"
    }
   ],
   "source": [
    "net"
   ]
  },
  {
   "cell_type": "code",
   "execution_count": 5,
   "metadata": {},
   "outputs": [
    {
     "data": {
      "text/plain": [
       "\n",
       "[[0.00212593 0.00365805]\n",
       " [0.00161272 0.00441845]\n",
       " [0.00204872 0.00352518]]\n",
       "<NDArray 3x2 @cpu(0)>"
      ]
     },
     "execution_count": 5,
     "metadata": {},
     "output_type": "execute_result"
    }
   ],
   "source": [
    "net.initialize()\n",
    "net(x)"
   ]
  },
  {
   "cell_type": "markdown",
   "metadata": {},
   "source": [
    "# 访问模型参数\n",
    "之前我们提到可以通过weight 和 bias 访问 dense 参数，他们是 Parameter 这个类 "
   ]
  },
  {
   "cell_type": "code",
   "execution_count": 6,
   "metadata": {},
   "outputs": [
    {
     "name": "stdout",
     "output_type": "stream",
     "text": [
      "name: sequential0_dense0 \n",
      " weight: Parameter sequential0_dense0_weight (shape=(4, 5), dtype=float32) \n",
      " bias: Parameter sequential0_dense0_bias (shape=(4,), dtype=float32)\n"
     ]
    }
   ],
   "source": [
    "w=net[0].weight\n",
    "b=net[0].bias \n",
    "print('name:',net[0].name,'\\n weight:',w,'\\n bias:',b)"
   ]
  },
  {
   "cell_type": "code",
   "execution_count": 7,
   "metadata": {},
   "outputs": [
    {
     "name": "stdout",
     "output_type": "stream",
     "text": [
      "weight: \n",
      "[[-0.06206018  0.06491279 -0.03182812 -0.01631819 -0.00312688]\n",
      " [ 0.0408415   0.04370362  0.00404529 -0.0028032   0.00952624]\n",
      " [-0.01501013  0.05958354  0.04705103 -0.06005495 -0.02276454]\n",
      " [-0.0578019   0.02074406 -0.06716943 -0.01844618  0.04656678]]\n",
      "<NDArray 4x5 @cpu(0)>\n"
     ]
    }
   ],
   "source": [
    "print('weight:',w.data())"
   ]
  },
  {
   "cell_type": "code",
   "execution_count": 8,
   "metadata": {},
   "outputs": [
    {
     "name": "stdout",
     "output_type": "stream",
     "text": [
      "weight gradient: \n",
      "[[0. 0. 0. 0. 0.]\n",
      " [0. 0. 0. 0. 0.]\n",
      " [0. 0. 0. 0. 0.]\n",
      " [0. 0. 0. 0. 0.]]\n",
      "<NDArray 4x5 @cpu(0)>\n"
     ]
    }
   ],
   "source": [
    "print('weight gradient:',w.grad())"
   ]
  },
  {
   "cell_type": "code",
   "execution_count": 9,
   "metadata": {},
   "outputs": [
    {
     "name": "stdout",
     "output_type": "stream",
     "text": [
      "bias: \n",
      "[0. 0. 0. 0.]\n",
      "<NDArray 4 @cpu(0)>\n"
     ]
    }
   ],
   "source": [
    "print('bias:',b.data())\n"
   ]
  },
  {
   "cell_type": "code",
   "execution_count": 10,
   "metadata": {},
   "outputs": [
    {
     "name": "stdout",
     "output_type": "stream",
     "text": [
      "bias gradient \n",
      "[0. 0. 0. 0.]\n",
      "<NDArray 4 @cpu(0)>\n"
     ]
    }
   ],
   "source": [
    "print('bias gradient',b.grad())"
   ]
  },
  {
   "cell_type": "markdown",
   "metadata": {},
   "source": [
    "我们也可以通过collect_params 来访问Block里面所有的参数（这个会包括所有的Block)\n",
    "它会返回一个名字到对应Parameter的dict。既可以用正常[]来访问参数，也可以用get(),\n",
    "它不需要填写名字的前缀 ."
   ]
  },
  {
   "cell_type": "code",
   "execution_count": 11,
   "metadata": {},
   "outputs": [
    {
     "name": "stdout",
     "output_type": "stream",
     "text": [
      "sequential0_ (\n",
      "  Parameter sequential0_dense0_weight (shape=(4, 5), dtype=float32)\n",
      "  Parameter sequential0_dense0_bias (shape=(4,), dtype=float32)\n",
      "  Parameter sequential0_dense1_weight (shape=(2, 4), dtype=float32)\n",
      "  Parameter sequential0_dense1_bias (shape=(2,), dtype=float32)\n",
      ")\n",
      "\n",
      "[0. 0. 0. 0.]\n",
      "<NDArray 4 @cpu(0)>\n",
      "\n",
      "[[-0.06206018  0.06491279 -0.03182812 -0.01631819 -0.00312688]\n",
      " [ 0.0408415   0.04370362  0.00404529 -0.0028032   0.00952624]\n",
      " [-0.01501013  0.05958354  0.04705103 -0.06005495 -0.02276454]\n",
      " [-0.0578019   0.02074406 -0.06716943 -0.01844618  0.04656678]]\n",
      "<NDArray 4x5 @cpu(0)>\n"
     ]
    }
   ],
   "source": [
    "params=net.collect_params()\n",
    "print(params)\n",
    "print(params['sequential0_dense0_bias'].data())\n",
    "print(params.get('dense0_weight').data())\n"
   ]
  },
  {
   "cell_type": "markdown",
   "metadata": {},
   "source": [
    "# 使用不同的初始函数来初始化 \n",
    "我们一直在使用默认的initialize 来初始化权重（除了指定GPU ctx外）。它会对所有的权重初始化成[-0.07, 0.07] 之间 均匀分布的随机数。我们可以使用别的初始化方法。例如使用均值为0。方差为0.02的正态分布。"
   ]
  },
  {
   "cell_type": "code",
   "execution_count": 12,
   "metadata": {},
   "outputs": [
    {
     "name": "stdout",
     "output_type": "stream",
     "text": [
      "\n",
      "[[-0.00359026  0.0302582  -0.01496244  0.01725933 -0.02177767]\n",
      " [ 0.01344385  0.00272668 -0.00392631 -0.03435376  0.01124353]\n",
      " [-0.00622001  0.00689362  0.02062465  0.00675439  0.01104854]\n",
      " [ 0.01147354  0.00579418 -0.04144352 -0.02262641  0.00582818]]\n",
      "<NDArray 4x5 @cpu(0)> \n",
      "[0. 0. 0. 0.]\n",
      "<NDArray 4 @cpu(0)>\n"
     ]
    }
   ],
   "source": [
    "from mxnet import init \n",
    "params.initialize(init=init.Normal(sigma=0.02),force_reinit=True)\n",
    "print(net[0].weight.data(),net[0].bias.data())"
   ]
  },
  {
   "cell_type": "markdown",
   "metadata": {},
   "source": [
    "看得更加清楚点： "
   ]
  },
  {
   "cell_type": "code",
   "execution_count": 13,
   "metadata": {},
   "outputs": [
    {
     "data": {
      "text/plain": [
       "Sequential(\n",
       "  (0): Dense(5 -> 4, Activation(relu))\n",
       "  (1): Dense(4 -> 2, linear)\n",
       ")"
      ]
     },
     "execution_count": 13,
     "metadata": {},
     "output_type": "execute_result"
    }
   ],
   "source": [
    "net"
   ]
  },
  {
   "cell_type": "markdown",
   "metadata": {},
   "source": [
    "看得更加清楚点： "
   ]
  },
  {
   "cell_type": "code",
   "execution_count": 14,
   "metadata": {},
   "outputs": [
    {
     "name": "stdout",
     "output_type": "stream",
     "text": [
      "\n",
      "[[1. 1. 1. 1. 1.]\n",
      " [1. 1. 1. 1. 1.]\n",
      " [1. 1. 1. 1. 1.]\n",
      " [1. 1. 1. 1. 1.]]\n",
      "<NDArray 4x5 @cpu(0)> \n",
      "[0. 0. 0. 0.]\n",
      "<NDArray 4 @cpu(0)>\n"
     ]
    }
   ],
   "source": [
    "params.initialize(init=init.One(),force_reinit=True)\n",
    "print(net[0].weight.data(),net[0].bias.data())"
   ]
  },
  {
   "cell_type": "markdown",
   "metadata": {},
   "source": [
    "更多的方法参见init的 API。下面我们自定义一个初始化方法。"
   ]
  },
  {
   "cell_type": "code",
   "execution_count": 15,
   "metadata": {},
   "outputs": [
    {
     "name": "stdout",
     "output_type": "stream",
     "text": [
      "init weight (4, 5)\n",
      "init weight (2, 4)\n",
      "**********\n"
     ]
    }
   ],
   "source": [
    "class MyInit(init.Initializer):\n",
    "    def __init__(self):\n",
    "        super(MyInit,self).__init__()\n",
    "        self._verbose=True\n",
    "    def _init_weight(self,_,arr):\n",
    "        print('init weight',arr.shape)\n",
    "        nd.random.uniform(low=5,high=10,out=arr)\n",
    "    def _init_bias(self,_,arr):\n",
    "        print('init bias',arr.shape)\n",
    "        arr[:]=2 \n",
    "\n",
    "params.initialize(init=MyInit(),force_reinit=True) \n",
    "print('*'*10)"
   ]
  },
  {
   "cell_type": "code",
   "execution_count": 16,
   "metadata": {},
   "outputs": [
    {
     "name": "stdout",
     "output_type": "stream",
     "text": [
      "\n",
      "[[8.1713705 9.94187   9.794746  5.510224  8.263951 ]\n",
      " [6.044384  8.175295  5.8065476 9.976498  8.265541 ]\n",
      " [7.9092517 6.266458  7.071843  7.331554  7.3734875]\n",
      " [6.222128  8.117551  5.794848  6.690038  5.5518756]]\n",
      "<NDArray 4x5 @cpu(0)> \n",
      "[0. 0. 0. 0.]\n",
      "<NDArray 4 @cpu(0)>\n"
     ]
    }
   ],
   "source": [
    "print(net[0].weight.data(),net[0].bias.data())"
   ]
  },
  {
   "cell_type": "code",
   "execution_count": 17,
   "metadata": {},
   "outputs": [
    {
     "name": "stdout",
     "output_type": "stream",
     "text": [
      "sequential1_ (\n",
      "  Parameter sequential1_dense0_weight (shape=(4, 0), dtype=float32)\n",
      "  Parameter sequential1_dense0_bias (shape=(4,), dtype=float32)\n",
      "  Parameter sequential1_dense1_weight (shape=(2, 0), dtype=float32)\n",
      "  Parameter sequential1_dense1_bias (shape=(2,), dtype=float32)\n",
      ")\n"
     ]
    }
   ],
   "source": [
    "net=get_net()\n",
    "print(net.collect_params())"
   ]
  },
  {
   "cell_type": "markdown",
   "metadata": {},
   "source": [
    "然后我们初始化"
   ]
  },
  {
   "cell_type": "code",
   "execution_count": 18,
   "metadata": {},
   "outputs": [],
   "source": [
    "net.initialize(init=MyInit())"
   ]
  },
  {
   "cell_type": "markdown",
   "metadata": {},
   "source": [
    "你会看到我们并没有看到MyInit打印的东西，这是因为我们仍然不知道形状。\n",
    "真正的初始化发生在我们看到数据时。\n"
   ]
  },
  {
   "cell_type": "code",
   "execution_count": 19,
   "metadata": {},
   "outputs": [
    {
     "name": "stdout",
     "output_type": "stream",
     "text": [
      "init weight (4, 5)\n",
      "init weight (2, 4)\n"
     ]
    },
    {
     "data": {
      "text/plain": [
       "\n",
       "[[734.3467 660.6511]\n",
       " [736.1606 663.3772]\n",
       " [590.0534 533.7984]]\n",
       "<NDArray 3x2 @cpu(0)>"
      ]
     },
     "execution_count": 19,
     "metadata": {},
     "output_type": "execute_result"
    }
   ],
   "source": [
    "net(x)"
   ]
  },
  {
   "cell_type": "markdown",
   "metadata": {},
   "source": [
    "这个时候我们看到shape 里面的0被填上正确的值了。 "
   ]
  },
  {
   "cell_type": "code",
   "execution_count": 20,
   "metadata": {},
   "outputs": [
    {
     "name": "stdout",
     "output_type": "stream",
     "text": [
      "sequential1_ (\n",
      "  Parameter sequential1_dense0_weight (shape=(4, 5), dtype=float32)\n",
      "  Parameter sequential1_dense0_bias (shape=(4,), dtype=float32)\n",
      "  Parameter sequential1_dense1_weight (shape=(2, 4), dtype=float32)\n",
      "  Parameter sequential1_dense1_bias (shape=(2,), dtype=float32)\n",
      ")\n"
     ]
    }
   ],
   "source": [
    "print(net.collect_params())"
   ]
  },
  {
   "cell_type": "markdown",
   "metadata": {},
   "source": [
    "# 避免延后初始化 \n",
    "有时候我们不想要延后初始化，这时候可以在创建网络的时候指定输入大小"
   ]
  },
  {
   "cell_type": "code",
   "execution_count": 21,
   "metadata": {},
   "outputs": [
    {
     "name": "stdout",
     "output_type": "stream",
     "text": [
      "init weight (4, 5)\n",
      "init weight (2, 4)\n"
     ]
    }
   ],
   "source": [
    "net=nn.Sequential()\n",
    "with net.name_scope():\n",
    "    net.add(nn.Dense(4,in_units=5,activation='relu'))\n",
    "    net.add(nn.Dense(2,in_units=4))\n",
    "net.initialize(MyInit())"
   ]
  },
  {
   "cell_type": "markdown",
   "metadata": {},
   "source": [
    "# 共享模型参数\n",
    "有时候我们想在层之间共享同一份参数，我们可以通过Block 的 Params输出参数来手动指定参数，而不是让系统自动生成。"
   ]
  },
  {
   "cell_type": "code",
   "execution_count": 24,
   "metadata": {},
   "outputs": [],
   "source": [
    "net=nn.Sequential()\n",
    "with net.name_scope():\n",
    "    net.add(nn.Dense(4,in_units=4,activation='relu'))\n",
    "    net.add(nn.Dense(4,in_units=4,activation='relu'))\n",
    "    net.add(nn.Dense(4,in_units=4,activation='relu',params=net[-1].params))\n",
    "    net.add(nn.Dense(2))"
   ]
  },
  {
   "cell_type": "markdown",
   "metadata": {},
   "source": [
    "# 初始化然后打印 "
   ]
  },
  {
   "cell_type": "code",
   "execution_count": 23,
   "metadata": {},
   "outputs": [
    {
     "name": "stdout",
     "output_type": "stream",
     "text": [
      "init weight (4, 4)\n",
      "init weight (4, 4)\n",
      "\n",
      "[[9.20693   6.4470305 6.323651  5.915957 ]\n",
      " [6.989104  7.9325647 7.764107  5.100538 ]\n",
      " [5.8247023 9.1447    6.8490405 5.0234776]\n",
      " [5.7322087 8.389082  7.848092  6.35004  ]]\n",
      "<NDArray 4x4 @cpu(0)>\n",
      "\n",
      "[[8.518686  8.67597   6.4423823 9.810943 ]\n",
      " [7.16644   6.243766  8.780533  7.880787 ]\n",
      " [6.9804916 7.96021   9.480192  7.8612595]\n",
      " [8.194605  6.115408  9.457772  9.763745 ]]\n",
      "<NDArray 4x4 @cpu(0)>\n"
     ]
    }
   ],
   "source": [
    "net.initialize(MyInit())\n",
    "print(net[0].weight.data())\n",
    "print(net[1].weight.data())"
   ]
  },
  {
   "cell_type": "code",
   "execution_count": null,
   "metadata": {},
   "outputs": [],
   "source": []
  }
 ],
 "metadata": {
  "kernelspec": {
   "display_name": "Python 3",
   "language": "python",
   "name": "python3"
  },
  "language_info": {
   "codemirror_mode": {
    "name": "ipython",
    "version": 3
   },
   "file_extension": ".py",
   "mimetype": "text/x-python",
   "name": "python",
   "nbconvert_exporter": "python",
   "pygments_lexer": "ipython3",
   "version": "3.6.12"
  }
 },
 "nbformat": 4,
 "nbformat_minor": 4
}
