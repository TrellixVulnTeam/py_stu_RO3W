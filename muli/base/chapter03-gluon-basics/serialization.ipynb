{
 "cells": [
  {
   "cell_type": "markdown",
   "metadata": {},
   "source": [
    "# 序列化 -- 读写模型 \n",
    "我们现在已经讲了好多\n",
    "包括 \n",
    "- 如何处理数据 \n",
    "- 如何构建模型\n",
    "- 如何在数据上训练模型\n",
    "- 如何使用不同的损失函数来做分类和回归 \n",
    "但即使知道了这些，我们还是没有完全准备好来构建一个真正的机器学习模型。\n",
    "下面学习如何读和写模型。 \n",
    "我们需要把内存中的训练好的模型存在硬盘中下次使用 "
   ]
  },
  {
   "cell_type": "markdown",
   "metadata": {},
   "source": [
    "# 读写 NDArrays\n",
    "虽然我们可以使用python序列化例如Pickle,不过我们更倾向直接save或load.通常这样更快，\n",
    "而且别的语言，例如R和Scala 也能用到 。 "
   ]
  },
  {
   "cell_type": "code",
   "execution_count": 1,
   "metadata": {},
   "outputs": [],
   "source": [
    "from mxnet import nd \n",
    "x=nd.ones(3) \n",
    "y=nd.ones(4) \n",
    "filename='../data/test1.param'\n",
    "nd.save(filename,[x,y])"
   ]
  },
  {
   "cell_type": "markdown",
   "metadata": {},
   "source": [
    "读回来 "
   ]
  },
  {
   "cell_type": "code",
   "execution_count": 2,
   "metadata": {},
   "outputs": [
    {
     "name": "stdout",
     "output_type": "stream",
     "text": [
      "\n",
      "[1. 1. 1.]\n",
      "<NDArray 3 @cpu(0)> \n",
      "[1. 1. 1. 1.]\n",
      "<NDArray 4 @cpu(0)>\n"
     ]
    }
   ],
   "source": [
    "a,b=nd.load(filename) \n",
    "print(a,b) "
   ]
  },
  {
   "cell_type": "markdown",
   "metadata": {},
   "source": [
    "不仅可以读写单个NDArray，NDArray list,dict 也是可以的：："
   ]
  },
  {
   "cell_type": "code",
   "execution_count": 5,
   "metadata": {},
   "outputs": [],
   "source": [
    "mydict={'x':x,'y':y}\n",
    "filename=\"../data/test2.params\"\n",
    "nd.save(filename,mydict)"
   ]
  },
  {
   "cell_type": "code",
   "execution_count": 7,
   "metadata": {},
   "outputs": [
    {
     "name": "stdout",
     "output_type": "stream",
     "text": [
      "{'x': \n",
      "[1. 1. 1.]\n",
      "<NDArray 3 @cpu(0)>, 'y': \n",
      "[1. 1. 1. 1.]\n",
      "<NDArray 4 @cpu(0)>}\n"
     ]
    }
   ],
   "source": [
    "c=nd.load(filename)\n",
    "print(c) "
   ]
  },
  {
   "cell_type": "markdown",
   "metadata": {},
   "source": [
    "# 读写Gluon模型的参数\n",
    "跟NDArray 类似，Gluon 的模型（就是 nn.Block) 提供便利的save_params和load_params函数\n",
    "来读写数据。我们同前一样创建一个简单的多层感知机"
   ]
  },
  {
   "cell_type": "code",
   "execution_count": 8,
   "metadata": {},
   "outputs": [],
   "source": [
    "from mxnet.gluon import nn"
   ]
  },
  {
   "cell_type": "code",
   "execution_count": 9,
   "metadata": {},
   "outputs": [],
   "source": [
    "def get_net():\n",
    "    net=nn.Sequential()\n",
    "    with net.name_scope():\n",
    "        net.add(nn.Dense(10,activation='relu'))\n",
    "        net.add(nn.Dense(2)) \n",
    "    return net \n",
    "\n",
    "net=get_net()\n",
    "net.initialize() "
   ]
  },
  {
   "cell_type": "code",
   "execution_count": 10,
   "metadata": {},
   "outputs": [],
   "source": [
    "x=nd.random.uniform(shape=(2,10)) "
   ]
  },
  {
   "cell_type": "code",
   "execution_count": 11,
   "metadata": {},
   "outputs": [
    {
     "data": {
      "text/plain": [
       "\n",
       "[[0.5488135  0.5928446  0.71518934 0.84426576 0.60276335 0.8579456\n",
       "  0.5448832  0.8472517  0.4236548  0.6235637 ]\n",
       " [0.6458941  0.3843817  0.4375872  0.2975346  0.891773   0.05671298\n",
       "  0.96366274 0.2726563  0.3834415  0.47766513]]\n",
       "<NDArray 2x10 @cpu(0)>"
      ]
     },
     "execution_count": 11,
     "metadata": {},
     "output_type": "execute_result"
    }
   ],
   "source": [
    "x"
   ]
  },
  {
   "cell_type": "code",
   "execution_count": 12,
   "metadata": {},
   "outputs": [
    {
     "data": {
      "text/plain": [
       "\n",
       "[[ 0.00202203  0.00100273]\n",
       " [-0.00134863  0.00299659]]\n",
       "<NDArray 2x2 @cpu(0)>"
      ]
     },
     "execution_count": 12,
     "metadata": {},
     "output_type": "execute_result"
    }
   ],
   "source": [
    "net(x) "
   ]
  },
  {
   "cell_type": "markdown",
   "metadata": {},
   "source": [
    "下面我们把模型参数存起来 "
   ]
  },
  {
   "cell_type": "code",
   "execution_count": 13,
   "metadata": {},
   "outputs": [
    {
     "name": "stderr",
     "output_type": "stream",
     "text": [
      "/home/dske/anaconda3/envs/gluon/lib/python3.6/site-packages/mxnet/gluon/block.py:462: UserWarning: save_params is deprecated. Please use save_parameters. Note that if you want load from SymbolBlock later, please use export instead. For details, see https://mxnet.apache.org/tutorials/gluon/save_load_params.html\n",
      "  warnings.warn(\"save_params is deprecated. Please use save_parameters. \"\n"
     ]
    }
   ],
   "source": [
    "filename='../data/mlp.params'\n",
    "net.save_params(filename)"
   ]
  },
  {
   "cell_type": "code",
   "execution_count": 16,
   "metadata": {},
   "outputs": [
    {
     "name": "stdout",
     "output_type": "stream",
     "text": [
      "\n",
      "[[ 0.00202203  0.00100273]\n",
      " [-0.00134863  0.00299659]]\n",
      "<NDArray 2x2 @cpu(0)>\n"
     ]
    }
   ],
   "source": [
    "import mxnet as mx \n",
    "net2=get_net() \n",
    "net2.load_params(filename,mx.cpu()) \n",
    "print(net2(x))"
   ]
  },
  {
   "cell_type": "code",
   "execution_count": null,
   "metadata": {},
   "outputs": [],
   "source": []
  }
 ],
 "metadata": {
  "kernelspec": {
   "display_name": "Python 3",
   "language": "python",
   "name": "python3"
  },
  "language_info": {
   "codemirror_mode": {
    "name": "ipython",
    "version": 3
   },
   "file_extension": ".py",
   "mimetype": "text/x-python",
   "name": "python",
   "nbconvert_exporter": "python",
   "pygments_lexer": "ipython3",
   "version": "3.6.12"
  }
 },
 "nbformat": 4,
 "nbformat_minor": 4
}
