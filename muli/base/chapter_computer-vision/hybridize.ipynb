{
 "cells": [
  {
   "cell_type": "markdown",
   "metadata": {},
   "source": [
    "# Hybridize: 更快和更好 \n",
    "到目前为止我们看到的教程都使用了命令式的编程。你可能之前都从来没有听说过这个词。不过，一直以来我们都是用这个方式写python代码。 \n",
    "\n",
    "考虑下面这段代码：\n"
   ]
  },
  {
   "cell_type": "code",
   "execution_count": 1,
   "metadata": {},
   "outputs": [
    {
     "name": "stdout",
     "output_type": "stream",
     "text": [
      "10\n"
     ]
    }
   ],
   "source": [
    "def add(A,B):\n",
    "    return A+B \n",
    "\n",
    "def add_str():\n",
    "    return '''\n",
    "def add(A,B):\n",
    "    return A+B\n",
    "'''\n",
    "\n",
    "def fancy_func_str():\n",
    "    return '''\n",
    "def fancy_func(A,B,C,D):\n",
    "    E=add(A,B)\n",
    "    F=add(C,D)\n",
    "    G=add(E,F)\n",
    "    return G \n",
    "'''\n",
    "def evoke_str():\n",
    "    return add_str()+fancy_func_str()+'''\n",
    "print(fancy_func(1,2,3,4)) \n",
    "'''\n",
    " \n",
    "prog=evoke_str()\n",
    "y=compile(prog,'','exec')\n",
    "exec(y) "
   ]
  },
  {
   "cell_type": "code",
   "execution_count": 2,
   "metadata": {},
   "outputs": [
    {
     "data": {
      "text/plain": [
       "\n",
       "[[-0.09420323 -0.07313035]]\n",
       "<NDArray 1x2 @cpu(0)>"
      ]
     },
     "execution_count": 2,
     "metadata": {},
     "output_type": "execute_result"
    }
   ],
   "source": [
    "from mxnet.gluon import nn \n",
    "from mxnet import nd \n",
    "def get_net():\n",
    "    net=nn.HybridSequential()\n",
    "    with net.name_scope():\n",
    "        net.add(\n",
    "            nn.Dense(256,activation='relu'),\n",
    "            nn.Dense(256,activation='relu'),\n",
    "            nn.Dense(2)\n",
    "        )\n",
    "    net.initialize() \n",
    "    return net \n",
    "x=nd.random.normal(shape=(1,512)) \n",
    "net=get_net()\n",
    "net(x) "
   ]
  },
  {
   "cell_type": "markdown",
   "metadata": {},
   "source": [
    "我们可以通过hybridize 来编译优化HybridSequential。 "
   ]
  },
  {
   "cell_type": "code",
   "execution_count": 3,
   "metadata": {},
   "outputs": [
    {
     "data": {
      "text/plain": [
       "\n",
       "[[-0.09420323 -0.07313035]]\n",
       "<NDArray 1x2 @cpu(0)>"
      ]
     },
     "execution_count": 3,
     "metadata": {},
     "output_type": "execute_result"
    }
   ],
   "source": [
    "net.hybridize() \n",
    "net(x) "
   ]
  },
  {
   "cell_type": "markdown",
   "metadata": {},
   "source": [
    "注意到只有继承自HybridBlock的层才会被优化。HybridSequential和Gluon提供的子类。如果一个层知识继承自Block,那么我们将跳过优化\n",
    "\n",
    "# 性能\n",
    "我们比较hybridize 前后的计算时间来展示符号式执行的性能提升。\n",
    "我们这里计算1000次 forward:"
   ]
  },
  {
   "cell_type": "code",
   "execution_count": 4,
   "metadata": {},
   "outputs": [
    {
     "name": "stdout",
     "output_type": "stream",
     "text": [
      "before hybridizing :0.4919 sec\n",
      "After hybridizing: 0.3576 sec \n"
     ]
    }
   ],
   "source": [
    "from time import time \n",
    "def bench(net,x):\n",
    "    start=time() \n",
    "    for i in range(1000):\n",
    "        y=net(x)\n",
    "    # 等待计算完成 \n",
    "    nd.waitall() \n",
    "    return time()-start \n",
    "\n",
    "net=get_net() \n",
    "print(\"before hybridizing :%.4f sec\" %(bench(net,x)))\n",
    "net.hybridize() \n",
    "print(\"After hybridizing: %.4f sec \"%(bench(net,x))) "
   ]
  },
  {
   "cell_type": "markdown",
   "metadata": {},
   "source": [
    "可以看到hybridize提供近两倍的加速 \n",
    "# 获取符号式的程序 \n",
    "之前我们给net 输入NDArray类型的x,然后net(x) 会直接返回结果。对于调用过的hybridize()后的网络，我们可以给它输入一个Symbol类型的变量，其会返回同样是Symbol类型的程序 。 "
   ]
  },
  {
   "cell_type": "code",
   "execution_count": 5,
   "metadata": {},
   "outputs": [
    {
     "name": "stdout",
     "output_type": "stream",
     "text": [
      "{\n",
      "  \"nodes\": [\n",
      "    {\n",
      "      \"op\": \"null\", \n",
      "      \"name\": \"data\", \n",
      "      \"inputs\": []\n",
      "    }, \n",
      "    {\n",
      "      \"op\": \"null\", \n",
      "      \"name\": \"hybridsequential1_dense0_weight\", \n",
      "      \"attrs\": {\n",
      "        \"__dtype__\": \"0\", \n",
      "        \"__lr_mult__\": \"1.0\", \n",
      "        \"__shape__\": \"(256, 0)\", \n",
      "        \"__storage_type__\": \"0\", \n",
      "        \"__wd_mult__\": \"1.0\"\n",
      "      }, \n",
      "      \"inputs\": []\n",
      "    }, \n",
      "    {\n",
      "      \"op\": \"null\", \n",
      "      \"name\": \"hybridsequential1_dense0_bias\", \n",
      "      \"attrs\": {\n",
      "        \"__dtype__\": \"0\", \n",
      "        \"__init__\": \"zeros\", \n",
      "        \"__lr_mult__\": \"1.0\", \n",
      "        \"__shape__\": \"(256,)\", \n",
      "        \"__storage_type__\": \"0\", \n",
      "        \"__wd_mult__\": \"1.0\"\n",
      "      }, \n",
      "      \"inputs\": []\n",
      "    }, \n",
      "    {\n",
      "      \"op\": \"FullyConnected\", \n",
      "      \"name\": \"hybridsequential1_dense0_fwd\", \n",
      "      \"attrs\": {\n",
      "        \"flatten\": \"True\", \n",
      "        \"no_bias\": \"False\", \n",
      "        \"num_hidden\": \"256\"\n",
      "      }, \n",
      "      \"inputs\": [[0, 0, 0], [1, 0, 0], [2, 0, 0]]\n",
      "    }, \n",
      "    {\n",
      "      \"op\": \"Activation\", \n",
      "      \"name\": \"hybridsequential1_dense0_relu_fwd\", \n",
      "      \"attrs\": {\"act_type\": \"relu\"}, \n",
      "      \"inputs\": [[3, 0, 0]]\n",
      "    }, \n",
      "    {\n",
      "      \"op\": \"null\", \n",
      "      \"name\": \"hybridsequential1_dense1_weight\", \n",
      "      \"attrs\": {\n",
      "        \"__dtype__\": \"0\", \n",
      "        \"__lr_mult__\": \"1.0\", \n",
      "        \"__shape__\": \"(256, 0)\", \n",
      "        \"__storage_type__\": \"0\", \n",
      "        \"__wd_mult__\": \"1.0\"\n",
      "      }, \n",
      "      \"inputs\": []\n",
      "    }, \n",
      "    {\n",
      "      \"op\": \"null\", \n",
      "      \"name\": \"hybridsequential1_dense1_bias\", \n",
      "      \"attrs\": {\n",
      "        \"__dtype__\": \"0\", \n",
      "        \"__init__\": \"zeros\", \n",
      "        \"__lr_mult__\": \"1.0\", \n",
      "        \"__shape__\": \"(256,)\", \n",
      "        \"__storage_type__\": \"0\", \n",
      "        \"__wd_mult__\": \"1.0\"\n",
      "      }, \n",
      "      \"inputs\": []\n",
      "    }, \n",
      "    {\n",
      "      \"op\": \"FullyConnected\", \n",
      "      \"name\": \"hybridsequential1_dense1_fwd\", \n",
      "      \"attrs\": {\n",
      "        \"flatten\": \"True\", \n",
      "        \"no_bias\": \"False\", \n",
      "        \"num_hidden\": \"256\"\n",
      "      }, \n",
      "      \"inputs\": [[4, 0, 0], [5, 0, 0], [6, 0, 0]]\n",
      "    }, \n",
      "    {\n",
      "      \"op\": \"Activation\", \n",
      "      \"name\": \"hybridsequential1_dense1_relu_fwd\", \n",
      "      \"attrs\": {\"act_type\": \"relu\"}, \n",
      "      \"inputs\": [[7, 0, 0]]\n",
      "    }, \n",
      "    {\n",
      "      \"op\": \"null\", \n",
      "      \"name\": \"hybridsequential1_dense2_weight\", \n",
      "      \"attrs\": {\n",
      "        \"__dtype__\": \"0\", \n",
      "        \"__lr_mult__\": \"1.0\", \n",
      "        \"__shape__\": \"(2, 0)\", \n",
      "        \"__storage_type__\": \"0\", \n",
      "        \"__wd_mult__\": \"1.0\"\n",
      "      }, \n",
      "      \"inputs\": []\n",
      "    }, \n",
      "    {\n",
      "      \"op\": \"null\", \n",
      "      \"name\": \"hybridsequential1_dense2_bias\", \n",
      "      \"attrs\": {\n",
      "        \"__dtype__\": \"0\", \n",
      "        \"__init__\": \"zeros\", \n",
      "        \"__lr_mult__\": \"1.0\", \n",
      "        \"__shape__\": \"(2,)\", \n",
      "        \"__storage_type__\": \"0\", \n",
      "        \"__wd_mult__\": \"1.0\"\n",
      "      }, \n",
      "      \"inputs\": []\n",
      "    }, \n",
      "    {\n",
      "      \"op\": \"FullyConnected\", \n",
      "      \"name\": \"hybridsequential1_dense2_fwd\", \n",
      "      \"attrs\": {\n",
      "        \"flatten\": \"True\", \n",
      "        \"no_bias\": \"False\", \n",
      "        \"num_hidden\": \"2\"\n",
      "      }, \n",
      "      \"inputs\": [[8, 0, 0], [9, 0, 0], [10, 0, 0]]\n",
      "    }\n",
      "  ], \n",
      "  \"arg_nodes\": [0, 1, 2, 5, 6, 9, 10], \n",
      "  \"node_row_ptr\": [\n",
      "    0, \n",
      "    1, \n",
      "    2, \n",
      "    3, \n",
      "    4, \n",
      "    5, \n",
      "    6, \n",
      "    7, \n",
      "    8, \n",
      "    9, \n",
      "    10, \n",
      "    11, \n",
      "    12\n",
      "  ], \n",
      "  \"heads\": [[11, 0, 0]], \n",
      "  \"attrs\": {\"mxnet_version\": [\"int\", 10700]}\n",
      "}\n"
     ]
    }
   ],
   "source": [
    "from mxnet import sym \n",
    "x=sym.var('data') \n",
    "y=net(x) \n",
    "print(y.tojson())"
   ]
  },
  {
   "cell_type": "markdown",
   "metadata": {},
   "source": [
    "\n",
    "\n",
    "我们可以通过`export()`来保存这个程序到硬盘。它可以之后不仅被Python，同时也可以其他支持的前端语言，例如C++, Scala, R...，读取。\n",
    "\n",
    "TODO(mli) `export`需要`mxnet>=0.11.1b20171015`，样例之后放进来。\n",
    "\n",
    "## 通过HybridBlock深入理解`hybridize`工作机制\n",
    "\n",
    "前面我们展示了通过`hybridize`我们可以获得更好的性能和更高的移植性。现在我们来解释这个是如何影响灵活性的。记得我们提过gluon里面的`Sequential`是`Block`的一个便利形式，同理，可以`HybridSequential`是`HybridBlock`的子类。跟`Block`需要实现`forward`方法不一样，对于`HybridBlock`我们需要实现`hybrid_forward`方法。\n"
   ]
  },
  {
   "cell_type": "code",
   "execution_count": 6,
   "metadata": {},
   "outputs": [],
   "source": [
    "class HybridNet(nn.HybridBlock):\n",
    "    def __init__(self,**kwargs):\n",
    "        super(HybridNet,self).__init__(**kwargs)\n",
    "        with self.name_scope():\n",
    "            self.fc1=nn.Dense(10) \n",
    "            self.fc2=nn.Dense(2) \n",
    "    def hybrid_forward(self,F,x):\n",
    "        print(F) \n",
    "        print(x) \n",
    "        x=F.relu(self.fc1(x)) \n",
    "        print(x) \n",
    "        return self.fc2(x) "
   ]
  },
  {
   "cell_type": "markdown",
   "metadata": {},
   "source": [
    "`hybrid_forward`方法加入了额外的输入`F`，它使用了MXNet的一个独特的特征。MXNet有一个符号式的API (`symbol`) 和命令式的API (`ndarray`)。这两个接口里面的函数基本是一致的。系统会根据输入来决定`F`是使用`symbol`还是`ndarray`。\n",
    "\n",
    "我们实例化一个样例，然后可以看到默认`F`是使用`ndarray`。而且我们打印出了输入和第一层relu的输出。"
   ]
  },
  {
   "cell_type": "code",
   "execution_count": 8,
   "metadata": {},
   "outputs": [
    {
     "name": "stdout",
     "output_type": "stream",
     "text": [
      "<module 'mxnet.ndarray' from '/home/dske/anaconda3/envs/gluon/lib/python3.6/site-packages/mxnet/ndarray/__init__.py'>\n",
      "\n",
      "[[ 1.3597034   0.77690774 -0.6409365   0.25685814]]\n",
      "<NDArray 1x4 @cpu(0)>\n",
      "\n",
      "[[0.03664961 0.         0.01281041 0.08815128 0.         0.0844786\n",
      "  0.00965692 0.1277262  0.05697468 0.00549724]]\n",
      "<NDArray 1x10 @cpu(0)>\n"
     ]
    },
    {
     "data": {
      "text/plain": [
       "\n",
       "[[ 0.00544146 -0.01244316]]\n",
       "<NDArray 1x2 @cpu(0)>"
      ]
     },
     "execution_count": 8,
     "metadata": {},
     "output_type": "execute_result"
    }
   ],
   "source": [
    "net=HybridNet()\n",
    "net.initialize() \n",
    "x=nd.random.normal(shape=(1,4)) \n",
    "y=net(x) \n",
    "y"
   ]
  },
  {
   "cell_type": "markdown",
   "metadata": {},
   "source": [
    "接下来看看hybridze 后会发生什么。"
   ]
  },
  {
   "cell_type": "code",
   "execution_count": 9,
   "metadata": {},
   "outputs": [
    {
     "name": "stdout",
     "output_type": "stream",
     "text": [
      "<module 'mxnet.symbol' from '/home/dske/anaconda3/envs/gluon/lib/python3.6/site-packages/mxnet/symbol/__init__.py'>\n",
      "<Symbol data>\n",
      "<Symbol hybridnet1_relu0>\n"
     ]
    }
   ],
   "source": [
    "net.hybridize() \n",
    "y=net(x) "
   ]
  },
  {
   "cell_type": "markdown",
   "metadata": {},
   "source": [
    "\n",
    "\n",
    "可以看到：\n",
    "\n",
    "1. `F`变成了`symbol`.\n",
    "2. 即使输入数据还是`NDArray`的类型，但`hybrid_forward`里不论是输入还是中间输出，全部变成了`Symbol`\n",
    "\n",
    "再运行一次看看"
   ]
  },
  {
   "cell_type": "code",
   "execution_count": null,
   "metadata": {},
   "outputs": [],
   "source": []
  }
 ],
 "metadata": {
  "kernelspec": {
   "display_name": "Python 3",
   "language": "python",
   "name": "python3"
  },
  "language_info": {
   "codemirror_mode": {
    "name": "ipython",
    "version": 3
   },
   "file_extension": ".py",
   "mimetype": "text/x-python",
   "name": "python",
   "nbconvert_exporter": "python",
   "pygments_lexer": "ipython3",
   "version": "3.6.12"
  }
 },
 "nbformat": 4,
 "nbformat_minor": 4
}
