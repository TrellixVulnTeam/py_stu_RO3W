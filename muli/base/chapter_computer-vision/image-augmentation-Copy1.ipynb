{
 "cells": [
  {
   "cell_type": "code",
   "execution_count": 1,
   "metadata": {},
   "outputs": [],
   "source": [
    "\n",
    "%matplotlib inline\n",
    "import matplotlib.pyplot as plt\n",
    "from mxnet import image"
   ]
  },
  {
   "cell_type": "code",
   "execution_count": 2,
   "metadata": {},
   "outputs": [],
   "source": [
    "from mxnet import nd\n",
    "import sys\n",
    "sys.path.append('..')\n",
    "import utils\n",
    "\n",
    "def apply(img, aug, n=3):\n",
    "    # 转成float，一是因为aug需要float类型数据来方便做变化。\n",
    "    # 二是这里会有一次copy操作，因为有些aug直接通过改写输入\n",
    "    #（而不是新建输出）获取性能的提升\n",
    "    X = [aug(img.astype('float32')) for _ in range(n*n)]\n",
    "    # 有些aug不保证输入是合法值，所以做一次clip\n",
    "    # 显示浮点图片时imshow要求输入在[0,1]之间\n",
    "    Y = nd.stack(*X).clip(0,255)/255\n",
    "    utils.show_images(Y, n, n, figsize=(8,8))"
   ]
  },
  {
   "cell_type": "code",
   "execution_count": 3,
   "metadata": {},
   "outputs": [],
   "source": [
    "def apply_aug_list(img, augs):\n",
    "    for f in augs:\n",
    "        img = f(img)\n",
    "    return img "
   ]
  },
  {
   "cell_type": "code",
   "execution_count": 4,
   "metadata": {},
   "outputs": [],
   "source": [
    "\n",
    "train_augs = [\n",
    "    image.HorizontalFlipAug(.5),\n",
    "    image.RandomCropAug((28,28))\n",
    "]\n",
    "\n",
    "test_augs = [\n",
    "    image.CenterCropAug((28,28))\n",
    "]"
   ]
  },
  {
   "cell_type": "code",
   "execution_count": 5,
   "metadata": {},
   "outputs": [],
   "source": [
    "\n",
    "from mxnet import gluon\n",
    "from mxnet import nd\n",
    "import sys\n",
    "sys.path.append('..')\n",
    "import utils\n",
    "\n",
    "def get_transform(augs):\n",
    "    def transform(data, label):\n",
    "        # data: sample x height x width x channel\n",
    "        # label: sample\n",
    "        data = data.astype('float32')\n",
    "        if augs is not None:\n",
    "            # apply to each sample one-by-one and then stack\n",
    "            data = nd.stack(*[\n",
    "                apply_aug_list(d, augs) for d in data])\n",
    "        data = nd.transpose(data, (0,3,1,2))\n",
    "        return data, label.astype('float32')\n",
    "    return transform\n",
    "\n",
    "def get_data(batch_size, train_augs, test_augs=None):\n",
    "    cifar10_train = gluon.data.vision.CIFAR10(\n",
    "        train=True, transform=get_transform(train_augs))\n",
    "    cifar10_test = gluon.data.vision.CIFAR10(\n",
    "        train=False, transform=get_transform(test_augs))\n",
    "    train_data = utils.DataLoader(\n",
    "        cifar10_train, batch_size, shuffle=True)\n",
    "    test_data = utils.DataLoader(\n",
    "        cifar10_test, batch_size, shuffle=False)\n",
    "    return (train_data, test_data)"
   ]
  },
  {
   "cell_type": "code",
   "execution_count": 6,
   "metadata": {},
   "outputs": [],
   "source": [
    "\n",
    "from mxnet import init\n",
    "\n",
    "def train(train_augs, test_augs, learning_rate=.1):\n",
    "    batch_size = 128\n",
    "    num_epochs = 1\n",
    "    ctx = utils.try_all_gpus()\n",
    "    loss = gluon.loss.SoftmaxCrossEntropyLoss()    \n",
    "    train_data, test_data = get_data(\n",
    "        batch_size, train_augs, test_augs)\n",
    "    net = utils.resnet18(10) \n",
    "    net.initialize(ctx=ctx, init=init.Xavier())\n",
    "    net.hybridize()\n",
    "    trainer = gluon.Trainer(net.collect_params(),\n",
    "                            'sgd', {'learning_rate': learning_rate})\n",
    "    utils.train(\n",
    "        train_data, test_data, net, loss, trainer, ctx, num_epochs)"
   ]
  },
  {
   "cell_type": "markdown",
   "metadata": {},
   "source": [
    "\n",
    "使用增广："
   ]
  },
  {
   "cell_type": "code",
   "execution_count": 7,
   "metadata": {},
   "outputs": [],
   "source": [
    "# train(train_augs, test_augs)\n"
   ]
  },
  {
   "cell_type": "markdown",
   "metadata": {},
   "source": [
    "\n",
    "不使用增广： "
   ]
  },
  {
   "cell_type": "code",
   "execution_count": 8,
   "metadata": {},
   "outputs": [],
   "source": [
    "\n",
    "# train(test_augs, test_augs)"
   ]
  },
  {
   "cell_type": "markdown",
   "metadata": {},
   "source": [
    "# 调优测试"
   ]
  },
  {
   "cell_type": "code",
   "execution_count": 9,
   "metadata": {},
   "outputs": [
    {
     "name": "stdout",
     "output_type": "stream",
     "text": [
      "Start training on  [gpu(0)]\n",
      "Epoch 0. Loss: 1.478, Train acc 0.47, Test acc 0.56, Time 33.4 sec\n",
      "Epoch 1. Loss: 1.048, Train acc 0.63, Test acc 0.62, Time 34.0 sec\n",
      "Epoch 2. Loss: 0.868, Train acc 0.69, Test acc 0.67, Time 31.7 sec\n",
      "Epoch 3. Loss: 0.752, Train acc 0.74, Test acc 0.73, Time 34.1 sec\n",
      "Epoch 4. Loss: 0.676, Train acc 0.76, Test acc 0.75, Time 34.1 sec\n",
      "Epoch 5. Loss: 0.617, Train acc 0.78, Test acc 0.76, Time 33.5 sec\n",
      "Epoch 6. Loss: 0.576, Train acc 0.80, Test acc 0.77, Time 32.7 sec\n",
      "Epoch 7. Loss: 0.536, Train acc 0.81, Test acc 0.78, Time 33.7 sec\n",
      "Epoch 8. Loss: 0.503, Train acc 0.82, Test acc 0.80, Time 33.6 sec\n",
      "Epoch 9. Loss: 0.476, Train acc 0.83, Test acc 0.81, Time 35.9 sec\n",
      "Epoch 10. Loss: 0.449, Train acc 0.84, Test acc 0.81, Time 33.1 sec\n",
      "Epoch 11. Loss: 0.423, Train acc 0.85, Test acc 0.81, Time 33.6 sec\n",
      "Epoch 12. Loss: 0.404, Train acc 0.86, Test acc 0.82, Time 28.2 sec\n",
      "Epoch 13. Loss: 0.379, Train acc 0.87, Test acc 0.83, Time 32.4 sec\n",
      "Epoch 14. Loss: 0.360, Train acc 0.87, Test acc 0.81, Time 29.0 sec\n",
      "Epoch 15. Loss: 0.342, Train acc 0.88, Test acc 0.82, Time 33.3 sec\n",
      "Epoch 16. Loss: 0.330, Train acc 0.88, Test acc 0.83, Time 34.2 sec\n",
      "Epoch 17. Loss: 0.314, Train acc 0.89, Test acc 0.83, Time 33.0 sec\n",
      "Epoch 18. Loss: 0.299, Train acc 0.89, Test acc 0.83, Time 32.1 sec\n",
      "Epoch 19. Loss: 0.283, Train acc 0.90, Test acc 0.83, Time 33.3 sec\n",
      "Epoch 20. Loss: 0.274, Train acc 0.91, Test acc 0.83, Time 33.9 sec\n",
      "Epoch 21. Loss: 0.262, Train acc 0.91, Test acc 0.84, Time 32.0 sec\n",
      "Epoch 22. Loss: 0.252, Train acc 0.91, Test acc 0.83, Time 34.3 sec\n",
      "Epoch 23. Loss: 0.242, Train acc 0.91, Test acc 0.83, Time 33.3 sec\n",
      "Epoch 24. Loss: 0.230, Train acc 0.92, Test acc 0.84, Time 33.3 sec\n",
      "Epoch 25. Loss: 0.219, Train acc 0.92, Test acc 0.85, Time 29.5 sec\n",
      "Epoch 26. Loss: 0.214, Train acc 0.93, Test acc 0.84, Time 34.0 sec\n",
      "Epoch 27. Loss: 0.200, Train acc 0.93, Test acc 0.85, Time 32.2 sec\n",
      "Epoch 28. Loss: 0.196, Train acc 0.93, Test acc 0.83, Time 35.9 sec\n",
      "Epoch 29. Loss: 0.187, Train acc 0.93, Test acc 0.85, Time 33.0 sec\n",
      "Epoch 30. Loss: 0.185, Train acc 0.94, Test acc 0.84, Time 32.6 sec\n",
      "Epoch 31. Loss: 0.172, Train acc 0.94, Test acc 0.84, Time 33.1 sec\n",
      "Epoch 32. Loss: 0.168, Train acc 0.94, Test acc 0.84, Time 29.4 sec\n",
      "Epoch 33. Loss: 0.162, Train acc 0.94, Test acc 0.85, Time 33.3 sec\n",
      "Epoch 34. Loss: 0.156, Train acc 0.95, Test acc 0.84, Time 38.4 sec\n",
      "Epoch 35. Loss: 0.149, Train acc 0.95, Test acc 0.85, Time 34.2 sec\n",
      "Epoch 36. Loss: 0.142, Train acc 0.95, Test acc 0.85, Time 33.4 sec\n",
      "Epoch 37. Loss: 0.138, Train acc 0.95, Test acc 0.86, Time 33.4 sec\n",
      "Epoch 38. Loss: 0.134, Train acc 0.95, Test acc 0.83, Time 33.5 sec\n",
      "Epoch 39. Loss: 0.128, Train acc 0.95, Test acc 0.85, Time 33.2 sec\n",
      "Epoch 40. Loss: 0.127, Train acc 0.96, Test acc 0.85, Time 28.3 sec\n",
      "Epoch 41. Loss: 0.118, Train acc 0.96, Test acc 0.85, Time 33.4 sec\n",
      "Epoch 42. Loss: 0.117, Train acc 0.96, Test acc 0.86, Time 33.6 sec\n",
      "Epoch 43. Loss: 0.115, Train acc 0.96, Test acc 0.85, Time 34.6 sec\n",
      "Epoch 44. Loss: 0.107, Train acc 0.96, Test acc 0.86, Time 32.9 sec\n",
      "Epoch 45. Loss: 0.105, Train acc 0.96, Test acc 0.86, Time 33.3 sec\n",
      "Epoch 46. Loss: 0.104, Train acc 0.96, Test acc 0.86, Time 33.4 sec\n",
      "Epoch 47. Loss: 0.099, Train acc 0.96, Test acc 0.85, Time 32.7 sec\n",
      "Epoch 48. Loss: 0.097, Train acc 0.97, Test acc 0.85, Time 32.0 sec\n",
      "Epoch 49. Loss: 0.091, Train acc 0.97, Test acc 0.86, Time 32.5 sec\n",
      "Epoch 50. Loss: 0.092, Train acc 0.97, Test acc 0.86, Time 33.5 sec\n",
      "Epoch 51. Loss: 0.085, Train acc 0.97, Test acc 0.86, Time 33.2 sec\n",
      "Epoch 52. Loss: 0.086, Train acc 0.97, Test acc 0.85, Time 32.2 sec\n",
      "Epoch 53. Loss: 0.085, Train acc 0.97, Test acc 0.86, Time 33.8 sec\n",
      "Epoch 54. Loss: 0.077, Train acc 0.97, Test acc 0.86, Time 32.0 sec\n",
      "Epoch 55. Loss: 0.074, Train acc 0.97, Test acc 0.86, Time 33.5 sec\n",
      "Epoch 56. Loss: 0.079, Train acc 0.97, Test acc 0.86, Time 33.1 sec\n",
      "Epoch 57. Loss: 0.076, Train acc 0.97, Test acc 0.86, Time 33.5 sec\n",
      "Epoch 58. Loss: 0.073, Train acc 0.98, Test acc 0.86, Time 33.5 sec\n",
      "Epoch 59. Loss: 0.069, Train acc 0.98, Test acc 0.86, Time 33.7 sec\n"
     ]
    }
   ],
   "source": [
    "\n",
    "from mxnet import init\n",
    "\n",
    "def train1(train_augs, test_augs, learning_rate=.1):\n",
    "    batch_size = 128\n",
    "    num_epochs =60\n",
    "    ctx = utils.try_all_gpus()\n",
    "    loss = gluon.loss.SoftmaxCrossEntropyLoss()    \n",
    "    train_data, test_data = get_data(\n",
    "        batch_size, train_augs, test_augs)\n",
    "    net = utils.resnet18(10) \n",
    "    net.initialize(ctx=ctx, init=init.Xavier())\n",
    "    net.hybridize()\n",
    "    trainer = gluon.Trainer(net.collect_params(),\n",
    "                            'sgd', {'learning_rate': learning_rate})\n",
    "    utils.train(\n",
    "        train_data, test_data, net, loss, trainer, ctx, num_epochs)\n",
    "    \n",
    "train1(train_augs, test_augs)"
   ]
  },
  {
   "cell_type": "markdown",
   "metadata": {},
   "source": [
    "Start training on  [gpu(0)]\n",
    "Epoch 0. Loss: 1.487, Train acc 0.47, Test acc 0.55, Time 21.8 sec\n",
    "Epoch 1. Loss: 1.058, Train acc 0.63, Test acc 0.65, Time 21.1 sec\n",
    "Epoch 2. Loss: 0.875, Train acc 0.69, Test acc 0.70, Time 20.5 sec\n",
    "Epoch 3. Loss: 0.754, Train acc 0.74, Test acc 0.74, Time 21.2 sec\n",
    "Epoch 4. Loss: 0.678, Train acc 0.76, Test acc 0.76, Time 19.9 sec\n",
    "Epoch 5. Loss: 0.622, Train acc 0.79, Test acc 0.75, Time 21.3 sec\n",
    "Epoch 6. Loss: 0.569, Train acc 0.80, Test acc 0.78, Time 19.6 sec\n",
    "Epoch 7. Loss: 0.535, Train acc 0.81, Test acc 0.78, Time 21.8 sec\n",
    "Epoch 8. Loss: 0.498, Train acc 0.83, Test acc 0.77, Time 19.8 sec\n",
    "Epoch 9. Loss: 0.472, Train acc 0.84, Test acc 0.80, Time 21.2 sec\n",
    "Epoch 10. Loss: 0.450, Train acc 0.84, Test acc 0.81, Time 20.0 sec\n",
    "Epoch 11. Loss: 0.420, Train acc 0.85, Test acc 0.80, Time 20.6 sec\n",
    "Epoch 12. Loss: 0.402, Train acc 0.86, Test acc 0.81, Time 19.9 sec\n",
    "Epoch 13. Loss: 0.377, Train acc 0.87, Test acc 0.83, Time 20.3 sec\n",
    "Epoch 14. Loss: 0.366, Train acc 0.87, Test acc 0.82, Time 20.6 sec\n",
    "Epoch 15. Loss: 0.343, Train acc 0.88, Test acc 0.82, Time 21.7 sec\n",
    "Epoch 16. Loss: 0.327, Train acc 0.89, Test acc 0.83, Time 21.4 sec\n",
    "Epoch 17. Loss: 0.316, Train acc 0.89, Test acc 0.82, Time 20.3 sec\n",
    "Epoch 18. Loss: 0.302, Train acc 0.89, Test acc 0.82, Time 21.9 sec\n",
    "Epoch 19. Loss: 0.281, Train acc 0.90, Test acc 0.84, Time 19.7 sec\n",
    "Epoch 20. Loss: 0.277, Train acc 0.90, Test acc 0.83, Time 20.0 sec\n",
    "Epoch 21. Loss: 0.259, Train acc 0.91, Test acc 0.84, Time 20.7 sec\n",
    "Epoch 22. Loss: 0.250, Train acc 0.91, Test acc 0.84, Time 20.8 sec\n",
    "Epoch 23. Loss: 0.242, Train acc 0.91, Test acc 0.85, Time 19.8 sec\n",
    "Epoch 24. Loss: 0.230, Train acc 0.92, Test acc 0.83, Time 19.8 sec\n",
    "Epoch 25. Loss: 0.225, Train acc 0.92, Test acc 0.85, Time 21.2 sec\n",
    "Epoch 26. Loss: 0.205, Train acc 0.93, Test acc 0.84, Time 21.4 sec\n",
    "Epoch 27. Loss: 0.202, Train acc 0.93, Test acc 0.85, Time 21.7 sec\n",
    "Epoch 28. Loss: 0.200, Train acc 0.93, Test acc 0.82, Time 21.8 sec\n",
    "Epoch 34. Loss: 0.158, Train acc 0.94, Test acc 0.84, Time 20.6 sec\n",
    "Epoch 35. Loss: 0.150, Train acc 0.95, Test acc 0.85, Time 20.6 sec\n",
    "Epoch 36. Loss: 0.147, Train acc 0.95, Test acc 0.86, Time 20.1 sec\n",
    "Epoch 37. Loss: 0.141, Train acc 0.95, Test acc 0.85, Time 20.5 sec\n",
    "Epoch 38. Loss: 0.133, Train acc 0.95, Test acc 0.85, Time 20.2 sec\n",
    "Epoch 39. Loss: 0.130, Train acc 0.95, Test acc 0.85, Time 19.9 sec\n",
    "Epoch 40. Loss: 0.132, Train acc 0.95, Test acc 0.85, Time 21.2 sec\n",
    "Epoch 41. Loss: 0.124, Train acc 0.96, Test acc 0.85, Time 19.6 sec\n",
    "Epoch 42. Loss: 0.120, Train acc 0.96, Test acc 0.85, Time 21.7 sec\n",
    "Epoch 43. Loss: 0.113, Train acc 0.96, Test acc 0.86, Time 21.4 sec\n",
    "Epoch 44. Loss: 0.106, Train acc 0.96, Test acc 0.86, Time 21.3 sec\n",
    "Epoch 45. Loss: 0.105, Train acc 0.96, Test acc 0.85, Time 21.5 sec\n",
    "Epoch 46. Loss: 0.103, Train acc 0.96, Test acc 0.86, Time 20.5 sec\n",
    "Epoch 47. Loss: 0.104, Train acc 0.96, Test acc 0.86, Time 20.0 sec\n",
    "Epoch 48. Loss: 0.094, Train acc 0.97, Test acc 0.85, Time 20.4 sec\n",
    "Epoch 49. Loss: 0.098, Train acc 0.97, Test acc 0.85, Time 20.3 sec\n",
    "Epoch 50. Loss: 0.090, Train acc 0.97, Test acc 0.85, Time 21.8 sec\n",
    "Epoch 51. Loss: 0.093, Train acc 0.97, Test acc 0.86, Time 21.0 sec\n",
    "Epoch 52. Loss: 0.088, Train acc 0.97, Test acc 0.86, Time 21.3 sec\n",
    "Epoch 53. Loss: 0.084, Train acc 0.97, Test acc 0.86, Time 21.1 sec\n",
    "Epoch 54. Loss: 0.081, Train acc 0.97, Test acc 0.87, Time 19.8 sec\n",
    "Epoch 55. Loss: 0.081, Train acc 0.97, Test acc 0.86, Time 21.1 sec\n",
    "Epoch 56. Loss: 0.076, Train acc 0.97, Test acc 0.86, Time 19.9 sec\n",
    "Epoch 57. Loss: 0.075, Train acc 0.97, Test acc 0.86, Time 19.9 sec\n",
    "Epoch 58. Loss: 0.068, Train acc 0.98, Test acc 0.86, Time 20.3 sec\n",
    "Epoch 59. Loss: 0.077, Train acc 0.97, Test acc 0.86, Time 20.0 sec"
   ]
  }
 ],
 "metadata": {
  "kernelspec": {
   "display_name": "Python 3",
   "language": "python",
   "name": "python3"
  },
  "language_info": {
   "codemirror_mode": {
    "name": "ipython",
    "version": 3
   },
   "file_extension": ".py",
   "mimetype": "text/x-python",
   "name": "python",
   "nbconvert_exporter": "python",
   "pygments_lexer": "ipython3",
   "version": "3.6.12"
  }
 },
 "nbformat": 4,
 "nbformat_minor": 4
}
