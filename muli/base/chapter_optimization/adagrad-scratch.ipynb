{
 "cells": [
  {
   "cell_type": "markdown",
   "metadata": {},
   "source": [
    "# Adagrad --- 从0开始\n",
    "\n",
    "\n",
    "在我们之前的优化算法中，无论是梯度下降、随机梯度下降、小批量随机梯度下降还是使用动量法，模型参数中的每一个元素在相同时刻都使用同一个学习率来自我迭代。\n",
    "\n",
    "举个例子，当一个模型的损失函数为$L$，参数为一个多维向量$[x_1, x_2]^\\top$时，该向量中每一个元素在更新时都使用相同的学习率，例如在学习率为$\\eta$的梯度下降中：\n",
    "\n",
    "$$\n",
    "x_1 := x_1 - \\eta \\frac{\\partial{L}}{\\partial{x_1}} \\\\\n",
    "x_2 := x_2 - \\eta \\frac{\\partial{L}}{\\partial{x_2}}\n",
    "$$\n",
    "\n",
    "其中元素$x_1$和$x_2$都使用相同的学习率$\\eta$来自我迭代。如果让$x_1$和$x_2$使用不同的学习率自我迭代呢？\n",
    "\n",
    "\n",
    "Adagrad就是一个在迭代过程中不断自我调整学习率，并让模型参数中每个元素都使用不同学习率的优化算法。\n",
    "\n",
    "\n",
    "## Adagrad算法\n",
    "\n",
    "由于小批量随机梯度下降包含了梯度下降和随机梯度下降这两种特殊形式，我们在之后的优化章节里提到的梯度都指的是小批量随机梯度。由于我们会经常用到按元素操作，这里稍作介绍。假设$\\mathbf{x} = [4, 9]^\\top$，以下是一些按元素操作的例子：\n",
    "\n",
    "* 按元素相加： $\\mathbf{x} + 1 = [5, 10]^\\top$\n",
    "* 按元素相乘： $\\mathbf{x} \\odot \\mathbf{x} = [16, 81]^\\top$\n",
    "* 按元素相除： $72 / \\mathbf{x} = [18, 8]^\\top$\n",
    "* 按元素开方： $\\sqrt{\\mathbf{x}} = [2, 3]^\\top$\n",
    "\n",
    "Adagrad的算法会使用一个梯度按元素平方的累加变量$\\mathbf{s}$，并将其中每个元素初始化为0。在每次迭代中，首先计算[小批量梯度](gd-sgd-scratch.md) $\\mathbf{g}$，然后将该梯度按元素平方后累加到变量$\\mathbf{s}$：\n",
    "\n",
    "$$\\mathbf{s} := \\mathbf{s} + \\mathbf{g} \\odot \\mathbf{g} $$\n",
    "\n",
    "然后我们将模型参数中每个元素的学习率通过按元素操作重新调整一下：\n",
    "\n",
    "$$\\mathbf{g}^\\prime := \\frac{\\eta}{\\sqrt{\\mathbf{s} + \\epsilon}} \\odot \\mathbf{g} $$\n",
    "\n",
    "其中$\\eta$是初始学习率，$\\epsilon$是为了维持数值稳定性而添加的常数，例如$10^{-7}$。请注意其中按元素开方、除法和乘法的操作。这些按元素操作使得模型参数中每个元素都分别拥有自己的学习率。\n",
    "\n",
    "需要强调的是，由于梯度按元素平方的累加变量$\\mathbf{s}$出现在分母，Adagrad的核心思想是：如果模型损失函数有关一个参数元素的偏导数一直都较大，那么就让它的学习率下降快一点；反之，如果模型损失函数有关一个参数元素的偏导数一直都较小，那么就让它的学习率下降慢一点。然而，由于$\\mathbf{s}$一直在累加按元素平方的梯度，每个元素的学习率在迭代过程中一直在降低或不变。所以在有些问题下，当学习率在迭代早期降得较快时且当前解依然不理想时，Adagrad在迭代后期可能较难找到一个有用的解。\n",
    "\n",
    "最后的参数迭代步骤与小批量随机梯度下降类似。只是这里梯度前的学习率已经被调整过了：\n",
    "\n",
    "$$\\mathbf{x} := \\mathbf{x} - \\mathbf{g}^\\prime $$\n",
    "\n",
    "\n",
    "\n",
    "\n",
    "## Adagrad的实现\n",
    "\n",
    "Adagrad的实现很简单。我们只需要把上面的数学公式翻译成代码。\n"
   ]
  },
  {
   "cell_type": "code",
   "execution_count": 1,
   "metadata": {},
   "outputs": [],
   "source": [
    "# Adagrade 算法 \n",
    "def adagrad(params,sqrs,lr,batch_size):\n",
    "    eps_stable=1e-7\n",
    "    for param,sqr in zip(params,sqrs):\n",
    "        g=param.grad/batch_size\n",
    "        sqr[:]+=nd.square(g)\n",
    "        div=lr*g/nd.sqrt(sqr+eps_stable) \n",
    "        param[:]-=div "
   ]
  },
  {
   "cell_type": "markdown",
   "metadata": {},
   "source": [
    "# 实验 \n",
    "实验中，我们以线性回归为例。其中真实参数`w`为[2, -3.4]，`b`为4.2。我们把梯度按元素平方的累加变量初始化为和参数形状相同的零张量。\n"
   ]
  },
  {
   "cell_type": "code",
   "execution_count": 2,
   "metadata": {},
   "outputs": [],
   "source": [
    "from mxnet import ndarray as nd \n",
    "import mxnet as mx \n",
    "from mxnet import autograd\n",
    "from mxnet import gluon \n",
    "import random \n",
    "\n",
    "mx.random.seed(1) \n",
    "random.seed(1) \n",
    "# 生成数据集 。\n",
    "num_inputs=2\n",
    "num_examples=1000\n",
    "true_w=[2,-3.4]\n",
    "true_b=4.2\n",
    "X=nd.random_normal(scale=1,shape=(num_examples,num_inputs)) \n",
    "y=true_w[0]*X[:,0]+true_w[1]*X[:,1]+true_b \n",
    "dataset=gluon.data.ArrayDataset(X,y) \n",
    "# 构造迭代器 \n",
    "import random \n",
    "def data_iter(batch_size):\n",
    "    idx=list(range(num_examples))\n",
    "    random.shuffle(idx) \n",
    "    for batch_i,i in enumerate(range(0,num_examples,batch_size)):\n",
    "        j=nd.array(idx[i:min(i+batch_size,num_examples)]) \n",
    "        yield batch_i,X.take(j),y.take(j) \n",
    "\n",
    "# 初始化模型参数 \n",
    "def init_params():\n",
    "    w=nd.random_normal(scale=1,shape=(num_inputs,1))\n",
    "    b=nd.zeros(shape=(1,)) \n",
    "    params=[w,b]\n",
    "    sqrs=[]\n",
    "    for param in params:\n",
    "        param.attach_grad()\n",
    "        # 把梯度按元素平方的累加变量初始化为和参数形状相同的零张量 \n",
    "        sqrs.append(param.zeros_like()) \n",
    "    return params,sqrs \n",
    "# 线性回归模型。\n",
    "def net(X,w,b):\n",
    "    return nd.dot(X,w)+b \n",
    "# 损失函数 \n",
    "def square_loss(yhat,y):\n",
    "    return (yhat-y.reshape(yhat.shape))**2 /2 \n",
    "\n"
   ]
  },
  {
   "cell_type": "markdown",
   "metadata": {},
   "source": [
    "\n",
    "接下来定义训练函数。训练函数的period参数说明，每次采样过该数目的数据点后，记录当前目标函数值用于作图。例如，当period和batch_size都为10时，每次迭代后均会记录目标函数值。\n",
    "\n",
    "另外，与随机梯度下降算法不同，这里的初始学习率`lr`没有自我衰减。"
   ]
  },
  {
   "cell_type": "code",
   "execution_count": 3,
   "metadata": {},
   "outputs": [],
   "source": [
    "%matplotlib inline \n",
    "import matplotlib as mpl\n",
    "mpl.rcParams['figure.dpi']=120\n",
    "import matplotlib.pyplot as plt \n",
    "import numpy as np\n",
    "\n",
    "def train(batch_size,lr,epochs,period):\n",
    "    assert period>=batch_size and period % batch_size==0 \n",
    "    [w,b],sqrs=init_params() \n",
    "    total_loss=[np.mean(square_loss(net(X,w,b),y).asnumpy())]\n",
    "    # 注意epoch 从1开始计数 \n",
    "    for epoch in range(1,epochs+1):\n",
    "        for batch_i,data,label in data_iter(batch_size):\n",
    "            with autograd.record():\n",
    "                output=net(data,w,b)\n",
    "                loss=square_loss(output,label)\n",
    "            loss.backward() \n",
    "            adagrad([w,b],sqrs,lr,batch_size)\n",
    "            if batch_i *batch_size %period==0:\n",
    "                total_loss.append(np.mean(square_loss(net(X,w,b),y).asnumpy()))\n",
    "        print('Batch size %d,Learning rate %f,Epoch %d,loss%.4e'%\n",
    "             (batch_size,lr,epoch,total_loss[-1]))\n",
    "    print('w:',np.reshape(w.asnumpy(),(1,-1)),\n",
    "         'b:',b.asnumpy()[0],'\\n') \n",
    "    x_axis=np.linspace(0,epochs,len(total_loss),endpoint=True) \n",
    "    plt.semilogy(x_axis,total_loss)\n",
    "    plt.xlabel('epoch')\n",
    "    plt.ylabel('loss') \n",
    "    plt.show() "
   ]
  },
  {
   "cell_type": "markdown",
   "metadata": {},
   "source": [
    "使用Adagrad，最终学到的参数值与真实值较接近。"
   ]
  },
  {
   "cell_type": "code",
   "execution_count": 4,
   "metadata": {
    "scrolled": true
   },
   "outputs": [
    {
     "name": "stdout",
     "output_type": "stream",
     "text": [
      "Batch size 10,Learning rate 0.900000,Epoch 1,loss2.4899e-08\n",
      "Batch size 10,Learning rate 0.900000,Epoch 2,loss1.8304e-12\n",
      "Batch size 10,Learning rate 0.900000,Epoch 3,loss1.9468e-12\n",
      "w: [[ 1.9999999 -3.4000006]] b: 4.199998 \n",
      "\n"
     ]
    },
    {
     "data": {
      "image/png": "[encoded data removed]",
      "text/plain": [
       "<Figure size 720x480 with 1 Axes>"
      ]
     },
     "metadata": {
      "needs_background": "light"
     },
     "output_type": "display_data"
    }
   ],
   "source": [
    "train(batch_size=10, lr=0.9, epochs=3, period=10)"
   ]
  },
  {
   "cell_type": "code",
   "execution_count": null,
   "metadata": {},
   "outputs": [],
   "source": []
  }
 ],
 "metadata": {
  "kernelspec": {
   "display_name": "Python 3",
   "language": "python",
   "name": "python3"
  },
  "language_info": {
   "codemirror_mode": {
    "name": "ipython",
    "version": 3
   },
   "file_extension": ".py",
   "mimetype": "text/x-python",
   "name": "python",
   "nbconvert_exporter": "python",
   "pygments_lexer": "ipython3",
   "version": "3.6.12"
  }
 },
 "nbformat": 4,
 "nbformat_minor": 4
}
