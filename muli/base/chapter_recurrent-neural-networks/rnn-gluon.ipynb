{
 "cells": [
  {
   "cell_type": "markdown",
   "metadata": {},
   "source": [
    "# 循环神经网络 --- 使用Gluon\n",
    "\n",
    "本节介绍如何使用`Gluon`训练循环神经网络。\n",
    "\n",
    "\n",
    "## Penn Tree Bank (PTB) 数据集\n",
    "\n",
    "我们以单词为基本元素来训练语言模型。[Penn Tree Bank](https://catalog.ldc.upenn.edu/ldc99t42)（PTB）是一个标准的文本序列数据集。它包括训练集、验证集和测试集。\n",
    "\n",
    "下面我们载入数据集。"
   ]
  },
  {
   "cell_type": "code",
   "execution_count": 3,
   "metadata": {},
   "outputs": [],
   "source": [
    "import math \n",
    "import os \n",
    "import time \n",
    "import numpy as np \n",
    "import mxnet as mx \n",
    "from mxnet import gluon,autograd \n",
    "from mxnet.gluon import nn,rnn \n",
    "import zipfile\n",
    "with zipfile.ZipFile('../data/ptb.zip','r') as zin:\n",
    "    zin.extractall('../data/') \n"
   ]
  },
  {
   "cell_type": "markdown",
   "metadata": {},
   "source": [
    "## 建立词语索引\n",
    "\n",
    "下面定义了`Dictionary`类来映射词语和索引。\n"
   ]
  },
  {
   "cell_type": "code",
   "execution_count": 8,
   "metadata": {},
   "outputs": [],
   "source": [
    "class Dictionary(object):\n",
    "    def __init__(self):\n",
    "        self.word_to_idx={}\n",
    "        self.idx_to_word=[]\n",
    "    \n",
    "    def add_word(self,word):\n",
    "        if word not in self.word_to_idx:\n",
    "            self.idx_to_word.append(word) \n",
    "            self.word_to_idx[word]=len(self.idx_to_word)-1\n",
    "        return self.word_to_idx[word] \n",
    "    def __len__(self):\n",
    "        return len(self.idx_to_word)"
   ]
  },
  {
   "cell_type": "markdown",
   "metadata": {},
   "source": [
    "以下的`Corpus`类按照读取的文本数据集建立映射词语和索引的词典，并将文本转换成词语索引的序列。这样，每个文本数据集就变成了`NDArray`格式的整数序列。\n"
   ]
  },
  {
   "cell_type": "code",
   "execution_count": 9,
   "metadata": {},
   "outputs": [],
   "source": [
    "class Corpus(object):\n",
    "    def __init__(self,path):\n",
    "        self.dictionary=Dictionary() \n",
    "        self.train=self.tokenize(path+'train.txt') \n",
    "        self.valid=self.tokenize(path+'valid.txt') \n",
    "        self.test=self.tokenize(path+'test.txt') \n",
    "    def tokenize(self,path):\n",
    "        assert os.path.exists(path) \n",
    "        # 将词语添加至词典。 \n",
    "        with open(path,'r') as f: \n",
    "            tokens=0 \n",
    "            for line in f:\n",
    "                words=line.split()+['<eos>']\n",
    "                tokens+=len(words)\n",
    "                for word in words:\n",
    "                    self.dictionary.add_word(word)\n",
    "        # 将文本转换成词语索引的序列（NDArray 格式） \n",
    "        with open(path,'r') as f:\n",
    "            indices=np.zeros((tokens,),dtype='int32') \n",
    "            idx=0 \n",
    "            for line in f:\n",
    "                words=line.split()+['<eos>']\n",
    "                for word in words:\n",
    "                    indices[idx]=self.dictionary.word_to_idx[word] \n",
    "                    idx+=1 \n",
    "        return mx.nd.array(indices,dtype='int32')"
   ]
  },
  {
   "cell_type": "code",
   "execution_count": 10,
   "metadata": {},
   "outputs": [
    {
     "data": {
      "text/plain": [
       "10000"
      ]
     },
     "execution_count": 10,
     "metadata": {},
     "output_type": "execute_result"
    }
   ],
   "source": [
    "data='../data/ptb/ptb.'\n",
    "corpus=Corpus(data) \n",
    "vocab_size=len(corpus.dictionary)\n",
    "vocab_size"
   ]
  },
  {
   "cell_type": "markdown",
   "metadata": {},
   "source": [
    "我们可以定义一个循环神经网络模型库。这样就可以支持各种不同的循环神经网络模型了 。 "
   ]
  },
  {
   "cell_type": "code",
   "execution_count": 12,
   "metadata": {},
   "outputs": [],
   "source": [
    "class RNNModel(gluon.Block):\n",
    "    \"\"\" 循环神经网络模型库\"\"\"\n",
    "    def __init__(self,mode,vocab_size,embed_dim,hidden_dim,\n",
    "                 num_layers,dropout=0.5,**kwargs):\n",
    "        super(RNNModel,self).__init__(**kwargs)\n",
    "        with self.name_scope():\n",
    "            self.drop=nn.Dropout(dropout) \n",
    "            self.encoder=nn.Embedding(vocab_size,embed_dim,\n",
    "                                     weight_initializer=mx.init.Uniform(0.1))\n",
    "            if mode=='rnn_relu':\n",
    "                self.rnn=rnn.RNN(hiden_dim,num_layers,activation='relu',\n",
    "                                dropout=dropout,input_size=embed_dim) \n",
    "            elif mode=='rnn_tanh':\n",
    "                self.rnn=rnn.RNN(hidden_dim,num_layers,dropout=droptout,\n",
    "                                input_size=embed_dim) \n",
    "            elif mode=='lstm':\n",
    "                self.nn=rnn.LSTM(hidden_dim,num_layers,dropout=dropout,\n",
    "                                input_size=embed_dim) \n",
    "            elif mode=='gru':\n",
    "                self.rnn=rnn.GRU(hidden_dim,num_layers,dropout=dropout,\n",
    "                                input_size=embed_dim) \n",
    "            else:\n",
    "                raise ValueError('Invalid mode %s. Options are rnn_relu,rnn_tanh,lstm and gru'%mode) \n",
    "            self.decoder=nn.Dense(vocab_size,in_units=hidden_dim) \n",
    "            self.hidden_dim=hidden_dim \n",
    "    def forward(self,inputs,state):\n",
    "        emb=self.drop(self.encoder(inputs)) \n",
    "        output,state=self.rnn(emb,state) \n",
    "        output=self.drop(output) \n",
    "        decoded=self.decoder(output.reshape((-1,self.hidden_dim)))\n",
    "        return decoded,state \n",
    "    def begin_state(self,*args,**kwargs):\n",
    "        return self.rnn.begin_state(*args,**kwargs) \n"
   ]
  },
  {
   "cell_type": "markdown",
   "metadata": {},
   "source": [
    "\n",
    "## 定义参数\n",
    "\n",
    "我们接着定义模型参数。我们选择使用ReLU为激活函数的循环神经网络为例。这里我们把`epochs`设为1是为了演示方便。\n",
    "\n",
    "\n",
    "## 多层循环神经网络\n",
    "\n",
    "我们通过`num_layers`设置循环神经网络隐含层的层数，例如2。\n",
    "\n",
    "对于一个多层循环神经网络，当前时刻隐含层的输入来自同一时刻输入层（如果有）或上一隐含层的输出。每一层的隐含状态只沿着同一层传递。\n",
    "\n",
    "把[单层循环神经网络](rnn-scratch.md)中隐含层的每个单元当做一个函数$f$，这个函数在$t$时刻的输入是$\\mathbf{X}_t, \\mathbf{H}_{t-1}$，输出是$\\mathbf{H}_t$：\n",
    "\n",
    "$$f(\\mathbf{X}_t, \\mathbf{H}_{t-1}) = \\mathbf{H}_t$$\n",
    "\n",
    "假设输入为第0层，输出为第$L+1$层，在一共$L$个隐含层的循环神经网络中，上式中可以拓展成以下的函数:\n",
    "\n",
    "$$f(\\mathbf{H}_t^{(l-1)}, \\mathbf{H}_{t-1}^{(l)}) = \\mathbf{H}_t^{(l)}$$\n",
    "\n",
    "如下图所示。\n",
    "\n",
    "![](../img/multi-layer-rnn.svg)\n"
   ]
  },
  {
   "cell_type": "code",
   "execution_count": null,
   "metadata": {},
   "outputs": [],
   "source": []
  }
 ],
 "metadata": {
  "kernelspec": {
   "display_name": "Python 3",
   "language": "python",
   "name": "python3"
  },
  "language_info": {
   "codemirror_mode": {
    "name": "ipython",
    "version": 3
   },
   "file_extension": ".py",
   "mimetype": "text/x-python",
   "name": "python",
   "nbconvert_exporter": "python",
   "pygments_lexer": "ipython3",
   "version": "3.6.12"
  }
 },
 "nbformat": 4,
 "nbformat_minor": 4
}
