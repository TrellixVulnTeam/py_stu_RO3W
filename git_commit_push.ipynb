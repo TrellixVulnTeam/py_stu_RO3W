{
 "cells": [
  {
   "cell_type": "code",
   "execution_count": null,
   "id": "challenging-reunion",
   "metadata": {},
   "outputs": [],
   "source": [
    "!git add * "
   ]
  },
  {
   "cell_type": "code",
   "execution_count": null,
   "id": "modified-hands",
   "metadata": {},
   "outputs": [],
   "source": [
    "!git commit -m 'test' \n"
   ]
  },
  {
   "cell_type": "code",
   "execution_count": null,
   "id": "confidential-customer",
   "metadata": {},
   "outputs": [],
   "source": [
    "\n",
    "!git push origin master "
   ]
  },
  {
   "cell_type": "code",
   "execution_count": null,
   "id": "democratic-jurisdiction",
   "metadata": {},
   "outputs": [],
   "source": []
  }
 ],
 "metadata": {
  "kernelspec": {
   "display_name": "Python 3",
   "language": "python",
   "name": "python3"
  },
  "language_info": {
   "codemirror_mode": {
    "name": "ipython",
    "version": 3
   },
   "file_extension": ".py",
   "mimetype": "text/x-python",
   "name": "python",
   "nbconvert_exporter": "python",
   "pygments_lexer": "ipython3",
   "version": "3.6.13"
  }
 },
 "nbformat": 4,
 "nbformat_minor": 5
}
