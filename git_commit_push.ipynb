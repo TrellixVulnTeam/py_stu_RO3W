{
 "cells": [
  {
   "cell_type": "code",
   "execution_count": 5,
   "id": "challenging-reunion",
   "metadata": {},
   "outputs": [],
   "source": [
    "!git add * \n",
    "!sleep 1 "
   ]
  },
  {
   "cell_type": "code",
   "execution_count": 6,
   "id": "modified-hands",
   "metadata": {},
   "outputs": [
    {
     "name": "stdout",
     "output_type": "stream",
     "text": [
      "[master d2bcc21] test\r\n",
      " 1 file changed, 50 insertions(+), 7 deletions(-)\r\n"
     ]
    }
   ],
   "source": [
    "!git commit -m 'test' \n",
    "!sleep 1s"
   ]
  },
  {
   "cell_type": "code",
   "execution_count": 7,
   "id": "confidential-customer",
   "metadata": {},
   "outputs": [
    {
     "name": "stdout",
     "output_type": "stream",
     "text": [
      "fatal: unable to access 'http://github.com/lixixi89055465/py_stu/': gnutls_handshake() failed: The TLS connection was non-properly terminated.\r\n"
     ]
    }
   ],
   "source": [
    "!git push origin master\n"
   ]
  },
  {
   "cell_type": "code",
   "execution_count": 9,
   "id": "assured-circular",
   "metadata": {},
   "outputs": [
    {
     "name": "stdout",
     "output_type": "stream",
     "text": [
      "0\r\n"
     ]
    }
   ],
   "source": [
    "!echo $?"
   ]
  },
  {
   "cell_type": "code",
   "execution_count": null,
   "id": "transparent-planet",
   "metadata": {},
   "outputs": [],
   "source": []
  }
 ],
 "metadata": {
  "kernelspec": {
   "display_name": "Python 3",
   "language": "python",
   "name": "python3"
  },
  "language_info": {
   "codemirror_mode": {
    "name": "ipython",
    "version": 3
   },
   "file_extension": ".py",
   "mimetype": "text/x-python",
   "name": "python",
   "nbconvert_exporter": "python",
   "pygments_lexer": "ipython3",
   "version": "3.6.13"
  }
 },
 "nbformat": 4,
 "nbformat_minor": 5
}
