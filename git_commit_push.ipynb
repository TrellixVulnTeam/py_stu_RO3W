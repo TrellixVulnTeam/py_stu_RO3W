{
 "cells": [
  {
   "cell_type": "code",
   "execution_count": 1,
   "id": "challenging-reunion",
   "metadata": {},
   "outputs": [],
   "source": [
    "!git add * \n",
    "!sleep 1 "
   ]
  },
  {
   "cell_type": "code",
   "execution_count": 2,
   "id": "modified-hands",
   "metadata": {},
   "outputs": [
    {
     "name": "stdout",
     "output_type": "stream",
     "text": [
      "[master b2ab0e6] test\r\n",
      " 1 file changed, 16 insertions(+), 23 deletions(-)\r\n"
     ]
    }
   ],
   "source": [
    "!git commit -m 'test' \n",
    "!sleep 1s"
   ]
  },
  {
   "cell_type": "code",
   "execution_count": null,
   "id": "confidential-customer",
   "metadata": {},
   "outputs": [
    {
     "name": "stdout",
     "output_type": "stream",
     "text": [
      "Username for 'https://github.com': "
     ]
    }
   ],
   "source": [
    "!git push origin master\n"
   ]
  },
  {
   "cell_type": "code",
   "execution_count": null,
   "id": "reduced-vampire",
   "metadata": {},
   "outputs": [],
   "source": [
    "!echo $?"
   ]
  },
  {
   "cell_type": "code",
   "execution_count": null,
   "id": "lesbian-watson",
   "metadata": {},
   "outputs": [],
   "source": []
  }
 ],
 "metadata": {
  "kernelspec": {
   "display_name": "Python 3",
   "language": "python",
   "name": "python3"
  },
  "language_info": {
   "codemirror_mode": {
    "name": "ipython",
    "version": 3
   },
   "file_extension": ".py",
   "mimetype": "text/x-python",
   "name": "python",
   "nbconvert_exporter": "python",
   "pygments_lexer": "ipython3",
   "version": "3.6.13"
  }
 },
 "nbformat": 4,
 "nbformat_minor": 5
}
