{
 "cells": [
  {
   "cell_type": "code",
   "execution_count": 1,
   "id": "challenging-reunion",
   "metadata": {},
   "outputs": [],
   "source": [
    "!git add * "
   ]
  },
  {
   "cell_type": "code",
   "execution_count": 2,
   "id": "modified-hands",
   "metadata": {},
   "outputs": [
    {
     "name": "stdout",
     "output_type": "stream",
     "text": [
      "On branch master\r\n",
      "Your branch is ahead of 'origin/master' by 2 commits.\r\n",
      "  (use \"git push\" to publish your local commits)\r\n",
      "\r\n",
      "Changes not staged for commit:\r\n",
      "\t\u001b[31mdeleted:    IMDB-Movie-Data.csv\u001b[m\r\n",
      "\t\u001b[31mdeleted:    Untitled.ipynb\u001b[m\r\n",
      "\t\u001b[31mdeleted:    dlaicourse\u001b[m\r\n",
      "\t\u001b[31mdeleted:    test1.py\u001b[m\r\n",
      "\r\n",
      "no changes added to commit\r\n"
     ]
    }
   ],
   "source": [
    "!git commit -m 'test' \n"
   ]
  },
  {
   "cell_type": "code",
   "execution_count": 3,
   "id": "confidential-customer",
   "metadata": {},
   "outputs": [
    {
     "name": "stdout",
     "output_type": "stream",
     "text": [
      "^C\r\n"
     ]
    }
   ],
   "source": [
    "!git push origin master "
   ]
  },
  {
   "cell_type": "code",
   "execution_count": 4,
   "id": "democratic-jurisdiction",
   "metadata": {},
   "outputs": [
    {
     "name": "stdout",
     "output_type": "stream",
     "text": [
      "/home/dske/Documents/lx/workspace/py_stu\r\n"
     ]
    }
   ],
   "source": [
    "!pwd"
   ]
  },
  {
   "cell_type": "code",
   "execution_count": null,
   "id": "organized-dallas",
   "metadata": {},
   "outputs": [],
   "source": []
  }
 ],
 "metadata": {
  "kernelspec": {
   "display_name": "Python 3",
   "language": "python",
   "name": "python3"
  },
  "language_info": {
   "codemirror_mode": {
    "name": "ipython",
    "version": 3
   },
   "file_extension": ".py",
   "mimetype": "text/x-python",
   "name": "python",
   "nbconvert_exporter": "python",
   "pygments_lexer": "ipython3",
   "version": "3.6.13"
  }
 },
 "nbformat": 4,
 "nbformat_minor": 5
}
