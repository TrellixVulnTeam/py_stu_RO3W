{
 "cells": [
  {
   "cell_type": "code",
   "execution_count": 4,
   "metadata": {
    "pycharm": {
     "is_executing": false
    }
   },
   "outputs": [],
   "source": [
    "import numpy as np\n",
    "import pandas as pd\n",
    "import networkx as nx\n",
    "\n",
    "edges = pd.DataFrame()\n",
    "\n",
    "edges['sources'] = [1, 1, 1, 2, 2, 3, 3, 4, 4, 5, 5, 5]\n",
    "edges['targets'] = [2, 4, 5, 3, 1, 2, 5, 1, 5, 1, 3, 4]\n",
    "edges['weights'] = [1, 1, 1, 1, 1, 1, 1, 1, 1, 1, 1, 1]\n",
    "\n",
    "G = nx.from_pandas_edgelist(edges, source='sources', target='targets',\n",
    "                            edge_attr='weights')"
   ]
  },
  {
   "cell_type": "code",
   "execution_count": 5,
   "metadata": {},
   "outputs": [
    {
     "name": "stdout",
     "output_type": "stream",
     "text": [
      "[(1, 3), (2, 2), (4, 2), (5, 3), (3, 2)]\n",
      "[{1, 2, 3, 4, 5}]\n",
      "2\n",
      "{1: 0.75, 2: 0.5, 4: 0.5, 5: 0.75, 3: 0.5}\n"
     ]
    }
   ],
   "source": [
    "\n",
    "# degree\n",
    "print(nx.degree(G))\n",
    "\n",
    "# 联通分量\n",
    "print(list(nx.connected_components(G)))\n",
    "# 图直径\n",
    "print(nx.diameter(G))\n",
    "# 度中心性\n",
    "print(nx.degree_centrality(G))\n",
    "\n"
   ]
  },
  {
   "cell_type": "markdown",
   "metadata": {},
   "source": [
    "# 特征向量中心性"
   ]
  },
  {
   "cell_type": "code",
   "execution_count": 6,
   "metadata": {},
   "outputs": [
    {
     "data": {
      "text/plain": [
       "{1: 0.5298988890761731,\n",
       " 2: 0.35775191431708964,\n",
       " 4: 0.4271316779596084,\n",
       " 5: 0.5298988890761731,\n",
       " 3: 0.35775191431708964}"
      ]
     },
     "execution_count": 6,
     "metadata": {},
     "output_type": "execute_result"
    }
   ],
   "source": [
    "nx.eigenvector_centrality(G)"
   ]
  },
  {
   "cell_type": "markdown",
   "metadata": {},
   "source": [
    "# betweenness"
   ]
  },
  {
   "cell_type": "code",
   "execution_count": 7,
   "metadata": {},
   "outputs": [
    {
     "data": {
      "text/plain": [
       "{1: 0.25, 2: 0.08333333333333333, 4: 0.0, 5: 0.25, 3: 0.08333333333333333}"
      ]
     },
     "execution_count": 7,
     "metadata": {},
     "output_type": "execute_result"
    }
   ],
   "source": [
    "nx.betweenness_centrality(G)"
   ]
  },
  {
   "cell_type": "markdown",
   "metadata": {},
   "source": [
    "# closeness"
   ]
  },
  {
   "cell_type": "code",
   "execution_count": 8,
   "metadata": {},
   "outputs": [
    {
     "data": {
      "text/plain": [
       "{1: 0.8,\n",
       " 2: 0.6666666666666666,\n",
       " 4: 0.6666666666666666,\n",
       " 5: 0.8,\n",
       " 3: 0.6666666666666666}"
      ]
     },
     "execution_count": 8,
     "metadata": {},
     "output_type": "execute_result"
    }
   ],
   "source": [
    "nx.closeness_centrality(G)"
   ]
  },
  {
   "cell_type": "markdown",
   "metadata": {},
   "source": [
    "# pagerank"
   ]
  },
  {
   "cell_type": "code",
   "execution_count": 9,
   "metadata": {},
   "outputs": [
    {
     "data": {
      "text/plain": [
       "{1: 0.24369622576677996,\n",
       " 2: 0.17225629712058638,\n",
       " 4: 0.16809495422526693,\n",
       " 5: 0.2436962257667799,\n",
       " 3: 0.17225629712058638}"
      ]
     },
     "execution_count": 9,
     "metadata": {},
     "output_type": "execute_result"
    }
   ],
   "source": [
    "nx.pagerank(G)"
   ]
  },
  {
   "cell_type": "markdown",
   "metadata": {},
   "source": [
    "# HITS"
   ]
  },
  {
   "cell_type": "code",
   "execution_count": 10,
   "metadata": {},
   "outputs": [
    {
     "data": {
      "text/plain": [
       "({1: 0.24059715195481507,\n",
       "  2: 0.1624345647450478,\n",
       "  4: 0.19393656660027417,\n",
       "  5: 0.2405971519548151,\n",
       "  3: 0.1624345647450478},\n",
       " {1: 0.2405971522393837,\n",
       "  2: 0.1624345646565165,\n",
       "  4: 0.19393656620819955,\n",
       "  5: 0.2405971522393837,\n",
       "  3: 0.1624345646565165})"
      ]
     },
     "execution_count": 10,
     "metadata": {},
     "output_type": "execute_result"
    }
   ],
   "source": [
    "nx.hits(G)"
   ]
  },
  {
   "cell_type": "code",
   "execution_count": null,
   "metadata": {},
   "outputs": [],
   "source": []
  }
 ],
 "metadata": {
  "kernelspec": {
   "display_name": "Python 3",
   "language": "python",
   "name": "python3"
  },
  "language_info": {
   "codemirror_mode": {
    "name": "ipython",
    "version": 3
   },
   "file_extension": ".py",
   "mimetype": "text/x-python",
   "name": "python",
   "nbconvert_exporter": "python",
   "pygments_lexer": "ipython3",
   "version": "3.6.12"
  }
 },
 "nbformat": 4,
 "nbformat_minor": 1
}
