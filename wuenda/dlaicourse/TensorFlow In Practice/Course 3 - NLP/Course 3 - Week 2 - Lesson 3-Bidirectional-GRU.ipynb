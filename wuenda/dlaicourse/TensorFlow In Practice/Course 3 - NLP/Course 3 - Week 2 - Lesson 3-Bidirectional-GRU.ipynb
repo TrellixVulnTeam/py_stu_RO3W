{
 "cells": [
  {
   "cell_type": "code",
   "execution_count": 1,
   "id": "eastern-studio",
   "metadata": {},
   "outputs": [],
   "source": [
    "# !pip install tensorflow==2.1.0"
   ]
  },
  {
   "cell_type": "code",
   "execution_count": 2,
   "id": "relevant-mistress",
   "metadata": {},
   "outputs": [
    {
     "name": "stdout",
     "output_type": "stream",
     "text": [
      "2.1.0\n"
     ]
    }
   ],
   "source": [
    "import tensorflow as tf \n",
    "print(tf.__version__)"
   ]
  },
  {
   "cell_type": "code",
   "execution_count": 3,
   "id": "discrete-shakespeare",
   "metadata": {},
   "outputs": [],
   "source": [
    "# !pip install -q tensorflow-datasets "
   ]
  },
  {
   "cell_type": "code",
   "execution_count": 4,
   "id": "unlikely-yugoslavia",
   "metadata": {},
   "outputs": [
    {
     "name": "stderr",
     "output_type": "stream",
     "text": [
      "WARNING:absl:TFDS datasets with text encoding are deprecated and will be removed in a future version. Instead, you should use the plain text version and tokenize the text using `tensorflow_text` (See: https://www.tensorflow.org/tutorials/tensorflow_text/intro#tfdata_example)\n"
     ]
    }
   ],
   "source": [
    "import tensorflow_datasets as tfds \n",
    "gpu_options = tf.compat.v1.GPUOptions(per_process_gpu_memory_fraction=0.3)\n",
    "config=tf.compat.v1.ConfigProto(gpu_options=gpu_options)\n",
    "session = tf.compat.v1.Session(config=config)\n",
    "\n",
    "imdb,info=tfds.load('imdb_reviews/subwords8k',with_info=True,as_supervised=True) "
   ]
  },
  {
   "cell_type": "code",
   "execution_count": 5,
   "id": "numerical-sugar",
   "metadata": {},
   "outputs": [],
   "source": [
    "train_data1,test_data1=imdb['train'],imdb['test'] "
   ]
  },
  {
   "cell_type": "code",
   "execution_count": 6,
   "id": "foreign-object",
   "metadata": {},
   "outputs": [],
   "source": [
    "tokenizer=info.features['text'].encoder \n",
    " "
   ]
  },
  {
   "cell_type": "code",
   "execution_count": 7,
   "id": "talented-polymer",
   "metadata": {},
   "outputs": [
    {
     "name": "stdout",
     "output_type": "stream",
     "text": [
      "Tokenized string is [6307, 2327, 4043, 2120, 2, 48, 2715, 7, 2652, 8050]\n"
     ]
    }
   ],
   "source": [
    "sample_string='TensorFlow, from basic to mastery'\n",
    "tokenized_string =tokenizer.encode(sample_string) \n",
    "print('Tokenized string is {}'.format(tokenized_string))"
   ]
  },
  {
   "cell_type": "code",
   "execution_count": 8,
   "id": "severe-alexandria",
   "metadata": {},
   "outputs": [
    {
     "name": "stdout",
     "output_type": "stream",
     "text": [
      "The original string : TensorFlow, from basic to mastery\n"
     ]
    }
   ],
   "source": [
    "original_string=tokenizer.decode(tokenized_string) \n",
    "print('The original string : {}'.format(original_string))"
   ]
  },
  {
   "cell_type": "code",
   "execution_count": 9,
   "id": "moved-infrastructure",
   "metadata": {},
   "outputs": [
    {
     "name": "stdout",
     "output_type": "stream",
     "text": [
      "6307 ----->Ten\n",
      "2327 ----->sor\n",
      "4043 ----->Fl\n",
      "2120 ----->ow\n",
      "2 ----->, \n",
      "48 ----->from \n",
      "2715 ----->basic \n",
      "7 ----->to \n",
      "2652 ----->master\n",
      "8050 ----->y\n"
     ]
    }
   ],
   "source": [
    "for ts in tokenized_string:\n",
    "    print('{} ----->{}'.format(ts,tokenizer.decode([ts])))"
   ]
  },
  {
   "cell_type": "code",
   "execution_count": 10,
   "id": "naval-network",
   "metadata": {},
   "outputs": [
    {
     "data": {
      "text/plain": [
       "8185"
      ]
     },
     "execution_count": 10,
     "metadata": {},
     "output_type": "execute_result"
    }
   ],
   "source": [
    "tokenizer.vocab_size"
   ]
  },
  {
   "cell_type": "code",
   "execution_count": 11,
   "id": "correct-polls",
   "metadata": {},
   "outputs": [],
   "source": [
    "embedding_dim = 128\n",
    "\n",
    "model = tf.keras.Sequential([\n",
    "    tf.keras.layers.Embedding(tokenizer.vocab_size, embedding_dim),\n",
    "    tf.keras.layers.Bidirectional(tf.keras.layers.GRU(32)), \n",
    "    tf.keras.layers.Dense(6, activation='relu'),\n",
    "    tf.keras.layers.Dense(1, activation='sigmoid')\n",
    "])"
   ]
  },
  {
   "cell_type": "code",
   "execution_count": 12,
   "id": "mexican-christianity",
   "metadata": {},
   "outputs": [
    {
     "name": "stdout",
     "output_type": "stream",
     "text": [
      "Model: \"sequential\"\n",
      "_________________________________________________________________\n",
      "Layer (type)                 Output Shape              Param #   \n",
      "=================================================================\n",
      "embedding (Embedding)        (None, None, 128)         1047680   \n",
      "_________________________________________________________________\n",
      "bidirectional (Bidirectional (None, 64)                31104     \n",
      "_________________________________________________________________\n",
      "dense (Dense)                (None, 6)                 390       \n",
      "_________________________________________________________________\n",
      "dense_1 (Dense)              (None, 1)                 7         \n",
      "=================================================================\n",
      "Total params: 1,079,181\n",
      "Trainable params: 1,079,181\n",
      "Non-trainable params: 0\n",
      "_________________________________________________________________\n"
     ]
    }
   ],
   "source": [
    "model.summary() "
   ]
  },
  {
   "cell_type": "code",
   "execution_count": 13,
   "id": "sorted-allowance",
   "metadata": {},
   "outputs": [
    {
     "data": {
      "text/plain": [
       "1047680"
      ]
     },
     "execution_count": 13,
     "metadata": {},
     "output_type": "execute_result"
    }
   ],
   "source": [
    "tokenizer.vocab_size*embedding_dim"
   ]
  },
  {
   "cell_type": "code",
   "execution_count": 14,
   "id": "velvet-afghanistan",
   "metadata": {},
   "outputs": [
    {
     "name": "stdout",
     "output_type": "stream",
     "text": [
      "Epoch 1/50\n",
      "391/391 [==============================] - 122s 313ms/step - loss: 0.6160 - accuracy: 0.6529 - val_loss: 0.6006 - val_accuracy: 0.6708\n",
      "Epoch 2/50\n",
      "391/391 [==============================] - 115s 293ms/step - loss: 0.4552 - accuracy: 0.8010 - val_loss: 0.5086 - val_accuracy: 0.7535\n",
      "Epoch 3/50\n",
      "391/391 [==============================] - 90s 230ms/step - loss: 0.3501 - accuracy: 0.8594 - val_loss: 0.4489 - val_accuracy: 0.8156\n",
      "Epoch 4/50\n",
      "391/391 [==============================] - 95s 243ms/step - loss: 0.2773 - accuracy: 0.8935 - val_loss: 0.3933 - val_accuracy: 0.8376\n",
      "Epoch 5/50\n",
      "391/391 [==============================] - 87s 221ms/step - loss: 0.2220 - accuracy: 0.9192 - val_loss: 0.4354 - val_accuracy: 0.8339\n",
      "Epoch 6/50\n",
      "391/391 [==============================] - 86s 221ms/step - loss: 0.1671 - accuracy: 0.9421 - val_loss: 0.4654 - val_accuracy: 0.8307\n",
      "Epoch 7/50\n",
      "391/391 [==============================] - 87s 222ms/step - loss: 0.1267 - accuracy: 0.9578 - val_loss: 0.4920 - val_accuracy: 0.8442\n",
      "Epoch 8/50\n",
      "391/391 [==============================] - 86s 219ms/step - loss: 0.1056 - accuracy: 0.9660 - val_loss: 0.5273 - val_accuracy: 0.8432\n",
      "Epoch 9/50\n",
      "391/391 [==============================] - 93s 238ms/step - loss: 0.1027 - accuracy: 0.9659 - val_loss: 0.5569 - val_accuracy: 0.8288\n",
      "Epoch 10/50\n",
      "391/391 [==============================] - 87s 222ms/step - loss: 0.0734 - accuracy: 0.9778 - val_loss: 0.6985 - val_accuracy: 0.7942\n",
      "Epoch 11/50\n",
      "391/391 [==============================] - 87s 222ms/step - loss: 0.0620 - accuracy: 0.9810 - val_loss: 0.6317 - val_accuracy: 0.8336\n",
      "Epoch 12/50\n",
      "391/391 [==============================] - 94s 239ms/step - loss: 0.0406 - accuracy: 0.9890 - val_loss: 0.7318 - val_accuracy: 0.8365\n",
      "Epoch 13/50\n",
      "391/391 [==============================] - 87s 223ms/step - loss: 0.0350 - accuracy: 0.9908 - val_loss: 0.7808 - val_accuracy: 0.8289\n",
      "Epoch 14/50\n",
      "391/391 [==============================] - 87s 224ms/step - loss: 0.0342 - accuracy: 0.9908 - val_loss: 0.7615 - val_accuracy: 0.8328\n",
      "Epoch 15/50\n",
      "391/391 [==============================] - 88s 226ms/step - loss: 0.0279 - accuracy: 0.9928 - val_loss: 0.7920 - val_accuracy: 0.8391\n",
      "Epoch 16/50\n",
      "391/391 [==============================] - 88s 224ms/step - loss: 0.0324 - accuracy: 0.9910 - val_loss: 0.7530 - val_accuracy: 0.8316\n",
      "Epoch 17/50\n",
      "391/391 [==============================] - 94s 240ms/step - loss: 0.0406 - accuracy: 0.9893 - val_loss: 0.6613 - val_accuracy: 0.8362\n",
      "Epoch 18/50\n",
      "391/391 [==============================] - 86s 219ms/step - loss: 0.0254 - accuracy: 0.9927 - val_loss: 0.7994 - val_accuracy: 0.8314\n",
      "Epoch 19/50\n",
      "391/391 [==============================] - 89s 227ms/step - loss: 0.0130 - accuracy: 0.9968 - val_loss: 0.9299 - val_accuracy: 0.8348\n",
      "Epoch 20/50\n",
      "391/391 [==============================] - 85s 216ms/step - loss: 0.0073 - accuracy: 0.9986 - val_loss: 0.9920 - val_accuracy: 0.8353\n",
      "Epoch 21/50\n",
      "391/391 [==============================] - 87s 222ms/step - loss: 0.0051 - accuracy: 0.9991 - val_loss: 1.0627 - val_accuracy: 0.8396\n",
      "Epoch 22/50\n",
      "391/391 [==============================] - 90s 230ms/step - loss: 0.0046 - accuracy: 0.9993 - val_loss: 1.0334 - val_accuracy: 0.8261\n",
      "Epoch 23/50\n",
      "391/391 [==============================] - 88s 224ms/step - loss: 0.0098 - accuracy: 0.9976 - val_loss: 1.0045 - val_accuracy: 0.8393\n",
      "Epoch 24/50\n",
      "391/391 [==============================] - 88s 225ms/step - loss: 0.0260 - accuracy: 0.9927 - val_loss: 0.8368 - val_accuracy: 0.8364\n",
      "Epoch 25/50\n",
      "391/391 [==============================] - 86s 219ms/step - loss: 0.0175 - accuracy: 0.9948 - val_loss: 0.9228 - val_accuracy: 0.8332\n",
      "Epoch 26/50\n",
      "391/391 [==============================] - 86s 220ms/step - loss: 0.0101 - accuracy: 0.9974 - val_loss: 0.9434 - val_accuracy: 0.8300\n",
      "Epoch 27/50\n",
      "391/391 [==============================] - 88s 225ms/step - loss: 0.0031 - accuracy: 0.9994 - val_loss: 1.1049 - val_accuracy: 0.8349\n",
      "Epoch 28/50\n",
      "391/391 [==============================] - 88s 224ms/step - loss: 9.0422e-04 - accuracy: 0.9999 - val_loss: 1.1754 - val_accuracy: 0.8338\n",
      "Epoch 29/50\n",
      "391/391 [==============================] - 88s 225ms/step - loss: 7.5322e-04 - accuracy: 0.9999 - val_loss: 1.2520 - val_accuracy: 0.8331\n",
      "Epoch 30/50\n",
      "391/391 [==============================] - 87s 222ms/step - loss: 4.6121e-04 - accuracy: 1.0000 - val_loss: 1.3004 - val_accuracy: 0.8384\n",
      "Epoch 31/50\n",
      "391/391 [==============================] - 87s 221ms/step - loss: 3.7576e-04 - accuracy: 1.0000 - val_loss: 1.3441 - val_accuracy: 0.8395\n",
      "Epoch 32/50\n",
      "391/391 [==============================] - 89s 227ms/step - loss: 2.9435e-04 - accuracy: 1.0000 - val_loss: 1.3995 - val_accuracy: 0.8366\n",
      "Epoch 33/50\n",
      "391/391 [==============================] - 86s 220ms/step - loss: 1.5415e-04 - accuracy: 1.0000 - val_loss: 1.4466 - val_accuracy: 0.8383\n",
      "Epoch 34/50\n",
      "391/391 [==============================] - 87s 224ms/step - loss: 9.1965e-05 - accuracy: 1.0000 - val_loss: 1.4962 - val_accuracy: 0.8398\n",
      "Epoch 35/50\n",
      "391/391 [==============================] - 85s 219ms/step - loss: 3.6886e-05 - accuracy: 1.0000 - val_loss: 1.5422 - val_accuracy: 0.8401\n",
      "Epoch 36/50\n",
      "391/391 [==============================] - 86s 220ms/step - loss: 2.4237e-05 - accuracy: 1.0000 - val_loss: 1.5864 - val_accuracy: 0.8405\n",
      "Epoch 37/50\n",
      "391/391 [==============================] - 94s 240ms/step - loss: 1.7785e-05 - accuracy: 1.0000 - val_loss: 1.6252 - val_accuracy: 0.8404\n",
      "Epoch 38/50\n",
      "391/391 [==============================] - 86s 221ms/step - loss: 1.3678e-05 - accuracy: 1.0000 - val_loss: 1.6649 - val_accuracy: 0.8404\n",
      "Epoch 39/50\n",
      "391/391 [==============================] - 87s 223ms/step - loss: 1.0163e-05 - accuracy: 1.0000 - val_loss: 1.7028 - val_accuracy: 0.8405\n",
      "Epoch 40/50\n",
      "391/391 [==============================] - 91s 232ms/step - loss: 8.5012e-06 - accuracy: 1.0000 - val_loss: 1.7397 - val_accuracy: 0.8411\n",
      "Epoch 41/50\n",
      "391/391 [==============================] - 90s 231ms/step - loss: 6.1174e-06 - accuracy: 1.0000 - val_loss: 1.7750 - val_accuracy: 0.8406\n",
      "Epoch 42/50\n",
      "391/391 [==============================] - 90s 229ms/step - loss: 4.8092e-06 - accuracy: 1.0000 - val_loss: 1.8088 - val_accuracy: 0.8411\n",
      "Epoch 43/50\n",
      "391/391 [==============================] - 89s 227ms/step - loss: 3.8044e-06 - accuracy: 1.0000 - val_loss: 1.8441 - val_accuracy: 0.8412\n",
      "Epoch 44/50\n",
      "391/391 [==============================] - 89s 229ms/step - loss: 3.0115e-06 - accuracy: 1.0000 - val_loss: 1.8756 - val_accuracy: 0.8412\n",
      "Epoch 45/50\n",
      "391/391 [==============================] - 89s 228ms/step - loss: 2.4187e-06 - accuracy: 1.0000 - val_loss: 1.9104 - val_accuracy: 0.8412\n",
      "Epoch 46/50\n",
      "391/391 [==============================] - 85s 217ms/step - loss: 1.9221e-06 - accuracy: 1.0000 - val_loss: 1.9441 - val_accuracy: 0.8413\n",
      "Epoch 47/50\n",
      "391/391 [==============================] - 86s 219ms/step - loss: 1.5072e-06 - accuracy: 1.0000 - val_loss: 1.9784 - val_accuracy: 0.8412\n",
      "Epoch 48/50\n",
      "391/391 [==============================] - 85s 216ms/step - loss: 1.2327e-06 - accuracy: 1.0000 - val_loss: 2.0112 - val_accuracy: 0.8411\n",
      "Epoch 49/50\n",
      "391/391 [==============================] - 84s 216ms/step - loss: 9.6607e-07 - accuracy: 1.0000 - val_loss: 2.0425 - val_accuracy: 0.8411\n",
      "Epoch 50/50\n",
      "391/391 [==============================] - 84s 216ms/step - loss: 7.7574e-07 - accuracy: 1.0000 - val_loss: 2.0752 - val_accuracy: 0.8411\n"
     ]
    }
   ],
   "source": [
    "num_epochs = 50\n",
    "\n",
    "model.compile(loss='binary_crossentropy',optimizer='adam',metrics=['accuracy'])\n",
    "# train_data = train_data1.map(lambda x_text, x_label: (x_text, tf.expand_dims(x_label, -1)),num_parallel_calls=16)\n",
    "# train_data = train_data1.map(lambda x_text, x_label: (x_text, tf.expand_dims(x_label, -1)))\n",
    "# test_data = test_data1.map(lambda x_text, x_label: (x_text, tf.expand_dims(x_label, -1)),num_parallel_calls=16)\n",
    "# test_data = test_data1.map(lambda x_text, x_label: (x_text, tf.expand_dims(x_label, -1)))\n",
    "BUFFER_SIZE = 10000\n",
    "BATCH_SIZE = 64\n",
    "\n",
    "train_data1 = train_data1.shuffle(BUFFER_SIZE)\n",
    "train_data = train_data1.padded_batch(BATCH_SIZE, tf.compat.v1.data.get_output_shapes(train_data1))\n",
    "test_data= test_data1.padded_batch(BATCH_SIZE, tf.compat.v1.data.get_output_shapes(test_data1))\n",
    "\n",
    "\n",
    "\n",
    "\n",
    "history = model.fit(train_data, epochs=num_epochs, validation_data=test_data)"
   ]
  },
  {
   "cell_type": "code",
   "execution_count": 19,
   "id": "hearing-dispatch",
   "metadata": {},
   "outputs": [],
   "source": [
    "%matplotlib inline \n",
    "import matplotlib.pyplot as plt \n",
    "def plot_graphs(history,string):\n",
    "    plt.plot(history.history[string]) \n",
    "    plt.plot(history.history['val_'+string]) \n",
    "    plt.xlabel('Epochs') \n",
    "    plt.ylabel(string) \n",
    "    plt.legend([string,'val_'+string]) \n",
    "    plt.show() "
   ]
  },
  {
   "cell_type": "code",
   "execution_count": 20,
   "id": "selected-school",
   "metadata": {},
   "outputs": [
    {
     "data": {
      "image/png": "[encoded data removed]",
      "text/plain": [
       "<Figure size 432x288 with 1 Axes>"
      ]
     },
     "metadata": {
      "needs_background": "light"
     },
     "output_type": "display_data"
    },
    {
     "data": {
      "image/png": "[encoded data removed]",
      "text/plain": [
       "<Figure size 432x288 with 1 Axes>"
      ]
     },
     "metadata": {
      "needs_background": "light"
     },
     "output_type": "display_data"
    }
   ],
   "source": [
    "plot_graphs(history, \"accuracy\")\n",
    "plot_graphs(history, \"loss\")"
   ]
  },
  {
   "cell_type": "code",
   "execution_count": 21,
   "id": "federal-lebanon",
   "metadata": {},
   "outputs": [
    {
     "data": {
      "text/plain": [
       "<PaddedBatchDataset shapes: ((None, None), (None,)), types: (tf.int64, tf.int64)>"
      ]
     },
     "execution_count": 21,
     "metadata": {},
     "output_type": "execute_result"
    }
   ],
   "source": [
    "train_data"
   ]
  },
  {
   "cell_type": "code",
   "execution_count": 22,
   "id": "bound-logan",
   "metadata": {},
   "outputs": [
    {
     "name": "stdout",
     "output_type": "stream",
     "text": [
      "(<tf.Tensor: shape=(64, 921), dtype=int64, numpy=\n",
      "array([[ 324,   12,  284, ...,    0,    0,    0],\n",
      "       [  12,   18, 1401, ...,    0,    0,    0],\n",
      "       [1044,   61,    7, ...,    0,    0,    0],\n",
      "       ...,\n",
      "       [5499, 1414, 5071, ...,    0,    0,    0],\n",
      "       [2016,   39, 7968, ...,    0,    0,    0],\n",
      "       [4728,   90,   12, ...,    0,    0,    0]])>, <tf.Tensor: shape=(64,), dtype=int64, numpy=\n",
      "array([0, 1, 0, 0, 1, 1, 0, 1, 1, 1, 0, 0, 1, 1, 1, 0, 0, 0, 0, 1, 1, 1,\n",
      "       1, 0, 1, 1, 1, 0, 1, 0, 1, 1, 1, 1, 1, 0, 0, 0, 1, 0, 0, 1, 1, 0,\n",
      "       1, 1, 1, 0, 0, 0, 0, 0, 0, 1, 0, 1, 1, 1, 1, 1, 1, 1, 1, 1])>)\n"
     ]
    }
   ],
   "source": [
    "for a in train_data:\n",
    "    print(a) \n",
    "    break "
   ]
  },
  {
   "cell_type": "code",
   "execution_count": null,
   "id": "tender-rates",
   "metadata": {},
   "outputs": [],
   "source": []
  }
 ],
 "metadata": {
  "kernelspec": {
   "display_name": "Python 3",
   "language": "python",
   "name": "python3"
  },
  "language_info": {
   "codemirror_mode": {
    "name": "ipython",
    "version": 3
   },
   "file_extension": ".py",
   "mimetype": "text/x-python",
   "name": "python",
   "nbconvert_exporter": "python",
   "pygments_lexer": "ipython3",
   "version": "3.6.13"
  }
 },
 "nbformat": 4,
 "nbformat_minor": 5
}
