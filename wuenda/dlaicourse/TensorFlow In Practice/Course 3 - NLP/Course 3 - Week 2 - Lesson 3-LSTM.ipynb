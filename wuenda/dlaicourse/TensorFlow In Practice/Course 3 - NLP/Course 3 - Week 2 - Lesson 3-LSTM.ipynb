{
 "cells": [
  {
   "cell_type": "code",
   "execution_count": 1,
   "id": "funny-township",
   "metadata": {},
   "outputs": [
    {
     "name": "stdout",
     "output_type": "stream",
     "text": [
      "2.1.0\n"
     ]
    }
   ],
   "source": [
    "import tensorflow as tf \n",
    "print(tf.__version__)"
   ]
  },
  {
   "cell_type": "code",
   "execution_count": 2,
   "id": "adult-fifty",
   "metadata": {},
   "outputs": [
    {
     "name": "stderr",
     "output_type": "stream",
     "text": [
      "WARNING:absl:TFDS datasets with text encoding are deprecated and will be removed in a future version. Instead, you should use the plain text version and tokenize the text using `tensorflow_text` (See: https://www.tensorflow.org/tutorials/tensorflow_text/intro#tfdata_example)\n"
     ]
    }
   ],
   "source": [
    "import tensorflow_datasets as tfds \n",
    "gpu_options = tf.compat.v1.GPUOptions(per_process_gpu_memory_fraction=0.2)\n",
    "config=tf.compat.v1.ConfigProto(gpu_options=gpu_options)\n",
    "session = tf.compat.v1.Session(config=config)\n",
    "\n",
    "imdb,info=tfds.load('imdb_reviews/subwords8k',with_info=True,as_supervised=True)\n",
    "train_data1,test_data1=imdb['train'],imdb['test'] \n",
    "\n",
    "tokenizer=info.features['text'].encoder \n"
   ]
  },
  {
   "cell_type": "code",
   "execution_count": 3,
   "id": "separated-evanescence",
   "metadata": {},
   "outputs": [
    {
     "name": "stdout",
     "output_type": "stream",
     "text": [
      "Tokenized string is [6307, 2327, 4043, 2120, 2, 48, 2715, 7, 2652, 8050]\n"
     ]
    }
   ],
   "source": [
    "\n",
    "sample_string='TensorFlow, from basic to mastery'\n",
    "tokenized_string =tokenizer.encode(sample_string) \n",
    "print('Tokenized string is {}'.format(tokenized_string))\n",
    "\n"
   ]
  },
  {
   "cell_type": "code",
   "execution_count": 4,
   "id": "separated-purple",
   "metadata": {},
   "outputs": [
    {
     "name": "stdout",
     "output_type": "stream",
     "text": [
      "The original string : TensorFlow, from basic to mastery\n"
     ]
    }
   ],
   "source": [
    "\n",
    "original_string=tokenizer.decode(tokenized_string) \n",
    "print('The original string : {}'.format(original_string))"
   ]
  },
  {
   "cell_type": "code",
   "execution_count": 5,
   "id": "ongoing-chair",
   "metadata": {},
   "outputs": [
    {
     "name": "stdout",
     "output_type": "stream",
     "text": [
      "6307 ----->Ten\n",
      "2327 ----->sor\n",
      "4043 ----->Fl\n",
      "2120 ----->ow\n",
      "2 ----->, \n",
      "48 ----->from \n",
      "2715 ----->basic \n",
      "7 ----->to \n",
      "2652 ----->master\n",
      "8050 ----->y\n"
     ]
    }
   ],
   "source": [
    "for ts in tokenized_string:\n",
    "    print('{} ----->{}'.format(ts,tokenizer.decode([ts])))"
   ]
  },
  {
   "cell_type": "code",
   "execution_count": 6,
   "id": "owned-camel",
   "metadata": {},
   "outputs": [],
   "source": [
    "embedding_dim = 64\n",
    "\n",
    "model = tf.keras.Sequential([\n",
    "    tf.keras.layers.Embedding(tokenizer.vocab_size, embedding_dim),\n",
    "    tf.keras.layers.Bidirectional(tf.keras.layers.LSTM(64)),\n",
    "    tf.keras.layers.Dense(10, activation='relu'),\n",
    "    tf.keras.layers.Dense(1, activation='sigmoid')\n",
    "])"
   ]
  },
  {
   "cell_type": "code",
   "execution_count": 7,
   "id": "pediatric-monroe",
   "metadata": {},
   "outputs": [
    {
     "name": "stdout",
     "output_type": "stream",
     "text": [
      "Model: \"sequential\"\n",
      "_________________________________________________________________\n",
      "Layer (type)                 Output Shape              Param #   \n",
      "=================================================================\n",
      "embedding (Embedding)        (None, None, 64)          523840    \n",
      "_________________________________________________________________\n",
      "bidirectional (Bidirectional (None, 128)               66048     \n",
      "_________________________________________________________________\n",
      "dense (Dense)                (None, 10)                1290      \n",
      "_________________________________________________________________\n",
      "dense_1 (Dense)              (None, 1)                 11        \n",
      "=================================================================\n",
      "Total params: 591,189\n",
      "Trainable params: 591,189\n",
      "Non-trainable params: 0\n",
      "_________________________________________________________________\n"
     ]
    }
   ],
   "source": [
    "model.summary() "
   ]
  },
  {
   "cell_type": "code",
   "execution_count": 8,
   "id": "ongoing-above",
   "metadata": {},
   "outputs": [
    {
     "data": {
      "text/plain": [
       "523840"
      ]
     },
     "execution_count": 8,
     "metadata": {},
     "output_type": "execute_result"
    }
   ],
   "source": [
    "tokenizer.vocab_size*embedding_dim"
   ]
  },
  {
   "cell_type": "code",
   "execution_count": 9,
   "id": "compliant-radical",
   "metadata": {},
   "outputs": [
    {
     "name": "stdout",
     "output_type": "stream",
     "text": [
      "Epoch 1/50\n",
      "391/391 [==============================] - 117s 299ms/step - loss: 0.5673 - accuracy: 0.7015 - val_loss: 0.6057 - val_accuracy: 0.6573\n",
      "Epoch 2/50\n",
      "391/391 [==============================] - 113s 288ms/step - loss: 0.4014 - accuracy: 0.8305 - val_loss: 0.4076 - val_accuracy: 0.8230\n",
      "Epoch 3/50\n",
      "391/391 [==============================] - 112s 286ms/step - loss: 0.4131 - accuracy: 0.8201 - val_loss: 0.4705 - val_accuracy: 0.8018\n",
      "Epoch 4/50\n",
      "391/391 [==============================] - 112s 286ms/step - loss: 0.2970 - accuracy: 0.8827 - val_loss: 0.4119 - val_accuracy: 0.8414\n",
      "Epoch 5/50\n",
      "391/391 [==============================] - 113s 288ms/step - loss: 0.2620 - accuracy: 0.9003 - val_loss: 0.4973 - val_accuracy: 0.8214\n",
      "Epoch 6/50\n",
      "391/391 [==============================] - 112s 286ms/step - loss: 0.2245 - accuracy: 0.9168 - val_loss: 0.4492 - val_accuracy: 0.8154\n",
      "Epoch 7/50\n",
      "391/391 [==============================] - 113s 289ms/step - loss: 0.3136 - accuracy: 0.8617 - val_loss: 0.4992 - val_accuracy: 0.7980\n",
      "Epoch 8/50\n",
      "391/391 [==============================] - 112s 286ms/step - loss: 0.5115 - accuracy: 0.7421 - val_loss: 0.8172 - val_accuracy: 0.5331\n",
      "Epoch 9/50\n",
      "391/391 [==============================] - 113s 289ms/step - loss: 0.5770 - accuracy: 0.7064 - val_loss: 1.0712 - val_accuracy: 0.5012\n",
      "Epoch 10/50\n",
      "391/391 [==============================] - 113s 289ms/step - loss: 0.4836 - accuracy: 0.7657 - val_loss: 0.5033 - val_accuracy: 0.7736\n",
      "Epoch 11/50\n",
      "391/391 [==============================] - 112s 287ms/step - loss: 0.2784 - accuracy: 0.8901 - val_loss: 0.4150 - val_accuracy: 0.8260\n",
      "Epoch 12/50\n",
      "391/391 [==============================] - 111s 285ms/step - loss: 0.2786 - accuracy: 0.8885 - val_loss: 0.4475 - val_accuracy: 0.8262\n",
      "Epoch 13/50\n",
      "391/391 [==============================] - 112s 286ms/step - loss: 0.2278 - accuracy: 0.9140 - val_loss: 0.5728 - val_accuracy: 0.7107\n",
      "Epoch 14/50\n",
      "391/391 [==============================] - 113s 288ms/step - loss: 0.2116 - accuracy: 0.9200 - val_loss: 0.5102 - val_accuracy: 0.8272\n",
      "Epoch 15/50\n",
      "391/391 [==============================] - 113s 289ms/step - loss: 0.1419 - accuracy: 0.9512 - val_loss: 0.4718 - val_accuracy: 0.8231\n",
      "Epoch 16/50\n",
      "391/391 [==============================] - 113s 289ms/step - loss: 0.1181 - accuracy: 0.9594 - val_loss: 0.5784 - val_accuracy: 0.8208\n",
      "Epoch 17/50\n",
      "391/391 [==============================] - 113s 288ms/step - loss: 0.0870 - accuracy: 0.9722 - val_loss: 0.6597 - val_accuracy: 0.8249\n",
      "Epoch 18/50\n",
      "391/391 [==============================] - 112s 287ms/step - loss: 0.0707 - accuracy: 0.9786 - val_loss: 0.6892 - val_accuracy: 0.8207\n",
      "Epoch 19/50\n",
      "391/391 [==============================] - 112s 288ms/step - loss: 0.0643 - accuracy: 0.9807 - val_loss: 0.6540 - val_accuracy: 0.8250\n",
      "Epoch 20/50\n",
      "391/391 [==============================] - 112s 286ms/step - loss: 0.0598 - accuracy: 0.9818 - val_loss: 0.6970 - val_accuracy: 0.8236\n",
      "Epoch 21/50\n",
      "391/391 [==============================] - 113s 288ms/step - loss: 0.0478 - accuracy: 0.9868 - val_loss: 0.7690 - val_accuracy: 0.8187\n",
      "Epoch 22/50\n",
      "391/391 [==============================] - 113s 288ms/step - loss: 0.0382 - accuracy: 0.9894 - val_loss: 0.8218 - val_accuracy: 0.8142\n",
      "Epoch 23/50\n",
      "391/391 [==============================] - 114s 291ms/step - loss: 0.0373 - accuracy: 0.9895 - val_loss: 0.8508 - val_accuracy: 0.8248\n",
      "Epoch 24/50\n",
      "391/391 [==============================] - 111s 285ms/step - loss: 0.0313 - accuracy: 0.9916 - val_loss: 0.8827 - val_accuracy: 0.8208\n",
      "Epoch 25/50\n",
      "391/391 [==============================] - 113s 289ms/step - loss: 0.0323 - accuracy: 0.9909 - val_loss: 0.9916 - val_accuracy: 0.8234\n",
      "Epoch 26/50\n",
      "391/391 [==============================] - 112s 287ms/step - loss: 0.0335 - accuracy: 0.9907 - val_loss: 0.8617 - val_accuracy: 0.8210\n",
      "Epoch 27/50\n",
      "391/391 [==============================] - 112s 286ms/step - loss: 0.0212 - accuracy: 0.9947 - val_loss: 0.9867 - val_accuracy: 0.8156\n",
      "Epoch 28/50\n",
      "391/391 [==============================] - 113s 288ms/step - loss: 0.0132 - accuracy: 0.9968 - val_loss: 1.0822 - val_accuracy: 0.8183\n",
      "Epoch 29/50\n",
      "391/391 [==============================] - 112s 286ms/step - loss: 0.0156 - accuracy: 0.9957 - val_loss: 1.0709 - val_accuracy: 0.8132\n",
      "Epoch 30/50\n",
      "391/391 [==============================] - 112s 288ms/step - loss: 0.0213 - accuracy: 0.9937 - val_loss: 1.0234 - val_accuracy: 0.8097\n",
      "Epoch 31/50\n",
      "391/391 [==============================] - 113s 289ms/step - loss: 0.0163 - accuracy: 0.9951 - val_loss: 1.0583 - val_accuracy: 0.8290\n",
      "Epoch 32/50\n",
      "391/391 [==============================] - 114s 291ms/step - loss: 0.0174 - accuracy: 0.9953 - val_loss: 0.9814 - val_accuracy: 0.8256\n",
      "Epoch 33/50\n",
      "391/391 [==============================] - 112s 287ms/step - loss: 0.0104 - accuracy: 0.9975 - val_loss: 1.1293 - val_accuracy: 0.8226\n",
      "Epoch 34/50\n",
      "391/391 [==============================] - 112s 287ms/step - loss: 0.0168 - accuracy: 0.9957 - val_loss: 0.8040 - val_accuracy: 0.8238\n",
      "Epoch 35/50\n",
      "391/391 [==============================] - 113s 289ms/step - loss: 0.0152 - accuracy: 0.9954 - val_loss: 1.0500 - val_accuracy: 0.8193\n",
      "Epoch 36/50\n",
      "391/391 [==============================] - 112s 286ms/step - loss: 0.0110 - accuracy: 0.9972 - val_loss: 1.0994 - val_accuracy: 0.8262\n",
      "Epoch 37/50\n",
      "391/391 [==============================] - 112s 287ms/step - loss: 0.0114 - accuracy: 0.9969 - val_loss: 1.1323 - val_accuracy: 0.8090\n",
      "Epoch 38/50\n",
      "391/391 [==============================] - 113s 289ms/step - loss: 0.0063 - accuracy: 0.9984 - val_loss: 1.2140 - val_accuracy: 0.8100\n",
      "Epoch 39/50\n",
      "391/391 [==============================] - 113s 288ms/step - loss: 0.0057 - accuracy: 0.9984 - val_loss: 1.1874 - val_accuracy: 0.8272\n",
      "Epoch 40/50\n",
      "391/391 [==============================] - 113s 288ms/step - loss: 0.0062 - accuracy: 0.9983 - val_loss: 1.3133 - val_accuracy: 0.8220\n",
      "Epoch 41/50\n",
      "391/391 [==============================] - 112s 286ms/step - loss: 0.0094 - accuracy: 0.9975 - val_loss: 1.1527 - val_accuracy: 0.8252\n",
      "Epoch 42/50\n",
      "391/391 [==============================] - 112s 286ms/step - loss: 0.0095 - accuracy: 0.9972 - val_loss: 1.0499 - val_accuracy: 0.8256\n",
      "Epoch 43/50\n",
      "391/391 [==============================] - 113s 289ms/step - loss: 0.0077 - accuracy: 0.9979 - val_loss: 1.2025 - val_accuracy: 0.8272\n",
      "Epoch 44/50\n",
      "391/391 [==============================] - 112s 287ms/step - loss: 0.0073 - accuracy: 0.9981 - val_loss: 1.1980 - val_accuracy: 0.8221\n",
      "Epoch 45/50\n",
      "391/391 [==============================] - 112s 287ms/step - loss: 0.0108 - accuracy: 0.9970 - val_loss: 1.0639 - val_accuracy: 0.8274\n",
      "Epoch 46/50\n",
      "391/391 [==============================] - 101s 259ms/step - loss: 0.0067 - accuracy: 0.9984 - val_loss: 1.2291 - val_accuracy: 0.8290\n",
      "Epoch 47/50\n",
      "391/391 [==============================] - 84s 215ms/step - loss: 0.0052 - accuracy: 0.9988 - val_loss: 1.2673 - val_accuracy: 0.8332\n",
      "Epoch 48/50\n",
      "391/391 [==============================] - 89s 228ms/step - loss: 0.0103 - accuracy: 0.9969 - val_loss: 1.1358 - val_accuracy: 0.8254\n",
      "Epoch 49/50\n",
      "391/391 [==============================] - 112s 287ms/step - loss: 0.0054 - accuracy: 0.9986 - val_loss: 1.2044 - val_accuracy: 0.8278\n",
      "Epoch 50/50\n",
      "391/391 [==============================] - 113s 288ms/step - loss: 0.0011 - accuracy: 0.9998 - val_loss: 1.4410 - val_accuracy: 0.8228\n"
     ]
    }
   ],
   "source": [
    "num_epochs = 50\n",
    "\n",
    "model.compile(loss='binary_crossentropy',optimizer='adam',metrics=['accuracy'])\n",
    "\n",
    "\n",
    "# train_data = train_data1.map(lambda x_text, x_label: (x_text, tf.expand_dims(x_label, -1)))\n",
    "# test_data = test_data1.map(lambda x_text, x_label: (x_text, tf.expand_dims(x_label, -1)))\n",
    "BUFFER_SIZE = 10000\n",
    "BATCH_SIZE = 64\n",
    "\n",
    "train_data1 = train_data1.shuffle(BUFFER_SIZE)\n",
    "train_data = train_data1.padded_batch(BATCH_SIZE, tf.compat.v1.data.get_output_shapes(train_data1))\n",
    "test_data= test_data1.padded_batch(BATCH_SIZE, tf.compat.v1.data.get_output_shapes(test_data1))\n",
    "\n",
    "\n",
    "history = model.fit(train_data, epochs=num_epochs, validation_data=test_data)"
   ]
  },
  {
   "cell_type": "code",
   "execution_count": 10,
   "id": "juvenile-diversity",
   "metadata": {},
   "outputs": [
    {
     "data": {
      "image/png": "[encoded data removed]",
      "text/plain": [
       "<Figure size 432x288 with 1 Axes>"
      ]
     },
     "metadata": {
      "needs_background": "light"
     },
     "output_type": "display_data"
    },
    {
     "data": {
      "image/png": "[encoded data removed]",
      "text/plain": [
       "<Figure size 432x288 with 1 Axes>"
      ]
     },
     "metadata": {
      "needs_background": "light"
     },
     "output_type": "display_data"
    }
   ],
   "source": [
    "import matplotlib.pyplot as plt \n",
    "%matplotlib inline \n",
    "def plot_graphs(history,string):\n",
    "    plt.plot(history.history[string]) \n",
    "    plt.plot(history.history['val_'+string]) \n",
    "    plt.xlabel('Epochs') \n",
    "    plt.ylabel(string) \n",
    "    plt.legend([string,'val_'+string]) \n",
    "    plt.show()\n",
    "plot_graphs(history, \"accuracy\")\n",
    "plot_graphs(history, \"loss\")"
   ]
  },
  {
   "cell_type": "code",
   "execution_count": null,
   "id": "corresponding-heating",
   "metadata": {},
   "outputs": [],
   "source": []
  },
  {
   "cell_type": "code",
   "execution_count": null,
   "id": "organized-pointer",
   "metadata": {},
   "outputs": [],
   "source": []
  }
 ],
 "metadata": {
  "kernelspec": {
   "display_name": "Python 3",
   "language": "python",
   "name": "python3"
  },
  "language_info": {
   "codemirror_mode": {
    "name": "ipython",
    "version": 3
   },
   "file_extension": ".py",
   "mimetype": "text/x-python",
   "name": "python",
   "nbconvert_exporter": "python",
   "pygments_lexer": "ipython3",
   "version": "3.6.13"
  }
 },
 "nbformat": 4,
 "nbformat_minor": 5
}
