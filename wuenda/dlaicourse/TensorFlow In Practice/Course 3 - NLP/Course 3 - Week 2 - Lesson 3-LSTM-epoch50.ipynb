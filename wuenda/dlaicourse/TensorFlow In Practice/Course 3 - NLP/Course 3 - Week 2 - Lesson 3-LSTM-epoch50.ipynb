{
 "cells": [
  {
   "cell_type": "code",
   "execution_count": 1,
   "id": "funny-township",
   "metadata": {},
   "outputs": [
    {
     "name": "stdout",
     "output_type": "stream",
     "text": [
      "2.1.0\n"
     ]
    }
   ],
   "source": [
    "import tensorflow as tf \n",
    "print(tf.__version__)"
   ]
  },
  {
   "cell_type": "code",
   "execution_count": 2,
   "id": "adult-fifty",
   "metadata": {},
   "outputs": [
    {
     "name": "stderr",
     "output_type": "stream",
     "text": [
      "WARNING:absl:TFDS datasets with text encoding are deprecated and will be removed in a future version. Instead, you should use the plain text version and tokenize the text using `tensorflow_text` (See: https://www.tensorflow.org/tutorials/tensorflow_text/intro#tfdata_example)\n"
     ]
    }
   ],
   "source": [
    "import tensorflow_datasets as tfds \n",
    "gpu_options = tf.compat.v1.GPUOptions(per_process_gpu_memory_fraction=0.2)\n",
    "config=tf.compat.v1.ConfigProto(gpu_options=gpu_options)\n",
    "session = tf.compat.v1.Session(config=config)\n",
    "imdb,info=tfds.load('imdb_reviews/subwords8k',with_info=True,as_supervised=True) \n",
    "\n",
    "train_data1,test_data1=imdb['train'],imdb['test'] \n",
    "\n",
    "tokenizer=info.features['text'].encoder \n"
   ]
  },
  {
   "cell_type": "code",
   "execution_count": 3,
   "id": "separated-evanescence",
   "metadata": {},
   "outputs": [
    {
     "name": "stdout",
     "output_type": "stream",
     "text": [
      "Tokenized string is [6307, 2327, 4043, 2120, 2, 48, 2715, 7, 2652, 8050]\n"
     ]
    }
   ],
   "source": [
    "\n",
    "sample_string='TensorFlow, from basic to mastery'\n",
    "tokenized_string =tokenizer.encode(sample_string) \n",
    "print('Tokenized string is {}'.format(tokenized_string))\n",
    "\n"
   ]
  },
  {
   "cell_type": "code",
   "execution_count": 4,
   "id": "separated-purple",
   "metadata": {},
   "outputs": [
    {
     "name": "stdout",
     "output_type": "stream",
     "text": [
      "The original string : TensorFlow, from basic to mastery\n"
     ]
    }
   ],
   "source": [
    "\n",
    "original_string=tokenizer.decode(tokenized_string) \n",
    "print('The original string : {}'.format(original_string))"
   ]
  },
  {
   "cell_type": "code",
   "execution_count": 5,
   "id": "ongoing-chair",
   "metadata": {},
   "outputs": [
    {
     "name": "stdout",
     "output_type": "stream",
     "text": [
      "6307 ----->Ten\n",
      "2327 ----->sor\n",
      "4043 ----->Fl\n",
      "2120 ----->ow\n",
      "2 ----->, \n",
      "48 ----->from \n",
      "2715 ----->basic \n",
      "7 ----->to \n",
      "2652 ----->master\n",
      "8050 ----->y\n"
     ]
    }
   ],
   "source": [
    "for ts in tokenized_string:\n",
    "    print('{} ----->{}'.format(ts,tokenizer.decode([ts])))"
   ]
  },
  {
   "cell_type": "code",
   "execution_count": 6,
   "id": "owned-camel",
   "metadata": {},
   "outputs": [],
   "source": [
    "embedding_dim = 64\n",
    "\n",
    "model = tf.keras.Sequential([\n",
    "    tf.keras.layers.Embedding(tokenizer.vocab_size, embedding_dim),\n",
    "    tf.keras.layers.Bidirectional(tf.keras.layers.LSTM(64)),\n",
    "    tf.keras.layers.Dense(64, activation='relu'),\n",
    "    tf.keras.layers.Dense(1, activation='sigmoid')\n",
    "])"
   ]
  },
  {
   "cell_type": "code",
   "execution_count": 7,
   "id": "signed-latex",
   "metadata": {},
   "outputs": [
    {
     "name": "stdout",
     "output_type": "stream",
     "text": [
      "Model: \"sequential\"\n",
      "_________________________________________________________________\n",
      "Layer (type)                 Output Shape              Param #   \n",
      "=================================================================\n",
      "embedding (Embedding)        (None, None, 64)          523840    \n",
      "_________________________________________________________________\n",
      "bidirectional (Bidirectional (None, 128)               66048     \n",
      "_________________________________________________________________\n",
      "dense (Dense)                (None, 64)                8256      \n",
      "_________________________________________________________________\n",
      "dense_1 (Dense)              (None, 1)                 65        \n",
      "=================================================================\n",
      "Total params: 598,209\n",
      "Trainable params: 598,209\n",
      "Non-trainable params: 0\n",
      "_________________________________________________________________\n"
     ]
    }
   ],
   "source": [
    "model.summary() "
   ]
  },
  {
   "cell_type": "code",
   "execution_count": 8,
   "id": "ongoing-above",
   "metadata": {},
   "outputs": [
    {
     "data": {
      "text/plain": [
       "523840"
      ]
     },
     "execution_count": 8,
     "metadata": {},
     "output_type": "execute_result"
    }
   ],
   "source": [
    "tokenizer.vocab_size*embedding_dim"
   ]
  },
  {
   "cell_type": "code",
   "execution_count": 9,
   "id": "compliant-radical",
   "metadata": {},
   "outputs": [
    {
     "name": "stdout",
     "output_type": "stream",
     "text": [
      "Epoch 1/50\n",
      "391/391 [==============================] - 91s 233ms/step - loss: 0.5464 - accuracy: 0.7260 - val_loss: 0.7162 - val_accuracy: 0.5262\n",
      "Epoch 2/50\n",
      "391/391 [==============================] - 98s 250ms/step - loss: 0.3935 - accuracy: 0.8372 - val_loss: 0.4513 - val_accuracy: 0.7994\n",
      "Epoch 3/50\n",
      "391/391 [==============================] - 111s 285ms/step - loss: 0.2993 - accuracy: 0.8834 - val_loss: 0.4388 - val_accuracy: 0.7924\n",
      "Epoch 4/50\n",
      "391/391 [==============================] - 112s 286ms/step - loss: 0.2614 - accuracy: 0.9012 - val_loss: 0.5083 - val_accuracy: 0.8007\n",
      "Epoch 5/50\n",
      "391/391 [==============================] - 108s 275ms/step - loss: 0.3472 - accuracy: 0.8507 - val_loss: 0.4337 - val_accuracy: 0.8372\n",
      "Epoch 6/50\n",
      "391/391 [==============================] - 111s 284ms/step - loss: 0.2579 - accuracy: 0.8998 - val_loss: 0.5350 - val_accuracy: 0.8325\n",
      "Epoch 7/50\n",
      "391/391 [==============================] - 111s 285ms/step - loss: 0.1839 - accuracy: 0.9323 - val_loss: 0.5008 - val_accuracy: 0.8318\n",
      "Epoch 8/50\n",
      "391/391 [==============================] - 112s 285ms/step - loss: 0.1468 - accuracy: 0.9479 - val_loss: 0.5576 - val_accuracy: 0.8112\n",
      "Epoch 9/50\n",
      "391/391 [==============================] - 113s 289ms/step - loss: 0.1154 - accuracy: 0.9593 - val_loss: 0.6945 - val_accuracy: 0.8178\n",
      "Epoch 10/50\n",
      "391/391 [==============================] - 112s 286ms/step - loss: 0.0932 - accuracy: 0.9690 - val_loss: 0.6318 - val_accuracy: 0.7938\n",
      "Epoch 11/50\n",
      "391/391 [==============================] - 112s 287ms/step - loss: 0.0820 - accuracy: 0.9736 - val_loss: 0.7174 - val_accuracy: 0.7962\n",
      "Epoch 12/50\n",
      "391/391 [==============================] - 112s 287ms/step - loss: 0.0871 - accuracy: 0.9714 - val_loss: 0.7018 - val_accuracy: 0.7930\n",
      "Epoch 13/50\n",
      "391/391 [==============================] - 113s 290ms/step - loss: 0.0814 - accuracy: 0.9725 - val_loss: 1.0699 - val_accuracy: 0.7217\n",
      "Epoch 14/50\n",
      "391/391 [==============================] - 111s 285ms/step - loss: 0.0554 - accuracy: 0.9834 - val_loss: 0.8708 - val_accuracy: 0.8011\n",
      "Epoch 15/50\n",
      "391/391 [==============================] - 112s 286ms/step - loss: 0.0560 - accuracy: 0.9819 - val_loss: 0.8688 - val_accuracy: 0.8207\n",
      "Epoch 16/50\n",
      "391/391 [==============================] - 112s 286ms/step - loss: 0.1009 - accuracy: 0.9673 - val_loss: 0.7270 - val_accuracy: 0.7928\n",
      "Epoch 17/50\n",
      "391/391 [==============================] - 112s 287ms/step - loss: 0.0475 - accuracy: 0.9844 - val_loss: 0.9387 - val_accuracy: 0.7926\n",
      "Epoch 18/50\n",
      "391/391 [==============================] - 112s 286ms/step - loss: 0.0449 - accuracy: 0.9865 - val_loss: 0.8935 - val_accuracy: 0.8069\n",
      "Epoch 19/50\n",
      "391/391 [==============================] - 112s 287ms/step - loss: 0.0350 - accuracy: 0.9900 - val_loss: 0.9260 - val_accuracy: 0.8108\n",
      "Epoch 20/50\n",
      "391/391 [==============================] - 112s 287ms/step - loss: 0.0372 - accuracy: 0.9890 - val_loss: 1.0628 - val_accuracy: 0.7898\n",
      "Epoch 21/50\n",
      "391/391 [==============================] - 115s 293ms/step - loss: 0.0571 - accuracy: 0.9804 - val_loss: 0.9225 - val_accuracy: 0.7889\n",
      "Epoch 22/50\n",
      "391/391 [==============================] - 112s 286ms/step - loss: 0.0351 - accuracy: 0.9890 - val_loss: 1.1168 - val_accuracy: 0.8122\n",
      "Epoch 23/50\n",
      "391/391 [==============================] - 112s 286ms/step - loss: 0.0243 - accuracy: 0.9926 - val_loss: 1.0327 - val_accuracy: 0.8231\n",
      "Epoch 24/50\n",
      "391/391 [==============================] - 112s 285ms/step - loss: 0.0098 - accuracy: 0.9974 - val_loss: 1.3391 - val_accuracy: 0.7990\n",
      "Epoch 25/50\n",
      "391/391 [==============================] - 112s 287ms/step - loss: 0.2194 - accuracy: 0.8946 - val_loss: 0.6493 - val_accuracy: 0.6533\n",
      "Epoch 26/50\n",
      "391/391 [==============================] - 112s 288ms/step - loss: 0.2365 - accuracy: 0.9021 - val_loss: 0.7137 - val_accuracy: 0.7639\n",
      "Epoch 27/50\n",
      "391/391 [==============================] - 113s 289ms/step - loss: 0.0630 - accuracy: 0.9775 - val_loss: 0.8163 - val_accuracy: 0.8145\n",
      "Epoch 28/50\n",
      "391/391 [==============================] - 112s 286ms/step - loss: 0.0208 - accuracy: 0.9938 - val_loss: 1.1495 - val_accuracy: 0.7989\n",
      "Epoch 29/50\n",
      "391/391 [==============================] - 113s 288ms/step - loss: 0.0209 - accuracy: 0.9938 - val_loss: 1.0966 - val_accuracy: 0.8087\n",
      "Epoch 30/50\n",
      "391/391 [==============================] - 113s 289ms/step - loss: 0.0227 - accuracy: 0.9935 - val_loss: 1.1736 - val_accuracy: 0.8090\n",
      "Epoch 31/50\n",
      "391/391 [==============================] - 112s 286ms/step - loss: 0.0082 - accuracy: 0.9976 - val_loss: 1.4264 - val_accuracy: 0.7956\n",
      "Epoch 32/50\n",
      "391/391 [==============================] - 112s 286ms/step - loss: 0.0058 - accuracy: 0.9984 - val_loss: 1.4691 - val_accuracy: 0.7922\n",
      "Epoch 33/50\n",
      "391/391 [==============================] - 113s 288ms/step - loss: 0.0029 - accuracy: 0.9995 - val_loss: 1.5569 - val_accuracy: 0.8050\n",
      "Epoch 34/50\n",
      "391/391 [==============================] - 112s 287ms/step - loss: 8.9505e-04 - accuracy: 0.9999 - val_loss: 1.6302 - val_accuracy: 0.8088\n",
      "Epoch 35/50\n",
      "391/391 [==============================] - 113s 288ms/step - loss: 4.7767e-04 - accuracy: 0.9998 - val_loss: 1.7390 - val_accuracy: 0.8041\n",
      "Epoch 36/50\n",
      "391/391 [==============================] - 112s 287ms/step - loss: 0.0134 - accuracy: 0.9960 - val_loss: 1.1513 - val_accuracy: 0.8242\n",
      "Epoch 37/50\n",
      "391/391 [==============================] - 114s 291ms/step - loss: 0.0329 - accuracy: 0.9888 - val_loss: 1.1491 - val_accuracy: 0.8026\n",
      "Epoch 38/50\n",
      "391/391 [==============================] - 113s 289ms/step - loss: 0.0126 - accuracy: 0.9963 - val_loss: 1.2815 - val_accuracy: 0.8053\n",
      "Epoch 39/50\n",
      "391/391 [==============================] - 112s 285ms/step - loss: 0.0085 - accuracy: 0.9978 - val_loss: 1.3533 - val_accuracy: 0.7757\n",
      "Epoch 40/50\n",
      "391/391 [==============================] - 112s 286ms/step - loss: 0.0070 - accuracy: 0.9975 - val_loss: 1.5189 - val_accuracy: 0.7988\n",
      "Epoch 41/50\n",
      "391/391 [==============================] - 113s 290ms/step - loss: 0.0145 - accuracy: 0.9959 - val_loss: 1.2102 - val_accuracy: 0.8078\n",
      "Epoch 42/50\n",
      "391/391 [==============================] - 113s 288ms/step - loss: 0.0062 - accuracy: 0.9981 - val_loss: 1.6519 - val_accuracy: 0.8114\n",
      "Epoch 43/50\n",
      "391/391 [==============================] - 112s 286ms/step - loss: 0.0086 - accuracy: 0.9970 - val_loss: 1.5287 - val_accuracy: 0.7978\n",
      "Epoch 44/50\n",
      "391/391 [==============================] - 112s 287ms/step - loss: 0.0102 - accuracy: 0.9968 - val_loss: 1.3855 - val_accuracy: 0.8044\n",
      "Epoch 45/50\n",
      "391/391 [==============================] - 113s 290ms/step - loss: 0.0036 - accuracy: 0.9989 - val_loss: 1.4281 - val_accuracy: 0.8177\n",
      "Epoch 46/50\n",
      "391/391 [==============================] - 112s 287ms/step - loss: 0.0054 - accuracy: 0.9983 - val_loss: 1.4953 - val_accuracy: 0.8146\n",
      "Epoch 47/50\n",
      "391/391 [==============================] - 112s 286ms/step - loss: 0.0099 - accuracy: 0.9963 - val_loss: 1.3070 - val_accuracy: 0.8292\n",
      "Epoch 48/50\n",
      "391/391 [==============================] - 112s 287ms/step - loss: 0.0097 - accuracy: 0.9964 - val_loss: 1.4095 - val_accuracy: 0.7978\n",
      "Epoch 49/50\n",
      "391/391 [==============================] - 113s 290ms/step - loss: 0.0043 - accuracy: 0.9987 - val_loss: 1.5790 - val_accuracy: 0.7804\n",
      "Epoch 50/50\n",
      "391/391 [==============================] - 114s 291ms/step - loss: 0.0030 - accuracy: 0.9991 - val_loss: 1.5923 - val_accuracy: 0.8025\n"
     ]
    }
   ],
   "source": [
    "num_epochs = 50\n",
    "\n",
    "model.compile(loss='binary_crossentropy',optimizer='adam',metrics=['accuracy'])\n",
    " \n",
    "BUFFER_SIZE = 10000\n",
    "BATCH_SIZE = 64\n",
    "\n",
    "train_data1 = train_data1.shuffle(BUFFER_SIZE)\n",
    "train_data = train_data1.padded_batch(BATCH_SIZE, tf.compat.v1.data.get_output_shapes(train_data1))\n",
    "test_data= test_data1.padded_batch(BATCH_SIZE, tf.compat.v1.data.get_output_shapes(test_data1))\n",
    "\n",
    "# train_data = train_data1.map(lambda x_text, x_label: (x_text, tf.expand_dims(x_label, -1)))\n",
    "# test_data = test_data1.map(lambda x_text, x_label: (x_text, tf.expand_dims(x_label, -1)))\n",
    "\n",
    "history = model.fit(train_data, epochs=num_epochs, validation_data=test_data)"
   ]
  },
  {
   "cell_type": "code",
   "execution_count": 11,
   "id": "juvenile-diversity",
   "metadata": {},
   "outputs": [
    {
     "data": {
      "image/png": "[encoded data removed]",
      "text/plain": [
       "<Figure size 432x288 with 1 Axes>"
      ]
     },
     "metadata": {
      "needs_background": "light"
     },
     "output_type": "display_data"
    },
    {
     "data": {
      "image/png": "[encoded data removed]",
      "text/plain": [
       "<Figure size 432x288 with 1 Axes>"
      ]
     },
     "metadata": {
      "needs_background": "light"
     },
     "output_type": "display_data"
    }
   ],
   "source": [
    "%matplotlib inline \n",
    "import matplotlib.pyplot as plt \n",
    "def plot_graphs(history,string):\n",
    "    plt.plot(history.history[string]) \n",
    "    plt.plot(history.history['val_'+string]) \n",
    "    plt.xlabel('Epochs') \n",
    "    plt.ylabel(string)  \n",
    "    plt.legend([string,'val_'+string]) \n",
    "    plt.show()\n",
    "plot_graphs(history, \"accuracy\")\n",
    "plot_graphs(history, \"loss\")"
   ]
  },
  {
   "cell_type": "code",
   "execution_count": null,
   "id": "formed-orientation",
   "metadata": {},
   "outputs": [],
   "source": []
  },
  {
   "cell_type": "code",
   "execution_count": null,
   "id": "hourly-edgar",
   "metadata": {},
   "outputs": [],
   "source": []
  }
 ],
 "metadata": {
  "kernelspec": {
   "display_name": "Python 3",
   "language": "python",
   "name": "python3"
  },
  "language_info": {
   "codemirror_mode": {
    "name": "ipython",
    "version": 3
   },
   "file_extension": ".py",
   "mimetype": "text/x-python",
   "name": "python",
   "nbconvert_exporter": "python",
   "pygments_lexer": "ipython3",
   "version": "3.6.13"
  }
 },
 "nbformat": 4,
 "nbformat_minor": 5
}
