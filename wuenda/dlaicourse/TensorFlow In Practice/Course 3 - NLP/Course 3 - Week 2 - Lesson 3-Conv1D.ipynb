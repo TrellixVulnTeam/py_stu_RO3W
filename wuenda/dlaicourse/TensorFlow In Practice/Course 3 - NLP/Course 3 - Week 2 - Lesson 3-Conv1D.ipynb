{
 "cells": [
  {
   "cell_type": "code",
   "execution_count": 1,
   "id": "eastern-studio",
   "metadata": {},
   "outputs": [],
   "source": [
    "# !pip install tensorflow==2.1.0"
   ]
  },
  {
   "cell_type": "code",
   "execution_count": 2,
   "id": "relevant-mistress",
   "metadata": {},
   "outputs": [
    {
     "name": "stdout",
     "output_type": "stream",
     "text": [
      "2.1.0\n"
     ]
    }
   ],
   "source": [
    "import tensorflow as tf \n",
    "print(tf.__version__)"
   ]
  },
  {
   "cell_type": "code",
   "execution_count": 3,
   "id": "discrete-shakespeare",
   "metadata": {},
   "outputs": [],
   "source": [
    "# !pip install -q tensorflow-datasets "
   ]
  },
  {
   "cell_type": "code",
   "execution_count": 4,
   "id": "unlikely-yugoslavia",
   "metadata": {},
   "outputs": [
    {
     "name": "stderr",
     "output_type": "stream",
     "text": [
      "WARNING:absl:TFDS datasets with text encoding are deprecated and will be removed in a future version. Instead, you should use the plain text version and tokenize the text using `tensorflow_text` (See: https://www.tensorflow.org/tutorials/tensorflow_text/intro#tfdata_example)\n"
     ]
    }
   ],
   "source": [
    "import tensorflow_datasets as tfds \n",
    "gpu_options = tf.compat.v1.GPUOptions(per_process_gpu_memory_fraction=0.2)\n",
    "config=tf.compat.v1.ConfigProto(gpu_options=gpu_options)\n",
    "session = tf.compat.v1.Session(config=config)\n",
    "\n",
    "imdb,info=tfds.load('imdb_reviews/subwords8k',with_info=True,as_supervised=True) "
   ]
  },
  {
   "cell_type": "code",
   "execution_count": 5,
   "id": "numerical-sugar",
   "metadata": {},
   "outputs": [],
   "source": [
    "train_data1,test_data1=imdb['train'],imdb['test'] "
   ]
  },
  {
   "cell_type": "code",
   "execution_count": 6,
   "id": "foreign-object",
   "metadata": {},
   "outputs": [],
   "source": [
    "tokenizer=info.features['text'].encoder \n",
    " "
   ]
  },
  {
   "cell_type": "code",
   "execution_count": 7,
   "id": "talented-polymer",
   "metadata": {},
   "outputs": [
    {
     "name": "stdout",
     "output_type": "stream",
     "text": [
      "Tokenized string is [6307, 2327, 4043, 2120, 2, 48, 2715, 7, 2652, 8050]\n"
     ]
    }
   ],
   "source": [
    "sample_string='TensorFlow, from basic to mastery'\n",
    "tokenized_string =tokenizer.encode(sample_string) \n",
    "print('Tokenized string is {}'.format(tokenized_string))"
   ]
  },
  {
   "cell_type": "code",
   "execution_count": 8,
   "id": "severe-alexandria",
   "metadata": {},
   "outputs": [
    {
     "name": "stdout",
     "output_type": "stream",
     "text": [
      "The original string : TensorFlow, from basic to mastery\n"
     ]
    }
   ],
   "source": [
    "original_string=tokenizer.decode(tokenized_string) \n",
    "print('The original string : {}'.format(original_string))"
   ]
  },
  {
   "cell_type": "code",
   "execution_count": 9,
   "id": "moved-infrastructure",
   "metadata": {},
   "outputs": [
    {
     "name": "stdout",
     "output_type": "stream",
     "text": [
      "6307 ----->Ten\n",
      "2327 ----->sor\n",
      "4043 ----->Fl\n",
      "2120 ----->ow\n",
      "2 ----->, \n",
      "48 ----->from \n",
      "2715 ----->basic \n",
      "7 ----->to \n",
      "2652 ----->master\n",
      "8050 ----->y\n"
     ]
    }
   ],
   "source": [
    "for ts in tokenized_string:\n",
    "    print('{} ----->{}'.format(ts,tokenizer.decode([ts])))"
   ]
  },
  {
   "cell_type": "code",
   "execution_count": 10,
   "id": "naval-network",
   "metadata": {},
   "outputs": [
    {
     "data": {
      "text/plain": [
       "8185"
      ]
     },
     "execution_count": 10,
     "metadata": {},
     "output_type": "execute_result"
    }
   ],
   "source": [
    "tokenizer.vocab_size"
   ]
  },
  {
   "cell_type": "code",
   "execution_count": 11,
   "id": "correct-polls",
   "metadata": {},
   "outputs": [],
   "source": [
    "embedding_dim = 64\n",
    "max_length=120\n",
    "\n",
    "model = tf.keras.Sequential([\n",
    "    tf.keras.layers.Embedding(tokenizer.vocab_size, embedding_dim),\n",
    "    tf.keras.layers.Conv1D(128,5,activation='relu'), \n",
    "    tf.keras.layers.GlobalAveragePooling1D(),\n",
    "    tf.keras.layers.Dense(64, activation='relu'),\n",
    "    tf.keras.layers.Dense(1, activation='sigmoid')\n",
    "])"
   ]
  },
  {
   "cell_type": "code",
   "execution_count": 12,
   "id": "mexican-christianity",
   "metadata": {},
   "outputs": [
    {
     "name": "stdout",
     "output_type": "stream",
     "text": [
      "Model: \"sequential\"\n",
      "_________________________________________________________________\n",
      "Layer (type)                 Output Shape              Param #   \n",
      "=================================================================\n",
      "embedding (Embedding)        (None, None, 64)          523840    \n",
      "_________________________________________________________________\n",
      "conv1d (Conv1D)              (None, None, 128)         41088     \n",
      "_________________________________________________________________\n",
      "global_average_pooling1d (Gl (None, 128)               0         \n",
      "_________________________________________________________________\n",
      "dense (Dense)                (None, 64)                8256      \n",
      "_________________________________________________________________\n",
      "dense_1 (Dense)              (None, 1)                 65        \n",
      "=================================================================\n",
      "Total params: 573,249\n",
      "Trainable params: 573,249\n",
      "Non-trainable params: 0\n",
      "_________________________________________________________________\n"
     ]
    }
   ],
   "source": [
    "model.summary() "
   ]
  },
  {
   "cell_type": "code",
   "execution_count": 13,
   "id": "sorted-allowance",
   "metadata": {},
   "outputs": [
    {
     "data": {
      "text/plain": [
       "523840"
      ]
     },
     "execution_count": 13,
     "metadata": {},
     "output_type": "execute_result"
    }
   ],
   "source": [
    "tokenizer.vocab_size*embedding_dim"
   ]
  },
  {
   "cell_type": "code",
   "execution_count": 14,
   "id": "velvet-afghanistan",
   "metadata": {},
   "outputs": [
    {
     "name": "stdout",
     "output_type": "stream",
     "text": [
      "Epoch 1/50\n",
      "391/391 [==============================] - 27s 69ms/step - loss: 0.4676 - accuracy: 0.7645 - val_loss: 0.3164 - val_accuracy: 0.8774\n",
      "Epoch 2/50\n",
      "391/391 [==============================] - 15s 37ms/step - loss: 0.2321 - accuracy: 0.9146 - val_loss: 0.3036 - val_accuracy: 0.8796\n",
      "Epoch 3/50\n",
      "391/391 [==============================] - 13s 34ms/step - loss: 0.1737 - accuracy: 0.9368 - val_loss: 0.3338 - val_accuracy: 0.8729\n",
      "Epoch 4/50\n",
      "391/391 [==============================] - 13s 34ms/step - loss: 0.1400 - accuracy: 0.9511 - val_loss: 0.3846 - val_accuracy: 0.8696\n",
      "Epoch 5/50\n",
      "391/391 [==============================] - 12s 32ms/step - loss: 0.1119 - accuracy: 0.9612 - val_loss: 0.4250 - val_accuracy: 0.8672\n",
      "Epoch 6/50\n",
      "391/391 [==============================] - 12s 32ms/step - loss: 0.0910 - accuracy: 0.9692 - val_loss: 0.4923 - val_accuracy: 0.8612\n",
      "Epoch 7/50\n",
      "391/391 [==============================] - 12s 31ms/step - loss: 0.0714 - accuracy: 0.9768 - val_loss: 0.5668 - val_accuracy: 0.8568\n",
      "Epoch 8/50\n",
      "391/391 [==============================] - 12s 30ms/step - loss: 0.0535 - accuracy: 0.9841 - val_loss: 0.6594 - val_accuracy: 0.8566\n",
      "Epoch 9/50\n",
      "391/391 [==============================] - 12s 30ms/step - loss: 0.0411 - accuracy: 0.9888 - val_loss: 0.7818 - val_accuracy: 0.8490\n",
      "Epoch 10/50\n",
      "391/391 [==============================] - 12s 31ms/step - loss: 0.0353 - accuracy: 0.9900 - val_loss: 0.8406 - val_accuracy: 0.8478\n",
      "Epoch 11/50\n",
      "391/391 [==============================] - 12s 30ms/step - loss: 0.0302 - accuracy: 0.9907 - val_loss: 0.9233 - val_accuracy: 0.8505\n",
      "Epoch 12/50\n",
      "391/391 [==============================] - 12s 31ms/step - loss: 0.0234 - accuracy: 0.9941 - val_loss: 0.9666 - val_accuracy: 0.8515\n",
      "Epoch 13/50\n",
      "391/391 [==============================] - 12s 31ms/step - loss: 0.0164 - accuracy: 0.9965 - val_loss: 1.0717 - val_accuracy: 0.8501\n",
      "Epoch 14/50\n",
      "391/391 [==============================] - 12s 30ms/step - loss: 0.0136 - accuracy: 0.9969 - val_loss: 1.2103 - val_accuracy: 0.8510\n",
      "Epoch 15/50\n",
      "391/391 [==============================] - 12s 31ms/step - loss: 0.0238 - accuracy: 0.9920 - val_loss: 1.0533 - val_accuracy: 0.8514\n",
      "Epoch 16/50\n",
      "391/391 [==============================] - 13s 32ms/step - loss: 0.0183 - accuracy: 0.9948 - val_loss: 1.1182 - val_accuracy: 0.8502\n",
      "Epoch 17/50\n",
      "391/391 [==============================] - 12s 30ms/step - loss: 0.0087 - accuracy: 0.9982 - val_loss: 1.3284 - val_accuracy: 0.8503\n",
      "Epoch 18/50\n",
      "391/391 [==============================] - 12s 30ms/step - loss: 0.0042 - accuracy: 0.9998 - val_loss: 1.4629 - val_accuracy: 0.8479\n",
      "Epoch 19/50\n",
      "391/391 [==============================] - 12s 30ms/step - loss: 0.0021 - accuracy: 0.9999 - val_loss: 1.5274 - val_accuracy: 0.8475\n",
      "Epoch 20/50\n",
      "391/391 [==============================] - 12s 30ms/step - loss: 0.0016 - accuracy: 0.9999 - val_loss: 1.5343 - val_accuracy: 0.8484\n",
      "Epoch 21/50\n",
      "391/391 [==============================] - 12s 30ms/step - loss: 0.0013 - accuracy: 1.0000 - val_loss: 1.6629 - val_accuracy: 0.8475\n",
      "Epoch 22/50\n",
      "391/391 [==============================] - 12s 30ms/step - loss: 9.9616e-04 - accuracy: 1.0000 - val_loss: 1.6914 - val_accuracy: 0.8470\n",
      "Epoch 23/50\n",
      "391/391 [==============================] - 12s 30ms/step - loss: 7.4291e-04 - accuracy: 1.0000 - val_loss: 1.8021 - val_accuracy: 0.8467\n",
      "Epoch 24/50\n",
      "391/391 [==============================] - 12s 30ms/step - loss: 0.0220 - accuracy: 0.9924 - val_loss: 1.2617 - val_accuracy: 0.8442\n",
      "Epoch 25/50\n",
      "391/391 [==============================] - 12s 30ms/step - loss: 0.0384 - accuracy: 0.9861 - val_loss: 1.1101 - val_accuracy: 0.8494\n",
      "Epoch 26/50\n",
      "391/391 [==============================] - 12s 31ms/step - loss: 0.0108 - accuracy: 0.9967 - val_loss: 1.4514 - val_accuracy: 0.8496\n",
      "Epoch 27/50\n",
      "391/391 [==============================] - 12s 31ms/step - loss: 0.0052 - accuracy: 0.9985 - val_loss: 1.7741 - val_accuracy: 0.8420\n",
      "Epoch 28/50\n",
      "391/391 [==============================] - 12s 30ms/step - loss: 0.0054 - accuracy: 0.9984 - val_loss: 1.6682 - val_accuracy: 0.8467\n",
      "Epoch 29/50\n",
      "391/391 [==============================] - 12s 29ms/step - loss: 0.0064 - accuracy: 0.9982 - val_loss: 1.5649 - val_accuracy: 0.8416\n",
      "Epoch 30/50\n",
      "391/391 [==============================] - 12s 30ms/step - loss: 0.0094 - accuracy: 0.9971 - val_loss: 1.5251 - val_accuracy: 0.8464\n",
      "Epoch 31/50\n",
      "391/391 [==============================] - 12s 30ms/step - loss: 0.0112 - accuracy: 0.9965 - val_loss: 1.5036 - val_accuracy: 0.8468\n",
      "Epoch 32/50\n",
      "391/391 [==============================] - 12s 29ms/step - loss: 0.0078 - accuracy: 0.9978 - val_loss: 1.9268 - val_accuracy: 0.8352\n",
      "Epoch 33/50\n",
      "391/391 [==============================] - 11s 29ms/step - loss: 0.0060 - accuracy: 0.9984 - val_loss: 1.5677 - val_accuracy: 0.8452\n",
      "Epoch 34/50\n",
      "391/391 [==============================] - 12s 30ms/step - loss: 0.0025 - accuracy: 0.9995 - val_loss: 1.8478 - val_accuracy: 0.8456\n",
      "Epoch 35/50\n",
      "391/391 [==============================] - 12s 31ms/step - loss: 0.0090 - accuracy: 0.9968 - val_loss: 1.5986 - val_accuracy: 0.8394\n",
      "Epoch 36/50\n",
      "391/391 [==============================] - 12s 30ms/step - loss: 0.0088 - accuracy: 0.9967 - val_loss: 1.7061 - val_accuracy: 0.8461\n",
      "Epoch 37/50\n",
      "391/391 [==============================] - 12s 30ms/step - loss: 0.0055 - accuracy: 0.9983 - val_loss: 1.7380 - val_accuracy: 0.8470\n",
      "Epoch 38/50\n",
      "391/391 [==============================] - 12s 31ms/step - loss: 0.0026 - accuracy: 0.9995 - val_loss: 2.0097 - val_accuracy: 0.8455\n",
      "Epoch 39/50\n",
      "391/391 [==============================] - 12s 30ms/step - loss: 0.0037 - accuracy: 0.9986 - val_loss: 1.9350 - val_accuracy: 0.8497\n",
      "Epoch 40/50\n",
      "391/391 [==============================] - 12s 30ms/step - loss: 0.0064 - accuracy: 0.9980 - val_loss: 1.4935 - val_accuracy: 0.8501\n",
      "Epoch 41/50\n",
      "391/391 [==============================] - 12s 30ms/step - loss: 0.0044 - accuracy: 0.9984 - val_loss: 1.8559 - val_accuracy: 0.8496\n",
      "Epoch 42/50\n",
      "391/391 [==============================] - 12s 30ms/step - loss: 0.0050 - accuracy: 0.9984 - val_loss: 1.8543 - val_accuracy: 0.8482\n",
      "Epoch 43/50\n",
      "391/391 [==============================] - 12s 30ms/step - loss: 0.0029 - accuracy: 0.9990 - val_loss: 2.0461 - val_accuracy: 0.8477\n",
      "Epoch 44/50\n",
      "391/391 [==============================] - 12s 30ms/step - loss: 0.0070 - accuracy: 0.9976 - val_loss: 1.6905 - val_accuracy: 0.8486\n",
      "Epoch 45/50\n",
      "391/391 [==============================] - 12s 30ms/step - loss: 0.0069 - accuracy: 0.9976 - val_loss: 1.9279 - val_accuracy: 0.8488\n",
      "Epoch 46/50\n",
      "391/391 [==============================] - 12s 30ms/step - loss: 0.0072 - accuracy: 0.9976 - val_loss: 2.0190 - val_accuracy: 0.8430\n",
      "Epoch 47/50\n",
      "391/391 [==============================] - 12s 31ms/step - loss: 0.0031 - accuracy: 0.9991 - val_loss: 2.0141 - val_accuracy: 0.8472\n",
      "Epoch 48/50\n",
      "391/391 [==============================] - 12s 30ms/step - loss: 6.9594e-04 - accuracy: 0.9999 - val_loss: 2.1950 - val_accuracy: 0.8468\n",
      "Epoch 49/50\n",
      "391/391 [==============================] - 12s 32ms/step - loss: 5.9436e-04 - accuracy: 0.9998 - val_loss: 2.2293 - val_accuracy: 0.8461\n",
      "Epoch 50/50\n",
      "391/391 [==============================] - 12s 31ms/step - loss: 2.3289e-04 - accuracy: 1.0000 - val_loss: 2.3038 - val_accuracy: 0.8463\n"
     ]
    }
   ],
   "source": [
    "num_epochs = 50\n",
    "\n",
    "model.compile(loss='binary_crossentropy',optimizer='adam',metrics=['accuracy'])\n",
    "# train_data = train_data1.map(lambda x_text, x_label: (x_text, tf.expand_dims(x_label, -1)),num_parallel_calls=16)\n",
    "# train_data = train_data1.map(lambda x_text, x_label: (x_text, tf.expand_dims(x_label, -1)))\n",
    "# test_data = test_data1.map(lambda x_text, x_label: (x_text, tf.expand_dims(x_label, -1)),num_parallel_calls=16)\n",
    "# test_data = test_data1.map(lambda x_text, x_label: (x_text, tf.expand_dims(x_label, -1)))\n",
    "\n",
    "BUFFER_SIZE = 10000\n",
    "BATCH_SIZE = 64\n",
    "\n",
    "train_data1 = train_data1.shuffle(BUFFER_SIZE)\n",
    "train_data = train_data1.padded_batch(BATCH_SIZE, tf.compat.v1.data.get_output_shapes(train_data1))\n",
    "test_data= test_data1.padded_batch(BATCH_SIZE, tf.compat.v1.data.get_output_shapes(test_data1))\n",
    "\n",
    "\n",
    "\n",
    "history = model.fit(train_data, epochs=num_epochs, validation_data=test_data)"
   ]
  },
  {
   "cell_type": "code",
   "execution_count": 15,
   "id": "hearing-dispatch",
   "metadata": {},
   "outputs": [],
   "source": [
    "import matplotlib.pyplot as plt \n",
    "def plot_graphs(history,string):\n",
    "    plt.plot(history.history[string]) \n",
    "    plt.plot(history.history['val_'+string]) \n",
    "    plt.xlabel('Epochs') \n",
    "    plt.ylabel(string) \n",
    "    plt.legend([string,'val_'+string]) \n",
    "    plt.show() "
   ]
  },
  {
   "cell_type": "code",
   "execution_count": 16,
   "id": "selected-school",
   "metadata": {},
   "outputs": [
    {
     "data": {
      "image/png": "[encoded data removed]",
      "text/plain": [
       "<Figure size 432x288 with 1 Axes>"
      ]
     },
     "metadata": {
      "needs_background": "light"
     },
     "output_type": "display_data"
    },
    {
     "data": {
      "image/png": "[encoded data removed]",
      "text/plain": [
       "<Figure size 432x288 with 1 Axes>"
      ]
     },
     "metadata": {
      "needs_background": "light"
     },
     "output_type": "display_data"
    }
   ],
   "source": [
    "plot_graphs(history, \"accuracy\")\n",
    "plot_graphs(history, \"loss\")"
   ]
  },
  {
   "cell_type": "code",
   "execution_count": 17,
   "id": "federal-lebanon",
   "metadata": {},
   "outputs": [
    {
     "data": {
      "text/plain": [
       "<PaddedBatchDataset shapes: ((None, None), (None,)), types: (tf.int64, tf.int64)>"
      ]
     },
     "execution_count": 17,
     "metadata": {},
     "output_type": "execute_result"
    }
   ],
   "source": [
    "train_data"
   ]
  },
  {
   "cell_type": "code",
   "execution_count": 18,
   "id": "bound-logan",
   "metadata": {},
   "outputs": [
    {
     "name": "stdout",
     "output_type": "stream",
     "text": [
      "(<tf.Tensor: shape=(64, 1301), dtype=int64, numpy=\n",
      "array([[  19,   27,   18, ...,    0,    0,    0],\n",
      "       [6000,  105,  579, ...,    0,    0,    0],\n",
      "       [ 518,  218,   14, ...,    0,    0,    0],\n",
      "       ...,\n",
      "       [2812,  686, 5118, ...,    0,    0,    0],\n",
      "       [  12,  284,   14, ...,    0,    0,    0],\n",
      "       [ 324,  218,  150, ...,    0,    0,    0]])>, <tf.Tensor: shape=(64,), dtype=int64, numpy=\n",
      "array([0, 0, 1, 0, 1, 0, 0, 1, 0, 0, 0, 1, 0, 1, 1, 0, 0, 0, 1, 1, 1, 1,\n",
      "       1, 0, 1, 1, 0, 0, 1, 1, 1, 0, 0, 1, 0, 0, 0, 0, 0, 0, 1, 1, 0, 1,\n",
      "       0, 0, 0, 1, 0, 0, 1, 0, 1, 0, 1, 0, 1, 1, 0, 0, 1, 1, 0, 0])>)\n"
     ]
    }
   ],
   "source": [
    "for a in train_data:\n",
    "    print(a) \n",
    "    break "
   ]
  },
  {
   "cell_type": "code",
   "execution_count": null,
   "id": "tender-rates",
   "metadata": {},
   "outputs": [],
   "source": []
  }
 ],
 "metadata": {
  "kernelspec": {
   "display_name": "Python 3",
   "language": "python",
   "name": "python3"
  },
  "language_info": {
   "codemirror_mode": {
    "name": "ipython",
    "version": 3
   },
   "file_extension": ".py",
   "mimetype": "text/x-python",
   "name": "python",
   "nbconvert_exporter": "python",
   "pygments_lexer": "ipython3",
   "version": "3.6.13"
  }
 },
 "nbformat": 4,
 "nbformat_minor": 5
}
