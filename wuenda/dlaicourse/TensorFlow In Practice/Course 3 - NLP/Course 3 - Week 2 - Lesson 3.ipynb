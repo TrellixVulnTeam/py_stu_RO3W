{
 "cells": [
  {
   "cell_type": "code",
   "execution_count": 1,
   "id": "eastern-studio",
   "metadata": {},
   "outputs": [],
   "source": [
    "# !pip install tensorflow==2.1.0"
   ]
  },
  {
   "cell_type": "code",
   "execution_count": 18,
   "id": "relevant-mistress",
   "metadata": {},
   "outputs": [
    {
     "name": "stdout",
     "output_type": "stream",
     "text": [
      "2.1.0\n"
     ]
    }
   ],
   "source": [
    "import tensorflow as tf \n",
    "print(tf.__version__)"
   ]
  },
  {
   "cell_type": "code",
   "execution_count": 19,
   "id": "discrete-shakespeare",
   "metadata": {},
   "outputs": [],
   "source": [
    "# !pip install -q tensorflow-datasets "
   ]
  },
  {
   "cell_type": "code",
   "execution_count": 20,
   "id": "unlikely-yugoslavia",
   "metadata": {},
   "outputs": [
    {
     "name": "stderr",
     "output_type": "stream",
     "text": [
      "WARNING:absl:TFDS datasets with text encoding are deprecated and will be removed in a future version. Instead, you should use the plain text version and tokenize the text using `tensorflow_text` (See: https://www.tensorflow.org/tutorials/tensorflow_text/intro#tfdata_example)\n"
     ]
    }
   ],
   "source": [
    "import tensorflow_datasets as tfds \n",
    "\n",
    "gpu_options = tf.compat.v1.GPUOptions(per_process_gpu_memory_fraction=0.2)\n",
    "config=tf.compat.v1.ConfigProto(gpu_options=gpu_options)\n",
    "session = tf.compat.v1.Session(config=config)\n",
    "\n",
    "imdb,info=tfds.load('imdb_reviews/subwords8k',with_info=True,as_supervised=True) "
   ]
  },
  {
   "cell_type": "code",
   "execution_count": 21,
   "id": "numerical-sugar",
   "metadata": {},
   "outputs": [],
   "source": [
    "train_data1,test_data1=imdb['train'],imdb['test'] "
   ]
  },
  {
   "cell_type": "code",
   "execution_count": 22,
   "id": "foreign-object",
   "metadata": {},
   "outputs": [],
   "source": [
    "tokenizer=info.features['text'].encoder \n",
    " "
   ]
  },
  {
   "cell_type": "code",
   "execution_count": 23,
   "id": "talented-polymer",
   "metadata": {},
   "outputs": [
    {
     "name": "stdout",
     "output_type": "stream",
     "text": [
      "Tokenized string is [6307, 2327, 4043, 2120, 2, 48, 2715, 7, 2652, 8050]\n"
     ]
    }
   ],
   "source": [
    "sample_string='TensorFlow, from basic to mastery'\n",
    "tokenized_string =tokenizer.encode(sample_string) \n",
    "print('Tokenized string is {}'.format(tokenized_string))"
   ]
  },
  {
   "cell_type": "code",
   "execution_count": 24,
   "id": "severe-alexandria",
   "metadata": {},
   "outputs": [
    {
     "name": "stdout",
     "output_type": "stream",
     "text": [
      "The original string : TensorFlow, from basic to mastery\n"
     ]
    }
   ],
   "source": [
    "original_string=tokenizer.decode(tokenized_string) \n",
    "print('The original string : {}'.format(original_string))"
   ]
  },
  {
   "cell_type": "code",
   "execution_count": 25,
   "id": "moved-infrastructure",
   "metadata": {},
   "outputs": [
    {
     "name": "stdout",
     "output_type": "stream",
     "text": [
      "6307 ----->Ten\n",
      "2327 ----->sor\n",
      "4043 ----->Fl\n",
      "2120 ----->ow\n",
      "2 ----->, \n",
      "48 ----->from \n",
      "2715 ----->basic \n",
      "7 ----->to \n",
      "2652 ----->master\n",
      "8050 ----->y\n"
     ]
    }
   ],
   "source": [
    "for ts in tokenized_string:\n",
    "    print('{} ----->{}'.format(ts,tokenizer.decode([ts])))"
   ]
  },
  {
   "cell_type": "code",
   "execution_count": 30,
   "id": "treated-pocket",
   "metadata": {},
   "outputs": [],
   "source": [
    "embedding_dim = 64\n",
    "\n",
    "model = tf.keras.Sequential([\n",
    "    tf.keras.layers.Embedding(tokenizer.vocab_size, embedding_dim),\n",
    "    tf.keras.layers.GlobalAveragePooling1D(),\n",
    "    tf.keras.layers.Dense(10, activation='relu'),\n",
    "    tf.keras.layers.Dense(1, activation='sigmoid')\n",
    "])"
   ]
  },
  {
   "cell_type": "code",
   "execution_count": 31,
   "id": "sorted-allowance",
   "metadata": {},
   "outputs": [
    {
     "data": {
      "text/plain": [
       "523840"
      ]
     },
     "execution_count": 31,
     "metadata": {},
     "output_type": "execute_result"
    }
   ],
   "source": [
    "tokenizer.vocab_size*embedding_dim"
   ]
  },
  {
   "cell_type": "code",
   "execution_count": 32,
   "id": "velvet-afghanistan",
   "metadata": {},
   "outputs": [
    {
     "name": "stdout",
     "output_type": "stream",
     "text": [
      "Epoch 1/10\n",
      "  18366/Unknown - 168s 9ms/step - loss: 0.6857 - accuracy: 0.529"
     ]
    },
    {
     "name": "stderr",
     "output_type": "stream",
     "text": [
      "IOPub message rate exceeded.\n",
      "The notebook server will temporarily stop sending output\n",
      "to the client in order to avoid crashing it.\n",
      "To change this limit, set the config variable\n",
      "`--NotebookApp.iopub_msg_rate_limit`.\n",
      "\n",
      "Current values:\n",
      "NotebookApp.iopub_msg_rate_limit=1000.0 (msgs/sec)\n",
      "NotebookApp.rate_limit_window=3.0 (secs)\n",
      "\n"
     ]
    },
    {
     "name": "stdout",
     "output_type": "stream",
     "text": [
      "25000/25000 [==============================] - 289s 12ms/step - loss: 0.6854 - accuracy: 0.5291 - val_loss: 0.6858 - val_accuracy: 0.5334\n",
      "Epoch 2/10\n",
      "25000/25000 [==============================] - 253s 10ms/step - loss: 0.6831 - accuracy: 0.5372 - val_loss: 0.6855 - val_accuracy: 0.5371\n",
      "Epoch 3/10\n",
      "25000/25000 [==============================] - 252s 10ms/step - loss: 0.6824 - accuracy: 0.5417 - val_loss: 0.6857 - val_accuracy: 0.5376\n",
      "Epoch 4/10\n",
      "25000/25000 [==============================] - 254s 10ms/step - loss: 0.6818 - accuracy: 0.5435 - val_loss: 0.6863 - val_accuracy: 0.5366\n",
      "Epoch 5/10\n",
      "25000/25000 [==============================] - 251s 10ms/step - loss: 0.6813 - accuracy: 0.5444 - val_loss: 0.6867 - val_accuracy: 0.5360\n",
      "Epoch 6/10\n",
      "25000/25000 [==============================] - 252s 10ms/step - loss: 0.6810 - accuracy: 0.5450 - val_loss: 0.6872 - val_accuracy: 0.5343\n",
      "Epoch 7/10\n",
      "25000/25000 [==============================] - 251s 10ms/step - loss: 0.6807 - accuracy: 0.5458 - val_loss: 0.6876 - val_accuracy: 0.5348\n",
      "Epoch 8/10\n",
      "25000/25000 [==============================] - 251s 10ms/step - loss: 0.6805 - accuracy: 0.5458 - val_loss: 0.6878 - val_accuracy: 0.5354\n",
      "Epoch 9/10\n",
      "25000/25000 [==============================] - 253s 10ms/step - loss: 0.6803 - accuracy: 0.5460 - val_loss: 0.6879 - val_accuracy: 0.5362\n",
      "Epoch 10/10\n",
      "25000/25000 [==============================] - 253s 10ms/step - loss: 0.6801 - accuracy: 0.5459 - val_loss: 0.6882 - val_accuracy: 0.5362\n"
     ]
    }
   ],
   "source": [
    "num_epochs = 50\n",
    "\n",
    "model.compile(loss='binary_crossentropy',optimizer='adam',metrics=['accuracy'])\n",
    "# train_data = train_data1.map(lambda x_text, x_label: (x_text, tf.expand_dims(x_label, -1)))\n",
    "# test_data = test_data1.map(lambda x_text, x_label: (x_text, tf.expand_dims(x_label, -1)))\n",
    "BUFFER_SIZE = 10000\n",
    "BATCH_SIZE = 64\n",
    "\n",
    "train_data1 = train_data1.shuffle(BUFFER_SIZE)\n",
    "train_data = train_data1.padded_batch(BATCH_SIZE, tf.compat.v1.data.get_output_shapes(train_data1))\n",
    "test_data= test_data1.padded_batch(BATCH_SIZE, tf.compat.v1.data.get_output_shapes(test_data1))\n",
    "\n",
    "history = model.fit(train_data, epochs=num_epochs, validation_data=test_data)"
   ]
  },
  {
   "cell_type": "code",
   "execution_count": 13,
   "id": "hearing-dispatch",
   "metadata": {},
   "outputs": [],
   "source": [
    "import matplotlib.pyplot as plt \n",
    "def plot_graphs(history,string):\n",
    "    plt.plot(history.history[string]) \n",
    "    plt.plot(history.history['val_'+string]) \n",
    "    plt.xlabel('Epochs') \n",
    "    plt.ylabel(string) \n",
    "    plt.legend([string,'val_'+string]) \n",
    "    plt.show() "
   ]
  },
  {
   "cell_type": "code",
   "execution_count": 14,
   "id": "selected-school",
   "metadata": {},
   "outputs": [
    {
     "data": {
      "image/png": "[encoded data removed]",
      "text/plain": [
       "<Figure size 432x288 with 1 Axes>"
      ]
     },
     "metadata": {
      "needs_background": "light"
     },
     "output_type": "display_data"
    },
    {
     "data": {
      "image/png": "[encoded data removed]",
      "text/plain": [
       "<Figure size 432x288 with 1 Axes>"
      ]
     },
     "metadata": {
      "needs_background": "light"
     },
     "output_type": "display_data"
    }
   ],
   "source": [
    "plot_graphs(history, \"accuracy\")\n",
    "plot_graphs(history, \"loss\")"
   ]
  },
  {
   "cell_type": "code",
   "execution_count": 16,
   "id": "federal-lebanon",
   "metadata": {},
   "outputs": [
    {
     "data": {
      "text/plain": [
       "<MapDataset shapes: ((None,), (1,)), types: (tf.int64, tf.int64)>"
      ]
     },
     "execution_count": 16,
     "metadata": {},
     "output_type": "execute_result"
    }
   ],
   "source": [
    "train_data"
   ]
  },
  {
   "cell_type": "code",
   "execution_count": 17,
   "id": "bound-logan",
   "metadata": {},
   "outputs": [
    {
     "name": "stdout",
     "output_type": "stream",
     "text": [
      "(<tf.Tensor: shape=(163,), dtype=int64, numpy=\n",
      "array([  62,   18,   41,  604,  927,   65,    3,  644, 7968,   21,   35,\n",
      "       5096,   36,   11,   43, 2948, 5240,  102,   50,  681, 7862, 1244,\n",
      "          3, 3266,   29,  122,  640,    2,   26,   14,  279,  438,   35,\n",
      "         79,  349,  384,   11, 1991,    3,  492,   79,  122,  188,  117,\n",
      "         33, 4047, 4531,   14,   65, 7968,    8, 1819, 3947,    3,   62,\n",
      "         27,    9,   41,  577, 5044, 2629, 2552, 7193, 7961, 3642,    3,\n",
      "         19,  107, 3903,  225,   85,  198,   72,    1, 1512,  738, 2347,\n",
      "        102, 6245,    8,   85,  308,   79, 6936, 7961,   23, 4981, 8044,\n",
      "          3, 6429, 7961, 1141, 1335, 1848, 4848,   55, 3601, 4217, 8050,\n",
      "          2,    5,   59, 3831, 1484, 8040, 7974,  174, 5773,   22, 5240,\n",
      "        102,   18,  247,   26,    4, 3903, 1612, 3902,  291,   11,    4,\n",
      "         27,   13,   18, 4092, 4008, 7961,    6,  119,  213, 2774,    3,\n",
      "         12,  258, 2306,   13,   91,   29,  171,   52,  229,    2, 1245,\n",
      "       5790,  995, 7968,    8,   52, 2948, 5240, 8039, 7968,    8,   74,\n",
      "       1249,    3,   12,  117, 2438, 1369,  192,   39, 7975])>, <tf.Tensor: shape=(1,), dtype=int64, numpy=array([0])>)\n"
     ]
    }
   ],
   "source": [
    "for a in train_data:\n",
    "    print(a) \n",
    "    break "
   ]
  },
  {
   "cell_type": "code",
   "execution_count": null,
   "id": "tender-rates",
   "metadata": {},
   "outputs": [],
   "source": []
  }
 ],
 "metadata": {
  "kernelspec": {
   "display_name": "Python 3",
   "language": "python",
   "name": "python3"
  },
  "language_info": {
   "codemirror_mode": {
    "name": "ipython",
    "version": 3
   },
   "file_extension": ".py",
   "mimetype": "text/x-python",
   "name": "python",
   "nbconvert_exporter": "python",
   "pygments_lexer": "ipython3",
   "version": "3.6.13"
  }
 },
 "nbformat": 4,
 "nbformat_minor": 5
}
