{
 "cells": [
  {
   "cell_type": "code",
   "execution_count": 9,
   "id": "coral-terry",
   "metadata": {},
   "outputs": [
    {
     "name": "stdout",
     "output_type": "stream",
     "text": [
      "Found existing installation: pgl 1.2.1\n",
      "Uninstalling pgl-1.2.1:\n",
      "  Would remove:\n",
      "    /home/dske/anaconda3/envs/gluon/lib/python3.6/site-packages/pgl-1.2.1.dist-info/*\n",
      "    /home/dske/anaconda3/envs/gluon/lib/python3.6/site-packages/pgl/*\n",
      "Proceed (y/n)? ^C\n",
      "\u001b[31mERROR: Operation cancelled by user\u001b[0m\n",
      "Looking in indexes: http://pypi.douban.com/simple/\n",
      "Requirement already satisfied: pgl in /home/dske/anaconda3/envs/gluon/lib/python3.6/site-packages (1.2.1)\n",
      "Requirement already satisfied: cython>=0.25.2 in /home/dske/anaconda3/envs/gluon/lib/python3.6/site-packages (from pgl) (0.29.22)\n",
      "Requirement already satisfied: visualdl>=2.0.0b in /home/dske/anaconda3/envs/gluon/lib/python3.6/site-packages (from pgl) (2.1.1)\n",
      "Requirement already satisfied: redis-py-cluster in /home/dske/anaconda3/envs/gluon/lib/python3.6/site-packages (from pgl) (2.1.0)\n",
      "Requirement already satisfied: numpy>=1.16.4 in /home/dske/anaconda3/envs/gluon/lib/python3.6/site-packages (from pgl) (1.19.2)\n",
      "Requirement already satisfied: requests in /home/dske/anaconda3/envs/gluon/lib/python3.6/site-packages (from visualdl>=2.0.0b->pgl) (2.25.1)\n",
      "Requirement already satisfied: bce-python-sdk in /home/dske/anaconda3/envs/gluon/lib/python3.6/site-packages (from visualdl>=2.0.0b->pgl) (0.8.53)\n",
      "Requirement already satisfied: six>=1.14.0 in /home/dske/anaconda3/envs/gluon/lib/python3.6/site-packages (from visualdl>=2.0.0b->pgl) (1.15.0)\n",
      "Requirement already satisfied: flake8>=3.7.9 in /home/dske/anaconda3/envs/gluon/lib/python3.6/site-packages (from visualdl>=2.0.0b->pgl) (3.8.4)\n",
      "Requirement already satisfied: flask>=1.1.1 in /home/dske/anaconda3/envs/gluon/lib/python3.6/site-packages (from visualdl>=2.0.0b->pgl) (1.1.2)\n",
      "Requirement already satisfied: Flask-Babel>=1.0.0 in /home/dske/anaconda3/envs/gluon/lib/python3.6/site-packages (from visualdl>=2.0.0b->pgl) (2.0.0)\n",
      "Requirement already satisfied: Pillow>=7.0.0 in /home/dske/anaconda3/envs/gluon/lib/python3.6/site-packages (from visualdl>=2.0.0b->pgl) (8.1.0)\n",
      "Requirement already satisfied: pre-commit in /home/dske/anaconda3/envs/gluon/lib/python3.6/site-packages (from visualdl>=2.0.0b->pgl) (2.10.1)\n",
      "Requirement already satisfied: protobuf>=3.11.0 in /home/dske/anaconda3/envs/gluon/lib/python3.6/site-packages (from visualdl>=2.0.0b->pgl) (3.14.0)\n",
      "Requirement already satisfied: shellcheck-py in /home/dske/anaconda3/envs/gluon/lib/python3.6/site-packages (from visualdl>=2.0.0b->pgl) (0.7.1.1)\n",
      "Requirement already satisfied: mccabe<0.7.0,>=0.6.0 in /home/dske/anaconda3/envs/gluon/lib/python3.6/site-packages (from flake8>=3.7.9->visualdl>=2.0.0b->pgl) (0.6.1)\n",
      "Requirement already satisfied: importlib-metadata in /home/dske/anaconda3/envs/gluon/lib/python3.6/site-packages (from flake8>=3.7.9->visualdl>=2.0.0b->pgl) (2.0.0)\n",
      "Requirement already satisfied: pycodestyle<2.7.0,>=2.6.0a1 in /home/dske/anaconda3/envs/gluon/lib/python3.6/site-packages (from flake8>=3.7.9->visualdl>=2.0.0b->pgl) (2.6.0)\n",
      "Requirement already satisfied: pyflakes<2.3.0,>=2.2.0 in /home/dske/anaconda3/envs/gluon/lib/python3.6/site-packages (from flake8>=3.7.9->visualdl>=2.0.0b->pgl) (2.2.0)\n",
      "Requirement already satisfied: itsdangerous>=0.24 in /home/dske/anaconda3/envs/gluon/lib/python3.6/site-packages (from flask>=1.1.1->visualdl>=2.0.0b->pgl) (1.1.0)\n",
      "Requirement already satisfied: click>=5.1 in /home/dske/anaconda3/envs/gluon/lib/python3.6/site-packages (from flask>=1.1.1->visualdl>=2.0.0b->pgl) (7.1.2)\n",
      "Requirement already satisfied: Werkzeug>=0.15 in /home/dske/anaconda3/envs/gluon/lib/python3.6/site-packages (from flask>=1.1.1->visualdl>=2.0.0b->pgl) (1.0.1)\n",
      "Requirement already satisfied: Jinja2>=2.10.1 in /home/dske/anaconda3/envs/gluon/lib/python3.6/site-packages (from flask>=1.1.1->visualdl>=2.0.0b->pgl) (2.11.3)\n",
      "Requirement already satisfied: pytz in /home/dske/anaconda3/envs/gluon/lib/python3.6/site-packages (from Flask-Babel>=1.0.0->visualdl>=2.0.0b->pgl) (2021.1)\n",
      "Requirement already satisfied: Babel>=2.3 in /home/dske/anaconda3/envs/gluon/lib/python3.6/site-packages (from Flask-Babel>=1.0.0->visualdl>=2.0.0b->pgl) (2.9.0)\n",
      "Requirement already satisfied: MarkupSafe>=0.23 in /home/dske/anaconda3/envs/gluon/lib/python3.6/site-packages (from Jinja2>=2.10.1->flask>=1.1.1->visualdl>=2.0.0b->pgl) (1.1.1)\n",
      "Requirement already satisfied: pycryptodome>=3.8.0 in /home/dske/anaconda3/envs/gluon/lib/python3.6/site-packages (from bce-python-sdk->visualdl>=2.0.0b->pgl) (3.10.1)\n",
      "Requirement already satisfied: future>=0.6.0 in /home/dske/anaconda3/envs/gluon/lib/python3.6/site-packages (from bce-python-sdk->visualdl>=2.0.0b->pgl) (0.18.2)\n",
      "Requirement already satisfied: zipp>=0.5 in /home/dske/anaconda3/envs/gluon/lib/python3.6/site-packages (from importlib-metadata->flake8>=3.7.9->visualdl>=2.0.0b->pgl) (3.4.0)\n",
      "Requirement already satisfied: importlib-resources in /home/dske/anaconda3/envs/gluon/lib/python3.6/site-packages (from pre-commit->visualdl>=2.0.0b->pgl) (5.1.2)\n",
      "Requirement already satisfied: virtualenv>=20.0.8 in /home/dske/anaconda3/envs/gluon/lib/python3.6/site-packages (from pre-commit->visualdl>=2.0.0b->pgl) (20.4.2)\n",
      "Requirement already satisfied: identify>=1.0.0 in /home/dske/anaconda3/envs/gluon/lib/python3.6/site-packages (from pre-commit->visualdl>=2.0.0b->pgl) (2.1.0)\n",
      "Requirement already satisfied: cfgv>=2.0.0 in /home/dske/anaconda3/envs/gluon/lib/python3.6/site-packages (from pre-commit->visualdl>=2.0.0b->pgl) (3.2.0)\n",
      "Requirement already satisfied: nodeenv>=0.11.1 in /home/dske/anaconda3/envs/gluon/lib/python3.6/site-packages (from pre-commit->visualdl>=2.0.0b->pgl) (1.5.0)\n",
      "Requirement already satisfied: toml in /home/dske/anaconda3/envs/gluon/lib/python3.6/site-packages (from pre-commit->visualdl>=2.0.0b->pgl) (0.10.2)\n",
      "Requirement already satisfied: pyyaml>=5.1 in /home/dske/anaconda3/envs/gluon/lib/python3.6/site-packages (from pre-commit->visualdl>=2.0.0b->pgl) (5.4.1)\n",
      "Requirement already satisfied: filelock<4,>=3.0.0 in /home/dske/anaconda3/envs/gluon/lib/python3.6/site-packages (from virtualenv>=20.0.8->pre-commit->visualdl>=2.0.0b->pgl) (3.0.12)\n",
      "Requirement already satisfied: distlib<1,>=0.3.1 in /home/dske/anaconda3/envs/gluon/lib/python3.6/site-packages (from virtualenv>=20.0.8->pre-commit->visualdl>=2.0.0b->pgl) (0.3.1)\n",
      "Requirement already satisfied: appdirs<2,>=1.4.3 in /home/dske/anaconda3/envs/gluon/lib/python3.6/site-packages (from virtualenv>=20.0.8->pre-commit->visualdl>=2.0.0b->pgl) (1.4.4)\n",
      "Requirement already satisfied: redis<4.0.0,>=3.0.0 in /home/dske/anaconda3/envs/gluon/lib/python3.6/site-packages (from redis-py-cluster->pgl) (3.5.3)\n",
      "Requirement already satisfied: urllib3<1.27,>=1.21.1 in /home/dske/anaconda3/envs/gluon/lib/python3.6/site-packages (from requests->visualdl>=2.0.0b->pgl) (1.26.3)\n",
      "Requirement already satisfied: idna<3,>=2.5 in /home/dske/anaconda3/envs/gluon/lib/python3.6/site-packages (from requests->visualdl>=2.0.0b->pgl) (2.10)\n",
      "Requirement already satisfied: certifi>=2017.4.17 in /home/dske/anaconda3/envs/gluon/lib/python3.6/site-packages (from requests->visualdl>=2.0.0b->pgl) (2020.12.5)\n",
      "Requirement already satisfied: chardet<5,>=3.0.2 in /home/dske/anaconda3/envs/gluon/lib/python3.6/site-packages (from requests->visualdl>=2.0.0b->pgl) (4.0.0)\n"
     ]
    }
   ],
   "source": [
    "!pip uninstall pgl\n",
    "!pip install pgl"
   ]
  },
  {
   "cell_type": "code",
   "execution_count": 3,
   "id": "applied-sunday",
   "metadata": {},
   "outputs": [
    {
     "name": "stdout",
     "output_type": "stream",
     "text": [
      "Looking in indexes: http://pypi.douban.com/simple/\n",
      "Collecting networkx\n",
      "  Downloading http://pypi.doubanio.com/packages/9b/cd/dc52755d30ba41c60243235460961fc28022e5b6731f16c268667625baea/networkx-2.5-py3-none-any.whl (1.6 MB)\n",
      "\u001b[K     |████████████████████████████████| 1.6 MB 4.4 MB/s eta 0:00:01\n",
      "\u001b[?25hRequirement already satisfied: decorator>=4.3.0 in /home/dske/anaconda3/envs/gluon/lib/python3.6/site-packages (from networkx) (4.4.2)\n",
      "Installing collected packages: networkx\n",
      "Successfully installed networkx-2.5\n"
     ]
    }
   ],
   "source": [
    "# !pip install networkx"
   ]
  },
  {
   "cell_type": "code",
   "execution_count": 4,
   "id": "forty-details",
   "metadata": {},
   "outputs": [
    {
     "ename": "ModuleNotFoundError",
     "evalue": "No module named 'paddle'",
     "output_type": "error",
     "traceback": [
      "\u001b[0;31m---------------------------------------------------------------------------\u001b[0m",
      "\u001b[0;31mModuleNotFoundError\u001b[0m                       Traceback (most recent call last)",
      "\u001b[0;32m<ipython-input-4-d9e2fa557095>\u001b[0m in \u001b[0;36m<module>\u001b[0;34m()\u001b[0m\n\u001b[1;32m      3\u001b[0m \u001b[0;32mimport\u001b[0m \u001b[0mmatplotlib\u001b[0m\u001b[0;34m.\u001b[0m\u001b[0mpyplot\u001b[0m \u001b[0;32mas\u001b[0m \u001b[0mplt\u001b[0m\u001b[0;34m\u001b[0m\u001b[0;34m\u001b[0m\u001b[0m\n\u001b[1;32m      4\u001b[0m \u001b[0;32mimport\u001b[0m \u001b[0mnetworkx\u001b[0m \u001b[0;32mas\u001b[0m \u001b[0mnx\u001b[0m\u001b[0;34m\u001b[0m\u001b[0;34m\u001b[0m\u001b[0m\n\u001b[0;32m----> 5\u001b[0;31m \u001b[0;32mimport\u001b[0m \u001b[0mpgl\u001b[0m\u001b[0;34m\u001b[0m\u001b[0;34m\u001b[0m\u001b[0m\n\u001b[0m",
      "\u001b[0;32m~/anaconda3/envs/gluon/lib/python3.6/site-packages/pgl/__init__.py\u001b[0m in \u001b[0;36m<module>\u001b[0;34m()\u001b[0m\n\u001b[1;32m     15\u001b[0m \"\"\"\n\u001b[1;32m     16\u001b[0m \u001b[0m__version__\u001b[0m \u001b[0;34m=\u001b[0m \u001b[0;34m\"1.2.1\"\u001b[0m\u001b[0;34m\u001b[0m\u001b[0;34m\u001b[0m\u001b[0m\n\u001b[0;32m---> 17\u001b[0;31m \u001b[0;32mfrom\u001b[0m \u001b[0mpgl\u001b[0m \u001b[0;32mimport\u001b[0m \u001b[0mlayers\u001b[0m\u001b[0;34m\u001b[0m\u001b[0;34m\u001b[0m\u001b[0m\n\u001b[0m\u001b[1;32m     18\u001b[0m \u001b[0;32mfrom\u001b[0m \u001b[0mpgl\u001b[0m \u001b[0;32mimport\u001b[0m \u001b[0mgraph_wrapper\u001b[0m\u001b[0;34m\u001b[0m\u001b[0;34m\u001b[0m\u001b[0m\n\u001b[1;32m     19\u001b[0m \u001b[0;32mfrom\u001b[0m \u001b[0mpgl\u001b[0m \u001b[0;32mimport\u001b[0m \u001b[0mgraph\u001b[0m\u001b[0;34m\u001b[0m\u001b[0;34m\u001b[0m\u001b[0m\n",
      "\u001b[0;32m~/anaconda3/envs/gluon/lib/python3.6/site-packages/pgl/layers/__init__.py\u001b[0m in \u001b[0;36m<module>\u001b[0;34m()\u001b[0m\n\u001b[1;32m     15\u001b[0m \"\"\"\n\u001b[1;32m     16\u001b[0m \u001b[0;34m\u001b[0m\u001b[0m\n\u001b[0;32m---> 17\u001b[0;31m \u001b[0;32mfrom\u001b[0m \u001b[0mpgl\u001b[0m\u001b[0;34m.\u001b[0m\u001b[0mlayers\u001b[0m \u001b[0;32mimport\u001b[0m \u001b[0mconv\u001b[0m\u001b[0;34m\u001b[0m\u001b[0;34m\u001b[0m\u001b[0m\n\u001b[0m\u001b[1;32m     18\u001b[0m \u001b[0;32mfrom\u001b[0m \u001b[0mpgl\u001b[0m\u001b[0;34m.\u001b[0m\u001b[0mlayers\u001b[0m\u001b[0;34m.\u001b[0m\u001b[0mconv\u001b[0m \u001b[0;32mimport\u001b[0m \u001b[0;34m*\u001b[0m\u001b[0;34m\u001b[0m\u001b[0;34m\u001b[0m\u001b[0m\n\u001b[1;32m     19\u001b[0m \u001b[0;32mfrom\u001b[0m \u001b[0mpgl\u001b[0m\u001b[0;34m.\u001b[0m\u001b[0mlayers\u001b[0m \u001b[0;32mimport\u001b[0m \u001b[0mset2set\u001b[0m\u001b[0;34m\u001b[0m\u001b[0;34m\u001b[0m\u001b[0m\n",
      "\u001b[0;32m~/anaconda3/envs/gluon/lib/python3.6/site-packages/pgl/layers/conv.py\u001b[0m in \u001b[0;36m<module>\u001b[0;34m()\u001b[0m\n\u001b[1;32m     16\u001b[0m \"\"\"\n\u001b[1;32m     17\u001b[0m \u001b[0;32mimport\u001b[0m \u001b[0mpgl\u001b[0m\u001b[0;34m\u001b[0m\u001b[0;34m\u001b[0m\u001b[0m\n\u001b[0;32m---> 18\u001b[0;31m \u001b[0;32mimport\u001b[0m \u001b[0mpaddle\u001b[0m\u001b[0;34m.\u001b[0m\u001b[0mfluid\u001b[0m \u001b[0;32mas\u001b[0m \u001b[0mfluid\u001b[0m\u001b[0;34m\u001b[0m\u001b[0;34m\u001b[0m\u001b[0m\n\u001b[0m\u001b[1;32m     19\u001b[0m \u001b[0;32mimport\u001b[0m \u001b[0mpaddle\u001b[0m\u001b[0;34m.\u001b[0m\u001b[0mfluid\u001b[0m\u001b[0;34m.\u001b[0m\u001b[0mlayers\u001b[0m \u001b[0;32mas\u001b[0m \u001b[0mL\u001b[0m\u001b[0;34m\u001b[0m\u001b[0;34m\u001b[0m\u001b[0m\n\u001b[1;32m     20\u001b[0m \u001b[0;32mfrom\u001b[0m \u001b[0mpgl\u001b[0m\u001b[0;34m.\u001b[0m\u001b[0mutils\u001b[0m \u001b[0;32mimport\u001b[0m \u001b[0mpaddle_helper\u001b[0m\u001b[0;34m\u001b[0m\u001b[0;34m\u001b[0m\u001b[0m\n",
      "\u001b[0;31mModuleNotFoundError\u001b[0m: No module named 'paddle'"
     ]
    }
   ],
   "source": [
    "import numpy as np \n",
    "%matplotlib inline \n",
    "import matplotlib.pyplot as plt \n",
    "import networkx as nx \n",
    "import pgl "
   ]
  },
  {
   "cell_type": "code",
   "execution_count": 5,
   "id": "acting-toyota",
   "metadata": {},
   "outputs": [
    {
     "ename": "NameError",
     "evalue": "name 'pgl' is not defined",
     "output_type": "error",
     "traceback": [
      "\u001b[0;31m---------------------------------------------------------------------------\u001b[0m",
      "\u001b[0;31mNameError\u001b[0m                                 Traceback (most recent call last)",
      "\u001b[0;32m<ipython-input-5-2c7baa1d2514>\u001b[0m in \u001b[0;36m<module>\u001b[0;34m()\u001b[0m\n\u001b[1;32m      8\u001b[0m     \u001b[0mg\u001b[0m\u001b[0;34m=\u001b[0m\u001b[0mpgl\u001b[0m\u001b[0;34m.\u001b[0m\u001b[0mgraph\u001b[0m\u001b[0;34m.\u001b[0m\u001b[0mGraph\u001b[0m\u001b[0;34m(\u001b[0m\u001b[0mnum_nodes\u001b[0m\u001b[0;34m=\u001b[0m\u001b[0mnum_node\u001b[0m\u001b[0;34m,\u001b[0m\u001b[0medges\u001b[0m\u001b[0;34m=\u001b[0m\u001b[0medge_list\u001b[0m\u001b[0;34m)\u001b[0m\u001b[0;34m\u001b[0m\u001b[0;34m\u001b[0m\u001b[0m\n\u001b[1;32m      9\u001b[0m     \u001b[0;32mreturn\u001b[0m \u001b[0mg\u001b[0m\u001b[0;34m\u001b[0m\u001b[0;34m\u001b[0m\u001b[0m\n\u001b[0;32m---> 10\u001b[0;31m \u001b[0mg\u001b[0m\u001b[0;34m=\u001b[0m\u001b[0mbuild_graph\u001b[0m\u001b[0;34m(\u001b[0m\u001b[0;34m)\u001b[0m\u001b[0;34m\u001b[0m\u001b[0;34m\u001b[0m\u001b[0m\n\u001b[0m",
      "\u001b[0;32m<ipython-input-5-2c7baa1d2514>\u001b[0m in \u001b[0;36mbuild_graph\u001b[0;34m()\u001b[0m\n\u001b[1;32m      6\u001b[0m         \u001b[0;34m(\u001b[0m\u001b[0;36m2\u001b[0m\u001b[0;34m,\u001b[0m\u001b[0;36m7\u001b[0m\u001b[0;34m)\u001b[0m\u001b[0;34m,\u001b[0m\u001b[0;34m(\u001b[0m\u001b[0;36m7\u001b[0m\u001b[0;34m,\u001b[0m\u001b[0;36m3\u001b[0m\u001b[0;34m)\u001b[0m\u001b[0;34m,\u001b[0m\u001b[0;34m(\u001b[0m\u001b[0;36m8\u001b[0m\u001b[0;34m,\u001b[0m\u001b[0;36m0\u001b[0m\u001b[0;34m)\u001b[0m\u001b[0;34m,\u001b[0m\u001b[0;34m(\u001b[0m\u001b[0;36m9\u001b[0m\u001b[0;34m,\u001b[0m\u001b[0;36m7\u001b[0m\u001b[0;34m)\u001b[0m\u001b[0;34m\u001b[0m\u001b[0;34m\u001b[0m\u001b[0m\n\u001b[1;32m      7\u001b[0m     ]\n\u001b[0;32m----> 8\u001b[0;31m     \u001b[0mg\u001b[0m\u001b[0;34m=\u001b[0m\u001b[0mpgl\u001b[0m\u001b[0;34m.\u001b[0m\u001b[0mgraph\u001b[0m\u001b[0;34m.\u001b[0m\u001b[0mGraph\u001b[0m\u001b[0;34m(\u001b[0m\u001b[0mnum_nodes\u001b[0m\u001b[0;34m=\u001b[0m\u001b[0mnum_node\u001b[0m\u001b[0;34m,\u001b[0m\u001b[0medges\u001b[0m\u001b[0;34m=\u001b[0m\u001b[0medge_list\u001b[0m\u001b[0;34m)\u001b[0m\u001b[0;34m\u001b[0m\u001b[0;34m\u001b[0m\u001b[0m\n\u001b[0m\u001b[1;32m      9\u001b[0m     \u001b[0;32mreturn\u001b[0m \u001b[0mg\u001b[0m\u001b[0;34m\u001b[0m\u001b[0;34m\u001b[0m\u001b[0m\n\u001b[1;32m     10\u001b[0m \u001b[0mg\u001b[0m\u001b[0;34m=\u001b[0m\u001b[0mbuild_graph\u001b[0m\u001b[0;34m(\u001b[0m\u001b[0;34m)\u001b[0m\u001b[0;34m\u001b[0m\u001b[0;34m\u001b[0m\u001b[0m\n",
      "\u001b[0;31mNameError\u001b[0m: name 'pgl' is not defined"
     ]
    }
   ],
   "source": [
    "def build_graph():\n",
    "    num_code=10\n",
    "    edge_list=[\n",
    "        (2,0),(2,1),(3,1),(4,0),(0,5),\n",
    "        (6,0),(6,4),(5,6),(7,0),(1,7),\n",
    "        (2,7),(7,3),(8,0),(9,7)\n",
    "    ]\n",
    "    g=pgl.graph.Graph(num_nodes=num_node,edges=edge_list) \n",
    "    return g \n",
    "g=build_graph() "
   ]
  },
  {
   "cell_type": "code",
   "execution_count": null,
   "id": "retired-bacteria",
   "metadata": {},
   "outputs": [],
   "source": []
  }
 ],
 "metadata": {
  "kernelspec": {
   "display_name": "Python 3",
   "language": "python",
   "name": "python3"
  },
  "language_info": {
   "codemirror_mode": {
    "name": "ipython",
    "version": 3
   },
   "file_extension": ".py",
   "mimetype": "text/x-python",
   "name": "python",
   "nbconvert_exporter": "python",
   "pygments_lexer": "ipython3",
   "version": "3.6.13"
  }
 },
 "nbformat": 4,
 "nbformat_minor": 5
}
